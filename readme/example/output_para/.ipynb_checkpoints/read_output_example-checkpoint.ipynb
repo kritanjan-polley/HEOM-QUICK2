{
 "cells": [
  {
   "cell_type": "code",
   "execution_count": 1,
   "id": "acff4554",
   "metadata": {},
   "outputs": [
    {
     "name": "stdout",
     "output_type": "stream",
     "text": [
      "[[[[ 0.  1.  0.  0.]\n",
      "   [ 0.  0.  0.  0.]\n",
      "   [ 0.  0.  0.  1.]\n",
      "   [ 0.  0.  0.  0.]]\n",
      "\n",
      "  [[ 0.  0.  1.  0.]\n",
      "   [ 0.  0.  0. -1.]\n",
      "   [ 0.  0.  0.  0.]\n",
      "   [ 0.  0.  0.  0.]]]]\n"
     ]
    }
   ],
   "source": [
    "import numpy as np\n",
    "\n",
    "file_name = \"ams_fermion.data\"\n",
    "\n",
    "# read level degrees of system\n",
    "norbs = np.loadtxt(file_name, max_rows=1, dtype = int)\n",
    "# read spin degrees of system\n",
    "nspin = np.loadtxt(file_name, skiprows=1, max_rows=1, dtype = int)\n",
    "\n",
    "nrho = (nspin*2)**norbs\n",
    "nrho2 = nrho*nrho\n",
    "\n",
    "ncount = 0\n",
    "\n",
    "ams = np.zeros((norbs,nspin,nrho,nrho), dtype = float)\n",
    "\n",
    "for i in range(norbs):\n",
    "  for j in range(nspin):\n",
    "    tmp1 = 2 + ncount * (nrho2 + 2)\n",
    "    tmp2 = tmp1 + 1\n",
    "    tmp3 = tmp2 + 1\n",
    "    # read orbs of ams\n",
    "    orbs = np.loadtxt(file_name, skiprows=tmp1, max_rows=1, dtype = int)-1\n",
    "    # read spin of ams\n",
    "    spin = np.loadtxt(file_name, skiprows=tmp2, max_rows=1, dtype = int)-1\n",
    "    # read ams reshaped in the nrho * nrho form\n",
    "    tmpmat = np.loadtxt(file_name, skiprows= tmp3, max_rows=nrho2, dtype = np.float64).reshape(nrho,nrho)\n",
    "    ncount = ncount + 1\n",
    "    ams[orbs][spin] = tmpmat\n",
    "\n",
    "print(ams)\n"
   ]
  },
  {
   "cell_type": "code",
   "execution_count": 2,
   "id": "fb9a0186",
   "metadata": {},
   "outputs": [
    {
     "name": "stdout",
     "output_type": "stream",
     "text": [
      "[[ 0.  0.  0.  0.]\n",
      " [ 0. -1.  0.  0.]\n",
      " [ 0.  0. -1.  0.]\n",
      " [ 0.  0.  0.  0.]]\n"
     ]
    }
   ],
   "source": [
    "# read the dimension of Hs\n",
    "nrho = np.loadtxt(\"ham_sys.data\", max_rows=1, dtype = int)\n",
    "# read Hs reshaped in the nrho * nrho form\n",
    "hs = np.loadtxt(\"ham_sys.data\", skiprows=1, dtype = np.float64).reshape(nrho,nrho)\n",
    "\n",
    "print(hs)"
   ]
  },
  {
   "cell_type": "code",
   "execution_count": 3,
   "id": "1dbad809",
   "metadata": {},
   "outputs": [
    {
     "name": "stdout",
     "output_type": "stream",
     "text": [
      "[0.05770434+0.04310644j 0.05770434+0.04310644j 0.        -0.07627606j\n",
      " 0.        -0.07627606j 0.        +0.01812451j 0.        +0.01812451j\n",
      " 0.        +0.00718882j 0.        +0.00718882j 0.        +0.00785629j\n",
      " 0.        +0.00785629j 0.05770434+0.04310644j 0.05770434+0.04310644j\n",
      " 0.        -0.07627606j 0.        -0.07627606j 0.        +0.01812451j\n",
      " 0.        +0.01812451j 0.        +0.00718882j 0.        +0.00718882j\n",
      " 0.        +0.00785629j 0.        +0.00785629j]\n",
      "\n",
      "[0.05770434-0.04310644j 0.05770434-0.04310644j 0.        +0.07627606j\n",
      " 0.        +0.07627606j 0.        -0.01812451j 0.        -0.01812451j\n",
      " 0.        -0.00718882j 0.        -0.00718882j 0.        -0.00785629j\n",
      " 0.        -0.00785629j 0.05770434-0.04310644j 0.05770434-0.04310644j\n",
      " 0.        +0.07627606j 0.        +0.07627606j 0.        -0.01812451j\n",
      " 0.        -0.01812451j 0.        -0.00718882j 0.        -0.00718882j\n",
      " 0.        -0.00785629j 0.        -0.00785629j]\n",
      "\n",
      "[ -7.59633757+0.j  -7.59633757+0.j  -4.77291966+0.j  -4.77291966+0.j\n",
      " -14.32176971+0.j -14.32176971+0.j -25.22943563+0.j -25.22943563+0.j\n",
      " -70.37172484+0.j -70.37172484+0.j  -7.59633757+0.j  -7.59633757+0.j\n",
      "  -4.77291966+0.j  -4.77291966+0.j -14.32176971+0.j -14.32176971+0.j\n",
      " -25.22943563+0.j -25.22943563+0.j -70.37172484+0.j -70.37172484+0.j]\n"
     ]
    }
   ],
   "source": [
    "# read the dimension of relative parameters\n",
    "nsgn = np.loadtxt(\"res_corr.data\", max_rows=1, dtype = int)\n",
    "nalf = np.loadtxt(\"res_corr.data\", skiprows=1, max_rows=1, dtype = int)\n",
    "ncor = np.loadtxt(\"res_corr.data\", skiprows=2, max_rows=1, dtype = int)\n",
    "nspin = np.loadtxt(\"res_corr.data\", skiprows=3, max_rows=1, dtype = int)\n",
    "nvar2 = np.loadtxt(\"res_corr.data\", skiprows=4, max_rows=1, dtype = int)\n",
    "\n",
    "\n",
    "# read cb(nvar2,nspin,ncor,nalf,nsgn)\n",
    "cb_real = np.loadtxt(\"res_corr.data\", skiprows=5, usecols=6, dtype = np.float64)\n",
    "cb_img = np.loadtxt(\"res_corr.data\", skiprows=5, usecols=7, dtype = np.float64)\n",
    "cb = np.zeros((cb_real.shape), dtype=complex)\n",
    "for i in range(cb_real.size):\n",
    "  cb[i] = complex(cb_real[i], cb_img[i])\n",
    "\n",
    "\n",
    "# read cd(nvar2,nspin,ncor,nalf,nsgn)\n",
    "cd_real = np.loadtxt(\"res_corr.data\", skiprows=5, usecols=8, dtype = np.float64)\n",
    "cd_img = np.loadtxt(\"res_corr.data\", skiprows=5, usecols=9, dtype = np.float64)\n",
    "cd = np.zeros((cd_real.shape), dtype=complex)\n",
    "for i in range(cd_real.size):\n",
    "  cd[i] = complex(cd_real[i], cd_img[i])\n",
    "\n",
    "\n",
    "# read cgama(nvar2,nspin,ncor,nalf,nsgn)\n",
    "cgama_real = np.loadtxt(\"res_corr.data\", skiprows=5, usecols=10, dtype = np.float64)\n",
    "cgama_img = np.loadtxt(\"res_corr.data\", skiprows=5, usecols=11, dtype = np.float64)\n",
    "cgama = np.zeros((cd_real.shape), dtype=complex)\n",
    "for i in range(cd_real.size):\n",
    "  cgama[i] = complex(cgama_real[i], cgama_img[i])\n",
    "\n",
    "\n",
    "# read ifff(nvar2,nspin,ncor,nalf,nsgn)\n",
    "ifff = np.loadtxt(\"res_corr.data\", skiprows=5, usecols=12, dtype = int)\n",
    "\n",
    "print(cb)\n",
    "print()\n",
    "print(cd)\n",
    "print()\n",
    "print(cgama)"
   ]
  }
 ],
 "metadata": {
  "kernelspec": {
   "display_name": "Python 3",
   "language": "python",
   "name": "python3"
  },
  "language_info": {
   "codemirror_mode": {
    "name": "ipython",
    "version": 3
   },
   "file_extension": ".py",
   "mimetype": "text/x-python",
   "name": "python",
   "nbconvert_exporter": "python",
   "pygments_lexer": "ipython3",
   "version": "3.8.8"
  }
 },
 "nbformat": 4,
 "nbformat_minor": 5
}
