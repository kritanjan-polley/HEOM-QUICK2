{
 "cells": [
  {
   "cell_type": "code",
   "execution_count": 21,
   "id": "fc2a91a2",
   "metadata": {},
   "outputs": [],
   "source": [
    "import numpy as np\n",
    "from scipy import integrate, linalg, optimize\n",
    "from matplotlib import pyplot as plt \n",
    "\n",
    "def filte_small_value(U, criterion = 1.e-12):\n",
    "    #filte the value smaller than 1.e-12\n",
    "    if isinstance(U[0,0], np.complex128) or isinstance(U[0,0], complex):\n",
    "        leng = len(U[0])\n",
    "        for i in range(leng):\n",
    "            for j in range(leng):\n",
    "                a = U[i,j].real\n",
    "                b = U[i,j].imag\n",
    "                if np.abs(a) <= criterion:\n",
    "                     a = 0.0\n",
    "                if np.abs(b) <= criterion:\n",
    "                     b = 0.0\n",
    "                U[i,j] = a + b * 1.j\n",
    "    elif isinstance(U[0,0], np.float64) or isinstance(U[0,0], np.float128) or isinstance(U[0,0], float):\n",
    "        leng = len(U[0])\n",
    "        for i in range(leng):\n",
    "            for j in range(leng):\n",
    "                a = U[i,j]\n",
    "                if np.abs(a) <= criterion:\n",
    "                     a = 0.0\n",
    "                U[i,j] = a\n",
    "    return U\n",
    "\n",
    "def takagi_stra(N, tol=1e-13, rounding=13):\n",
    "    r\"\"\"Autonne-Takagi decomposition of a complex symmetric (not Hermitian!) matrix.\n",
    "\n",
    "    Note that singular values of N are considered equal if they are equal after np.round(values, tol).\n",
    "\n",
    "    See :cite:`cariolaro2016` and references therein for a derivation.\n",
    "\n",
    "    Args:\n",
    "        N (array[complex]): square, symmetric matrix N\n",
    "        rounding (int): the number of decimal places to use when rounding the singular values of N\n",
    "        tol (float): the tolerance used when checking if the input matrix is symmetric: :math:`|N-N^T| <` tol\n",
    "\n",
    "    Returns:\n",
    "        tuple[array, array]: (rl, U), where rl are the (rounded) singular values,\n",
    "            and U is the Takagi unitary, such that :math:`N = U \\diag(rl) U^T`.\n",
    "    \"\"\"\n",
    "    (n, m) = N.shape\n",
    "    if n != m:\n",
    "        raise ValueError(\"The input matrix must be square\")\n",
    "    if np.linalg.norm(N - np.transpose(N)) >= tol:\n",
    "        raise ValueError(\"The input matrix is not symmetric\")\n",
    "\n",
    "    N = np.real_if_close(N)\n",
    "\n",
    "    if np.allclose(N, 0):\n",
    "        return np.zeros(n), np.eye(n)\n",
    "\n",
    "    if np.isrealobj(N):\n",
    "        # If the matrix N is real one can be more clever and use its eigendecomposition\n",
    "        l, U = np.linalg.eigh(N)\n",
    "        vals = np.abs(l)  # These are the Takagi eigenvalues\n",
    "        phases = np.sqrt(np.complex128([1 if i > 0 else -1 for i in l]))\n",
    "        Uc = U @ np.diag(phases)  # One needs to readjust the phases\n",
    "        list_vals = [(vals[i], i) for i in range(len(vals))]\n",
    "        list_vals.sort(reverse=True)\n",
    "        sorted_l, permutation = zip(*list_vals)\n",
    "        permutation = np.array(permutation)\n",
    "        Uc = Uc[:, permutation]\n",
    "        # And also rearrange the unitary and values so that they are decreasingly ordered\n",
    "        return np.array(sorted_l), Uc\n",
    "\n",
    "    v, l, ws = np.linalg.svd(N)\n",
    "    w = np.transpose(np.conjugate(ws))\n",
    "    rl = np.round(l, rounding)\n",
    "\n",
    "    # Generate list with degenerancies\n",
    "    result = []\n",
    "    for k, g in groupby(rl):\n",
    "        result.append(list(g))\n",
    "\n",
    "    # Generate lists containing the columns that correspond to degenerancies\n",
    "    kk = 0\n",
    "    for k in result:\n",
    "        for ind, j in enumerate(k):  # pylint: disable=unused-variable\n",
    "            k[ind] = kk\n",
    "            kk = kk + 1\n",
    "\n",
    "    # Generate the lists with the degenerate column subspaces\n",
    "    vas = []\n",
    "    was = []\n",
    "    for i in result:\n",
    "        vas.append(v[:, i])\n",
    "        was.append(w[:, i])\n",
    "\n",
    "    # Generate the matrices qs of the degenerate subspaces\n",
    "    qs = []\n",
    "    for i in range(len(result)):\n",
    "        qs.append(sqrtm(np.transpose(vas[i]) @ was[i]))\n",
    "\n",
    "    # Construct the Takagi unitary\n",
    "    qb = block_diag(*qs)\n",
    "\n",
    "    U = v @ np.conj(qb)\n",
    "    return rl, U\n",
    "\n",
    "def takagi(A) :\n",
    "    sig, uu =linalg.eigh(hankel_matrix)\n",
    "    phase_mat = np.diag([np.exp(-1j * np.angle(sig) / 2.0) for sig in sig])\n",
    "    sigma = np.array([np.abs(sig) for sig in sig])\n",
    "    U = np.dot(uu, phase_mat)\n",
    "    sort_array = np.argsort(sigma)[::-1]\n",
    "    sigma = sigma[sort_array]\n",
    "    U = (U[:, sort_array])\n",
    "    return sigma, U\n",
    "\n",
    "def takagi_test(A) :\n",
    "    \"\"\"Extremely simple and inefficient Takagi factorization of a \n",
    "    symmetric, complex matrix A.  Here we take this to mean A = U D U^T\n",
    "    where D is a real, diagonal matrix and U is a unitary matrix.  There\n",
    "    is no guarantee that it will always work. \"\"\"\n",
    "    # Construct a Hermitian matrix.\n",
    "    H = np.matmul(A.T.conj(), A)\n",
    "    # Calculate the eigenvalue decomposition of the Hermitian matrix.\n",
    "    # The diagonal matrix in the Takagi factorization is the square\n",
    "    # root of the eigenvalues of this matrix.\n",
    "    (lam, u) = linalg.eigh(H)\n",
    "    u = filte_small_value(u)\n",
    "    # The \"almost\" Takagi factorization.  There is a conjugate here\n",
    "    # so the final form is as given in the doc string.\n",
    "    T = np.matmul(u.T, np.matmul(A, u)).conj()\n",
    "    T = filte_small_value(T)\n",
    "    # T is diagonal but not real.  That is easy to fix by a\n",
    "    # simple transformation which removes the complex phases\n",
    "    # from the resulting diagonal matrix.\n",
    "    c = np.diag(np.exp(-1.j * np.angle(np.diag(T)) / 2))\n",
    "    U = np.matmul(u, c)\n",
    "    U = filte_small_value(U)\n",
    "    # Now A = np.dot(U, np.dot(np.diag(np.sqrt(lam)), U.T))\n",
    "    return (np.sqrt(lam), U)\n",
    "\n",
    "def fdt_real(omega, t):\n",
    "    omega = np.array([omega], dtype=np.float128)\n",
    "    t = np.array([t], dtype=np.float128)\n",
    "    if ((omega[0] - chemical_potential) / T) <= 50:\n",
    "        fun = np.exp(1.j * omega[0] * t[0]) \\\n",
    "              * (0.5 * sys_bath_coupling * (band_width**2)) / ((omega[0] + band_center)**2 + band_width**2)\\\n",
    "              / (1.0 + np.exp( (omega[0] - chemical_potential) / T ))\n",
    "    elif ((omega[0] - chemical_potential) / T) > 50:\n",
    "        fun = np.exp(1.j * omega[0] * t[0]) \\\n",
    "              * (0.5 * sys_bath_coupling * (band_width**2)) / ((omega[0] + band_center)**2 + band_width**2)\\\n",
    "              / 10e+22\n",
    "    #print('C(w,t)',omega,t,fun)\n",
    "    return fun.real\n",
    "\n",
    "def fdt_imag(omega, t):\n",
    "    omega = np.array([omega], dtype=np.float128)\n",
    "    t = np.array([t], dtype=np.float128)\n",
    "    if ((omega[0] - chemical_potential) / T) <= 50:\n",
    "        fun = np.exp(1.j * omega[0] * t[0]) \\\n",
    "              * (0.5 * sys_bath_coupling * (band_width**2)) / ((omega[0] + band_center)**2 + band_width**2)\\\n",
    "              / (1.0 + np.exp( (omega[0] - chemical_potential) / T ))\n",
    "    elif ((omega[0] - chemical_potential) / T) > 50:\n",
    "        fun = np.exp(1.j * omega[0] * t[0]) \\\n",
    "              * (0.5 * sys_bath_coupling * (band_width**2)) / ((omega[0] + band_center)**2 + band_width**2)\\\n",
    "              / 10e+22\n",
    "    #print('C(w,t)',omega,t,fun)\n",
    "    return fun.imag\n",
    "\n",
    "def Jfermi_exact_real(omega):\n",
    "    omega = np.array([omega], dtype=np.float128)\n",
    "    if ((omega[0] - chemical_potential) / T) <= 50:\n",
    "        fun = 1.0 * (0.5 * sys_bath_coupling * (band_width**2)) / ((omega[0] + band_center)**2 + band_width**2)\\\n",
    "              / (1.0 + np.exp( (omega[0] - chemical_potential) / T ))\n",
    "    elif ((omega[0] - chemical_potential) / T) > 50:\n",
    "        fun = 1.0 * (0.5 * sys_bath_coupling * (band_width**2)) / ((omega[0] + band_center)**2 + band_width**2)\\\n",
    "              / 10e+22\n",
    "    #print('C(w,t)',omega,t,fun)\n",
    "    return fun.real\n",
    "\n",
    "def Jfermi_exact_imag(omega):\n",
    "    omega = np.array([omega], dtype=np.float128)\n",
    "    if ((omega[0] - chemical_potential) / T) <= 50:\n",
    "        fun = 1.0 * (0.5 * sys_bath_coupling * (band_width**2)) / ((omega[0] + band_center)**2 + band_width**2)\\\n",
    "              / (1.0 + np.exp( (omega[0] - chemical_potential) / T ))\n",
    "    elif ((omega[0] - chemical_potential) / T) > 50:\n",
    "        fun = 1.0 * (0.5 * sys_bath_coupling * (band_width**2)) / ((omega[0] + band_center)**2 + band_width**2)\\\n",
    "              / 10e+22\n",
    "    #print('C(w,t)',omega,t,fun)\n",
    "    return fun.imag\n",
    "\n",
    "def Jfermi_psd_real(omega):\n",
    "    omega = np.array([omega], dtype=np.float128)\n",
    "    fun = 1.0 * (0.5 * sys_bath_coupling * (band_width**2)) / ((omega[0] + band_center)**2 + band_width**2)\\\n",
    "          * fermi_by_pade(omega[0])\n",
    "    #print('C(w,t)',omega,t,fun)\n",
    "    return fun.real\n",
    "\n",
    "def Jfermi_psd_imag(omega):\n",
    "    omega = np.array([omega], dtype=np.float128)\n",
    "    fun = 1.0 * (0.5 * sys_bath_coupling * (band_width**2)) / ((omega[0] + band_center)**2 + band_width**2)\\\n",
    "          * fermi_by_pade(omega[0])\n",
    "    #print('C(w,t)',omega,t,fun)\n",
    "    return fun.imag\n",
    "\n",
    "def fermi_by_pade(omega):\n",
    "    result = 0.5\n",
    "    for j in range(num_pade):\n",
    "        result = result + tilde_eta[j] / (omega / T + pole[j]) \\\n",
    "                        + tilde_eta[j] / (omega / T - pole[j])\n",
    "    return result\n",
    "\n",
    "def J_prony_imag(omega):\n",
    "    fun = 0.0\n",
    "    for i in range(num_prony):\n",
    "        fun = fun + tilde_eta_imag_new[i] / ( prony_diss_rate_imag[i] +  1.j * omega )\n",
    "    return fun.real\n"
   ]
  },
  {
   "cell_type": "code",
   "execution_count": 2,
   "id": "80160519",
   "metadata": {},
   "outputs": [],
   "source": [
    "# the information of calculation paratemers\n",
    "hbar = 0.658211928\n",
    "omega_max = 100.0\n",
    "omega_min = -100.0\n",
    "omega_sample = 5000 + 1\n",
    "omega = np.linspace(omega_min, omega_max, omega_sample)\n",
    "\n",
    "time_max = 400.0\n",
    "time_min = -400.0\n",
    "time_sample = 4000 + 1\n",
    "tt = np.linspace(time_min, time_max, time_sample)\n",
    "\n",
    "tt_for_corr_min = 0.0\n",
    "tt_for_corr_max = 10.0\n",
    "time_sample_for_corr =  1000 + 1\n",
    "tt_for_corr = np.linspace(tt_for_corr_min, tt_for_corr_max, time_sample_for_corr)\n",
    "\n",
    "bath_corr_exact = np.zeros(time_sample_for_corr, dtype = complex)\n",
    "bath_corr_exact_real = np.zeros(time_sample_for_corr)\n",
    "bath_corr_exact_imag = np.zeros(time_sample_for_corr)\n",
    "bath_corr_psd = np.zeros(time_sample_for_corr, dtype=complex)"
   ]
  },
  {
   "cell_type": "code",
   "execution_count": 3,
   "id": "eeb133b7",
   "metadata": {},
   "outputs": [
    {
     "data": {
      "image/png": "[encoded data removed]",
      "text/plain": [
       "<Figure size 432x288 with 1 Axes>"
      ]
     },
     "metadata": {
      "needs_background": "light"
     },
     "output_type": "display_data"
    },
    {
     "data": {
      "image/png": "[encoded data removed]",
      "text/plain": [
       "<Figure size 432x288 with 1 Axes>"
      ]
     },
     "metadata": {
      "needs_background": "light"
     },
     "output_type": "display_data"
    },
    {
     "name": "stdout",
     "output_type": "stream",
     "text": [
      "spectral_pole \n",
      " (2+0j)\n",
      "spectral_eta \n",
      " (0.46163475624596917+0.1255187727426561j)\n"
     ]
    }
   ],
   "source": [
    "# the information of fermi funcaiton\n",
    "T = 0.02                 #eV\n",
    "chemical_potential = 0.0 #ev\n",
    "\n",
    "fermi = np.zeros(omega_sample)\n",
    "for i in range(omega_sample):\n",
    "    if ((omega[i] - chemical_potential) / (T)) <= 50 :\n",
    "        fermi[i] = 1.0 / ( 1.0 + np.exp( (omega[i] - chemical_potential) / (T) ) )\n",
    "    elif ((omega[i] - chemical_potential) / (T)) > 50 :\n",
    "        fermi[i] = 1.0 / 10e+22\n",
    "\n",
    "# the information of bath spectral funcation\n",
    "# the Lorentz type J(w) = 0.5 * sys_bath_coupling * band_width**2 / ( (w - band_center)**2 + band_width**2)\n",
    "sys_bath_coupling = 0.4  #eV, is equal to HEOM-QUICK\n",
    "band_width = 2.0         #eV\n",
    "band_center = 0.0        #eV\n",
    "bath_spectral = np.zeros(omega_sample, dtype=complex)\n",
    "bath_spectral = (0.5 * sys_bath_coupling * (band_width**2)) / ((omega + band_center)**2 + band_width**2)\n",
    "spectral_diss_rate = (band_width - 1.j * band_center) / hbar\n",
    "spectral_eta = 0.5 * sys_bath_coupling * band_width \\\n",
    "                / ( 1.0 + np.exp((1.j * spectral_diss_rate - chemical_potential) * hbar / T )) / hbar**2\n",
    "\n",
    "plt.title(\"Bath spectral function\") \n",
    "plt.xlabel(\"frequency\") \n",
    "plt.ylabel(\"J(w)\") \n",
    "plt.plot(omega, bath_spectral.real, label = 'J(w)')\n",
    "plt.legend(loc=1)\n",
    "plt.show()\n",
    "\n",
    "plt.title(\"Fermi funcaiton for alectron\") \n",
    "plt.xlabel(\"frequency\") \n",
    "plt.ylabel(\"F(w)\") \n",
    "plt.plot(omega, fermi.real, label = 'F(w)')\n",
    "plt.legend(loc=1)\n",
    "plt.show()\n",
    "\n",
    "print('spectral_pole \\n', spectral_diss_rate * hbar)\n",
    "print('spectral_eta \\n', spectral_eta)\n",
    "\n",
    "\n",
    "#the Matsubara scheme\n",
    "#num_mats = 1001\n",
    "#mats = np.linspace(-(num_mats - 1)/2, (num_mats - 1)/2, num_mats, dtype = np.complex128)\n",
    "#fermi_mats = np.zeros(omega_sample, dtype = np.complex128)\n",
    "#bath_corr_msd = np.zeros(time_sample, dtype=np.complex128)\n",
    "\n",
    "# for i in range(num_mats):\n",
    "#     mats[i] = (mats[i] * 2 + 1) * np.pi * complex(0,1.0)\n",
    "\n",
    "# for i in range(omega_sample):\n",
    "#     fermi_mats[i] = 0.5\n",
    "#     for j in range(num_mats):\n",
    "#        fermi_mats[i] = fermi_mats[i] + 1.0 / (mats[j] - omega[i]/T)"
   ]
  },
  {
   "cell_type": "code",
   "execution_count": 4,
   "id": "6f9da4f6",
   "metadata": {
    "scrolled": true
   },
   "outputs": [
    {
     "data": {
      "image/png": "[encoded data removed]",
      "text/plain": [
       "<Figure size 432x288 with 1 Axes>"
      ]
     },
     "metadata": {
      "needs_background": "light"
     },
     "output_type": "display_data"
    }
   ],
   "source": [
    "#the Pade scheme\n",
    "num_pade = 20\n",
    "b = np.zeros(2 * num_pade)\n",
    "mat_xi = np.zeros((2 * num_pade, 2 * num_pade))\n",
    "mat_varsigma = np.zeros((2 * num_pade - 1, 2 * num_pade - 1))\n",
    "tilde_eta = np.zeros(num_pade, dtype = complex)         # namely cpcoef in evaluatepara.f90 \n",
    "pole = np.zeros(num_pade, dtype = complex)              # namely cppole in evaluatepara.f90\n",
    "eta = np.zeros(num_pade, dtype = complex)               # namely cb in evaluatepara.f90\n",
    "diss_rate = np.zeros(num_pade, dtype = complex)         # namely cgamma in evaluatepara.f90\n",
    "\n",
    "\n",
    "for i in range(2 * num_pade):\n",
    "    b[i] = 2 * (i) + 1\n",
    "\n",
    "for i in range(2 * num_pade):\n",
    "    for j in range(2 * num_pade):\n",
    "        if (i == j-1 or i == j+1) :\n",
    "            mat_xi[i,j] = 1.0 / np.sqrt(b[i] * b[j])\n",
    "\n",
    "eigval_xi, eigvec_xi = np.linalg.eig(mat_xi) \n",
    "eigval_xi = np.sort(eigval_xi)\n",
    "            \n",
    "for i in range(2 * num_pade -1):\n",
    "    for j in range(2 * num_pade -1):\n",
    "        if (i == j-1 or i == j+1) :\n",
    "            mat_varsigma[i,j] = 1.0 / np.sqrt(b[i+1] * b[j+1])\n",
    "\n",
    "eigval_varsigma, eigvec_varsigma = np.linalg.eig(mat_varsigma)\n",
    "eigval_varsigma = np.sort(eigval_varsigma)\n",
    "\n",
    "\n",
    "for i in range(num_pade):\n",
    "    pole[i] = (0. +2.j) / abs(eigval_xi[i])\n",
    "    eigval_xi[i] = 4.0 / eigval_xi[i]**2\n",
    "for i in range(num_pade-1):\n",
    "    eigval_varsigma[i] = 4.0 / eigval_varsigma[i]**2\n",
    "\n",
    "for i in range(num_pade):\n",
    "    tilde_eta[i] = 0.5 * num_pade * (2 * num_pade + 1)\n",
    "    for j in range(i):\n",
    "        tilde_eta[i] = tilde_eta[i] * (eigval_varsigma[j] - eigval_xi[i]) / (eigval_xi[j] - eigval_xi[i])\n",
    "    for j in range(i+1,num_pade):\n",
    "        tilde_eta[i] = tilde_eta[i] * (eigval_varsigma[j-1] - eigval_xi[i]) / (eigval_xi[j] - eigval_xi[i])\n",
    "    tilde_eta[i] = (-1. +0.j) * tilde_eta[i]\n",
    "\n",
    "fermi_pade = np.zeros(omega_sample, dtype = np.complex128)\n",
    "for i in range(omega_sample):\n",
    "    fermi_pade[i] = 0.5\n",
    "    for j in range(num_pade):\n",
    "        fermi_pade[i] = fermi_pade[i] + tilde_eta[j] / (omega[i] / T + pole[j]) \\\n",
    "                                      + tilde_eta[j] / (omega[i] / T - pole[j])\n",
    "\n",
    "        \n",
    "plt.title(\"Fermi function\") \n",
    "plt.xlabel(\"frequency\") \n",
    "plt.ylabel(\"f(w)\") \n",
    "plt.plot(omega, fermi, label = 'exact')\n",
    "#plt.plot(omega, fermi_mats.real, label = 'Matsubara', linestyle = '--')\n",
    "plt.plot(omega, fermi_pade.real, label = 'Pade', linestyle = '-.')\n",
    "plt.legend(loc=1)\n",
    "plt.show()"
   ]
  },
  {
   "cell_type": "code",
   "execution_count": 5,
   "id": "93348ad9",
   "metadata": {},
   "outputs": [
    {
     "name": "stdout",
     "output_type": "stream",
     "text": [
      "spectral_diss_rate:  (-2+0j)\n",
      "spectral_eta  (0.46163475624596917-1.7107075774668585j)\n",
      "pade_diss_rate \n",
      " [ -0.06283185+0.j  -0.18849556+0.j  -0.31415927+0.j  -0.43982297+0.j\n",
      "  -0.56548668+0.j  -0.69115038+0.j  -0.81681409+0.j  -0.9424778 +0.j\n",
      "  -1.0681415 +0.j  -1.19380535+0.j  -1.31949279+0.j  -1.44619637+0.j\n",
      "  -1.58443278+0.j  -1.76495399+0.j  -2.02608389+0.j  -2.42072165+0.j\n",
      "  -3.05905273+0.j  -4.22944946+0.j  -6.99190012+0.j -20.89157037+0.j]\n",
      "pade_eta \n",
      " [0.-0.01848363j 0.-0.01863088j 0.-0.01893253j 0.-0.01940378j\n",
      " 0.-0.02006985j 0.-0.02096963j 0.-0.02216192j 0.-0.02373645j\n",
      " 0.-0.02583409j 0.-0.0286862j  0.-0.03272508j 0.-0.03973257j\n",
      " 0.-0.06039882j 0.-0.14225723j 0.+1.77002799j 0.+0.15481247j\n",
      " 0.+0.0909147j  0.+0.0697597j  0.+0.06048296j 0.+0.05673243j]\n"
     ]
    }
   ],
   "source": [
    "# Here we test the nalf = 1, spin = ↑, norbs = 1 and nsgn = (+ or 1). \n",
    "# the coefficients eta and gamma only sum over the number of poles.\n",
    "\n",
    "for i in range(num_pade):\n",
    "    diss_rate[i] = -1.j * T * pole[i] / hbar\n",
    "    eta[i] = 2.j * tilde_eta[i] * sys_bath_coupling * 0.5 * band_width**2 * T \\\n",
    "             / ( (pole[i] * T - band_center)**2 + band_width**2 ) / hbar**2\n",
    "\n",
    "spectral_diss_rate = (band_width - 1.j * band_center) / hbar\n",
    "spectral_eta = 0.5 * sys_bath_coupling * band_width \\\n",
    "                   * fermi_by_pade((1.j * spectral_diss_rate - chemical_potential) * hbar) / hbar**2\n",
    "\n",
    "print('spectral_diss_rate: ', -1 * spectral_diss_rate * hbar)\n",
    "print('spectral_eta ', spectral_eta)\n",
    "\n",
    "print('pade_diss_rate \\n', -1 * diss_rate * hbar)\n",
    "print('pade_eta \\n', eta)\n"
   ]
  },
  {
   "cell_type": "code",
   "execution_count": 6,
   "id": "8e83097b",
   "metadata": {},
   "outputs": [
    {
     "name": "stderr",
     "output_type": "stream",
     "text": [
      "<ipython-input-6-9f1009cb0324>:5: IntegrationWarning: The integral is probably divergent, or slowly convergent.\n",
      "  bath_corr_exact_real[i],err = integrate.quad(fdt_real, a = -100, b = 100, args=(tt_for_corr[i]), limit = 20000)\n"
     ]
    },
    {
     "name": "stdout",
     "output_type": "stream",
     "text": [
      "Done!\n"
     ]
    }
   ],
   "source": [
    "# compare the pade results and the exact correlation function in time domain\n",
    "# exact results\n",
    "for i in range(time_sample_for_corr):\n",
    "    #bath_corr_exact[i] = gauss_Legendre_integral(fdt, down_limit = -20, upper_limit = 20, interval = 100, t=tt_for_corr[i])\n",
    "    bath_corr_exact_real[i],err = integrate.quad(fdt_real, a = -100, b = 100, args=(tt_for_corr[i]), limit = 20000)\n",
    "    bath_corr_exact_imag[i],err = integrate.quad(fdt_imag, a = -200, b = 200, args=(tt_for_corr[i]), limit = 10000)\n",
    "    bath_corr_exact[i] = complex(bath_corr_exact_real[i], bath_corr_exact_imag[i])\n",
    "    #print(bath_corr_exact[i])\n",
    "\n",
    "print('Done!')"
   ]
  },
  {
   "cell_type": "code",
   "execution_count": 7,
   "id": "40a8daed",
   "metadata": {},
   "outputs": [
    {
     "name": "stdout",
     "output_type": "stream",
     "text": [
      "Done!\n"
     ]
    }
   ],
   "source": [
    "# pade results\n",
    "for i in range(time_sample_for_corr):\n",
    "    for j in range(num_pade):\n",
    "        bath_corr_psd[i] = bath_corr_psd[i] + eta[j] * np.exp(-1 * diss_rate[j] * tt_for_corr[i])\n",
    "    bath_corr_psd[i] = bath_corr_psd[i] + spectral_eta * np.exp(-1 * spectral_diss_rate * tt_for_corr[i])\n",
    "\n",
    "print('Done!')"
   ]
  },
  {
   "cell_type": "code",
   "execution_count": 8,
   "id": "d29b4c81",
   "metadata": {},
   "outputs": [
    {
     "name": "stdout",
     "output_type": "stream",
     "text": [
      "Done!\n"
     ]
    }
   ],
   "source": [
    "# prony results\n",
    "dimension_Hankel = 1500\n",
    "num_prony = 10\n",
    "eta_prony = np.zeros(num_pade + 1, dtype = np.complex128)\n",
    "diss_rate_prony = np.zeros(num_pade + 1, dtype = np.complex128)\n",
    "eta_prony[0] = spectral_eta\n",
    "eta_prony[1:] = eta[:]\n",
    "diss_rate_prony[0] = spectral_diss_rate\n",
    "diss_rate_prony[1:] = diss_rate[:]\n",
    "\n",
    "tt_for_prony_min = 0.0\n",
    "tt_for_prony_max = 80.0/( sys_bath_coupling / 2)\n",
    "time_sample_for_prony =  2 * dimension_Hankel + 1\n",
    "tt_for_prony = np.linspace(tt_for_prony_min, tt_for_prony_max, time_sample_for_prony)\n",
    "hankel_matrix_real = np.zeros((dimension_Hankel + 1, dimension_Hankel + 1))\n",
    "hankel_matrix_imag = np.zeros((dimension_Hankel + 1, dimension_Hankel + 1))\n",
    "phi_real = np.zeros(time_sample_for_prony)\n",
    "phi_imag = np.zeros(time_sample_for_prony)\n",
    "\n",
    "for j in range(time_sample_for_prony):\n",
    "    for k in  range(num_pade + 1):\n",
    "        phi_real[j] = phi_real[j] + np.real(eta_prony[k] * np.exp(-1 * diss_rate_prony[k] * tt_for_prony[j]))\n",
    "        phi_imag[j] = phi_imag[j] + np.imag(eta_prony[k] * np.exp(-1 * diss_rate_prony[k] * tt_for_prony[j]))\n",
    "\n",
    "for n in range(dimension_Hankel + 1):\n",
    "    for m in range(dimension_Hankel + 1):\n",
    "        hankel_matrix_real[n,m] = phi_real[n + m]\n",
    "        hankel_matrix_imag[n,m] = phi_imag[n + m]\n",
    "        \n",
    "print('Done!')"
   ]
  },
  {
   "cell_type": "code",
   "execution_count": 9,
   "id": "238be901",
   "metadata": {},
   "outputs": [
    {
     "name": "stdout",
     "output_type": "stream",
     "text": [
      "error of decompose real part\n",
      " 6.963653600603046e-16 \n",
      "error of decompose imag part\n",
      " 1.0244814481561734e-13\n",
      "Done!\n"
     ]
    }
   ],
   "source": [
    "sigma_real, U_real = takagi_stra(hankel_matrix_real)\n",
    "sigma_imag, U_imag = takagi_stra(hankel_matrix_imag)\n",
    "\n",
    "print(\n",
    "    \"error of decompose real part\\n\",\n",
    "    np.sum(np.abs(hankel_matrix_real - np.dot(np.dot(U_real, np.diag(sigma_real)), U_real.T))), \"\\n\"\n",
    "    \"error of decompose imag part\\n\",\n",
    "    np.sum(np.abs(hankel_matrix_imag - np.dot(np.dot(U_imag, np.diag(sigma_imag)), U_imag.T))))\n",
    "\n",
    "print('Done!')"
   ]
  },
  {
   "cell_type": "code",
   "execution_count": 10,
   "id": "1b9f7a75",
   "metadata": {},
   "outputs": [
    {
     "data": {
      "image/png": "[encoded data removed]",
      "text/plain": [
       "<Figure size 432x288 with 1 Axes>"
      ]
     },
     "metadata": {
      "needs_background": "light"
     },
     "output_type": "display_data"
    },
    {
     "data": {
      "image/png": "[encoded data removed]",
      "text/plain": [
       "<Figure size 432x288 with 1 Axes>"
      ]
     },
     "metadata": {
      "needs_background": "light"
     },
     "output_type": "display_data"
    }
   ],
   "source": [
    "prony_roots_real = np.roots(U_real[:, num_prony][::-1])\n",
    "prony_roots_real_new = prony_roots_real[np.argsort(np.abs(prony_roots_real))[:num_prony]]\n",
    "prony_roots_imag = np.roots(U_imag[:, num_prony][::-1])\n",
    "prony_roots_imag_new = prony_roots_imag[np.argsort(np.abs(prony_roots_imag))[:num_prony]]\n",
    "\n",
    "plt.title(\"distrubition of imag part roots\") \n",
    "plt.xlabel(\"Re Φ\") \n",
    "plt.ylabel(\"Im Φ\")\n",
    "plt.scatter(prony_roots_imag.real, prony_roots_imag.imag)\n",
    "plt.scatter(prony_roots_imag_new.real, prony_roots_imag_new.imag)\n",
    "plt.show()\n",
    "\n",
    "plt.title(\"distrubition of real part roots\") \n",
    "plt.xlabel(\"Re Φ\") \n",
    "plt.ylabel(\"Im Φ\")\n",
    "plt.scatter(prony_roots_real.real, prony_roots_real.imag)\n",
    "plt.scatter(prony_roots_real_new.real, prony_roots_real_new.imag)\n",
    "plt.show()"
   ]
  },
  {
   "cell_type": "code",
   "execution_count": 11,
   "id": "649173d4",
   "metadata": {},
   "outputs": [
    {
     "data": {
      "image/png": "[encoded data removed]",
      "text/plain": [
       "<Figure size 432x288 with 1 Axes>"
      ]
     },
     "metadata": {
      "needs_background": "light"
     },
     "output_type": "display_data"
    }
   ],
   "source": [
    "omega_matrix_imag = np.zeros((time_sample_for_prony, num_prony), dtype=complex)\n",
    "for i in range(time_sample_for_prony):\n",
    "    for j in range(num_prony):\n",
    "        omega_matrix_imag[i, j] = prony_roots_imag_new[j]**i\n",
    "tilde_eta_imag_new = np.dot(linalg.inv(np.dot(omega_matrix_imag.T, omega_matrix_imag)), np.dot(omega_matrix_imag.T, phi_imag))\n",
    "omega_matrix_real = np.zeros((time_sample_for_prony, num_prony), dtype=complex)\n",
    "for i in range(time_sample_for_prony):\n",
    "    for j in range(num_prony):\n",
    "        omega_matrix_real[i, j] = prony_roots_real_new[j]**i\n",
    "tilde_eta_real_new = np.dot(linalg.inv(np.dot(omega_matrix_real.T, omega_matrix_real)), np.dot(omega_matrix_real.T, phi_real))\n",
    "plt.title(\"distrubition of real part roots\") \n",
    "plt.xlabel(\"Re Φ\") \n",
    "plt.ylabel(\"Im Φ\")\n",
    "plt.scatter(np.real(tilde_eta_real_new),np.imag(tilde_eta_real_new), label = 'real')\n",
    "plt.scatter(np.real(tilde_eta_imag_new),np.imag(tilde_eta_imag_new), label = 'imag')\n",
    "plt.show()"
   ]
  },
  {
   "cell_type": "code",
   "execution_count": 12,
   "id": "9df60c36",
   "metadata": {},
   "outputs": [
    {
     "name": "stdout",
     "output_type": "stream",
     "text": [
      "Done!\n"
     ]
    }
   ],
   "source": [
    "bath_corr_prony_real = np.zeros(time_sample_for_corr, dtype=complex)\n",
    "bath_corr_prony_imag = np.zeros(time_sample_for_corr, dtype=complex)\n",
    "prony_diss_rate_real =  -2 * dimension_Hankel / tt_for_prony_max * ( np.log( np.abs( prony_roots_real_new ) ) + 1.j * np.angle(prony_roots_real_new) )\n",
    "prony_diss_rate_imag =  -2 * dimension_Hankel / tt_for_prony_max * ( np.log( np.abs( prony_roots_imag_new ) ) + 1.j * np.angle(prony_roots_imag_new) )\n",
    "\n",
    "for i in range(time_sample_for_corr):\n",
    "    for j in range(num_prony):\n",
    "        bath_corr_prony_real[i] = bath_corr_prony_real[i] + tilde_eta_real_new[j] * np.exp(-1 * prony_diss_rate_real[j] * tt_for_corr[i])\n",
    "        bath_corr_prony_imag[i] = bath_corr_prony_imag[i] + tilde_eta_imag_new[j] * np.exp(-1 * prony_diss_rate_imag[j] * tt_for_corr[i])\n",
    "\n",
    "print('Done!')"
   ]
  },
  {
   "cell_type": "code",
   "execution_count": 13,
   "id": "8bc51c4e",
   "metadata": {},
   "outputs": [
    {
     "data": {
      "image/png": "[encoded data removed]",
      "text/plain": [
       "<Figure size 432x288 with 1 Axes>"
      ]
     },
     "metadata": {
      "needs_background": "light"
     },
     "output_type": "display_data"
    }
   ],
   "source": [
    "plt.title(\"correlation function\") \n",
    "plt.xlabel(\"time\") \n",
    "plt.ylabel(\"C(t)\") \n",
    "plt.plot(tt_for_corr, bath_corr_psd.real, label = 'Pade_real') \n",
    "plt.plot(tt_for_corr, bath_corr_psd.imag, label = 'Pade_image') \n",
    "plt.plot(tt_for_corr, bath_corr_exact_real, label = 'exact_real', linestyle = '-.') \n",
    "plt.plot(tt_for_corr, bath_corr_exact_imag, label = 'exact_imag', linestyle = '-.') \n",
    "plt.plot(tt_for_corr, bath_corr_prony_real.real, label = 'prony_real', linestyle = '--')\n",
    "plt.plot(tt_for_corr, bath_corr_prony_imag.real, label = 'prony_imag', linestyle = '--')\n",
    "plt.legend(loc=1) \n",
    "plt.show()"
   ]
  },
  {
   "cell_type": "code",
   "execution_count": 24,
   "id": "8d4f2657",
   "metadata": {},
   "outputs": [],
   "source": [
    "'''bath_corr_1_freq = np.fft.fft(bath_corr_psd)\n",
    "freq_1 = np.fft.fftfreq( time_sample_for_corr, (tt_for_corr_max - tt_for_corr_min) /time_sample_for_corr )\n",
    "eng_1 = len(tt_for_corr)\n",
    "\n",
    "fourier_psd = np.zeros(time_sample_for_corr)\n",
    "bath_corr_psd_freq_fourier = np.zeros(time_sample_for_corr, dtype=complex)\n",
    "mark = int ((time_sample_for_corr-1) / 2)\n",
    "\n",
    "fourier_psd[:mark] = freq_1[mark+1:]\n",
    "fourier_psd[mark:] = freq_1[:mark+1]\n",
    "\n",
    "bath_corr_psd_freq_fourier[:mark] = bath_corr_1_freq[mark+1:]\n",
    "bath_corr_psd_freq_fourier[mark:] = bath_corr_1_freq[:mark+1]\n",
    "\n",
    "\n",
    "bath_corr_2_freq = np.fft.fft(bath_corr_exact)\n",
    "freq_2 = np.fft.fftfreq( time_sample_for_corr, (tt_for_corr_max - tt_for_corr_min) /time_sample_for_corr )\n",
    "leng_exact = len(tt)\n",
    "\n",
    "fourier_exact = np.zeros(time_sample_for_corr)\n",
    "bath_corr_exact_freq_fourier = np.zeros(time_sample_for_corr, dtype=complex)\n",
    "\n",
    "fourier_exact[:mark] = freq_2[mark+1:]\n",
    "fourier_exact[mark:] = freq_2[: mark+1]\n",
    "\n",
    "bath_corr_exact_freq_fourier[:mark] = bath_corr_2_freq[mark+1:]\n",
    "bath_corr_exact_freq_fourier[mark:] = bath_corr_2_freq[:mark+1]'''\n",
    "\n",
    "omega_max_freq = 100.0\n",
    "omega_min_freq = -100.0\n",
    "omega_sample_freq = 2000 + 1\n",
    "omega_freq = np.linspace(omega_min_freq, omega_max_freq, omega_sample_freq)\n",
    "\n",
    "\n",
    "bath_corr_psd_freq = np.zeros(omega_sample_freq, dtype = complex)\n",
    "bath_corr_exact_freq = np.zeros(omega_sample_freq, dtype = complex)\n",
    "bath_corr_prony_freq = np.zeros(omega_sample_freq)\n",
    "\n",
    "for i in range(omega_sample_freq):\n",
    "    bath_corr_psd_freq[i] = complex(Jfermi_psd_real(omega_freq[i]), Jfermi_psd_imag(omega_freq[i]))\n",
    "    bath_corr_exact_freq[i] = complex(Jfermi_exact_real(omega_freq[i]), Jfermi_exact_imag(omega_freq[i]))\n",
    "    bath_corr_prony_freq[i] = J_prony_imag(omega_freq[i])"
   ]
  },
  {
   "cell_type": "code",
   "execution_count": 30,
   "id": "b26329b4",
   "metadata": {},
   "outputs": [
    {
     "data": {
      "image/png": "[encoded data removed]",
      "text/plain": [
       "<Figure size 432x288 with 1 Axes>"
      ]
     },
     "metadata": {
      "needs_background": "light"
     },
     "output_type": "display_data"
    }
   ],
   "source": [
    "plt.title(\"correlation function\") \n",
    "plt.xlabel(\"ω / Γ\") \n",
    "plt.ylabel(\"C(ω)\")\n",
    "plt.plot(omega_freq[800:1200]/(sys_bath_coupling/2), bath_corr_psd_freq[800:1200].real/max(bath_corr_psd_freq.real) , label = 'Pade_real')\n",
    "plt.plot(omega_freq[800:1200]/(sys_bath_coupling/2), bath_corr_exact_freq[800:1200].real/max(bath_corr_exact_freq.real) , label = 'exact_real', linestyle = '-.')\n",
    "plt.plot(omega_freq[800:1200]/(sys_bath_coupling/2), bath_corr_prony_freq[800:1200]/max(bath_corr_prony_freq) , label = 'Prony_real')\n",
    "\n",
    "#plt.plot(fourier_psd/(sys_bath_coupling/2), bath_corr_psd_freq_fourier.real/max(bath_corr_psd_freq_fourier.real) , label = 'Pade_real_Fourier')\n",
    "#plt.plot(fourier_exact/(sys_bath_coupling/2), bath_corr_exact_freq_fourier.real/max(bath_corr_exact_freq_fourier.real) , label = 'exact_real_Fourier', linestyle = '--')\n",
    "plt.legend(loc=1)\n",
    "plt.show()"
   ]
  }
 ],
 "metadata": {
  "kernelspec": {
   "display_name": "Python 3",
   "language": "python",
   "name": "python3"
  },
  "language_info": {
   "codemirror_mode": {
    "name": "ipython",
    "version": 3
   },
   "file_extension": ".py",
   "mimetype": "text/x-python",
   "name": "python",
   "nbconvert_exporter": "python",
   "pygments_lexer": "ipython3",
   "version": "3.8.8"
  }
 },
 "nbformat": 4,
 "nbformat_minor": 5
}
