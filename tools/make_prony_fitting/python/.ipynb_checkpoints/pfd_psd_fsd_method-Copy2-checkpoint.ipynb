{
 "cells": [
  {
   "cell_type": "code",
   "execution_count": 1,
   "id": "fc2a91a2",
   "metadata": {},
   "outputs": [],
   "source": [
    "import numpy as np\n",
    "from scipy import integrate, linalg, optimize\n",
    "from matplotlib import pyplot as plt \n",
    "\n",
    "def takagi_chen(H):\n",
    "    sing_vs, Q = linalg.eigh(H)\n",
    "    phase_mat = np.diag(\n",
    "                [np.exp(-1j * np.angle(sing_v) / 2.0) for sing_v in sing_vs])\n",
    "    vs = np.array([np.abs(sing_v) for sing_v in sing_vs])\n",
    "    Qp = np.dot(Q, phase_mat)\n",
    "    sort_array = np.argsort(vs)[::-1]\n",
    "    vs = vs[sort_array]\n",
    "    Qp = (Qp[:, sort_array])\n",
    "    \n",
    "    return vs, Qp\n",
    "\n",
    "def takagi_stra(N, tol=1e-13, rounding=13):\n",
    "    r\"\"\"Autonne-Takagi decomposition of a complex symmetric (not Hermitian!) matrix.\n",
    "\n",
    "    Note that singular values of N are considered equal if they are equal after np.round(values, tol).\n",
    "\n",
    "    See :cite:`cariolaro2016` and references therein for a derivation.\n",
    "\n",
    "    Args:\n",
    "        N (array[complex]): square, symmetric matrix N\n",
    "        rounding (int): the number of decimal places to use when rounding the singular values of N\n",
    "        tol (float): the tolerance used when checking if the input matrix is symmetric: :math:`|N-N^T| <` tol\n",
    "\n",
    "    Returns:\n",
    "        tuple[array, array]: (rl, U), where rl are the (rounded) singular values,\n",
    "            and U is the Takagi unitary, such that :math:`N = U \\diag(rl) U^T`.\n",
    "    \"\"\"\n",
    "    (n, m) = N.shape\n",
    "    if n != m:\n",
    "        raise ValueError(\"The input matrix must be square\")\n",
    "    if np.linalg.norm(N - np.transpose(N)) >= tol:\n",
    "        raise ValueError(\"The input matrix is not symmetric\")\n",
    "\n",
    "    N = np.real_if_close(N)\n",
    "\n",
    "    if np.allclose(N, 0):\n",
    "        return np.zeros(n), np.eye(n)\n",
    "\n",
    "    if np.isrealobj(N):\n",
    "        # If the matrix N is real one can be more clever and use its eigendecomposition\n",
    "        l, U = np.linalg.eigh(N)\n",
    "        vals = np.abs(l)  # These are the Takagi eigenvalues\n",
    "        phases = np.sqrt(np.complex128([1 if i > 0 else -1 for i in l]))\n",
    "        Uc = U @ np.diag(phases)  # One needs to readjust the phases\n",
    "        list_vals = [(vals[i], i) for i in range(len(vals))]\n",
    "        list_vals.sort(reverse=True)\n",
    "        sorted_l, permutation = zip(*list_vals)\n",
    "        permutation = np.array(permutation)\n",
    "        Uc = Uc[:, permutation]\n",
    "        # And also rearrange the unitary and values so that they are decreasingly ordered\n",
    "        return np.array(sorted_l), Uc\n",
    "\n",
    "    v, l, ws = np.linalg.svd(N)\n",
    "    w = np.transpose(np.conjugate(ws))\n",
    "    rl = np.round(l, rounding)\n",
    "\n",
    "    # Generate list with degenerancies\n",
    "    result = []\n",
    "    for k, g in groupby(rl):\n",
    "        result.append(list(g))\n",
    "\n",
    "    # Generate lists containing the columns that correspond to degenerancies\n",
    "    kk = 0\n",
    "    for k in result:\n",
    "        for ind, j in enumerate(k):  # pylint: disable=unused-variable\n",
    "            k[ind] = kk\n",
    "            kk = kk + 1\n",
    "\n",
    "    # Generate the lists with the degenerate column subspaces\n",
    "    vas = []\n",
    "    was = []\n",
    "    for i in result:\n",
    "        vas.append(v[:, i])\n",
    "        was.append(w[:, i])\n",
    "\n",
    "    # Generate the matrices qs of the degenerate subspaces\n",
    "    qs = []\n",
    "    for i in range(len(result)):\n",
    "        qs.append(sqrtm(np.transpose(vas[i]) @ was[i]))\n",
    "\n",
    "    # Construct the Takagi unitary\n",
    "    qb = block_diag(*qs)\n",
    "\n",
    "    U = v @ np.conj(qb)\n",
    "    return rl, U\n",
    "\n",
    "def fdt_real(omega, t):\n",
    "    t = np.array([t], dtype=np.float128)\n",
    "    if ((omega - chemical_potential) / T) <= 50:\n",
    "        fun = np.exp(1.j * omega * t[0]) \\\n",
    "              * (0.5 * sys_bath_coupling * (band_width**2)) / ((omega + band_center)**2 + band_width**2)\\\n",
    "              / (1.0 + np.exp( (omega - chemical_potential) / T ))\n",
    "    elif ((omega - chemical_potential) / T) > 50:\n",
    "        fun = np.exp(1.j * omega * t[0]) \\\n",
    "              * (0.5 * sys_bath_coupling * (band_width**2)) / ((omega + band_center)**2 + band_width**2)\\\n",
    "              / 10e+22\n",
    "    #print('C(w,t)',omega,t,fun)\n",
    "    return fun.real\n",
    "\n",
    "def fdt_imag(omega, t):\n",
    "    t = np.array([t], dtype=np.float128)\n",
    "    if ((omega - chemical_potential) / T) <= 50:\n",
    "        fun = np.exp(1.j * omega * t[0]) \\\n",
    "              * (0.5 * sys_bath_coupling * (band_width**2)) / ((omega + band_center)**2 + band_width**2)\\\n",
    "              / (1.0 + np.exp( (omega - chemical_potential) / T ))\n",
    "    elif ((omega - chemical_potential) / T) > 50:\n",
    "        fun = np.exp(1.j * omega * t[0]) \\\n",
    "              * (0.5 * sys_bath_coupling * (band_width**2)) / ((omega + band_center)**2 + band_width**2)\\\n",
    "              / 10e+22\n",
    "    #print('C(w,t)',omega,t,fun)\n",
    "    return fun.imag\n",
    "\n",
    "def Jfermi_exact(omega):\n",
    "    if ((omega - chemical_potential) / T) <= 50:\n",
    "        fun = 1.0 * (0.5 * sys_bath_coupling * (band_width**2)) / ((omega + band_center)**2 + band_width**2)\\\n",
    "              / (1.0 + np.exp( (omega - chemical_potential) / T ))\n",
    "    elif ((omega - chemical_potential) / T) > 50:\n",
    "        fun = 1.0 * (0.5 * sys_bath_coupling * (band_width**2)) / ((omega + band_center)**2 + band_width**2)\\\n",
    "              / 10e+22\n",
    "    #print('C(w,t)',omega,t,fun)\n",
    "    return fun\n",
    "\n",
    "def Jfermi_psd(omega):\n",
    "    fun = 1.0 * (0.5 * sys_bath_coupling * (band_width**2)) / ((omega + band_center)**2 + band_width**2)\\\n",
    "          * fermi_by_pade(omega)\n",
    "    #print('C(w,t)',omega,t,fun)\n",
    "    return fun\n",
    "\n",
    "def fermi_by_pade(omega):\n",
    "    result = 0.5\n",
    "    for j in range(num_pade):\n",
    "        result = result + sigma * tilde_eta[j] / (omega / T + pole[j]) \\\n",
    "                        + sigma * tilde_eta[j] / (omega / T - pole[j])\n",
    "    return result\n",
    "\n",
    "def J_fit(omega, rate, eta):\n",
    "    fun = 0\n",
    "    for i in range(len(rate)):\n",
    "        fun = fun + eta[i] / (rate[i] + 1.j * omega)\n",
    "        if omega == 0:\n",
    "            print(\"i\",i)\n",
    "            print(\"fun\", fun, \"eta\", eta[i] , \"rate\", rate[i], \"omega\", omega)\n",
    "            print(\"(expn[i] + sigma * 1.j * w)[0]\", rate[i] + 1.j * omega)\n",
    "    return fun"
   ]
  },
  {
   "cell_type": "code",
   "execution_count": 5,
   "id": "80160519",
   "metadata": {},
   "outputs": [
    {
     "name": "stdout",
     "output_type": "stream",
     "text": [
      "Done!\n"
     ]
    }
   ],
   "source": [
    "# the information of calculation paratemers\n",
    "hbar = 0.658211928\n",
    "omega_max = 100.0\n",
    "omega_min = -100.0\n",
    "omega_sample = 5000 + 1\n",
    "omega = np.linspace(omega_min, omega_max, omega_sample)\n",
    "sigma = -1\n",
    "\n",
    "time_max = 400.0\n",
    "time_min = -400.0\n",
    "time_sample = 4000 + 1\n",
    "tt = np.linspace(time_min, time_max, time_sample)\n",
    "\n",
    "tt_for_corr_min = 0.0\n",
    "tt_for_corr_max = 10.0\n",
    "time_sample_for_corr =  1000 + 1\n",
    "tt_for_corr = np.linspace(tt_for_corr_min, tt_for_corr_max, time_sample_for_corr)\n",
    "\n",
    "bath_corr_psd = np.zeros(time_sample_for_corr, dtype=complex)\n",
    "bath_corr_exact = np.zeros(time_sample_for_corr, dtype = complex)\n",
    "bath_corr_exact_real = np.zeros(time_sample_for_corr)\n",
    "bath_corr_exact_imag = np.zeros(time_sample_for_corr)\n",
    "\n",
    "print('Done!')"
   ]
  },
  {
   "cell_type": "code",
   "execution_count": 8,
   "id": "eeb133b7",
   "metadata": {
    "scrolled": true
   },
   "outputs": [
    {
     "data": {
      "image/png": "[encoded data removed]",
      "text/plain": [
       "<Figure size 432x288 with 1 Axes>"
      ]
     },
     "metadata": {
      "needs_background": "light"
     },
     "output_type": "display_data"
    },
    {
     "data": {
      "image/png": "[encoded data removed]",
      "text/plain": [
       "<Figure size 432x288 with 1 Axes>"
      ]
     },
     "metadata": {
      "needs_background": "light"
     },
     "output_type": "display_data"
    },
    {
     "name": "stdout",
     "output_type": "stream",
     "text": [
      "spectral_pole \n",
      " (2+0j)\n",
      "spectral_eta \n",
      " (0.46163475624596917-0.1255187727426561j)\n"
     ]
    }
   ],
   "source": [
    "# the information of fermi funcaiton\n",
    "T = 0.02                 #eV\n",
    "chemical_potential = 0.0 #ev\n",
    "\n",
    "fermi = np.zeros(omega_sample)\n",
    "for i in range(omega_sample):\n",
    "    if (sigma * (omega[i] - chemical_potential) / (T)) <= 50 :\n",
    "        fermi[i] = 1.0 / ( 1.0 + np.exp( sigma * (omega[i] - chemical_potential) / (T) ) )\n",
    "    elif (sigma * (omega[i] - chemical_potential) / (T)) > 50 :\n",
    "        fermi[i] = 1.0 / 10e+22\n",
    "\n",
    "# the information of bath spectral funcation\n",
    "# the Lorentz type J(w) = 0.5 * sys_bath_coupling * band_width**2 / ( (w - band_center)**2 + band_width**2)\n",
    "sys_bath_coupling = 0.4  #eV, is equal to HEOM-QUICK\n",
    "band_width = 2.0         #eV\n",
    "band_center = 0.0        #eV\n",
    "bath_spectral = np.zeros(omega_sample, dtype=complex)\n",
    "bath_spectral = (0.5 * sys_bath_coupling * (band_width**2)) / ((omega + sigma * band_center)**2 + band_width**2)\n",
    "\n",
    "plt.title(\"Bath spectral function\") \n",
    "plt.xlabel(\"frequency\") \n",
    "plt.ylabel(\"J(w)\") \n",
    "plt.plot(omega, bath_spectral.real, label = 'J(w)')\n",
    "plt.legend(loc=1)\n",
    "plt.show()\n",
    "\n",
    "plt.title(\"Fermi funcaiton for alectron\") \n",
    "plt.xlabel(\"frequency\") \n",
    "plt.ylabel(\"F(w)\") \n",
    "plt.plot(omega, fermi.real, label = 'F(w)')\n",
    "plt.legend(loc=1)\n",
    "plt.show()\n",
    "\n",
    "\n",
    "spectral_diss_rate = (band_width - 1.j * sigma * band_center) / hbar\n",
    "spectral_eta = 0.5 * sys_bath_coupling * band_width \\\n",
    "                / ( 1.0 + np.exp((1.j * sigma * spectral_diss_rate - chemical_potential) * hbar / T )) / hbar**2\n",
    "\n",
    "print('spectral_pole \\n', spectral_diss_rate * hbar)\n",
    "print('spectral_eta \\n', spectral_eta)\n",
    "\n",
    "\n",
    "#the Matsubara scheme\n",
    "#num_mats = 1001\n",
    "#mats = np.linspace(-(num_mats - 1)/2, (num_mats - 1)/2, num_mats, dtype = np.complex128)\n",
    "#fermi_mats = np.zeros(omega_sample, dtype = np.complex128)\n",
    "#bath_corr_msd = np.zeros(time_sample, dtype=np.complex128)\n",
    "\n",
    "# for i in range(num_mats):\n",
    "#     mats[i] = (mats[i] * 2 + 1) * np.pi * complex(0,1.0)\n",
    "\n",
    "# for i in range(omega_sample):\n",
    "#     fermi_mats[i] = 0.5\n",
    "#     for j in range(num_mats):\n",
    "#        fermi_mats[i] = fermi_mats[i] + 1.0 / (mats[j] - omega[i]/T)"
   ]
  },
  {
   "cell_type": "code",
   "execution_count": 10,
   "id": "6f9da4f6",
   "metadata": {
    "scrolled": true
   },
   "outputs": [
    {
     "data": {
      "image/png": "[encoded data removed]",
      "text/plain": [
       "<Figure size 432x288 with 1 Axes>"
      ]
     },
     "metadata": {
      "needs_background": "light"
     },
     "output_type": "display_data"
    }
   ],
   "source": [
    "#the Pade scheme\n",
    "num_pade = 20\n",
    "b = np.zeros(2 * num_pade)\n",
    "mat_xi = np.zeros((2 * num_pade, 2 * num_pade))\n",
    "mat_varsigma = np.zeros((2 * num_pade - 1, 2 * num_pade - 1))\n",
    "tilde_eta = np.zeros(num_pade, dtype = complex)         # namely cpcoef in evaluatepara.f90 \n",
    "pole = np.zeros(num_pade, dtype = complex)              # namely cppole in evaluatepara.f90\n",
    "\n",
    "\n",
    "for i in range(2 * num_pade):\n",
    "    b[i] = 2 * (i) + 1\n",
    "\n",
    "for i in range(2 * num_pade):\n",
    "    for j in range(2 * num_pade):\n",
    "        if (i == j-1 or i == j+1) :\n",
    "            mat_xi[i,j] = 1.0 / np.sqrt(b[i] * b[j])\n",
    "\n",
    "eigval_xi, eigvec_xi = np.linalg.eig(mat_xi) \n",
    "eigval_xi = np.sort(eigval_xi)\n",
    "            \n",
    "for i in range(2 * num_pade - 1):\n",
    "    for j in range(2 * num_pade - 1):\n",
    "        if (i == j-1 or i == j+1) :\n",
    "            mat_varsigma[i,j] = 1.0 / np.sqrt(b[i+1] * b[j+1])\n",
    "\n",
    "eigval_varsigma, eigvec_varsigma = np.linalg.eig(mat_varsigma)\n",
    "eigval_varsigma = np.sort(eigval_varsigma)\n",
    "\n",
    "\n",
    "for i in range(num_pade):\n",
    "    pole[i] = (0. + 2.j) / np.abs(eigval_xi[i])\n",
    "    eigval_xi[i] = 4.0 / eigval_xi[i]**2\n",
    "for i in range(num_pade - 1):\n",
    "    eigval_varsigma[i] = 4.0 / eigval_varsigma[i]**2\n",
    "\n",
    "for i in range(num_pade):\n",
    "    tilde_eta[i] = 0.5 * num_pade * (2 * num_pade + 1)\n",
    "    for j in range(i):\n",
    "        tilde_eta[i] = tilde_eta[i] * (eigval_varsigma[j] - eigval_xi[i]) / (eigval_xi[j] - eigval_xi[i])\n",
    "    for j in range(i+1,num_pade):\n",
    "        tilde_eta[i] = tilde_eta[i] * (eigval_varsigma[j-1] - eigval_xi[i]) / (eigval_xi[j] - eigval_xi[i])\n",
    "    tilde_eta[i] = (-1. + 0.j) * tilde_eta[i]\n",
    "\n",
    "fermi_pade = np.zeros(omega_sample, dtype = np.complex128)\n",
    "for i in range(omega_sample):\n",
    "    fermi_pade[i] = 0.5\n",
    "    for j in range(num_pade):\n",
    "        fermi_pade[i] = fermi_pade[i] + sigma * tilde_eta[j] / (omega[i] / T + pole[j]) \\\n",
    "                                      + sigma * tilde_eta[j] / (omega[i] / T - pole[j])\n",
    "\n",
    "        \n",
    "plt.title(\"Fermi function\") \n",
    "plt.xlabel(\"frequency\") \n",
    "plt.ylabel(\"f(w)\") \n",
    "plt.plot(omega, fermi, label = 'exact')\n",
    "#plt.plot(omega, fermi_mats.real, label = 'Matsubara', linestyle = '--')\n",
    "plt.plot(omega, fermi_pade.real, label = 'Pade', linestyle = '-.')\n",
    "plt.legend(loc=1)\n",
    "plt.show()"
   ]
  },
  {
   "cell_type": "code",
   "execution_count": 13,
   "id": "93348ad9",
   "metadata": {},
   "outputs": [
    {
     "name": "stdout",
     "output_type": "stream",
     "text": [
      "pade_diss_rate \n",
      " [ -2.        +0.j  -0.06283185+0.j  -0.18849556+0.j  -0.31415927+0.j\n",
      "  -0.43982297+0.j  -0.56548668+0.j  -0.69115038+0.j  -0.81681409+0.j\n",
      "  -0.9424778 +0.j  -1.0681415 +0.j  -1.19380535+0.j  -1.31949279+0.j\n",
      "  -1.44619637+0.j  -1.58443278+0.j  -1.76495399+0.j  -2.02608389+0.j\n",
      "  -2.42072165+0.j  -3.05905273+0.j  -4.22944946+0.j  -6.99190012+0.j\n",
      " -20.89157037+0.j]\n",
      "pade_eta \n",
      " [0.46163476+1.71070758j 0.        -0.01848363j 0.        -0.01863088j\n",
      " 0.        -0.01893253j 0.        -0.01940378j 0.        -0.02006985j\n",
      " 0.        -0.02096963j 0.        -0.02216192j 0.        -0.02373645j\n",
      " 0.        -0.02583409j 0.        -0.0286862j  0.        -0.03272508j\n",
      " 0.        -0.03973257j 0.        -0.06039882j 0.        -0.14225723j\n",
      " 0.        +1.77002799j 0.        +0.15481247j 0.        +0.0909147j\n",
      " 0.        +0.0697597j  0.        +0.06048296j 0.        +0.05673243j]\n",
      "pade_eta * hbar**2 \n",
      " [0.2+0.74115198j 0. -0.0080079j  0. -0.0080717j  0. -0.00820239j\n",
      " 0. -0.00840655j 0. -0.00869512j 0. -0.00908494j 0. -0.00960149j\n",
      " 0. -0.01028365j 0. -0.01119244j 0. -0.01242809j 0. -0.01417791j\n",
      " 0. -0.01721386j 0. -0.02616736j 0. -0.06163194j 0. +0.76685213j\n",
      " 0. +0.06707141j 0. +0.03938815j 0. +0.0302229j  0. +0.02620381j\n",
      " 0. +0.02457892j]\n"
     ]
    }
   ],
   "source": [
    "# Here we test the nalf = 1, spin = ↑, norbs = 1 and nsgn = (+ or 1). \n",
    "# the coefficients eta and gamma only sum over the number of poles.\n",
    "eta_pade = np.zeros(num_pade + 1, dtype = complex)               # namely cb in evaluatepara.f90\n",
    "diss_rate_pade = np.zeros(num_pade + 1, dtype = complex)         # namely cgamma in evaluatepara.f90\n",
    "\n",
    "spectral_diss_rate_pade = (band_width - 1.j * sigma * band_center) / hbar\n",
    "spectral_eta_pade = 0.5 * sys_bath_coupling * band_width \\\n",
    "                   * fermi_by_pade(sigma * (1.j * spectral_diss_rate - chemical_potential) * hbar) / hbar**2\n",
    "\n",
    "diss_rate_pade[0] = spectral_diss_rate_pade\n",
    "eta_pade[0] = spectral_eta_pade\n",
    "\n",
    "for i in range(1, num_pade + 1):\n",
    "    diss_rate_pade[i] = -1.j * T * pole[i - 1] / hbar\n",
    "    eta_pade[i] = 2.j * tilde_eta[i - 1] * sys_bath_coupling * 0.5 * band_width**2 * T \\\n",
    "             / ( (pole[i - 1] * T - band_center)**2 + band_width**2 ) / hbar**2\n",
    "\n",
    "print('pade_diss_rate \\n', -1 * diss_rate_pade * hbar)\n",
    "print('pade_eta \\n', eta_pade)\n",
    "print('pade_eta * hbar**2 \\n', eta_pade * hbar**2)"
   ]
  },
  {
   "cell_type": "code",
   "execution_count": 6,
   "id": "8e83097b",
   "metadata": {},
   "outputs": [
    {
     "name": "stderr",
     "output_type": "stream",
     "text": [
      "<ipython-input-6-80103da5d5ce>:6: IntegrationWarning: The integral is probably divergent, or slowly convergent.\n",
      "  bath_corr_exact_real[i],err = integrate.quad(fdt_real, a = -100, b = 100, args=(tt_for_corr[i]), limit = 20000)\n"
     ]
    },
    {
     "name": "stdout",
     "output_type": "stream",
     "text": [
      "Done!\n"
     ]
    }
   ],
   "source": [
    "# compare the pade results and the exact correlation function in time domain\n",
    "# exact results\n",
    "\n",
    "for i in range(time_sample_for_corr):\n",
    "    #bath_corr_exact[i] = gauss_Legendre_integral(fdt, down_limit = -20, upper_limit = 20, interval = 100, t=tt_for_corr[i])\n",
    "    bath_corr_exact_real[i],err = integrate.quad(fdt_real, a = -100, b = 100, args=(tt_for_corr[i]), limit = 20000)\n",
    "    bath_corr_exact_imag[i],err = integrate.quad(fdt_imag, a = -200, b = 200, args=(tt_for_corr[i]), limit = 10000)\n",
    "    bath_corr_exact[i] = complex(bath_corr_exact_real[i], bath_corr_exact_imag[i])\n",
    "    #print(bath_corr_exact[i])\n",
    "\n",
    "print('Done!')"
   ]
  },
  {
   "cell_type": "code",
   "execution_count": 7,
   "id": "40a8daed",
   "metadata": {},
   "outputs": [
    {
     "name": "stdout",
     "output_type": "stream",
     "text": [
      "bath_corr_psd[i] 0.99 8.268421393612534e-05\n",
      "bath_corr_psd[i] 0.99 -0.004466856413044276\n",
      "bath_corr_psd[i] 0.99 -0.008494346692827627\n",
      "bath_corr_psd[i] 0.99 -0.012068770532036466\n",
      "bath_corr_psd[i] 0.99 -0.015249297443896869\n",
      "bath_corr_psd[i] 0.99 -0.01808682085816968\n",
      "bath_corr_psd[i] 0.99 -0.02062523646936418\n",
      "bath_corr_psd[i] 0.99 -0.022902509444776613\n",
      "bath_corr_psd[i] 0.99 -0.024951569527443426\n",
      "bath_corr_psd[i] 0.99 -0.026801065535835375\n",
      "bath_corr_psd[i] 0.99 -0.028476015776424113\n",
      "bath_corr_psd[i] 0.99 -0.029999568483899675\n",
      "bath_corr_psd[i] 0.99 -0.03142444170497328\n",
      "bath_corr_psd[i] 0.99 -0.032960387000492745\n",
      "bath_corr_psd[i] 0.99 -0.03487325233887371\n",
      "bath_corr_psd[i] 0.99 -0.03731049755937258\n",
      "bath_corr_psd[i] 0.99 -0.04053674330311898\n",
      "bath_corr_psd[i] 0.99 -0.04663535294082285\n",
      "bath_corr_psd[i] 0.99 -0.044379377857729066\n",
      "bath_corr_psd[i] 0.99 -0.044318921690169204\n",
      "bath_corr_psd[i] 0.99 -0.04431892164067487\n",
      "Done!\n",
      "pade_diss_rate \n",
      " [ -3.54      +0.j  -0.06283185+0.j  -0.18849556+0.j  -0.31415927+0.j\n",
      "  -0.43982297+0.j  -0.56548668+0.j  -0.69115038+0.j  -0.81681409+0.j\n",
      "  -0.9424778 +0.j  -1.0681415 +0.j  -1.19380535+0.j  -1.31949279+0.j\n",
      "  -1.44619637+0.j  -1.58443278+0.j  -1.76495399+0.j  -2.02608389+0.j\n",
      "  -2.42072165+0.j  -3.05905273+0.j  -4.22944946+0.j  -6.99190012+0.j\n",
      " -20.89157037+0.j]\n",
      "pade_eta \n",
      " [0.21417+0.00275075j 0.     -0.00484153j 0.     -0.00485376j\n",
      " 0.     -0.00487842j 0.     -0.00491588j 0.     -0.00496674j\n",
      " 0.     -0.00503181j 0.     -0.00511217j 0.     -0.00520924j\n",
      " 0.     -0.00532479j 0.     -0.0054611j  0.     -0.00562569j\n",
      " 0.     -0.00596445j 0.     -0.00737233j 0.     -0.01097815j\n",
      " 0.     -0.01811411j 0.     -0.03543973j 0.     -0.12603038j\n",
      " 0.     +0.14852262j 0.     +0.06132235j 0.     +0.04752458j]\n"
     ]
    }
   ],
   "source": [
    "# pade results\n",
    "for i in range(time_sample_for_corr):\n",
    "    for j in range(num_pade + 1):\n",
    "        bath_corr_psd[i] = bath_corr_psd[i] + eta_pade[j] * hbar**2 * np.exp(-1 * diss_rate_pade[j] * hbar * tt_for_corr[i])\n",
    "        if i == 99:\n",
    "            print(\"bath_corr_psd[i]\",tt_for_corr[i], bath_corr_psd[i].imag)\n",
    "\n",
    "print('Done!')\n",
    "\n",
    "print('pade_diss_rate \\n', -1 * diss_rate_pade * hbar)\n",
    "print('pade_eta \\n', eta_pade * hbar**2)"
   ]
  },
  {
   "cell_type": "code",
   "execution_count": 8,
   "id": "d29b4c81",
   "metadata": {},
   "outputs": [
    {
     "name": "stdout",
     "output_type": "stream",
     "text": [
      "pade_diss_rate \n",
      " [ -3.54      +0.j  -0.06283185+0.j  -0.18849556+0.j  -0.31415927+0.j\n",
      "  -0.43982297+0.j  -0.56548668+0.j  -0.69115038+0.j  -0.81681409+0.j\n",
      "  -0.9424778 +0.j  -1.0681415 +0.j  -1.19380535+0.j  -1.31949279+0.j\n",
      "  -1.44619637+0.j  -1.58443278+0.j  -1.76495399+0.j  -2.02608389+0.j\n",
      "  -2.42072165+0.j  -3.05905273+0.j  -4.22944946+0.j  -6.99190012+0.j\n",
      " -20.89157037+0.j]\n",
      "pade_eta \n",
      " [0.21417+0.00275075j 0.     -0.00484153j 0.     -0.00485376j\n",
      " 0.     -0.00487842j 0.     -0.00491588j 0.     -0.00496674j\n",
      " 0.     -0.00503181j 0.     -0.00511217j 0.     -0.00520924j\n",
      " 0.     -0.00532479j 0.     -0.0054611j  0.     -0.00562569j\n",
      " 0.     -0.00596445j 0.     -0.00737233j 0.     -0.01097815j\n",
      " 0.     -0.01811411j 0.     -0.03543973j 0.     -0.12603038j\n",
      " 0.     +0.14852262j 0.     +0.06132235j 0.     +0.04752458j]\n",
      "Done!\n"
     ]
    }
   ],
   "source": [
    "# prony results\n",
    "dimension_Hankel = 1500\n",
    "num_prony = 10\n",
    "\n",
    "tt_for_prony_min = 0.0\n",
    "tt_for_prony_max = 80.0\n",
    "time_sample_for_prony =  2 * dimension_Hankel + 1\n",
    "tt_for_prony = np.linspace(tt_for_prony_min, tt_for_prony_max, time_sample_for_prony)\n",
    "hankel_matrix_real = np.zeros((dimension_Hankel + 1, dimension_Hankel + 1))\n",
    "hankel_matrix_imag = np.zeros((dimension_Hankel + 1, dimension_Hankel + 1))\n",
    "phi_real = np.zeros(time_sample_for_prony)\n",
    "phi_imag = np.zeros(time_sample_for_prony)\n",
    "\n",
    "for j in range(time_sample_for_prony):\n",
    "    for k in  range(num_pade + 1):\n",
    "        phi_real[j] = phi_real[j] + np.real(eta_pade[k] * hbar**2 * np.exp(-1 * diss_rate_pade[k] * hbar * tt_for_prony[j]))\n",
    "        phi_imag[j] = phi_imag[j] + np.imag(eta_pade[k] * hbar**2 * np.exp(-1 * diss_rate_pade[k] * hbar * tt_for_prony[j]))\n",
    "\n",
    "print('pade_diss_rate \\n', -1 * diss_rate_pade * hbar)\n",
    "print('pade_eta \\n', eta_pade * hbar**2)\n",
    "        \n",
    "for n in range(dimension_Hankel + 1):\n",
    "    for m in range(dimension_Hankel + 1):\n",
    "        hankel_matrix_real[n,m] = phi_real[n + m]\n",
    "        hankel_matrix_imag[n,m] = phi_imag[n + m]\n",
    "        \n",
    "print('Done!')"
   ]
  },
  {
   "cell_type": "code",
   "execution_count": 9,
   "id": "238be901",
   "metadata": {},
   "outputs": [
    {
     "name": "stdout",
     "output_type": "stream",
     "text": [
      "error of decompose real part\n",
      " 9.726304766867893e-15 \n",
      "error of decompose imag part\n",
      " 1.838445028022094e-12\n",
      "Done!\n",
      "3.027841048039191\n"
     ]
    }
   ],
   "source": [
    "sigma_real, U_real = takagi_chen(hankel_matrix_real)\n",
    "sigma_imag, U_imag = takagi_chen(hankel_matrix_imag)\n",
    "\n",
    "print(\n",
    "    \"error of decompose real part\\n\",\n",
    "    np.sum(np.abs(hankel_matrix_real - np.dot(np.dot(U_real, np.diag(sigma_real)), U_real.T))), \"\\n\"\n",
    "    \"error of decompose imag part\\n\",\n",
    "    np.sum(np.abs(hankel_matrix_imag - np.dot(np.dot(U_imag, np.diag(sigma_imag)), U_imag.T))))\n",
    "\n",
    "print('Done!')\n",
    "\n",
    "print(sigma_imag[0])"
   ]
  },
  {
   "cell_type": "code",
   "execution_count": 10,
   "id": "1b9f7a75",
   "metadata": {},
   "outputs": [
    {
     "name": "stdout",
     "output_type": "stream",
     "text": [
      "Done!\n"
     ]
    }
   ],
   "source": [
    "prony_roots_real = np.roots(U_real[:, num_prony][::-1])\n",
    "tmp_index = prony_roots_real != 0\n",
    "prony_roots_real = prony_roots_real[tmp_index]\n",
    "prony_roots_real_new = prony_roots_real[np.argsort(np.abs(prony_roots_real))[:num_prony]]\n",
    "\n",
    "\n",
    "prony_roots_imag = np.roots(U_imag[:, num_prony][::-1])\n",
    "tmp_index = prony_roots_imag != 0\n",
    "prony_roots_real = prony_roots_imag[tmp_index]\n",
    "prony_roots_imag_new = prony_roots_imag[np.argsort(np.abs(prony_roots_imag))[:num_prony]]\n",
    "\n",
    "print('Done!')"
   ]
  },
  {
   "cell_type": "code",
   "execution_count": 11,
   "id": "2e3145c0",
   "metadata": {},
   "outputs": [
    {
     "data": {
      "image/png": "[encoded data removed]",
      "text/plain": [
       "<Figure size 432x288 with 1 Axes>"
      ]
     },
     "metadata": {
      "needs_background": "light"
     },
     "output_type": "display_data"
    },
    {
     "name": "stdout",
     "output_type": "stream",
     "text": [
      "[ 0.07456851-3.42968184e-01j  0.07456851+3.42968184e-01j\n",
      "  0.46955061-6.60980256e-01j  0.46955061+6.60980256e-01j\n",
      "  0.90991872+8.58571776e-16j -0.84035011+3.83392044e-01j\n",
      " -0.84035011-3.83392044e-01j  0.33249618+9.08585264e-01j\n",
      "  0.33249618-9.08585264e-01j  0.04841777+9.92163276e-01j]\n"
     ]
    },
    {
     "data": {
      "image/png": "[encoded data removed]",
      "text/plain": [
       "<Figure size 432x288 with 1 Axes>"
      ]
     },
     "metadata": {
      "needs_background": "light"
     },
     "output_type": "display_data"
    },
    {
     "name": "stdout",
     "output_type": "stream",
     "text": [
      "[0.57279885+0.00000000e+00j 0.82841938-3.10579185e-16j\n",
      " 0.88937667+2.33917044e-15j 0.92888028-2.65954624e-15j\n",
      " 0.95778051-3.08147883e-15j 0.97533407+8.61812416e-15j\n",
      " 0.98547647-4.40858053e-15j 0.99124189-4.45105098e-15j\n",
      " 0.9949734 +9.27289379e-15j 0.99832586-7.77156117e-16j]\n"
     ]
    }
   ],
   "source": [
    "plt.title(\"distrubition of real part roots\") \n",
    "plt.xlabel(\"Re Φ\") \n",
    "plt.ylabel(\"Im Φ\")\n",
    "plt.scatter(prony_roots_real.real, prony_roots_real.imag)\n",
    "plt.scatter(prony_roots_real_new.real, prony_roots_real_new.imag)\n",
    "plt.show()\n",
    "\n",
    "print(prony_roots_real_new)\n",
    "\n",
    "plt.title(\"distrubition of imag part roots\") \n",
    "plt.xlabel(\"Re Φ\") \n",
    "plt.ylabel(\"Im Φ\")\n",
    "plt.scatter(prony_roots_imag.real, prony_roots_imag.imag)\n",
    "plt.scatter(prony_roots_imag_new.real, prony_roots_imag_new.imag)\n",
    "plt.show()\n",
    "print(prony_roots_imag_new)"
   ]
  },
  {
   "cell_type": "code",
   "execution_count": 12,
   "id": "649173d4",
   "metadata": {},
   "outputs": [
    {
     "name": "stdout",
     "output_type": "stream",
     "text": [
      "[-6.80011603e-15+3.55271368e-15j  2.41057174e-14+1.42108547e-14j\n",
      " -1.11022302e-15-8.25728375e-16j -9.18709553e-15-5.82867088e-15j\n",
      "  2.14170000e-01-2.61596300e-15j -5.72458747e-16-2.56739074e-16j\n",
      " -2.15105711e-16+5.55111512e-17j -4.78783679e-16-1.95676808e-15j\n",
      " -6.24500451e-17+3.81639165e-17j  1.27675648e-15-6.66133815e-15j]\n",
      "[ 0.04749412+3.06069588e-15j  0.05781445-3.45025933e-14j\n",
      "  0.12769238+1.14043224e-13j -0.14134023-1.52953538e-13j\n",
      " -0.04305055+1.50367518e-13j -0.02107749-1.74037121e-13j\n",
      " -0.01132375+1.83064720e-13j -0.0064271 -1.38662807e-13j\n",
      " -0.00494   +5.40368283e-14j -0.0048418 -4.30165218e-15j]\n",
      "Done!\n"
     ]
    }
   ],
   "source": [
    "omega_matrix_real = np.zeros((time_sample_for_prony, num_prony), dtype=complex)\n",
    "for i in range(time_sample_for_prony):\n",
    "    for j in range(num_prony):\n",
    "        omega_matrix_real[i, j] = prony_roots_real_new[j]**i\n",
    "eta_prony_real_tmp = np.dot(linalg.inv(np.dot(omega_matrix_real.T, omega_matrix_real)), np.dot(omega_matrix_real.T, phi_real))\n",
    "print(eta_prony_real_tmp)\n",
    "\n",
    "\n",
    "omega_matrix_imag = np.zeros((time_sample_for_prony, num_prony), dtype=complex)\n",
    "for i in range(time_sample_for_prony):\n",
    "    for j in range(num_prony):\n",
    "        omega_matrix_imag[i, j] = prony_roots_imag_new[j]**i\n",
    "eta_prony_imag_tmp = np.dot(linalg.inv(np.dot(omega_matrix_imag.T, omega_matrix_imag)), np.dot(omega_matrix_imag.T, phi_imag))\n",
    "print(eta_prony_imag_tmp)\n",
    "\n",
    "print('Done!')"
   ]
  },
  {
   "cell_type": "code",
   "execution_count": 13,
   "id": "a0a13f27",
   "metadata": {},
   "outputs": [
    {
     "data": {
      "image/png": "[encoded data removed]",
      "text/plain": [
       "<Figure size 432x288 with 1 Axes>"
      ]
     },
     "metadata": {
      "needs_background": "light"
     },
     "output_type": "display_data"
    }
   ],
   "source": [
    "plt.title(\"distrubition of real part roots\") \n",
    "plt.xlabel(\"Re Φ\") \n",
    "plt.ylabel(\"Im Φ\")\n",
    "plt.scatter(np.real(eta_prony_real_tmp),np.imag(eta_prony_real_tmp), label = 'real')\n",
    "plt.scatter(np.real(eta_prony_imag_tmp),np.imag(eta_prony_imag_tmp), label = 'imag')\n",
    "plt.show()"
   ]
  },
  {
   "cell_type": "code",
   "execution_count": 14,
   "id": "9df60c36",
   "metadata": {},
   "outputs": [
    {
     "name": "stdout",
     "output_type": "stream",
     "text": [
      "spectrum_pole_prony\n",
      " (3.54+0j)\n",
      "spectrum_eta_prony\n",
      " 0.21417\n",
      "bath_corr_prony_imag[i] 0.99 4.925714652682479e-11\n",
      "bath_corr_prony_imag[i] 0.99 5.3342999628807734e-05\n",
      "bath_corr_prony_imag[i] 0.99 0.0016976120432617972\n",
      "bath_corr_prony_imag[i] 0.99 -0.007438705840544493\n",
      "bath_corr_prony_imag[i] 0.99 -0.01611788818061517\n",
      "bath_corr_prony_imag[i] 0.99 -0.024457362522050313\n",
      "bath_corr_prony_imag[i] 0.99 -0.03103557162823983\n",
      "bath_corr_prony_imag[i] 0.99 -0.03567201243554847\n",
      "bath_corr_prony_imag[i] 0.99 -0.039769122970297235\n",
      "bath_corr_prony_imag[i] 0.99 -0.04431891381074292\n",
      "bath_corr_prony_imag[i] 0.99 -0.04431891381074292\n",
      "Done!\n",
      "diss_rate\n",
      " [20.89577511-0.00000000e+00j  7.05884063+1.40589654e-14j\n",
      "  4.39629107-9.86296291e-14j  2.76657828+1.07369040e-13j\n",
      "  1.61762382+1.20649203e-13j  0.93657114-3.31352780e-13j\n",
      "  0.54862605+1.67758211e-13j  0.32987585+1.68389183e-13j\n",
      "  0.18897287-3.49490265e-13j  0.06283269+2.91922261e-14j\n",
      "  3.54      +0.00000000e+00j]\n",
      "eta\n",
      " [-3.06069588e-15+0.04749412j  3.45025933e-14+0.05781445j\n",
      " -1.14043224e-13+0.12769238j  1.52953538e-13-0.14134023j\n",
      " -1.50367518e-13-0.04305055j  1.74037121e-13-0.02107749j\n",
      " -1.83064720e-13-0.01132375j  1.38662807e-13-0.0064271j\n",
      " -5.40368283e-14-0.00494j     4.30165218e-15-0.0048418j\n",
      "  2.14170000e-01+0.j        ]\n"
     ]
    }
   ],
   "source": [
    "bath_corr_prony_real = np.zeros(time_sample_for_corr, dtype=complex)\n",
    "bath_corr_prony_imag = np.zeros(time_sample_for_corr, dtype=complex)\n",
    "\n",
    "\n",
    "diss_rate_prony_real_tmp =  -2 * dimension_Hankel \\\n",
    "                            / tt_for_prony_max * ( np.log( np.abs( prony_roots_real_new ) ) + 1.j * np.angle(prony_roots_real_new) )\n",
    "diss_rate_prony_imag_tmp =  -2 * dimension_Hankel \\\n",
    "                            / tt_for_prony_max * ( np.log( np.abs( prony_roots_imag_new ) ) + 1.j * np.angle(prony_roots_imag_new) )\n",
    "\n",
    "eta_prony_real = np.zeros(num_prony + 1, dtype = complex)\n",
    "diss_rate_prony_real = np.zeros(num_prony + 1, dtype = complex)\n",
    "eta_prony_imag = np.zeros(num_prony + 1, dtype = complex)\n",
    "diss_rate_prony_imag = np.zeros(num_prony + 1, dtype = complex)\n",
    "\n",
    "spectrum_pole_prony = (1 + 0.j) * (band_width - 1.j * band_center)\n",
    "spectrum_eta_prony = 0.5 * (0.5 * sys_bath_coupling) * band_width\n",
    "\n",
    "print(\"spectrum_pole_prony\\n\",spectrum_pole_prony)\n",
    "print(\"spectrum_eta_prony\\n\",spectrum_eta_prony)\n",
    "\n",
    "\n",
    "eta_prony_real[num_prony] = spectrum_eta_prony\n",
    "diss_rate_prony_real[num_prony] = spectrum_pole_prony\n",
    "eta_prony_real[0:num_prony] = eta_prony_real_tmp * 1.j\n",
    "diss_rate_prony_real[0:num_prony] = diss_rate_prony_real_tmp\n",
    "\n",
    "eta_prony_imag[num_prony] = spectrum_eta_prony\n",
    "diss_rate_prony_imag[num_prony] = spectrum_pole_prony\n",
    "eta_prony_imag[0:num_prony] = eta_prony_imag_tmp * 1.j\n",
    "diss_rate_prony_imag[0:num_prony] = diss_rate_prony_imag_tmp\n",
    "\n",
    "for i in range(time_sample_for_corr):\n",
    "    for j in range(num_prony + 1):\n",
    "        bath_corr_prony_real[i] = bath_corr_prony_real[i] + eta_prony_real[j] * np.exp(-1 * diss_rate_prony_real[j] * tt_for_corr[i])\n",
    "        bath_corr_prony_imag[i] = bath_corr_prony_imag[i] + eta_prony_imag[j] * np.exp(-1 * diss_rate_prony_imag[j] * tt_for_corr[i])\n",
    "        if i == 99:\n",
    "            print(\"bath_corr_prony_imag[i]\",tt_for_corr[i], bath_corr_prony_imag[i].imag)\n",
    "\n",
    "print('Done!')\n",
    "\n",
    "print(\"diss_rate\\n\",diss_rate_prony_imag)\n",
    "print(\"eta\\n\",eta_prony_imag)"
   ]
  },
  {
   "cell_type": "code",
   "execution_count": 18,
   "id": "8bc51c4e",
   "metadata": {},
   "outputs": [
    {
     "data": {
      "image/png": "[encoded data removed]",
      "text/plain": [
       "<Figure size 432x288 with 1 Axes>"
      ]
     },
     "metadata": {
      "needs_background": "light"
     },
     "output_type": "display_data"
    }
   ],
   "source": [
    "plt.title(\"correlation function\") \n",
    "plt.xlabel(\"time\") \n",
    "plt.ylabel(\"C(t)\") \n",
    "plt.plot(tt_for_corr, bath_corr_psd.real, label = 'Pade_real', linestyle = '-.', color = 'k') \n",
    "plt.plot(tt_for_corr, bath_corr_psd.imag, label = 'Pade_image', linestyle = '-.', color = 'k') \n",
    "plt.plot(tt_for_corr, bath_corr_exact_real, label = 'exact_real', color = 'r') \n",
    "plt.plot(tt_for_corr, bath_corr_exact_imag, label = 'exact_imag', color = 'r') \n",
    "plt.plot(tt_for_corr, bath_corr_prony_real.real, label = 'prony_real', linestyle = '--', color = 'g')\n",
    "plt.plot(tt_for_corr, bath_corr_prony_imag.imag, label = 'prony_imag', linestyle = '--', color = 'g')\n",
    "plt.legend(loc=1)\n",
    "plt.show()"
   ]
  },
  {
   "cell_type": "code",
   "execution_count": 16,
   "id": "8d4f2657",
   "metadata": {},
   "outputs": [
    {
     "name": "stdout",
     "output_type": "stream",
     "text": [
      "i 0\n",
      "fun (0.0605+0.0007770478824024035j) eta (0.21417+0.0027507495037045085j) rate (3.54+0j) omega 0.0\n",
      "(expn[i] + sigma * 1.j * w)[0] (3.54+0j)\n",
      "i 1\n",
      "fun (0.0605-0.07627821936754903j) eta -0.004841525230256916j rate (0.06283185307179592+0j) omega 0.0\n",
      "(expn[i] + sigma * 1.j * w)[0] (0.06283185307179592+0j)\n",
      "i 2\n",
      "fun (0.0605-0.10202822529078591j) eta -0.004853761766300083j rate (0.18849555921538777+0j) omega 0.0\n",
      "(expn[i] + sigma * 1.j * w)[0] (0.18849555921538777+0j)\n",
      "i 3\n",
      "fun (0.0605-0.1175567227115766j) eta -0.004878421341844398j rate (0.3141592653589786+0j) omega 0.0\n",
      "(expn[i] + sigma * 1.j * w)[0] (0.3141592653589786+0j)\n",
      "i 4\n",
      "fun (0.0605-0.1287336835421526j) eta -0.004915884124871756j rate (0.43982297150256977+0j) omega 0.0\n",
      "(expn[i] + sigma * 1.j * w)[0] (0.43982297150256977+0j)\n",
      "i 5\n",
      "fun (0.0605-0.13751680608936806j) eta -0.004966738788583978j rate (0.5654866776461621+0j) omega 0.0\n",
      "(expn[i] + sigma * 1.j * w)[0] (0.5654866776461621+0j)\n",
      "i 6\n",
      "fun (0.0605-0.14479714080092393j) eta -0.005031806130009712j rate (0.691150383789755+0j) omega 0.0\n",
      "(expn[i] + sigma * 1.j * w)[0] (0.691150383789755+0j)\n",
      "i 7\n",
      "fun (0.0605-0.15105581500907975j) eta -0.005112173277524095j rate (0.8168140899333465+0j) omega 0.0\n",
      "(expn[i] + sigma * 1.j * w)[0] (0.8168140899333465+0j)\n",
      "i 8\n",
      "fun (0.0605-0.15658299162989633j) eta -0.005209241240115642j rate (0.9424777960770178+0j) omega 0.0\n",
      "(expn[i] + sigma * 1.j * w)[0] (0.9424777960770178+0j)\n",
      "i 9\n",
      "fun (0.0605-0.16156808950334792j) eta -0.005324789932426346j rate (1.068141502453503+0j) omega 0.0\n",
      "(expn[i] + sigma * 1.j * w)[0] (1.068141502453503+0j)\n",
      "i 10\n",
      "fun (0.0605-0.1661426232338139j) eta -0.005461102862237358j rate (1.193805354601914+0j) omega 0.0\n",
      "(expn[i] + sigma * 1.j * w)[0] (1.193805354601914+0j)\n",
      "i 11\n",
      "fun (0.0605-0.17040614431613263j) eta -0.0056256853194657j rate (1.3194927879672074+0j) omega 0.0\n",
      "(expn[i] + sigma * 1.j * w)[0] (1.3194927879672074+0j)\n",
      "i 12\n",
      "fun (0.0605-0.17453037842124594j) eta -0.005964452383473911j rate (1.4461963679702483+0j) omega 0.0\n",
      "(expn[i] + sigma * 1.j * w)[0] (1.4461963679702483+0j)\n",
      "i 13\n",
      "fun (0.0605-0.17918335898367846j) eta -0.0073723349252702635j rate (1.584432779451828+0j) omega 0.0\n",
      "(expn[i] + sigma * 1.j * w)[0] (1.584432779451828+0j)\n",
      "i 14\n",
      "fun (0.0605-0.18540343498003745j) eta -0.010978147971641365j rate (1.7649539938205903+0j) omega 0.0\n",
      "(expn[i] + sigma * 1.j * w)[0] (1.7649539938205903+0j)\n",
      "i 15\n",
      "fun (0.0605-0.19434389130929997j) eta -0.018114114511010942j rate (2.0260838869848974+0j) omega 0.0\n",
      "(expn[i] + sigma * 1.j * w)[0] (2.0260838869848974+0j)\n",
      "i 16\n",
      "fun (0.0605-0.2089840432419364j) eta -0.03543973269931486j rate (2.420721647041868+0j) omega 0.0\n",
      "(expn[i] + sigma * 1.j * w)[0] (2.420721647041868+0j)\n",
      "i 17\n",
      "fun (0.0605-0.25018319702321273j) eta -0.12603038384086587j rate (3.059052729819478+0j) omega 0.0\n",
      "(expn[i] + sigma * 1.j * w)[0] (3.059052729819478+0j)\n",
      "i 18\n",
      "fun (0.0605-0.2150668966702957j) eta 0.14852261752906865j rate (4.229449458981265+0j) omega 0.0\n",
      "(expn[i] + sigma * 1.j * w)[0] (4.229449458981265+0j)\n",
      "i 19\n",
      "fun (0.0605-0.20629641187103168j) eta 0.06132235370340138j rate (6.991900118058176+0j) omega 0.0\n",
      "(expn[i] + sigma * 1.j * w)[0] (6.991900118058176+0j)\n",
      "i 20\n",
      "fun (0.0605-0.2040215912243159j) eta 0.04752457560903875j rate (20.891570365185125+0j) omega 0.0\n",
      "(expn[i] + sigma * 1.j * w)[0] (20.891570365185125+0j)\n",
      "i 0\n",
      "fun (-1.4647438821592316e-16+0.0022729055560058863j) eta (-3.0606958752450835e-15+0.04749412334007341j) rate (20.89577510802231-0j) omega 0.0\n",
      "(expn[i] + sigma * 1.j * w)[0] (20.89577510802231+0j)\n",
      "i 1\n",
      "fun (4.7576937530148034e-15+0.0104632663657229j) eta (3.450259332471727e-14+0.05781445164461552j) rate (7.058840628367027+1.4058965364354906e-14j) omega 0.0\n",
      "(expn[i] + sigma * 1.j * w)[0] (7.058840628367027+1.4058965364354906e-14j)\n",
      "i 2\n",
      "fun (-2.183471496404856e-14+0.03950874546395127j) eta (-1.1404322409779519e-13+0.12769238033645536j) rate (4.396291068383305-9.862962914609168e-14j) omega 0.0\n",
      "(expn[i] + sigma * 1.j * w)[0] (4.396291068383305-9.862962914609168e-14j)\n",
      "i 3\n",
      "fun (3.1468753665743795e-14-0.011579715973914051j) eta (1.5295353786544267e-13-0.14134022798707235j) rate (2.76657828419775+1.0736904043419819e-13j) omega 0.0\n",
      "(expn[i] + sigma * 1.j * w)[0] (2.76657828419775+1.0736904043419819e-13j)\n",
      "i 4\n",
      "fun (-6.347199057089883e-14-0.03819316287429353j) eta (-1.503675181332107e-13-0.04305054561955757j) rate (1.617623819293536+1.206492032939972e-13j) omega 0.0\n",
      "(expn[i] + sigma * 1.j * w)[0] (1.617623819293536+1.206492032939972e-13j)\n",
      "i 5\n",
      "fun (1.3031382201534804e-13-0.06069811569791619j) eta (1.7403712118353193e-13-0.021077489375869618j) rate (0.9365711424084978-3.31352780491097e-13j) omega 0.0\n",
      "(expn[i] + sigma * 1.j * w)[0] (0.9365711424084978-3.31352780491097e-13j)\n",
      "i 6\n",
      "fun (-2.0967601639082707e-13-0.08133831385021122j) eta (-1.8306472001932958e-13-0.011323750423436252j) rate (0.5486260519343483+1.6775821131650976e-13j) omega 0.0\n",
      "(expn[i] + sigma * 1.j * w)[0] (0.5486260519343483+1.6775821131650976e-13j)\n",
      "i 7\n",
      "fun (2.0072690922374613e-13-0.10082171757933464j) eta (1.3866280656490372e-13-0.0064271042806893774j) rate (0.3298758456194315+1.6838918285123164e-13j) omega 0.0\n",
      "(expn[i] + sigma * 1.j * w)[0] (0.3298758456194315+1.6838918285123164e-13j)\n",
      "i 8\n",
      "fun (-3.687700637449652e-14-0.12696303061305414j) eta (-5.403682829797781e-14-0.004939998951850377j) rate (0.18897287008798327-3.4949026513895163e-13j) omega 0.0\n",
      "(expn[i] + sigma * 1.j * w)[0] (0.18897287008798327-3.4949026513895163e-13j)\n",
      "i 9\n",
      "fun (-4.216590587047726e-15-0.2040215758757146j) eta (4.301652181492607e-15-0.004841795502422919j) rate (0.0628326876132849+2.919222613575426e-14j) omega 0.0\n",
      "(expn[i] + sigma * 1.j * w)[0] (0.0628326876132849+2.919222613575426e-14j)\n",
      "i 10\n",
      "fun (0.06049999999999578-0.2040215758757146j) eta (0.21417+0j) rate (3.54+0j) omega 0.0\n",
      "(expn[i] + sigma * 1.j * w)[0] (3.54+0j)\n"
     ]
    }
   ],
   "source": [
    "omega_max_freq = 100.0\n",
    "omega_min_freq = -100.0\n",
    "omega_sample_freq = 2000 + 1\n",
    "omega_freq = np.linspace(omega_min_freq, omega_max_freq, omega_sample_freq)\n",
    "\n",
    "\n",
    "bath_corr_psd_freq = np.zeros(omega_sample_freq, dtype = complex)\n",
    "bath_corr_exact_freq = np.zeros(omega_sample_freq, dtype = complex)\n",
    "bath_corr_prony_imag_freq = np.zeros(omega_sample_freq, dtype = complex)\n",
    "bath_corr_prony_real_freq = np.zeros(omega_sample_freq, dtype = complex)\n",
    "\n",
    "\n",
    "for i in range(omega_sample_freq):\n",
    "    #bath_corr_psd_freq[i] =   Jfermi_psd(omega_freq[i])\n",
    "    bath_corr_psd_freq[i] = J_fit(omega_freq[i], diss_rate_pade * hbar, eta_pade * hbar**2)\n",
    "    bath_corr_exact_freq[i] = Jfermi_exact(omega_freq[i])\n",
    "    bath_corr_prony_imag_freq[i] = J_fit(omega_freq[i], diss_rate_prony_imag, eta_prony_imag)\n",
    "    #bath_corr_prony_imag_freq[i] += spectrum_eta_prony / ( spectrum_pole_prony * hbar + 1.j * omega_freq[i] )\n",
    "    #bath_corr_prony_real_freq[i] = J_fit(omega_freq[i], diss_rate_prony_real, eta_prony_real)"
   ]
  },
  {
   "cell_type": "code",
   "execution_count": 17,
   "id": "b26329b4",
   "metadata": {},
   "outputs": [
    {
     "data": {
      "image/png": "[encoded data removed]",
      "text/plain": [
       "<Figure size 432x288 with 1 Axes>"
      ]
     },
     "metadata": {
      "needs_background": "light"
     },
     "output_type": "display_data"
    }
   ],
   "source": [
    "plt.title(\"correlation function\") \n",
    "plt.xlabel(\"ω / Γ\") \n",
    "plt.ylabel(\"C(ω)\")\n",
    "plt.plot(omega_freq[800:1200]/(sys_bath_coupling/2), bath_corr_psd_freq[800:1200].real/max(np.abs(bath_corr_psd_freq.real)) , label = 'Pade_real', linestyle = '-.', color = 'k')\n",
    "plt.plot(omega_freq[800:1200]/(sys_bath_coupling/2), bath_corr_exact_freq[800:1200].real/max(np.abs(bath_corr_exact_freq.real)) , label = 'exact_real', linestyle = '-.', color = 'r')\n",
    "plt.plot(omega_freq[800:1200]/(sys_bath_coupling/2), bath_corr_prony_imag_freq[800:1200].real/max(np.abs(bath_corr_prony_imag_freq.real)), label = 'Prony_real', linestyle = '--', color = 'g')\n",
    "\n",
    "#plt.plot(fourier_psd/(sys_bath_coupling/2), bath_corr_psd_freq_fourier.real/max(bath_corr_psd_freq_fourier.real) , label = 'Pade_real_Fourier')\n",
    "#plt.plot(fourier_exact/(sys_bath_coupling/2), bath_corr_exact_freq_fourier.real/max(bath_corr_exact_freq_fourier.real) , label = 'exact_real_Fourier', linestyle = '--')\n",
    "plt.legend(loc=1)\n",
    "plt.show()"
   ]
  }
 ],
 "metadata": {
  "kernelspec": {
   "display_name": "Python 3",
   "language": "python",
   "name": "python3"
  },
  "language_info": {
   "codemirror_mode": {
    "name": "ipython",
    "version": 3
   },
   "file_extension": ".py",
   "mimetype": "text/x-python",
   "name": "python",
   "nbconvert_exporter": "python",
   "pygments_lexer": "ipython3",
   "version": "3.8.8"
  }
 },
 "nbformat": 4,
 "nbformat_minor": 5
}
