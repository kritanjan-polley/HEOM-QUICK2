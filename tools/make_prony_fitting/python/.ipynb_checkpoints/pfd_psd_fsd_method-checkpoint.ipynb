{
 "cells": [
  {
   "cell_type": "code",
   "execution_count": 1,
   "id": "fc2a91a2",
   "metadata": {},
   "outputs": [],
   "source": [
    "import numpy as np\n",
    "from scipy import integrate, linalg, optimize\n",
    "from matplotlib import pyplot as plt \n",
    "\n",
    "\n",
    "def fdt_real(omega, t):\n",
    "    omega = np.array([omega], dtype=np.float128)\n",
    "    t = np.array([t], dtype=np.float128)\n",
    "    if ((omega[0] - chemical_potential) / T) <= 50:\n",
    "        fun = np.exp(1.j * omega[0] * t[0]) \\\n",
    "              * (0.5 * sys_bath_coupling * (band_width**2)) / ((omega[0] + band_center)**2 + band_width**2)\\\n",
    "              / (1.0 + np.exp( (omega[0] - chemical_potential) / T ))\n",
    "    elif ((omega[0] - chemical_potential) / T) > 50:\n",
    "        fun = np.exp(1.j * omega[0] * t[0]) \\\n",
    "              * (0.5 * sys_bath_coupling * (band_width**2)) / ((omega[0] + band_center)**2 + band_width**2)\\\n",
    "              / 10e+22\n",
    "    #print('C(w,t)',omega,t,fun)\n",
    "    return fun.real\n",
    "\n",
    "def fdt_imag(omega, t):\n",
    "    omega = np.array([omega], dtype=np.float128)\n",
    "    t = np.array([t], dtype=np.float128)\n",
    "    if ((omega[0] - chemical_potential) / T) <= 50:\n",
    "        fun = np.exp(1.j * omega[0] * t[0]) \\\n",
    "              * (0.5 * sys_bath_coupling * (band_width**2)) / ((omega[0] + band_center)**2 + band_width**2)\\\n",
    "              / (1.0 + np.exp( (omega[0] - chemical_potential) / T ))\n",
    "    elif ((omega[0] - chemical_potential) / T) > 50:\n",
    "        fun = np.exp(1.j * omega[0] * t[0]) \\\n",
    "              * (0.5 * sys_bath_coupling * (band_width**2)) / ((omega[0] + band_center)**2 + band_width**2)\\\n",
    "              / 10e+22\n",
    "    #print('C(w,t)',omega,t,fun)\n",
    "    return fun.imag\n",
    "\n",
    "def Jfermi_exact_real(omega):\n",
    "    omega = np.array([omega], dtype=np.float128)\n",
    "    if ((omega[0] - chemical_potential) / T) <= 50:\n",
    "        fun = 1.0 * (0.5 * sys_bath_coupling * (band_width**2)) / ((omega[0] + band_center)**2 + band_width**2)\\\n",
    "              / (1.0 + np.exp( (omega[0] - chemical_potential) / T ))\n",
    "    elif ((omega[0] - chemical_potential) / T) > 50:\n",
    "        fun = 1.0 * (0.5 * sys_bath_coupling * (band_width**2)) / ((omega[0] + band_center)**2 + band_width**2)\\\n",
    "              / 10e+22\n",
    "    #print('C(w,t)',omega,t,fun)\n",
    "    return fun.real\n",
    "\n",
    "def Jfermi_exact_imag(omega):\n",
    "    omega = np.array([omega], dtype=np.float128)\n",
    "    if ((omega[0] - chemical_potential) / T) <= 50:\n",
    "        fun = 1.0 * (0.5 * sys_bath_coupling * (band_width**2)) / ((omega[0] + band_center)**2 + band_width**2)\\\n",
    "              / (1.0 + np.exp( (omega[0] - chemical_potential) / T ))\n",
    "    elif ((omega[0] - chemical_potential) / T) > 50:\n",
    "        fun = 1.0 * (0.5 * sys_bath_coupling * (band_width**2)) / ((omega[0] + band_center)**2 + band_width**2)\\\n",
    "              / 10e+22\n",
    "    #print('C(w,t)',omega,t,fun)\n",
    "    return fun.imag\n",
    "\n",
    "def Jfermi_psd_real(omega):\n",
    "    omega = np.array([omega], dtype=np.float128)\n",
    "    fun = 1.0 * (0.5 * sys_bath_coupling * (band_width**2)) / ((omega[0] + band_center)**2 + band_width**2)\\\n",
    "          * fermi_by_pade(omega[0])\n",
    "    #print('C(w,t)',omega,t,fun)\n",
    "    return fun.real\n",
    "\n",
    "def Jfermi_psd_imag(omega):\n",
    "    omega = np.array([omega], dtype=np.float128)\n",
    "    fun = 1.0 * (0.5 * sys_bath_coupling * (band_width**2)) / ((omega[0] + band_center)**2 + band_width**2)\\\n",
    "          * fermi_by_pade(omega[0])\n",
    "    #print('C(w,t)',omega,t,fun)\n",
    "    return fun.imag\n",
    "\n",
    "def fermi_by_pade(omega):\n",
    "    result = 0.5\n",
    "    for j in range(num_pade):\n",
    "        result = result + tilde_eta[j] / (omega / T + pole[j]) \\\n",
    "                        + tilde_eta[j] / (omega / T - pole[j])\n",
    "    return result"
   ]
  },
  {
   "cell_type": "code",
   "execution_count": 2,
   "id": "80160519",
   "metadata": {},
   "outputs": [],
   "source": [
    "# the information of calculation paratemers\n",
    "hbar = 0.658211928\n",
    "omega_max = 100.0\n",
    "omega_min = -100.0\n",
    "omega_sample = 5000 + 1\n",
    "omega = np.linspace(omega_min, omega_max, omega_sample)\n",
    "\n",
    "time_max = 400.0\n",
    "time_min = -400.0\n",
    "time_sample = 4000 + 1\n",
    "tt = np.linspace(time_min, time_max, time_sample)\n",
    "\n",
    "tt_for_corr_min = 0.0\n",
    "tt_for_corr_max = 10.0\n",
    "time_sample_for_corr =  1000 + 1\n",
    "tt_for_corr = np.linspace(tt_for_corr_min, tt_for_corr_max, time_sample_for_corr)\n",
    "\n",
    "bath_corr_exact = np.zeros(time_sample_for_corr, dtype = complex)\n",
    "bath_corr_exact_real = np.zeros(time_sample_for_corr)\n",
    "bath_corr_exact_imag = np.zeros(time_sample_for_corr)\n",
    "bath_corr_psd = np.zeros(time_sample_for_corr, dtype=complex)"
   ]
  },
  {
   "cell_type": "code",
   "execution_count": 11,
   "id": "eeb133b7",
   "metadata": {},
   "outputs": [
    {
     "data": {
      "image/png": "[encoded data removed]",
      "text/plain": [
       "<Figure size 432x288 with 1 Axes>"
      ]
     },
     "metadata": {
      "needs_background": "light"
     },
     "output_type": "display_data"
    },
    {
     "data": {
      "image/png": "[encoded data removed]",
      "text/plain": [
       "<Figure size 432x288 with 1 Axes>"
      ]
     },
     "metadata": {
      "needs_background": "light"
     },
     "output_type": "display_data"
    },
    {
     "name": "stdout",
     "output_type": "stream",
     "text": [
      "spectral_pole \n",
      " (2+0j)\n",
      "spectral_eta \n",
      " (0.9232695124919383+0.2510375454853122j)\n"
     ]
    }
   ],
   "source": [
    "# the information of fermi funcaiton\n",
    "T = 0.02                 #eV\n",
    "chemical_potential = 0.0 #ev\n",
    "\n",
    "fermi = np.zeros(omega_sample)\n",
    "for i in range(omega_sample):\n",
    "    if ((omega[i] - chemical_potential) / (T)) <= 50 :\n",
    "        fermi[i] = 1.0 / ( 1.0 + np.exp( (omega[i] - chemical_potential) / (T) ) )\n",
    "    elif ((omega[i] - chemical_potential) / (T)) > 50 :\n",
    "        fermi[i] = 1.0 / 10e+22\n",
    "\n",
    "# the information of bath spectral funcation\n",
    "# the Lorentz type J(w) = 0.5 * sys_bath_coupling * band_width**2 / ( (w - band_center)**2 + band_width**2)\n",
    "sys_bath_coupling = 0.4  #eV, is equal to HEOM-QUICK\n",
    "band_width = 2.0         #eV\n",
    "band_center = 0.0        #eV\n",
    "bath_spectral = np.zeros(omega_sample, dtype=complex)\n",
    "bath_spectral = (sys_bath_coupling * (band_width**2)) / ((omega + band_center)**2 + band_width**2)\n",
    "spectral_diss_rate = (band_width - 1.j * band_center) / hbar\n",
    "spectral_eta = sys_bath_coupling * band_width \\\n",
    "                / ( 1.0 + np.exp((1.j * spectral_diss_rate - chemical_potential) * hbar / T )) / hbar**2\n",
    "\n",
    "plt.title(\"Bath spectral function\") \n",
    "plt.xlabel(\"frequency\") \n",
    "plt.ylabel(\"J(w)\") \n",
    "plt.plot(omega, bath_spectral.real, label = 'J(w)')\n",
    "plt.legend(loc=1)\n",
    "plt.show()\n",
    "\n",
    "plt.title(\"Fermi funcaiton for alectron\") \n",
    "plt.xlabel(\"frequency\") \n",
    "plt.ylabel(\"F(w)\") \n",
    "plt.plot(omega, fermi.real, label = 'F(w)')\n",
    "plt.legend(loc=1)\n",
    "plt.show()\n",
    "\n",
    "print('spectral_pole \\n', spectral_diss_rate * hbar)\n",
    "print('spectral_eta \\n', spectral_eta)\n",
    "\n",
    "\n",
    "#the Matsubara scheme\n",
    "#num_mats = 1001\n",
    "#mats = np.linspace(-(num_mats - 1)/2, (num_mats - 1)/2, num_mats, dtype = np.complex128)\n",
    "#fermi_mats = np.zeros(omega_sample, dtype = np.complex128)\n",
    "#bath_corr_msd = np.zeros(time_sample, dtype=np.complex128)\n",
    "\n",
    "# for i in range(num_mats):\n",
    "#     mats[i] = (mats[i] * 2 + 1) * np.pi * complex(0,1.0)\n",
    "\n",
    "# for i in range(omega_sample):\n",
    "#     fermi_mats[i] = 0.5\n",
    "#     for j in range(num_mats):\n",
    "#        fermi_mats[i] = fermi_mats[i] + 1.0 / (mats[j] - omega[i]/T)"
   ]
  },
  {
   "cell_type": "code",
   "execution_count": 12,
   "id": "6f9da4f6",
   "metadata": {
    "scrolled": true
   },
   "outputs": [
    {
     "data": {
      "image/png": "[encoded data removed]",
      "text/plain": [
       "<Figure size 432x288 with 1 Axes>"
      ]
     },
     "metadata": {
      "needs_background": "light"
     },
     "output_type": "display_data"
    }
   ],
   "source": [
    "#the Pade scheme\n",
    "num_pade = 20\n",
    "b = np.zeros(2 * num_pade)\n",
    "mat_xi = np.zeros((2 * num_pade, 2 * num_pade))\n",
    "mat_varsigma = np.zeros((2 * num_pade - 1, 2 * num_pade - 1))\n",
    "tilde_eta = np.zeros(num_pade, dtype = complex)         # namely cpcoef in evaluatepara.f90 \n",
    "pole = np.zeros(num_pade, dtype = complex)              # namely cppole in evaluatepara.f90\n",
    "eta = np.zeros(num_pade, dtype = complex)               # namely cb in evaluatepara.f90\n",
    "diss_rate = np.zeros(num_pade, dtype = complex)         # namely cgamma in evaluatepara.f90\n",
    "\n",
    "\n",
    "for i in range(2 * num_pade):\n",
    "    b[i] = 2 * (i) + 1\n",
    "\n",
    "for i in range(2 * num_pade):\n",
    "    for j in range(2 * num_pade):\n",
    "        if (i == j-1 or i == j+1) :\n",
    "            mat_xi[i,j] = 1.0 / np.sqrt(b[i] * b[j])\n",
    "\n",
    "eigval_xi, eigvec_xi = np.linalg.eig(mat_xi) \n",
    "eigval_xi = np.sort(eigval_xi)\n",
    "            \n",
    "for i in range(2 * num_pade -1):\n",
    "    for j in range(2 * num_pade -1):\n",
    "        if (i == j-1 or i == j+1) :\n",
    "            mat_varsigma[i,j] = 1.0 / np.sqrt(b[i+1] * b[j+1])\n",
    "\n",
    "eigval_varsigma, eigvec_varsigma = np.linalg.eig(mat_varsigma)\n",
    "eigval_varsigma = np.sort(eigval_varsigma)\n",
    "\n",
    "\n",
    "for i in range(num_pade):\n",
    "    pole[i] = (0. +2.j) / abs(eigval_xi[i])\n",
    "    eigval_xi[i] = 4.0 / eigval_xi[i]**2\n",
    "for i in range(num_pade-1):\n",
    "    eigval_varsigma[i] = 4.0 / eigval_varsigma[i]**2\n",
    "\n",
    "for i in range(num_pade):\n",
    "    tilde_eta[i] = 0.5 * num_pade * (2 * num_pade + 1)\n",
    "    for j in range(i):\n",
    "        tilde_eta[i] = tilde_eta[i] * (eigval_varsigma[j] - eigval_xi[i]) / (eigval_xi[j] - eigval_xi[i])\n",
    "    for j in range(i+1,num_pade):\n",
    "        tilde_eta[i] = tilde_eta[i] * (eigval_varsigma[j-1] - eigval_xi[i]) / (eigval_xi[j] - eigval_xi[i])\n",
    "    tilde_eta[i] = (-1. +0.j) * tilde_eta[i]\n",
    "\n",
    "fermi_pade = np.zeros(omega_sample, dtype = np.complex128)\n",
    "for i in range(omega_sample):\n",
    "    fermi_pade[i] = 0.5\n",
    "    for j in range(num_pade):\n",
    "        fermi_pade[i] = fermi_pade[i] + tilde_eta[j] / (omega[i] / T + pole[j]) \\\n",
    "                                      + tilde_eta[j] / (omega[i] / T - pole[j])\n",
    "\n",
    "        \n",
    "plt.title(\"Fermi function\") \n",
    "plt.xlabel(\"frequency\") \n",
    "plt.ylabel(\"f(w)\") \n",
    "plt.plot(omega, fermi, label = 'exact')\n",
    "#plt.plot(omega, fermi_mats.real, label = 'Matsubara', linestyle = '--')\n",
    "plt.plot(omega, fermi_pade.real, label = 'Pade', linestyle = '-.')\n",
    "plt.legend(loc=1)\n",
    "plt.show()"
   ]
  },
  {
   "cell_type": "code",
   "execution_count": 13,
   "id": "93348ad9",
   "metadata": {},
   "outputs": [
    {
     "name": "stdout",
     "output_type": "stream",
     "text": [
      "spectral_diss_rate:  (-2+0j)\n",
      "spectral_eta  (0.46163475624596917-1.7107075774668585j)\n",
      "pade_diss_rate \n",
      " [ -0.06283185+0.j  -0.18849556+0.j  -0.31415927+0.j  -0.43982297+0.j\n",
      "  -0.56548668+0.j  -0.69115038+0.j  -0.81681409+0.j  -0.9424778 +0.j\n",
      "  -1.0681415 +0.j  -1.19380535+0.j  -1.31949279+0.j  -1.44619637+0.j\n",
      "  -1.58443278+0.j  -1.76495399+0.j  -2.02608389+0.j  -2.42072165+0.j\n",
      "  -3.05905273+0.j  -4.22944946+0.j  -6.99190012+0.j -20.89157037+0.j]\n",
      "pade_eta \n",
      " [0.-0.01848363j 0.-0.01863088j 0.-0.01893253j 0.-0.01940378j\n",
      " 0.-0.02006985j 0.-0.02096963j 0.-0.02216192j 0.-0.02373645j\n",
      " 0.-0.02583409j 0.-0.0286862j  0.-0.03272508j 0.-0.03973257j\n",
      " 0.-0.06039882j 0.-0.14225723j 0.+1.77002799j 0.+0.15481247j\n",
      " 0.+0.0909147j  0.+0.0697597j  0.+0.06048296j 0.+0.05673243j]\n"
     ]
    }
   ],
   "source": [
    "# Here we test the nalf = 1, spin = ↑, norbs = 1 and nsgn = (+ or 1). \n",
    "# the coefficients eta and gamma only sum over the number of poles.\n",
    "\n",
    "for i in range(num_pade):\n",
    "    diss_rate[i] = -1.j * T * pole[i] / hbar\n",
    "    eta[i] = 2.j * tilde_eta[i] * sys_bath_coupling * 0.5 * band_width**2 * T \\\n",
    "             / ( (pole[i] * T - band_center)**2 + band_width**2 ) / hbar**2\n",
    "\n",
    "spectral_diss_rate = (band_width - 1.j * band_center) / hbar\n",
    "spectral_eta = 0.5 * sys_bath_coupling * band_width \\\n",
    "                   * fermi_by_pade((1.j * spectral_diss_rate - chemical_potential) * hbar) / hbar**2\n",
    "\n",
    "\n",
    "print('spectral_diss_rate: ', -1 * spectral_diss_rate * hbar)\n",
    "print('spectral_eta ', spectral_eta)\n",
    "\n",
    "print('pade_diss_rate \\n', -1 * diss_rate * hbar)\n",
    "print('pade_eta \\n', eta)\n"
   ]
  },
  {
   "cell_type": "code",
   "execution_count": null,
   "id": "8e83097b",
   "metadata": {},
   "outputs": [],
   "source": [
    "# compare the pade results and the exact correlation function in time domain\n",
    "# exact results\n",
    "for i in range(time_sample_for_corr):\n",
    "    #bath_corr_exact[i] = gauss_Legendre_integral(fdt, down_limit = -20, upper_limit = 20, interval = 100, t=tt_for_corr[i])\n",
    "    bath_corr_exact_real[i],err = integrate.quad(fdt_real, a = -100, b = 100, args=(tt_for_corr[i]), limit = 20000)\n",
    "    bath_corr_exact_imag[i],err = integrate.quad(fdt_imag, a = -200, b = 200, args=(tt_for_corr[i]), limit = 10000)\n",
    "    bath_corr_exact[i] = complex(bath_corr_exact_real[i], bath_corr_exact_imag[i])\n",
    "    #print(bath_corr_exact[i])\n",
    "\n",
    "print('Done!')"
   ]
  },
  {
   "cell_type": "code",
   "execution_count": null,
   "id": "40a8daed",
   "metadata": {},
   "outputs": [],
   "source": [
    "# pade results\n",
    "for i in range(time_sample_for_corr):\n",
    "    for j in range(num_pade):\n",
    "        bath_corr_psd[i] = bath_corr_psd[i] + eta[j] * np.exp(-1 * diss_rate[j] * hbar * tt_for_corr[i])\n",
    "    bath_corr_psd[i] = bath_corr_psd[i] + spectral_eta * np.exp(-1 * spectral_diss_rate * hbar * tt_for_corr[i])\n",
    "\n",
    "print('Done!')"
   ]
  },
  {
   "cell_type": "code",
   "execution_count": null,
   "id": "8bc51c4e",
   "metadata": {},
   "outputs": [],
   "source": [
    "plt.title(\"correlation function\") \n",
    "plt.xlabel(\"time\") \n",
    "plt.ylabel(\"C(t)\") \n",
    "plt.plot(tt_for_corr, bath_corr_psd.real, label = 'Pade_real') \n",
    "plt.plot(tt_for_corr, bath_corr_psd.imag, label = 'Pade_image') \n",
    "plt.plot(tt_for_corr, bath_corr_exact_real, label = 'exact_real', linestyle = '-.') \n",
    "plt.plot(tt_for_corr, bath_corr_exact_imag, label = 'exact_imag', linestyle = '-.') \n",
    "plt.legend(loc=1) \n",
    "plt.show()"
   ]
  },
  {
   "cell_type": "code",
   "execution_count": 33,
   "id": "8d4f2657",
   "metadata": {},
   "outputs": [],
   "source": [
    "'''bath_corr_1_freq = np.fft.fft(bath_corr_psd)\n",
    "freq_1 = np.fft.fftfreq( time_sample_for_corr, (tt_for_corr_max - tt_for_corr_min) /time_sample_for_corr )\n",
    "eng_1 = len(tt_for_corr)\n",
    "\n",
    "fourier_psd = np.zeros(time_sample_for_corr)\n",
    "bath_corr_psd_freq_fourier = np.zeros(time_sample_for_corr, dtype=complex)\n",
    "mark = int ((time_sample_for_corr-1) / 2)\n",
    "\n",
    "fourier_psd[:mark] = freq_1[mark+1:]\n",
    "fourier_psd[mark:] = freq_1[:mark+1]\n",
    "\n",
    "bath_corr_psd_freq_fourier[:mark] = bath_corr_1_freq[mark+1:]\n",
    "bath_corr_psd_freq_fourier[mark:] = bath_corr_1_freq[:mark+1]\n",
    "\n",
    "\n",
    "bath_corr_2_freq = np.fft.fft(bath_corr_exact)\n",
    "freq_2 = np.fft.fftfreq( time_sample_for_corr, (tt_for_corr_max - tt_for_corr_min) /time_sample_for_corr )\n",
    "leng_exact = len(tt)\n",
    "\n",
    "fourier_exact = np.zeros(time_sample_for_corr)\n",
    "bath_corr_exact_freq_fourier = np.zeros(time_sample_for_corr, dtype=complex)\n",
    "\n",
    "fourier_exact[:mark] = freq_2[mark+1:]\n",
    "fourier_exact[mark:] = freq_2[: mark+1]\n",
    "\n",
    "bath_corr_exact_freq_fourier[:mark] = bath_corr_2_freq[mark+1:]\n",
    "bath_corr_exact_freq_fourier[mark:] = bath_corr_2_freq[:mark+1]'''\n",
    "\n",
    "omega_max_freq = 100.0\n",
    "omega_min_freq = -100.0\n",
    "omega_sample_freq = 2000 + 1\n",
    "omega_freq = np.linspace(omega_min_freq, omega_max_freq, omega_sample_freq)\n",
    "\n",
    "\n",
    "bath_corr_psd_freq = np.zeros(omega_sample_freq, dtype = complex)\n",
    "bath_corr_exact_freq = np.zeros(omega_sample_freq, dtype = complex)\n",
    "\n",
    "for i in range(omega_sample_freq):\n",
    "    bath_corr_psd_freq[i] = complex(Jfermi_psd_real(omega_freq[i]), Jfermi_psd_imag(omega_freq[i]))\n",
    "    bath_corr_exact_freq[i] = complex(Jfermi_exact_real(omega_freq[i]), Jfermi_exact_imag(omega_freq[i]))"
   ]
  },
  {
   "cell_type": "code",
   "execution_count": 37,
   "id": "b26329b4",
   "metadata": {},
   "outputs": [
    {
     "data": {
      "image/png": "[encoded data removed]",
      "text/plain": [
       "<Figure size 432x288 with 1 Axes>"
      ]
     },
     "metadata": {
      "needs_background": "light"
     },
     "output_type": "display_data"
    }
   ],
   "source": [
    "plt.title(\"correlation function\") \n",
    "plt.xlabel(\"ω / Γ\") \n",
    "plt.ylabel(\"C(ω)\")\n",
    "plt.plot(omega_freq[800:1200]/(sys_bath_coupling/2), bath_corr_psd_freq[800:1200].real/max(bath_corr_psd_freq.real) , label = 'Pade_real')\n",
    "plt.plot(omega_freq[800:1200]/(sys_bath_coupling/2), bath_corr_exact_freq[800:1200].real/max(bath_corr_exact_freq.real) , label = 'exact_real', linestyle = '-.')\n",
    "#plt.plot(fourier_psd/(sys_bath_coupling/2), bath_corr_psd_freq_fourier.real/max(bath_corr_psd_freq_fourier.real) , label = 'Pade_real_Fourier')\n",
    "#plt.plot(fourier_exact/(sys_bath_coupling/2), bath_corr_exact_freq_fourier.real/max(bath_corr_exact_freq_fourier.real) , label = 'exact_real_Fourier', linestyle = '--')\n",
    "plt.legend(loc=1)\n",
    "plt.show()"
   ]
  }
 ],
 "metadata": {
  "kernelspec": {
   "display_name": "Python 3",
   "language": "python",
   "name": "python3"
  },
  "language_info": {
   "codemirror_mode": {
    "name": "ipython",
    "version": 3
   },
   "file_extension": ".py",
   "mimetype": "text/x-python",
   "name": "python",
   "nbconvert_exporter": "python",
   "pygments_lexer": "ipython3",
   "version": "3.8.8"
  }
 },
 "nbformat": 4,
 "nbformat_minor": 5
}
