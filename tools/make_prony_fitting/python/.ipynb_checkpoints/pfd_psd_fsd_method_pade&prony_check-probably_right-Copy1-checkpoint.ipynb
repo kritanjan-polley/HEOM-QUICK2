{
 "cells": [
  {
   "cell_type": "code",
   "execution_count": 1,
   "id": "fc2a91a2",
   "metadata": {},
   "outputs": [],
   "source": [
    "import numpy as np\n",
    "from scipy import integrate, linalg, optimize\n",
    "from matplotlib import pyplot as plt \n",
    "\n",
    "def takagi_chen(H):\n",
    "    # takagi factoriziation part\n",
    "    sing_vs, Q = linalg.eigh(H)\n",
    "    print(\"Q\\n\")\n",
    "    print(Q[0,:4])\n",
    "    print(Q[1,:4])\n",
    "    print(Q[2,:4])\n",
    "    print(Q[3,:4])\n",
    "    print()\n",
    "    phase_mat = np.diag(\n",
    "                [np.exp(-1.j * np.angle(sing_v) / 2.0) for sing_v in sing_vs])\n",
    "    vs = np.array([np.abs(sing_v) for sing_v in sing_vs])\n",
    "    Qp = np.dot(Q, phase_mat)\n",
    "    sort_array = np.argsort(vs)[::-1]\n",
    "    vs = vs[sort_array]\n",
    "    Qp = (Qp[:, sort_array])\n",
    "    \n",
    "    \n",
    "    return vs, Qp\n",
    "\n",
    "def takagi_stra(N, tol=1e-13, rounding=13):\n",
    "    r\"\"\"Autonne-Takagi decomposition of a complex symmetric (not Hermitian!) matrix.\n",
    "\n",
    "    Note that singular values of N are considered equal if they are equal after np.round(values, tol).\n",
    "\n",
    "    See :cite:`cariolaro2016` and references therein for a derivation.\n",
    "\n",
    "    Args:\n",
    "        N (array[complex]): square, symmetric matrix N\n",
    "        rounding (int): the number of decimal places to use when rounding the singular values of N\n",
    "        tol (float): the tolerance used when checking if the input matrix is symmetric: :math:`|N-N^T| <` tol\n",
    "\n",
    "    Returns:\n",
    "        tuple[array, array]: (rl, U), where rl are the (rounded) singular values,\n",
    "            and U is the Takagi unitary, such that :math:`N = U \\diag(rl) U^T`.\n",
    "    \"\"\"\n",
    "    (n, m) = N.shape\n",
    "    if n != m:\n",
    "        raise ValueError(\"The input matrix must be square\")\n",
    "    if np.linalg.norm(N - np.transpose(N)) >= tol:\n",
    "        raise ValueError(\"The input matrix is not symmetric\")\n",
    "\n",
    "    N = np.real_if_close(N)\n",
    "\n",
    "    if np.allclose(N, 0):\n",
    "        return np.zeros(n), np.eye(n)\n",
    "\n",
    "    if np.isrealobj(N):\n",
    "        # If the matrix N is real one can be more clever and use its eigendecomposition\n",
    "        l, U = np.linalg.eigh(N)\n",
    "        vals = np.abs(l)  # These are the Takagi eigenvalues\n",
    "        phases = np.sqrt(np.complex128([1 if i > 0 else -1 for i in l]))\n",
    "        Uc = U @ np.diag(phases)  # One needs to readjust the phases\n",
    "        list_vals = [(vals[i], i) for i in range(len(vals))]\n",
    "        list_vals.sort(reverse=True)\n",
    "        sorted_l, permutation = zip(*list_vals)\n",
    "        permutation = np.array(permutation)\n",
    "        Uc = Uc[:, permutation]\n",
    "        # And also rearrange the unitary and values so that they are decreasingly ordered\n",
    "        return np.array(sorted_l), Uc\n",
    "\n",
    "    v, l, ws = np.linalg.svd(N)\n",
    "    w = np.transpose(np.conjugate(ws))\n",
    "    rl = np.round(l, rounding)\n",
    "\n",
    "    # Generate list with degenerancies\n",
    "    result = []\n",
    "    for k, g in groupby(rl):\n",
    "        result.append(list(g))\n",
    "\n",
    "    # Generate lists containing the columns that correspond to degenerancies\n",
    "    kk = 0\n",
    "    for k in result:\n",
    "        for ind, j in enumerate(k):  # pylint: disable=unused-variable\n",
    "            k[ind] = kk\n",
    "            kk = kk + 1\n",
    "\n",
    "    # Generate the lists with the degenerate column subspaces\n",
    "    vas = []\n",
    "    was = []\n",
    "    for i in result:\n",
    "        vas.append(v[:, i])\n",
    "        was.append(w[:, i])\n",
    "\n",
    "    # Generate the matrices qs of the degenerate subspaces\n",
    "    qs = []\n",
    "    for i in range(len(result)):\n",
    "        qs.append(sqrtm(np.transpose(vas[i]) @ was[i]))\n",
    "\n",
    "    # Construct the Takagi unitary\n",
    "    qb = block_diag(*qs)\n",
    "\n",
    "    U = v @ np.conj(qb)\n",
    "    return rl, U\n",
    "\n",
    "def psd(npade):\n",
    "    \n",
    "    b = np.zeros(2 * npade)\n",
    "    mat_xi = np.zeros((2 * npade, 2 * npade))\n",
    "    mat_varsigma = np.zeros((2 * npade - 1, 2 * npade - 1))\n",
    "    tilde_eta_ = np.zeros(npade, dtype = complex)         # namely cpcoef in evaluatepara.f90\n",
    "    pole_ = np.zeros(npade, dtype = complex)              # namely cppole in evaluatepara.f90\n",
    "\n",
    "    for i in range(2 * npade):\n",
    "        b[i] = 2 * (i) + 1\n",
    "\n",
    "    for i in range(2 * npade):\n",
    "        for j in range(2 * npade):\n",
    "            if (i == j-1 or i == j+1) :\n",
    "                mat_xi[i,j] = 1.0 / np.sqrt(b[i] * b[j])\n",
    "\n",
    "    eigval_xi, eigvec_xi = np.linalg.eig(mat_xi) \n",
    "    eigval_xi = np.sort(eigval_xi)\n",
    "            \n",
    "    for i in range(2 * npade - 1):\n",
    "        for j in range(2 * npade -1):\n",
    "            if (i == j-1 or i == j+1) :\n",
    "                mat_varsigma[i,j] = 1.0 / np.sqrt(b[i+1] * b[j+1])\n",
    "\n",
    "    eigval_varsigma, eigvec_varsigma = np.linalg.eig(mat_varsigma)\n",
    "    eigval_varsigma = np.sort(eigval_varsigma)\n",
    "\n",
    "    for i in range(npade):\n",
    "        pole_[i] = (0. +2.j) / abs(eigval_xi[i])\n",
    "        eigval_xi[i] = 4.0 / eigval_xi[i]**2\n",
    "    for i in range(npade-1):\n",
    "        eigval_varsigma[i] = 4.0 / eigval_varsigma[i]**2\n",
    "\n",
    "    for i in range(npade):\n",
    "        tilde_eta_[i] = 0.5 * npade * (2 * npade + 1)\n",
    "        for j in range(i):\n",
    "            tilde_eta_[i] = tilde_eta_[i] * (eigval_varsigma[j] - eigval_xi[i]) / (eigval_xi[j] - eigval_xi[i])\n",
    "        for j in range(i+1,npade):\n",
    "            tilde_eta_[i] = tilde_eta_[i] * (eigval_varsigma[j-1] - eigval_xi[i]) / (eigval_xi[j] - eigval_xi[i])\n",
    "        tilde_eta_[i] = (-1. + 0.j) * tilde_eta_[i]\n",
    "    \n",
    "    return pole_, tilde_eta_\n",
    "\n",
    "def fdt_real(omega, t):\n",
    "    t = np.array([t], dtype=np.float128)\n",
    "    if ((omega - chemical_potential) / T) <= 50:\n",
    "        fun = np.exp(1.j * omega * t[0]) \\\n",
    "              * (0.5 * sys_bath_coupling * (band_width**2)) / ((omega - band_center)**2 + band_width**2)\\\n",
    "              / (1.0 + np.exp( (omega - chemical_potential) / T ))\n",
    "    elif ((omega - chemical_potential) / T) > 50:\n",
    "        fun = np.exp(1.j * omega * t[0]) \\\n",
    "              * (0.5 * sys_bath_coupling * (band_width**2)) / ((omega - band_center)**2 + band_width**2)\\\n",
    "              / 10e+22\n",
    "    #print('C(w,t)',omega,t,fun)\n",
    "    return fun.real\n",
    "\n",
    "def fdt_imag(omega, t):\n",
    "    t = np.array([t], dtype=np.float128)\n",
    "    if ((omega - chemical_potential) / T) <= 50:\n",
    "        fun = np.exp(1.j * omega * t[0]) \\\n",
    "              * (0.5 * sys_bath_coupling * (band_width**2)) / ((omega - band_center)**2 + band_width**2)\\\n",
    "              / (1.0 + np.exp( (omega - chemical_potential) / T ))\n",
    "    elif ((omega - chemical_potential) / T) > 50:\n",
    "        fun = np.exp(1.j * omega * t[0]) \\\n",
    "              * (0.5 * sys_bath_coupling * (band_width**2)) / ((omega - band_center)**2 + band_width**2)\\\n",
    "              / 10e+22\n",
    "    #print('C(w,t)',omega,t,fun)\n",
    "    return fun.imag\n",
    "\n",
    "def Jfermi_exact(omega):\n",
    "    if ((omega - chemical_potential) / T) <= 50:\n",
    "        fun = 1.0 * (0.5 * sys_bath_coupling * (band_width**2)) / (((omega - chemical_potential) - band_center)**2 + band_width**2)\\\n",
    "              / (1.0 + np.exp( (omega - chemical_potential) / T ))\n",
    "    elif ((omega - chemical_potential) / T) > 50:\n",
    "        fun = 1.0 * (0.5 * sys_bath_coupling * (band_width**2)) / (((omega - chemical_potential) - band_center)**2 + band_width**2)\\\n",
    "              / 10e+22\n",
    "    #print('C(w,t)',omega,t,fun)\n",
    "    return fun\n",
    "\n",
    "def fermi_by_pade(omega):\n",
    "    result = 0.5\n",
    "    for j in range(num_pade):\n",
    "        result = result + tilde_eta[j] / (omega / T + pole[j]) \\\n",
    "                        + tilde_eta[j] / (omega / T - pole[j])\n",
    "    return result\n",
    "\n",
    "def J_fit(omega, rate, eta):\n",
    "    fun = 0\n",
    "    for i in range(len(rate)):\n",
    "        fun = fun + eta[i] / (rate[i] + 1.j * omega )\n",
    "#         if omega == 11.0:\n",
    "#             print(\"i\",i)\n",
    "#             print(\"omega\", omega, \"fun\", fun)\n",
    "#             print(\"eta\", eta[i], \"rate\", rate[i]) \n",
    "#             print(\"value\", eta[i] / (rate[i] + 1.j * omega ))\n",
    "#             print()\n",
    "    return fun"
   ]
  },
  {
   "cell_type": "code",
   "execution_count": 2,
   "id": "80160519",
   "metadata": {},
   "outputs": [
    {
     "name": "stdout",
     "output_type": "stream",
     "text": [
      "Done!\n"
     ]
    }
   ],
   "source": [
    "# the information of calculation paratemers\n",
    "hbar = 0.658211928\n",
    "omega_max = 100.0\n",
    "omega_min = -100.0\n",
    "omega_sample = 5000 + 1\n",
    "sigma = -1\n",
    "omega = np.linspace(omega_min, omega_max, omega_sample)\n",
    "\n",
    "time_max = 400.0\n",
    "time_min = -400.0\n",
    "time_sample = 4000 + 1\n",
    "tt = np.linspace(time_min, time_max, time_sample)\n",
    "\n",
    "tt_for_corr_min = 0.0\n",
    "tt_for_corr_max = 10.0\n",
    "time_sample_for_corr =  1000 + 1\n",
    "tt_for_corr = np.linspace(tt_for_corr_min, tt_for_corr_max, time_sample_for_corr)\n",
    "\n",
    "bath_corr_psd = np.zeros(time_sample_for_corr, dtype=complex)\n",
    "bath_corr_exact = np.zeros(time_sample_for_corr, dtype = complex)\n",
    "bath_corr_exact_real = np.zeros(time_sample_for_corr)\n",
    "bath_corr_exact_imag = np.zeros(time_sample_for_corr)\n",
    "bath_corr_exact_freq = np.zeros(omega_sample, dtype = complex)\n",
    "\n",
    "print('Done!')"
   ]
  },
  {
   "cell_type": "code",
   "execution_count": 3,
   "id": "eeb133b7",
   "metadata": {
    "scrolled": false
   },
   "outputs": [
    {
     "data": {
      "image/png": "[encoded data removed]",
      "text/plain": [
       "<Figure size 432x288 with 1 Axes>"
      ]
     },
     "metadata": {
      "needs_background": "light"
     },
     "output_type": "display_data"
    },
    {
     "data": {
      "image/png": "[encoded data removed]",
      "text/plain": [
       "<Figure size 432x288 with 1 Axes>"
      ]
     },
     "metadata": {
      "needs_background": "light"
     },
     "output_type": "display_data"
    },
    {
     "data": {
      "image/png": "[encoded data removed]",
      "text/plain": [
       "<Figure size 432x288 with 1 Axes>"
      ]
     },
     "metadata": {
      "needs_background": "light"
     },
     "output_type": "display_data"
    },
    {
     "name": "stdout",
     "output_type": "stream",
     "text": [
      "spectral_pole \n",
      " (4-10j)\n",
      "spectral_eta \n",
      " (6.409347693362035e-218+1.1488931893519933e-217j)\n"
     ]
    }
   ],
   "source": [
    "# the information of fermi funcaiton\n",
    "T = 0.02                 #eV\n",
    "chemical_potential = 0.0 #ev\n",
    "\n",
    "fermi = np.zeros(omega_sample)\n",
    "for i in range(omega_sample):\n",
    "    if ((omega[i] - chemical_potential) / (T)) <= 50 :\n",
    "        fermi[i] = 1.0 / ( 1.0 + np.exp( (omega[i] - chemical_potential) / (T) ) )\n",
    "    elif ((omega[i] - chemical_potential) / (T)) > 50 :\n",
    "        fermi[i] = 1.0 / 10e+22\n",
    "\n",
    "# the information of bath spectral funcation\n",
    "# the Lorentz type J(w) = 0.5 * sys_bath_coupling * band_width**2 / ( (w + band_center)**2 + band_width**2)\n",
    "sys_bath_coupling = 0.4  #eV, is equal to HEOM-QUICK\n",
    "band_width = 4.0         #eV\n",
    "band_center = 10.0       #eV\n",
    "\n",
    "bath_spectral = np.zeros(omega_sample, dtype=complex)\n",
    "bath_spectral = (0.5 * sys_bath_coupling * (band_width**2)) / ((omega - band_center)**2 + band_width**2)\n",
    "spectral_diss_rate = (band_width - 1.j * sigma * band_center) / hbar\n",
    "spectral_eta = 0.5 * sys_bath_coupling * band_width \\\n",
    "                / ( 1.0 + np.exp((sigma * band_center + 1.j * band_width) / T )) / hbar**2\n",
    "\n",
    "plt.title(\"Bath spectral function\") \n",
    "plt.xlabel(\"frequency\") \n",
    "plt.ylabel(\"J(w)\") \n",
    "plt.plot(omega, bath_spectral.real, label = 'J(w)')\n",
    "plt.legend(loc=1)\n",
    "plt.show()\n",
    "\n",
    "plt.title(\"Fermi funcaiton for electron\") \n",
    "plt.xlabel(\"frequency\") \n",
    "plt.ylabel(\"F(w)\") \n",
    "plt.plot(omega, fermi.real, label = 'F(w)')\n",
    "plt.legend(loc=1)\n",
    "plt.show()\n",
    "\n",
    "plt.title(\"spectrum funcaiton for electron\") \n",
    "plt.xlabel(\"frequency\") \n",
    "plt.ylabel(\"j * F(w)\") \n",
    "plt.plot(omega, bath_spectral.real * fermi.real, label = 'J * F(w)')\n",
    "plt.legend(loc=1)\n",
    "plt.show()\n",
    "\n",
    "\n",
    "bath_corr_exact_freq = bath_spectral * fermi\n",
    "\n",
    "print('spectral_pole \\n', spectral_diss_rate * hbar)\n",
    "print('spectral_eta \\n', spectral_eta)\n"
   ]
  },
  {
   "cell_type": "code",
   "execution_count": 4,
   "id": "6f9da4f6",
   "metadata": {
    "scrolled": true
   },
   "outputs": [
    {
     "data": {
      "image/png": "[encoded data removed]",
      "text/plain": [
       "<Figure size 432x288 with 1 Axes>"
      ]
     },
     "metadata": {
      "needs_background": "light"
     },
     "output_type": "display_data"
    }
   ],
   "source": [
    "#the Pade scheme\n",
    "num_pade = 20\n",
    "tilde_eta = np.zeros(num_pade, dtype = complex)         # namely cpcoef in evaluatepara.f90 \n",
    "pole = np.zeros(num_pade, dtype = complex)              # namely cppole in evaluatepara.f90\n",
    "\n",
    "pole, tilde_eta = psd(num_pade)\n",
    "\n",
    "fermi_pade = np.zeros(omega_sample, dtype = np.complex128)\n",
    "for i in range(omega_sample):\n",
    "    fermi_pade[i] = 0.5\n",
    "    for j in range(num_pade):\n",
    "        fermi_pade[i] = fermi_pade[i] + tilde_eta[j] / ((omega[i] - chemical_potential) / T + pole[j]) \\\n",
    "                                      + tilde_eta[j] / ((omega[i] - chemical_potential) / T - pole[j])\n",
    "\n",
    "\n",
    "plt.title(\"Fermi function\") \n",
    "plt.xlabel(\"frequency\") \n",
    "plt.ylabel(\"f(w)\") \n",
    "plt.plot(omega, fermi, label = 'exact')\n",
    "#plt.plot(omega, fermi_mats.real, label = 'Matsubara', linestyle = '--')\n",
    "plt.plot(omega, fermi_pade.real, label = 'Pade', linestyle = '-.')\n",
    "plt.legend(loc=1)\n",
    "plt.xlim(chemical_potential-50,chemical_potential+50)\n",
    "plt.show()"
   ]
  },
  {
   "cell_type": "code",
   "execution_count": 5,
   "id": "93348ad9",
   "metadata": {},
   "outputs": [
    {
     "name": "stdout",
     "output_type": "stream",
     "text": [
      "pade_diss_rate \n",
      " [ -4.        +10.j  -0.06283185 +0.j  -0.18849556 +0.j  -0.31415927 +0.j\n",
      "  -0.43982297 +0.j  -0.56548668 +0.j  -0.69115038 +0.j  -0.81681409 +0.j\n",
      "  -0.9424778  +0.j  -1.0681415  +0.j  -1.19380535 +0.j  -1.31949279 +0.j\n",
      "  -1.44619637 +0.j  -1.58443278 +0.j  -1.76495399 +0.j  -2.02608389 +0.j\n",
      "  -2.42072165 +0.j  -3.05905273 +0.j  -4.22944946 +0.j  -6.99190012 +0.j\n",
      " -20.89157037 +0.j]\n",
      "pade_eta \n",
      " [-4.08253014e-03+0.00506708j  2.75899525e-05-0.00254674j\n",
      "  8.27372269e-05-0.00254504j  1.37786677e-04-0.00254165j\n",
      "  1.92673311e-04-0.00253657j  2.47332473e-04-0.00252981j\n",
      "  3.01699978e-04-0.00252138j  3.55712247e-04-0.0025113j\n",
      "  4.09306436e-04-0.00249958j  4.62420578e-04-0.00248624j\n",
      "  5.14997192e-04-0.00247133j  5.67454654e-04-0.00245688j\n",
      "  6.35201104e-04-0.00250156j  8.21367876e-04-0.00294164j\n",
      "  1.27064010e-03-0.00406345j  2.12736956e-03-0.00587444j\n",
      "  3.85226572e-03-0.00876369j  7.88624369e-03-0.01374619j\n",
      "  1.95345010e-02-0.02265737j  6.31190433e-02-0.03029312j\n",
      "  1.47884768e-01+0.1134209j ]\n",
      "pade_eta * hbar**2 \n",
      " [-1.76872737e-03+0.00219528j  1.19531522e-05-0.00110336j\n",
      "  3.58453196e-05-0.00110262j  5.96951053e-05-0.00110115j\n",
      "  8.34743520e-05-0.00109895j  1.07155048e-04-0.00109602j\n",
      "  1.30709386e-04-0.00109237j  1.54109820e-04-0.001088j\n",
      "  1.77329124e-04-0.00108293j  2.00340452e-04-0.00107715j\n",
      "  2.23118899e-04-0.00107069j  2.45845724e-04-0.00106443j\n",
      "  2.75196395e-04-0.00108378j  3.55851835e-04-0.00127445j\n",
      "  5.50495857e-04-0.00176046j  9.21667845e-04-0.00254506j\n",
      "  1.66896694e-03-0.00379681j  3.41665942e-03-0.00595544j\n",
      "  8.46318470e-03-0.00981615j  2.73458800e-02-0.01312428j\n",
      "  6.40700319e-02+0.0491388j ]\n"
     ]
    }
   ],
   "source": [
    "# Here we test the nalf = 1, spin = ↑, norbs = 1 and nsgn = (+ or 1). \n",
    "# the coefficients eta and gamma only sum over the number of poles.\n",
    "eta_pade = np.zeros(num_pade + 1, dtype = complex)               # namely cb in evaluatepara.f90\n",
    "diss_rate_pade = np.zeros(num_pade + 1, dtype = complex)         # namely cgamma in evaluatepara.f90\n",
    "\n",
    "spectral_diss_rate_pade = (band_width - sigma * 1.j * band_center) / hbar\n",
    "spectral_eta_pade = (0.5 * sys_bath_coupling) * band_width \\\n",
    "                   * fermi_by_pade((1.j * spectral_diss_rate - sigma * chemical_potential) * hbar) / hbar**2\n",
    "\n",
    "diss_rate_pade[0] = spectral_diss_rate_pade\n",
    "eta_pade[0] = spectral_eta_pade\n",
    "\n",
    "for i in range(1, num_pade + 1):\n",
    "    diss_rate_pade[i] = (-1.j * sigma * T * pole[i - 1] - 1.j * sigma * chemical_potential ) / hbar\n",
    "    eta_pade[i] = 2.j * tilde_eta[i - 1] * sys_bath_coupling * 0.5 * band_width**2 * T \\\n",
    "             / ( (pole[i - 1] * T - band_center)**2 + band_width**2 ) / hbar**2    \n",
    "\n",
    "print('pade_diss_rate \\n', -1 * diss_rate_pade * hbar)\n",
    "print('pade_eta \\n', eta_pade)\n",
    "print('pade_eta * hbar**2 \\n', eta_pade * hbar**2)"
   ]
  },
  {
   "cell_type": "code",
   "execution_count": 6,
   "id": "8e83097b",
   "metadata": {},
   "outputs": [
    {
     "name": "stdout",
     "output_type": "stream",
     "text": [
      "run times / total times: 50 / 1000  =  0.05\n",
      "run times / total times: 100 / 1000  =  0.10\n",
      "run times / total times: 150 / 1000  =  0.15\n",
      "run times / total times: 200 / 1000  =  0.20\n",
      "run times / total times: 250 / 1000  =  0.25\n",
      "run times / total times: 300 / 1000  =  0.30\n",
      "run times / total times: 350 / 1000  =  0.35\n",
      "run times / total times: 400 / 1000  =  0.40\n",
      "run times / total times: 450 / 1000  =  0.45\n",
      "run times / total times: 500 / 1000  =  0.50\n",
      "run times / total times: 550 / 1000  =  0.55\n",
      "run times / total times: 600 / 1000  =  0.60\n",
      "run times / total times: 650 / 1000  =  0.65\n",
      "run times / total times: 700 / 1000  =  0.70\n",
      "run times / total times: 750 / 1000  =  0.75\n",
      "run times / total times: 800 / 1000  =  0.80\n",
      "run times / total times: 850 / 1000  =  0.85\n",
      "run times / total times: 900 / 1000  =  0.90\n",
      "run times / total times: 950 / 1000  =  0.95\n",
      "run times / total times: 1000 / 1000  =  1.00\n",
      "Done!\n"
     ]
    }
   ],
   "source": [
    "# compare the pade results and the exact correlation function in time domain\n",
    "# exact results\n",
    "j = 0\n",
    "for i in range(time_sample_for_corr):\n",
    "    j = j + 1\n",
    "    bath_corr_exact_real[i],err = integrate.quad(fdt_real, a = -100, b = 100, args=(tt_for_corr[i]), limit = 20000)\n",
    "    bath_corr_exact_imag[i],err = integrate.quad(fdt_imag, a = -200, b = 200, args=(tt_for_corr[i]), limit = 10000)\n",
    "    bath_corr_exact[i] = complex(bath_corr_exact_real[i], bath_corr_exact_imag[i])\n",
    "    if j % 50 == 0 :\n",
    "        print(\"run times / total times:\", j ,\"/\", time_sample_for_corr-1, \" = \", '%.2f'%(j/(time_sample_for_corr-1)))\n",
    "\n",
    "print('Done!')"
   ]
  },
  {
   "cell_type": "code",
   "execution_count": 7,
   "id": "40a8daed",
   "metadata": {
    "scrolled": true
   },
   "outputs": [
    {
     "name": "stdout",
     "output_type": "stream",
     "text": [
      "Done!\n"
     ]
    }
   ],
   "source": [
    "# pade results\n",
    "for i in range(time_sample_for_corr):\n",
    "    for j in range(num_pade + 1):\n",
    "        bath_corr_psd[i] = bath_corr_psd[i] + eta_pade[j] * hbar**2 * np.exp(-1 * diss_rate_pade[j] * hbar * tt_for_corr[i])\n",
    "\n",
    "print('Done!')"
   ]
  },
  {
   "cell_type": "code",
   "execution_count": 8,
   "id": "d29b4c81",
   "metadata": {},
   "outputs": [
    {
     "name": "stdout",
     "output_type": "stream",
     "text": [
      "run times / total times: 100 / 5000  =  0.02\n",
      "run times / total times: 200 / 5000  =  0.04\n",
      "run times / total times: 300 / 5000  =  0.06\n",
      "run times / total times: 400 / 5000  =  0.08\n",
      "run times / total times: 500 / 5000  =  0.10\n",
      "run times / total times: 600 / 5000  =  0.12\n",
      "run times / total times: 700 / 5000  =  0.14\n",
      "run times / total times: 800 / 5000  =  0.16\n",
      "run times / total times: 900 / 5000  =  0.18\n",
      "run times / total times: 1000 / 5000  =  0.20\n",
      "run times / total times: 1100 / 5000  =  0.22\n",
      "run times / total times: 1200 / 5000  =  0.24\n",
      "run times / total times: 1300 / 5000  =  0.26\n",
      "run times / total times: 1400 / 5000  =  0.28\n",
      "run times / total times: 1500 / 5000  =  0.30\n",
      "run times / total times: 1600 / 5000  =  0.32\n",
      "run times / total times: 1700 / 5000  =  0.34\n",
      "run times / total times: 1800 / 5000  =  0.36\n",
      "run times / total times: 1900 / 5000  =  0.38\n",
      "run times / total times: 2000 / 5000  =  0.40\n",
      "run times / total times: 2100 / 5000  =  0.42\n",
      "run times / total times: 2200 / 5000  =  0.44\n",
      "run times / total times: 2300 / 5000  =  0.46\n",
      "run times / total times: 2400 / 5000  =  0.48\n",
      "run times / total times: 2500 / 5000  =  0.50\n",
      "run times / total times: 2600 / 5000  =  0.52\n",
      "run times / total times: 2700 / 5000  =  0.54\n",
      "run times / total times: 2800 / 5000  =  0.56\n",
      "run times / total times: 2900 / 5000  =  0.58\n",
      "run times / total times: 3000 / 5000  =  0.60\n",
      "run times / total times: 3100 / 5000  =  0.62\n",
      "run times / total times: 3200 / 5000  =  0.64\n",
      "run times / total times: 3300 / 5000  =  0.66\n",
      "run times / total times: 3400 / 5000  =  0.68\n",
      "run times / total times: 3500 / 5000  =  0.70\n",
      "run times / total times: 3600 / 5000  =  0.72\n",
      "run times / total times: 3700 / 5000  =  0.74\n",
      "run times / total times: 3800 / 5000  =  0.76\n",
      "run times / total times: 3900 / 5000  =  0.78\n",
      "run times / total times: 4000 / 5000  =  0.80\n",
      "run times / total times: 4100 / 5000  =  0.82\n",
      "run times / total times: 4200 / 5000  =  0.84\n",
      "run times / total times: 4300 / 5000  =  0.86\n",
      "run times / total times: 4400 / 5000  =  0.88\n",
      "run times / total times: 4500 / 5000  =  0.90\n",
      "run times / total times: 4600 / 5000  =  0.92\n",
      "run times / total times: 4700 / 5000  =  0.94\n",
      "run times / total times: 4800 / 5000  =  0.96\n",
      "run times / total times: 4900 / 5000  =  0.98\n",
      "run times / total times: 5000 / 5000  =  1.00\n",
      "Done!\n"
     ]
    }
   ],
   "source": [
    "# prony results\n",
    "dimension_Hankel = 2500\n",
    "\n",
    "tt_for_prony_min = 0.0\n",
    "tt_for_prony_max = 125.0\n",
    "time_sample_for_prony =  2 * dimension_Hankel + 1\n",
    "tt_for_prony = np.linspace(tt_for_prony_min, tt_for_prony_max, time_sample_for_prony)\n",
    "hankel_matrix_real = np.zeros((dimension_Hankel + 1, dimension_Hankel + 1))\n",
    "hankel_matrix_imag = np.zeros((dimension_Hankel + 1, dimension_Hankel + 1))\n",
    "phi_real = np.zeros(time_sample_for_prony)\n",
    "phi_imag = np.zeros(time_sample_for_prony)\n",
    "\n",
    "i = 0\n",
    "for j in range(time_sample_for_prony):\n",
    "    i = i + 1\n",
    "    for k in  range(num_pade + 1):\n",
    "        phi_real[j] = phi_real[j] + np.real(eta_pade[k] * hbar**2 * np.exp(-1 * diss_rate_pade[k] * hbar * tt_for_prony[j])) \n",
    "        phi_imag[j] = phi_imag[j] + np.imag(eta_pade[k] * hbar**2 * np.exp(-1 * diss_rate_pade[k] * hbar * tt_for_prony[j]))\n",
    "    if i % 100 == 0 :\n",
    "        print(\"run times / total times:\", i ,\"/\", time_sample_for_prony-1, \" = \", '%.2f'%(i/(time_sample_for_prony-1)))\n",
    "\n",
    "# print(\"phi.real\\n\",phi_real[:20].real)\n",
    "# print(\"phi.imag\\n\",phi_imag[:20].real)\n",
    "\n",
    "\n",
    "for n in range(dimension_Hankel + 1):\n",
    "    for m in range(dimension_Hankel + 1):\n",
    "        hankel_matrix_real[n,m] = phi_real[n + m]\n",
    "        hankel_matrix_imag[n,m] = phi_imag[n + m]\n",
    "        \n",
    "print('Done!')"
   ]
  },
  {
   "cell_type": "code",
   "execution_count": 9,
   "id": "238be901",
   "metadata": {},
   "outputs": [
    {
     "name": "stdout",
     "output_type": "stream",
     "text": [
      "error of decompose real part\n",
      " 3.5671952505445644e-13 \n",
      "error of decompose imag part\n",
      " 1.2169382321017616e-12\n",
      "Done!\n"
     ]
    }
   ],
   "source": [
    "sigma_real, U_real = takagi_stra(hankel_matrix_real)\n",
    "sigma_imag, U_imag = takagi_stra(hankel_matrix_imag)\n",
    "\n",
    "# print(\"sigma_real[:20]\\n\",sigma_real[:20])\n",
    "# print(\"sigma_imag[:20]\\n\",sigma_imag[:20])\n",
    "\n",
    "print(\n",
    "    \"error of decompose real part\\n\",\n",
    "    np.sum(np.abs(hankel_matrix_real - np.dot(np.dot(U_real, np.diag(sigma_real)), U_real.T))), \"\\n\"\n",
    "    \"error of decompose imag part\\n\",\n",
    "    np.sum(np.abs(hankel_matrix_imag - np.dot(np.dot(U_imag, np.diag(sigma_imag)), U_imag.T))))\n",
    "\n",
    "print('Done!')\n"
   ]
  },
  {
   "cell_type": "code",
   "execution_count": 10,
   "id": "1b9f7a75",
   "metadata": {},
   "outputs": [
    {
     "name": "stdout",
     "output_type": "stream",
     "text": [
      "Done!\n"
     ]
    }
   ],
   "source": [
    "num_prony = 8\n",
    "\n",
    "prony_roots_real = np.roots(U_real[:, num_prony][::-1])\n",
    "tmp_index_real = prony_roots_real != 0\n",
    "prony_roots_real = prony_roots_real[tmp_index_real]\n",
    "prony_roots_real_new = prony_roots_real[np.argsort(np.abs(prony_roots_real))[:num_prony]]\n",
    "\n",
    "prony_roots_imag = np.roots(U_imag[:, num_prony][::-1])\n",
    "tmp_index_imag = prony_roots_imag != 0\n",
    "prony_roots_imag = prony_roots_imag[tmp_index_imag]\n",
    "prony_roots_imag_new = prony_roots_imag[np.argsort(np.abs(prony_roots_imag))[:num_prony]]\n",
    "\n",
    "print('Done!')"
   ]
  },
  {
   "cell_type": "code",
   "execution_count": 11,
   "id": "2e3145c0",
   "metadata": {},
   "outputs": [],
   "source": [
    "# plt.title(\"distrubition of roots of Re[C(t)]\") \n",
    "# plt.xlabel(\"Re Φ\") \n",
    "# plt.ylabel(\"Im Φ\")\n",
    "# plt.scatter(prony_roots_real.real, prony_roots_real.imag)\n",
    "# plt.scatter(prony_roots_real_new.real, prony_roots_real_new.imag)\n",
    "# plt.show()\n",
    "\n",
    "# print(prony_roots_real_new)\n",
    "\n",
    "# plt.title(\"distrubition of roots of Im[C(t)]\") \n",
    "# plt.xlabel(\"Re Φ\") \n",
    "# plt.ylabel(\"Im Φ\")\n",
    "# plt.scatter(prony_roots_imag.real, prony_roots_imag.imag)\n",
    "# plt.scatter(prony_roots_imag_new.real, prony_roots_imag_new.imag)\n",
    "# plt.show()\n",
    "\n",
    "# print(prony_roots_imag_new)"
   ]
  },
  {
   "cell_type": "code",
   "execution_count": 12,
   "id": "649173d4",
   "metadata": {},
   "outputs": [
    {
     "name": "stdout",
     "output_type": "stream",
     "text": [
      "Done!\n"
     ]
    }
   ],
   "source": [
    "omega_matrix_real = np.zeros((time_sample_for_prony, num_prony), dtype=complex)\n",
    "for i in range(time_sample_for_prony):\n",
    "    for j in range(num_prony):\n",
    "        omega_matrix_real[i, j] = prony_roots_real_new[j]**i\n",
    "eta_prony_real_tmp = np.dot(linalg.inv(np.dot(omega_matrix_real.T, omega_matrix_real)), np.dot(omega_matrix_real.T, phi_real))\n",
    "\n",
    "\n",
    "omega_matrix_imag = np.zeros((time_sample_for_prony, num_prony), dtype=complex)\n",
    "for i in range(time_sample_for_prony):\n",
    "    for j in range(num_prony):\n",
    "        omega_matrix_imag[i, j] = prony_roots_imag_new[j]**i\n",
    "eta_prony_imag_tmp = np.dot(linalg.inv(np.dot(omega_matrix_imag.T, omega_matrix_imag)), np.dot(omega_matrix_imag.T, phi_imag))\n",
    "\n",
    "print('Done!')"
   ]
  },
  {
   "cell_type": "code",
   "execution_count": 13,
   "id": "a0a13f27",
   "metadata": {},
   "outputs": [],
   "source": [
    "# plt.title(\"distrubition of part roots\") \n",
    "# plt.xlabel(\"Re Φ\") \n",
    "# plt.ylabel(\"Im Φ\")\n",
    "# plt.scatter(np.real(eta_prony_real_tmp),np.imag(eta_prony_real_tmp), label = 'real')\n",
    "# plt.scatter(np.real(eta_prony_imag_tmp),np.imag(eta_prony_imag_tmp), label = 'imag')\n",
    "# plt.show()"
   ]
  },
  {
   "cell_type": "code",
   "execution_count": 14,
   "id": "9df60c36",
   "metadata": {},
   "outputs": [
    {
     "name": "stdout",
     "output_type": "stream",
     "text": [
      "diss_rate_prony\n",
      " [22.17141081-0.00000000e+00j  4.16137155-9.36108260e+00j\n",
      "  4.16137155+9.36108260e+00j  4.07935449+3.49062779e-15j\n",
      "  1.51105831-3.81080933e-15j  0.56776205+1.38533790e-13j\n",
      "  0.21710385-8.50517028e-14j  0.06317557-3.45278907e-14j\n",
      " 20.53854261-1.25303090e-26j  5.90081799+2.52317588e-19j\n",
      "  3.83008214-1.01065311e+01j  3.83008214+1.01065311e+01j\n",
      "  2.32677285-2.35432341e-14j  0.86795556-3.38129086e-15j\n",
      "  0.28858062+4.31703508e-14j  0.06789946+4.88957229e-15j]\n",
      "eta_prony\n",
      " [-2.75558304e-16+4.37574155e-02j -1.56132083e-03+9.02480606e-04j\n",
      "  1.56132083e-03+9.02480606e-04j  1.77654954e-16-2.53193789e-02j\n",
      " -1.14635720e-15-1.24492319e-02j  1.45901254e-16-4.80819158e-03j\n",
      "  1.75143401e-15-1.83257712e-03j -1.06635315e-15-1.12322407e-03j\n",
      "  6.68012405e-02-1.01709601e-15j  3.28113607e-02+6.81500862e-16j\n",
      " -7.34075013e-04+9.74818201e-04j -7.34075013e-04-9.74818201e-04j\n",
      "  7.24602697e-03+1.74376104e-17j  1.16699362e-03+6.12475547e-17j\n",
      "  1.49303495e-04-2.24200355e-17j  1.49526752e-05+2.16146491e-18j]\n",
      "Done!\n"
     ]
    }
   ],
   "source": [
    "bath_corr_prony = np.zeros(time_sample_for_corr, dtype=complex)\n",
    "\n",
    "diss_rate_prony_real_tmp =  -2 * dimension_Hankel \\\n",
    "                            / tt_for_prony_max * ( np.log( np.abs( prony_roots_real_new ) ) + 1.j * np.angle(prony_roots_real_new) )\n",
    "diss_rate_prony_imag_tmp =  -2 * dimension_Hankel \\\n",
    "                            / tt_for_prony_max * ( np.log( np.abs( prony_roots_imag_new ) ) + 1.j * np.angle(prony_roots_imag_new) )\n",
    "\n",
    "eta_prony = np.zeros(2 * num_prony , dtype = complex)\n",
    "diss_rate_prony = np.zeros(2 * num_prony, dtype = complex)\n",
    "\n",
    "eta_prony[0:num_prony] = eta_prony_imag_tmp * 1.j\n",
    "eta_prony[num_prony:2 * num_prony] = eta_prony_real_tmp\n",
    "\n",
    "diss_rate_prony[0:num_prony] = diss_rate_prony_imag_tmp\n",
    "diss_rate_prony[num_prony:2*num_prony] = diss_rate_prony_real_tmp\n",
    "\n",
    "for i in range(time_sample_for_corr):\n",
    "    for j in range(2 * num_prony):\n",
    "        bath_corr_prony[i] = bath_corr_prony[i] + eta_prony[j] * np.exp(-1 * diss_rate_prony[j] * tt_for_corr[i])\n",
    "\n",
    "print(\"diss_rate_prony\\n\",diss_rate_prony)\n",
    "print(\"eta_prony\\n\",eta_prony)\n",
    "\n",
    "print('Done!')"
   ]
  },
  {
   "cell_type": "code",
   "execution_count": 15,
   "id": "849750c9",
   "metadata": {},
   "outputs": [
    {
     "name": "stdout",
     "output_type": "stream",
     "text": [
      "pade_diss_rate \n",
      " [ -4.        +10.j  -0.06283185 +0.j  -0.18849556 +0.j  -0.31415927 +0.j\n",
      "  -0.43982297 +0.j  -0.56548668 +0.j  -0.69115038 +0.j  -0.81681409 +0.j\n",
      "  -0.94247852 +0.j  -1.06826391 +0.j  -1.19800057 +0.j  -1.35737091 +0.j\n",
      "  -1.59839807 +0.j  -1.99839244 +0.j  -2.74278292 +0.j  -4.51338309 +0.j\n",
      " -13.45583455 +0.j]\n",
      "pade_eta \n",
      " [-4.08253014e-03+0.00506708j  2.75899525e-05-0.00254674j\n",
      "  8.27372269e-05-0.00254504j  1.37786677e-04-0.00254165j\n",
      "  1.92673311e-04-0.00253657j  2.47332473e-04-0.00252981j\n",
      "  3.01699978e-04-0.00252138j  3.55712264e-04-0.0025113j\n",
      "  4.09320827e-04-0.00249967j  4.64416311e-04-0.00249668j\n",
      "  5.64896114e-04-0.00270105j  8.82676645e-04-0.00371174j\n",
      "  1.64070786e-03-0.0058224j   3.47906756e-03-0.00974978j\n",
      "  9.18872154e-03-0.01817071j  3.64038420e-02-0.03856615j\n",
      "  2.21782079e-01+0.05361625j]\n",
      "pade_eta * hbar**2 \n",
      " [-1.76872737e-03+0.00219528j  1.19531522e-05-0.00110336j\n",
      "  3.58453196e-05-0.00110262j  5.96951053e-05-0.00110115j\n",
      "  8.34743520e-05-0.00109895j  1.07155048e-04-0.00109602j\n",
      "  1.30709386e-04-0.00109237j  1.54109828e-04-0.001088j\n",
      "  1.77335359e-04-0.00108296j  2.01205089e-04-0.00108167j\n",
      "  2.44737254e-04-0.00117021j  3.82413427e-04-0.00160809j\n",
      "  7.10825100e-04-0.00252251j  1.50728146e-03-0.00422403j\n",
      "  3.98094875e-03-0.00787233j  1.57717076e-02-0.01670851j\n",
      "  9.60855203e-02+0.02322886j]\n",
      "Done!\n"
     ]
    }
   ],
   "source": [
    "#the Pade scheme\n",
    "num_pade_small = num_prony * 2\n",
    "tilde_eta_small = np.zeros(num_pade_small, dtype = complex)         # namely cpcoef in evaluatepara.f90 \n",
    "pole_small = np.zeros(num_pade_small, dtype = complex)              # namely cppole in evaluatepara.f90\n",
    "bath_corr_psd_small = np.zeros(time_sample_for_corr, dtype = complex)\n",
    "\n",
    "pole_small, tilde_eta_small = psd(num_pade_small)\n",
    "\n",
    "# Here we test the nalf = 1, spin = ↑, norbs = 1 and nsgn = (+ or 1). \n",
    "# the coefficients eta and gamma only sum over the number of poles.\n",
    "eta_pade_small = np.zeros(num_pade_small + 1, dtype = complex)               # namely cb in evaluatepara.f90\n",
    "diss_rate_pade_small = np.zeros(num_pade_small + 1, dtype = complex)         # namely cgamma in evaluatepara.f90\n",
    "\n",
    "diss_rate_pade_small[0] = spectral_diss_rate_pade\n",
    "eta_pade_small[0] = spectral_eta_pade\n",
    "\n",
    "for i in range(1, num_pade_small + 1):\n",
    "    diss_rate_pade_small[i] = (-1.j * sigma * T * pole_small[i - 1] - 1.j * sigma * chemical_potential ) / hbar\n",
    "    eta_pade_small[i] = 2.j * tilde_eta_small[i - 1] * sys_bath_coupling * 0.5 * band_width**2 * T \\\n",
    "             / ( (pole_small[i - 1] * T - band_center)**2 + band_width**2 ) / hbar**2    \n",
    "\n",
    "print('pade_diss_rate \\n', -1 * diss_rate_pade_small * hbar)\n",
    "print('pade_eta \\n', eta_pade_small)\n",
    "print('pade_eta * hbar**2 \\n', eta_pade_small * hbar**2)\n",
    "\n",
    "# pade results\n",
    "for i in range(time_sample_for_corr):\n",
    "    for j in range(num_pade_small + 1):\n",
    "        bath_corr_psd_small[i] = bath_corr_psd_small[i] + eta_pade_small[j] * hbar**2 * np.exp(-1 * diss_rate_pade_small[j] * hbar * tt_for_corr[i])\n",
    "\n",
    "print('Done!')"
   ]
  },
  {
   "cell_type": "code",
   "execution_count": 16,
   "id": "8bc51c4e",
   "metadata": {},
   "outputs": [
    {
     "data": {
      "image/png": "[encoded data removed]",
      "text/plain": [
       "<Figure size 432x288 with 1 Axes>"
      ]
     },
     "metadata": {
      "needs_background": "light"
     },
     "output_type": "display_data"
    },
    {
     "data": {
      "image/png": "[encoded data removed]",
      "text/plain": [
       "<Figure size 432x288 with 1 Axes>"
      ]
     },
     "metadata": {
      "needs_background": "light"
     },
     "output_type": "display_data"
    }
   ],
   "source": [
    "plt.title(\"correlation function real part\") \n",
    "plt.xlabel(\"time\") \n",
    "plt.ylabel(\"C(t)\") \n",
    "plt.plot(tt_for_corr, bath_corr_psd.real, label = 'Pade-%d' %num_pade, linestyle = '-.', color = 'k') \n",
    "plt.scatter(tt_for_corr, bath_corr_psd_small.real, label = 'Pade-%d' %num_pade_small, s = 2, color = 'darkorange') \n",
    "plt.plot(tt_for_corr, bath_corr_exact_real / np.pi, label = 'exact', color = 'r') \n",
    "plt.plot(tt_for_corr, bath_corr_prony.real, label = 'prony', linestyle = '--', color = 'g')\n",
    "plt.legend(loc=1)\n",
    "plt.xlim(-0.1, 1.5)\n",
    "plt.show()\n",
    "\n",
    "plt.title(\"correlation function imagnary part\") \n",
    "plt.xlabel(\"time\") \n",
    "plt.ylabel(\"C(t)\") \n",
    "plt.plot(tt_for_corr, bath_corr_psd.imag, label = 'Pade-%d' %num_pade, linestyle = '-.', color = 'k') \n",
    "plt.scatter(tt_for_corr, bath_corr_psd_small.imag, label = 'Pade-%d' %num_pade_small, s = 2, color = 'darkorange') \n",
    "plt.plot(tt_for_corr, bath_corr_exact_imag / np.pi, label = 'exact', color = 'r') \n",
    "plt.plot(tt_for_corr, bath_corr_prony.imag, label = 'prony', linestyle = '--', color = 'g')\n",
    "plt.legend(loc=1)\n",
    "plt.xlim(-0.1, 1.5)\n",
    "plt.show()"
   ]
  },
  {
   "cell_type": "code",
   "execution_count": 17,
   "id": "8d4f2657",
   "metadata": {
    "scrolled": true
   },
   "outputs": [],
   "source": [
    "bath_corr_psd_freq = np.zeros(omega_sample, dtype = complex)\n",
    "bath_corr_psd_small_freq = np.zeros(omega_sample, dtype = complex)\n",
    "#bath_corr_prony_imag_freq = np.zeros(omega_sample, dtype = complex)\n",
    "#bath_corr_prony_real_freq = np.zeros(omega_sample, dtype = complex)\n",
    "bath_corr_prony_freq = np.zeros(omega_sample, dtype = complex)\n",
    "\n",
    "for i in range(omega_sample):\n",
    "    #bath_corr_psd_freq[i] =   Jfermi_psd(omega_freq[i])\n",
    "    bath_corr_psd_small_freq[i] = J_fit(omega[i], diss_rate_pade_small * hbar, eta_pade_small * hbar**2)\n",
    "    bath_corr_psd_freq[i] = J_fit(omega[i], diss_rate_pade * hbar, eta_pade * hbar**2)\n",
    "    bath_corr_prony_freq[i] = J_fit(omega[i], diss_rate_prony, eta_prony)\n",
    "    #bath_corr_prony_imag_freq[i] = J_fit(omega_freq[i], diss_rate_prony_imag, eta_prony_imag)\n",
    "    #bath_corr_prony_real_freq[i] = J_fit(omega_freq[i], diss_rate_prony_real, eta_prony_real)"
   ]
  },
  {
   "cell_type": "code",
   "execution_count": 18,
   "id": "b26329b4",
   "metadata": {
    "scrolled": false
   },
   "outputs": [
    {
     "data": {
      "image/png": "[encoded data removed]",
      "text/plain": [
       "<Figure size 432x288 with 1 Axes>"
      ]
     },
     "metadata": {
      "needs_background": "light"
     },
     "output_type": "display_data"
    },
    {
     "name": "stdout",
     "output_type": "stream",
     "text": [
      " -0.03999999999999204 \n",
      " psd   0.024131096230951308 \n",
      " exact 0.024131096230951412 \n",
      " prony 0.02413206052098214\n",
      " small 0.02555991254656658\n",
      "\n",
      " 0.0 \n",
      " psd   0.013793103448275862 \n",
      " exact 0.013793103448275864 \n",
      " prony 0.013792454994576693\n",
      " small 0.015225404186344316\n",
      "\n",
      " 0.04000000000000625 \n",
      " psd   0.0033111462902484256 \n",
      " exact 0.0033111462902483254 \n",
      " prony 0.0033117919451452907\n",
      " small 0.004746940059275189\n"
     ]
    }
   ],
   "source": [
    "plt.title(\"real part correlation function\") \n",
    "plt.xlabel(\"ω\") \n",
    "plt.ylabel(\"C(ω)\")\n",
    "plt.scatter(omega, bath_corr_psd_freq.real, label = 'Pade-%d'%num_pade, s = 1, color = 'k')\n",
    "plt.scatter(omega, bath_corr_psd_small_freq.real, label = 'Pade-%d'%num_pade_small, s = 1, color = 'darkorange')\n",
    "plt.plot(omega, bath_corr_exact_freq.real, label = 'exact', linestyle = '-.', color = 'r')\n",
    "plt.plot(omega, bath_corr_prony_freq.real, label = 'Prony', linestyle = '--', color = 'g')\n",
    "plt.legend(loc=2)\n",
    "#plt.xlim(10, 15)\n",
    "#plt.ylim(-0.00, 0.001)\n",
    "plt.show()\n",
    "\n",
    "x = 2500\n",
    "a = max(np.abs(bath_corr_psd_freq.real))\n",
    "b = max(np.abs(bath_corr_exact_freq.real))\n",
    "c = max(np.abs(bath_corr_prony_freq.real))\n",
    "print('',omega[x-1],'\\n psd  ',(bath_corr_psd_freq[x-1]).real,'\\n exact',bath_corr_exact_freq[x-1],\\\n",
    "      '\\n prony',(bath_corr_prony_freq[x-1]).real)\n",
    "print(' small', bath_corr_psd_small_freq[x-1].real)\n",
    "print()\n",
    "print('',omega[x],'\\n psd  ',(bath_corr_psd_freq[x]).real,'\\n exact',bath_corr_exact_freq[x],\\\n",
    "      '\\n prony',(bath_corr_prony_freq[x]).real)\n",
    "print(' small', bath_corr_psd_small_freq[x].real)\n",
    "print()\n",
    "print('',omega[x+1],'\\n psd  ',(bath_corr_psd_freq[x+1]).real,'\\n exact',bath_corr_exact_freq[x+1],\\\n",
    "      '\\n prony',(bath_corr_prony_freq[x+1]).real)\n",
    "print(' small', bath_corr_psd_small_freq[x+1].real)"
   ]
  }
 ],
 "metadata": {
  "kernelspec": {
   "display_name": "Python 3",
   "language": "python",
   "name": "python3"
  },
  "language_info": {
   "codemirror_mode": {
    "name": "ipython",
    "version": 3
   },
   "file_extension": ".py",
   "mimetype": "text/x-python",
   "name": "python",
   "nbconvert_exporter": "python",
   "pygments_lexer": "ipython3",
   "version": "3.8.8"
  }
 },
 "nbformat": 4,
 "nbformat_minor": 5
}
