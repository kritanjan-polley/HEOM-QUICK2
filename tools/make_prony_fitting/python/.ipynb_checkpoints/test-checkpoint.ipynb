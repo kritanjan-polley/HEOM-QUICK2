{
 "cells": [
  {
   "cell_type": "code",
   "execution_count": 1,
   "id": "fc2a91a2",
   "metadata": {},
   "outputs": [],
   "source": [
    "import numpy as np\n",
    "from scipy import integrate, linalg, optimize\n",
    "from matplotlib import pyplot as plt \n",
    "from numba import njit\n",
    "\n",
    "\n",
    "def takagi_cehn(H):\n",
    "    sing_vs, Q = linalg.eigh(H)\n",
    "    phase_mat = np.diag(\n",
    "                [np.exp(-1.j * np.angle(sing_v) / 2.0) for sing_v in sing_vs])\n",
    "    vs = np.array([np.abs(sing_v) for sing_v in sing_vs])\n",
    "    Qp = np.dot(Q, phase_mat)\n",
    "    sort_array = np.argsort(vs)[::-1]\n",
    "    vs = vs[sort_array]\n",
    "    Qp = (Qp[:, sort_array])\n",
    "\n",
    "    return vs, Qp\n",
    "\n",
    "def takagi_stra(N, tol=1e-13, rounding=13):\n",
    "    r\"\"\"Autonne-Takagi decomposition of a complex symmetric (not Hermitian!) matrix.\n",
    "\n",
    "    Note that singular values of N are considered equal if they are equal after np.round(values, tol).\n",
    "\n",
    "    See :cite:`cariolaro2016` and references therein for a derivation.\n",
    "\n",
    "    Args:\n",
    "        N (array[complex]): square, symmetric matrix N\n",
    "        rounding (int): the number of decimal places to use when rounding the singular values of N\n",
    "        tol (float): the tolerance used when checking if the input matrix is symmetric: :math:`|N-N^T| <` tol\n",
    "\n",
    "    Returns:\n",
    "        tuple[array, array]: (rl, U), where rl are the (rounded) singular values,\n",
    "            and U is the Takagi unitary, such that :math:`N = U \\diag(rl) U^T`.\n",
    "    \"\"\"\n",
    "    (n, m) = N.shape\n",
    "    if n != m:\n",
    "        raise ValueError(\"The input matrix must be square\")\n",
    "    if np.linalg.norm(N - np.transpose(N)) >= tol:\n",
    "        raise ValueError(\"The input matrix is not symmetric\")\n",
    "\n",
    "    N = np.real_if_close(N)\n",
    "\n",
    "    if np.allclose(N, 0):\n",
    "        return np.zeros(n), np.eye(n)\n",
    "\n",
    "    if np.isrealobj(N):\n",
    "        # If the matrix N is real one can be more clever and use its eigendecomposition\n",
    "        l, U = np.linalg.eigh(N)\n",
    "        vals = np.abs(l)  # These are the Takagi eigenvalues\n",
    "        phases = np.sqrt(np.complex128([1 if i > 0 else -1 for i in l]))\n",
    "        Uc = U @ np.diag(phases)  # One needs to readjust the phases\n",
    "        list_vals = [(vals[i], i) for i in range(len(vals))]\n",
    "        list_vals.sort(reverse=True)\n",
    "        sorted_l, permutation = zip(*list_vals)\n",
    "        permutation = np.array(permutation)\n",
    "        Uc = Uc[:, permutation]\n",
    "        # And also rearrange the unitary and values so that they are decreasingly ordered\n",
    "        return np.array(sorted_l), Uc\n",
    "\n",
    "    v, l, ws = np.linalg.svd(N)\n",
    "    w = np.transpose(np.conjugate(ws))\n",
    "    rl = np.round(l, rounding)\n",
    "\n",
    "    # Generate list with degenerancies\n",
    "    result = []\n",
    "    for k, g in groupby(rl):\n",
    "        result.append(list(g))\n",
    "\n",
    "    # Generate lists containing the columns that correspond to degenerancies\n",
    "    kk = 0\n",
    "    for k in result:\n",
    "        for ind, j in enumerate(k):  # pylint: disable=unused-variable\n",
    "            k[ind] = kk\n",
    "            kk = kk + 1\n",
    "\n",
    "    # Generate the lists with the degenerate column subspaces\n",
    "    vas = []\n",
    "    was = []\n",
    "    for i in result:\n",
    "        vas.append(v[:, i])\n",
    "        was.append(w[:, i])\n",
    "\n",
    "    # Generate the matrices qs of the degenerate subspaces\n",
    "    qs = []\n",
    "    for i in range(len(result)):\n",
    "        qs.append(sqrtm(np.transpose(vas[i]) @ was[i]))\n",
    "\n",
    "    # Construct the Takagi unitary\n",
    "    qb = block_diag(*qs)\n",
    "\n",
    "    U = v @ np.conj(qb)\n",
    "    return rl, U\n",
    "\n",
    "def fdt_real(omega, t):\n",
    "    t = np.array([t], dtype=np.float128)\n",
    "    if ((omega - chemical_potential) / T) <= 50:\n",
    "        fun = np.exp(1.j * omega * t[0]) \\\n",
    "              * (0.5 * sys_bath_coupling * (band_width**2)) / ((omega - band_center)**2 + band_width**2)\\\n",
    "              / (1.0 + np.exp( (omega - chemical_potential) / T ))\n",
    "    elif ((omega - chemical_potential) / T) > 50:\n",
    "        fun = np.exp(1.j * omega * t[0]) \\\n",
    "              * (0.5 * sys_bath_coupling * (band_width**2)) / ((omega - band_center)**2 + band_width**2)\\\n",
    "              / 10e+22\n",
    "    #print('C(w,t)',omega,t,fun)\n",
    "    return fun.real\n",
    "\n",
    "def fdt_imag(omega, t):\n",
    "    t = np.array([t], dtype=np.float128)\n",
    "    if ((omega - chemical_potential) / T) <= 50:\n",
    "        fun = np.exp(1.j * omega * t[0]) \\\n",
    "              * (0.5 * sys_bath_coupling * (band_width**2)) / ((omega - band_center)**2 + band_width**2)\\\n",
    "              / (1.0 + np.exp( (omega - chemical_potential) / T ))\n",
    "    elif ((omega - chemical_potential) / T) > 50:\n",
    "        fun = np.exp(1.j * omega * t[0]) \\\n",
    "              * (0.5 * sys_bath_coupling * (band_width**2)) / ((omega - band_center)**2 + band_width**2)\\\n",
    "              / 10e+22\n",
    "    #print('C(w,t)',omega,t,fun)\n",
    "    return fun.imag\n",
    "\n",
    "def Jfermi_exact(omega):\n",
    "    if ((omega - chemical_potential) / T) <= 50:\n",
    "        fun = 1.0 * (0.5 * sys_bath_coupling * (band_width**2)) / (((omega - chemical_potential) - band_center)**2 + band_width**2)\\\n",
    "              / (1.0 + np.exp( (omega - chemical_potential) / T ))\n",
    "    elif ((omega - chemical_potential) / T) > 50:\n",
    "        fun = 1.0 * (0.5 * sys_bath_coupling * (band_width**2)) / (((omega - chemical_potential) - band_center)**2 + band_width**2)\\\n",
    "              / 10e+22\n",
    "    #print('C(w,t)',omega,t,fun)\n",
    "    return fun\n",
    "\n",
    "def fermi_by_pade(omega):\n",
    "    result = 0.5\n",
    "    for j in range(num_pade):\n",
    "        result = result + tilde_eta[j] / ((omega - chemical_potential) / T + pole[j]) \\\n",
    "                        + tilde_eta[j] / ((omega - chemical_potential) / T - pole[j])\n",
    "    return result\n",
    "\n",
    "@njit()\n",
    "def J_fit(omega, fun, rate, eta):\n",
    "    for i in range(len(rate)):\n",
    "        fun = fun + eta[i] / (rate[i] + 1.j * (omega - chemical_potential) )\n",
    "    return fun\n",
    "\n",
    "@njit()      \n",
    "def T_fit(tt, fun, rate, eta):\n",
    "    for k in range(len(rate)):\n",
    "        fun = fun + eta[k] * np.exp(-1 * rate[k] * tt)\n",
    "    return fun"
   ]
  },
  {
   "cell_type": "code",
   "execution_count": 2,
   "id": "80160519",
   "metadata": {},
   "outputs": [
    {
     "name": "stdout",
     "output_type": "stream",
     "text": [
      "Done!\n"
     ]
    }
   ],
   "source": [
    "# the information of calculation paratemers\n",
    "hbar = 0.658211928\n",
    "omega_max = 100.0\n",
    "omega_min = -100.0\n",
    "omega_sample = 5000 + 1\n",
    "omega = np.linspace(omega_min, omega_max, omega_sample)\n",
    "\n",
    "time_max = 400.0\n",
    "time_min = -400.0\n",
    "time_sample = 4000 + 1\n",
    "tt = np.linspace(time_min, time_max, time_sample)\n",
    "\n",
    "tt_for_corr_min = 0.0\n",
    "tt_for_corr_max = 10.0\n",
    "time_sample_for_corr =  1000 + 1\n",
    "tt_for_corr = np.linspace(tt_for_corr_min, tt_for_corr_max, time_sample_for_corr)\n",
    "\n",
    "bath_corr_psd = np.zeros(time_sample_for_corr, dtype=complex)\n",
    "bath_corr_exact = np.zeros(time_sample_for_corr, dtype = complex)\n",
    "bath_corr_exact_real = np.zeros(time_sample_for_corr)\n",
    "bath_corr_exact_imag = np.zeros(time_sample_for_corr)\n",
    "bath_corr_exact_freq = np.zeros(omega_sample, dtype = complex)\n",
    "\n",
    "print('Done!')"
   ]
  },
  {
   "cell_type": "code",
   "execution_count": 3,
   "id": "eeb133b7",
   "metadata": {},
   "outputs": [
    {
     "data": {
      "image/png": "[encoded data removed]",
      "text/plain": [
       "<Figure size 432x288 with 1 Axes>"
      ]
     },
     "metadata": {
      "needs_background": "light"
     },
     "output_type": "display_data"
    },
    {
     "data": {
      "image/png": "[encoded data removed]",
      "text/plain": [
       "<Figure size 432x288 with 1 Axes>"
      ]
     },
     "metadata": {
      "needs_background": "light"
     },
     "output_type": "display_data"
    },
    {
     "data": {
      "image/png": "[encoded data removed]",
      "text/plain": [
       "<Figure size 432x288 with 1 Axes>"
      ]
     },
     "metadata": {
      "needs_background": "light"
     },
     "output_type": "display_data"
    },
    {
     "name": "stdout",
     "output_type": "stream",
     "text": [
      "spectral_pole \n",
      " (2+0j)\n",
      "spectral_eta \n",
      " (0.46163475624596917+0.1255187727426561j)\n"
     ]
    }
   ],
   "source": [
    "# the information of fermi funcaiton\n",
    "T = 0.02                 #eV\n",
    "chemical_potential = 0.0 #ev\n",
    "\n",
    "fermi = np.zeros(omega_sample)\n",
    "for i in range(omega_sample):\n",
    "    if ((omega[i] - chemical_potential) / (T)) <= 50 :\n",
    "        fermi[i] = 1.0 / ( 1.0 + np.exp( (omega[i] - chemical_potential) / (T) ) )\n",
    "    elif ((omega[i] - chemical_potential) / (T)) > 50 :\n",
    "        fermi[i] = 1.0 / 10e+22\n",
    "\n",
    "# the information of bath spectral funcation\n",
    "# the Lorentz type J(w) = 0.5 * sys_bath_coupling * band_width**2 / ( (w - band_center)**2 + band_width**2)\n",
    "sys_bath_coupling = 0.4  #eV, is equal to HEOM-QUICK\n",
    "band_width = 2.0         #eV\n",
    "band_center = 10.0       #eV\n",
    "bath_spectral = np.zeros(omega_sample, dtype=complex)\n",
    "bath_spectral = (0.5 * sys_bath_coupling * (band_width**2)) / ((omega - band_center)**2 + band_width**2)\n",
    "spectral_diss_rate = (band_width - 1.j * band_center) / hbar\n",
    "spectral_eta = 0.5 * sys_bath_coupling * band_width \\\n",
    "                / ( 1.0 + np.exp((1.j * spectral_diss_rate - chemical_potential) * hbar / T )) / hbar**2\n",
    "\n",
    "plt.title(\"Bath spectral function\") \n",
    "plt.xlabel(\"frequency\") \n",
    "plt.ylabel(\"J(w)\") \n",
    "plt.plot(omega, bath_spectral.real, label = 'J(w)')\n",
    "plt.legend(loc=1)\n",
    "plt.show()\n",
    "\n",
    "plt.title(\"Fermi funcaiton for electron\") \n",
    "plt.xlabel(\"frequency\") \n",
    "plt.ylabel(\"F(w)\") \n",
    "plt.plot(omega, fermi.real, label = 'F(w)')\n",
    "plt.legend(loc=1)\n",
    "plt.show()\n",
    "\n",
    "plt.title(\"spectrum funcaiton for electron\") \n",
    "plt.xlabel(\"frequency\") \n",
    "plt.ylabel(\"j * F(w)\") \n",
    "plt.plot(omega, bath_spectral.real * fermi.real, label = 'J * F(w)')\n",
    "plt.legend(loc=1)\n",
    "plt.show()\n",
    "\n",
    "\n",
    "bath_corr_exact_freq = bath_spectral * fermi\n",
    "\n",
    "print('spectral_pole \\n', spectral_diss_rate * hbar)\n",
    "print('spectral_eta \\n', spectral_eta)\n",
    "\n",
    "\n",
    "#the Matsubara scheme\n",
    "#num_mats = 1001\n",
    "#mats = np.linspace(-(num_mats - 1)/2, (num_mats - 1)/2, num_mats, dtype = np.complex128)\n",
    "#fermi_mats = np.zeros(omega_sample, dtype = np.complex128)\n",
    "#bath_corr_msd = np.zeros(time_sample, dtype=np.complex128)\n",
    "\n",
    "# for i in range(num_mats):\n",
    "#     mats[i] = (mats[i] * 2 + 1) * np.pi * complex(0,1.0)\n",
    "\n",
    "# for i in range(omega_sample):\n",
    "#     fermi_mats[i] = 0.5\n",
    "#     for j in range(num_mats):\n",
    "#        fermi_mats[i] = fermi_mats[i] + 1.0 / (mats[j] - omega[i]/T)"
   ]
  },
  {
   "cell_type": "code",
   "execution_count": 4,
   "id": "6f9da4f6",
   "metadata": {
    "scrolled": true
   },
   "outputs": [
    {
     "data": {
      "image/png": "[encoded data removed]",
      "text/plain": [
       "<Figure size 432x288 with 1 Axes>"
      ]
     },
     "metadata": {
      "needs_background": "light"
     },
     "output_type": "display_data"
    }
   ],
   "source": [
    "#the Pade scheme\n",
    "num_pade = 20\n",
    "b = np.zeros(2 * num_pade)\n",
    "mat_xi = np.zeros((2 * num_pade, 2 * num_pade))\n",
    "mat_varsigma = np.zeros((2 * num_pade - 1, 2 * num_pade - 1))\n",
    "tilde_eta = np.zeros(num_pade, dtype = complex)         # namely cpcoef in evaluatepara.f90 \n",
    "pole = np.zeros(num_pade, dtype = complex)              # namely cppole in evaluatepara.f90\n",
    "\n",
    "\n",
    "\n",
    "for i in range(2 * num_pade):\n",
    "    b[i] = 2 * (i) + 1\n",
    "\n",
    "for i in range(2 * num_pade):\n",
    "    for j in range(2 * num_pade):\n",
    "        if (i == j-1 or i == j+1) :\n",
    "            mat_xi[i,j] = 1.0 / np.sqrt(b[i] * b[j])\n",
    "\n",
    "eigval_xi, eigvec_xi = np.linalg.eig(mat_xi) \n",
    "eigval_xi = np.sort(eigval_xi)\n",
    "            \n",
    "for i in range(2 * num_pade -1):\n",
    "    for j in range(2 * num_pade -1):\n",
    "        if (i == j-1 or i == j+1) :\n",
    "            mat_varsigma[i,j] = 1.0 / np.sqrt(b[i+1] * b[j+1])\n",
    "\n",
    "eigval_varsigma, eigvec_varsigma = np.linalg.eig(mat_varsigma)\n",
    "eigval_varsigma = np.sort(eigval_varsigma)\n",
    "\n",
    "\n",
    "for i in range(num_pade):\n",
    "    pole[i] = (0. +2.j) / abs(eigval_xi[i])\n",
    "    eigval_xi[i] = 4.0 / eigval_xi[i]**2\n",
    "for i in range(num_pade-1):\n",
    "    eigval_varsigma[i] = 4.0 / eigval_varsigma[i]**2\n",
    "\n",
    "for i in range(num_pade):\n",
    "    tilde_eta[i] = 0.5 * num_pade * (2 * num_pade + 1)\n",
    "    for j in range(i):\n",
    "        tilde_eta[i] = tilde_eta[i] * (eigval_varsigma[j] - eigval_xi[i]) / (eigval_xi[j] - eigval_xi[i])\n",
    "    for j in range(i+1,num_pade):\n",
    "        tilde_eta[i] = tilde_eta[i] * (eigval_varsigma[j-1] - eigval_xi[i]) / (eigval_xi[j] - eigval_xi[i])\n",
    "    tilde_eta[i] = (-1. +0.j) * tilde_eta[i]\n",
    "\n",
    "fermi_pade = np.zeros(omega_sample, dtype = np.complex128)\n",
    "for i in range(omega_sample):\n",
    "    fermi_pade[i] = 0.5\n",
    "    for j in range(num_pade):\n",
    "        fermi_pade[i] = fermi_pade[i] + tilde_eta[j] / ((omega[i] - chemical_potential) / T + pole[j]) \\\n",
    "                                      + tilde_eta[j] / ((omega[i] - chemical_potential) / T - pole[j])\n",
    "\n",
    "        \n",
    "plt.title(\"Fermi function\") \n",
    "plt.xlabel(\"frequency\") \n",
    "plt.ylabel(\"f(w)\") \n",
    "plt.plot(omega, fermi, label = 'exact')\n",
    "#plt.plot(omega, fermi_mats.real, label = 'Matsubara', linestyle = '--')\n",
    "plt.plot(omega, fermi_pade.real, label = 'Pade', linestyle = '-.')\n",
    "plt.legend(loc=1)\n",
    "plt.xlim(chemical_potential-50,chemical_potential+50)\n",
    "plt.show()"
   ]
  },
  {
   "cell_type": "code",
   "execution_count": 5,
   "id": "93348ad9",
   "metadata": {},
   "outputs": [
    {
     "name": "stdout",
     "output_type": "stream",
     "text": [
      "pade_diss_rate \n",
      " [ -2.        +0.j  -0.06283185+0.j  -0.18849556+0.j  -0.31415927+0.j\n",
      "  -0.43982297+0.j  -0.56548668+0.j  -0.69115038+0.j  -0.81681409+0.j\n",
      "  -0.9424778 +0.j  -1.0681415 +0.j  -1.19380535+0.j  -1.31949279+0.j\n",
      "  -1.44619637+0.j  -1.58443278+0.j  -1.76495399+0.j  -2.02608389+0.j\n",
      "  -2.42072165+0.j  -3.05905273+0.j  -4.22944946+0.j  -6.99190012+0.j\n",
      " -20.89157037+0.j]\n",
      "pade_eta \n",
      " [0.46163476-1.71070758j 0.        -0.01848363j 0.        -0.01863088j\n",
      " 0.        -0.01893253j 0.        -0.01940378j 0.        -0.02006985j\n",
      " 0.        -0.02096963j 0.        -0.02216192j 0.        -0.02373645j\n",
      " 0.        -0.02583409j 0.        -0.0286862j  0.        -0.03272508j\n",
      " 0.        -0.03973257j 0.        -0.06039882j 0.        -0.14225723j\n",
      " 0.        +1.77002799j 0.        +0.15481247j 0.        +0.0909147j\n",
      " 0.        +0.0697597j  0.        +0.06048296j 0.        +0.05673243j]\n",
      "pade_eta * hbar**2 \n",
      " [0.2-0.74115198j 0. -0.0080079j  0. -0.0080717j  0. -0.00820239j\n",
      " 0. -0.00840655j 0. -0.00869512j 0. -0.00908494j 0. -0.00960149j\n",
      " 0. -0.01028365j 0. -0.01119244j 0. -0.01242809j 0. -0.01417791j\n",
      " 0. -0.01721386j 0. -0.02616736j 0. -0.06163194j 0. +0.76685213j\n",
      " 0. +0.06707141j 0. +0.03938815j 0. +0.0302229j  0. +0.02620381j\n",
      " 0. +0.02457892j]\n"
     ]
    }
   ],
   "source": [
    "# Here we test the nalf = 1, spin = ↑, norbs = 1 and nsgn = (+ or 1). \n",
    "# the coefficients eta and gamma only sum over the number of poles.\n",
    "eta_pade = np.zeros(num_pade + 1, dtype = complex)               # namely cb in evaluatepara.f90\n",
    "diss_rate_pade = np.zeros(num_pade + 1, dtype = complex)         # namely cgamma in evaluatepara.f90\n",
    "\n",
    "spectral_diss_rate_pade = (band_width - 1.j * band_center) / hbar\n",
    "spectral_eta_pade = 0.5 * sys_bath_coupling * band_width \\\n",
    "                   * fermi_by_pade((1.j * spectral_diss_rate - chemical_potential) * hbar) / hbar**2\n",
    "\n",
    "diss_rate_pade[0] = spectral_diss_rate_pade\n",
    "eta_pade[0] = spectral_eta_pade\n",
    "\n",
    "for i in range(1, num_pade + 1):\n",
    "    diss_rate_pade[i] = -1.j * T * pole[i - 1] / hbar\n",
    "    eta_pade[i] = 2.j * tilde_eta[i - 1] * sys_bath_coupling * 0.5 * band_width**2 * T \\\n",
    "             / ( (pole[i - 1] * T - band_center)**2 + band_width**2 ) / hbar**2\n",
    "\n",
    "print('pade_diss_rate \\n', -1 * diss_rate_pade * hbar)\n",
    "print('pade_eta \\n', eta_pade)\n",
    "print('pade_eta * hbar**2 \\n', eta_pade * hbar**2)"
   ]
  },
  {
   "cell_type": "code",
   "execution_count": 6,
   "id": "8e83097b",
   "metadata": {},
   "outputs": [],
   "source": [
    "# compare the pade results and the exact correlation function in time domain\n",
    "# exact results\n",
    "\n",
    "# for i in range(time_sample_for_corr):\n",
    "#     bath_corr_exact_real[i],err = integrate.quad(fdt_real, a = -100, b = 100, args=(tt_for_corr[i]), limit = 20000)\n",
    "#     bath_corr_exact_imag[i],err = integrate.quad(fdt_imag, a = -200, b = 200, args=(tt_for_corr[i]), limit = 10000)\n",
    "#     bath_corr_exact[i] = complex(bath_corr_exact_real[i], bath_corr_exact_imag[i])\n",
    "\n",
    "# print('Done!')"
   ]
  },
  {
   "cell_type": "code",
   "execution_count": 7,
   "id": "40a8daed",
   "metadata": {
    "scrolled": true
   },
   "outputs": [
    {
     "name": "stdout",
     "output_type": "stream",
     "text": [
      "Done!\n"
     ]
    }
   ],
   "source": [
    "# pade results\n",
    "for i in range(time_sample_for_corr):\n",
    "    for j in range(num_pade + 1):\n",
    "        bath_corr_psd[i] = bath_corr_psd[i] + eta_pade[j] * hbar**2 * np.exp(-1 * diss_rate_pade[j] * hbar * tt_for_corr[i])\n",
    "\n",
    "print('Done!')"
   ]
  },
  {
   "cell_type": "code",
   "execution_count": 8,
   "id": "03a9cd8d",
   "metadata": {},
   "outputs": [
    {
     "name": "stdout",
     "output_type": "stream",
     "text": [
      "phi.real\n",
      " [1.89304239e-70 1.79472522e-70 1.70151426e-70 1.61314431e-70\n",
      " 1.52936395e-70 1.44993481e-70 1.37463091e-70 1.30323799e-70\n",
      " 1.23555294e-70 1.17138319e-70 1.11054616e-70 1.05286877e-70\n",
      " 9.98186909e-71 9.46345013e-71 8.97195580e-71 8.50598775e-71\n",
      " 8.06422025e-71 7.64539641e-71 7.24832463e-71 6.87187520e-71\n",
      " 6.51497706e-71]\n",
      "phi.imag\n",
      " [-5.43363129e-05 -5.42453393e-05 -5.41545181e-05 -5.40638490e-05\n",
      " -5.39733317e-05 -5.38829659e-05 -5.37927515e-05 -5.37026882e-05\n",
      " -5.36127757e-05 -5.35230138e-05 -5.34334021e-05 -5.33439406e-05\n",
      " -5.32546288e-05 -5.31654666e-05 -5.30764537e-05 -5.29875899e-05\n",
      " -5.28988748e-05 -5.28103084e-05 -5.27218902e-05 -5.26336201e-05\n",
      " -5.25454978e-05]\n",
      "Done!\n"
     ]
    }
   ],
   "source": [
    "dimension_Hankel = 1500\n",
    "num_prony = 10\n",
    "\n",
    "tt_for_prony_min = 0.0\n",
    "tt_for_prony_max = 80.0\n",
    "time_sample_for_prony =  2 * dimension_Hankel + 1\n",
    "tt_for_prony = np.linspace(tt_for_prony_min, tt_for_prony_max, time_sample_for_prony)\n",
    "hankel_matrix_real = np.zeros((dimension_Hankel + 1, dimension_Hankel + 1))\n",
    "hankel_matrix_imag = np.zeros((dimension_Hankel + 1, dimension_Hankel + 1))\n",
    "phi = np.zeros(time_sample_for_prony,dtype=complex)\n",
    "\n",
    "phi = T_fit(tt_for_prony, phi, diss_rate_pade * hbar, eta_pade * hbar**2)\n",
    "\n",
    "print(\"phi.real\\n\",phi[2980:].real)\n",
    "print(\"phi.imag\\n\",phi[2980:].imag)\n",
    "       \n",
    "print('Done!')"
   ]
  },
  {
   "cell_type": "code",
   "execution_count": 9,
   "id": "a0a13f27",
   "metadata": {},
   "outputs": [],
   "source": [
    "def prony(res_t, num_prony, scale, n): \n",
    "    # input a array of reservoir correlation funcation C(t) at different times\n",
    "    # build the Hankel matrix\n",
    "    n_sample = n + 1\n",
    "    print(n_sample)\n",
    "    n_gamma = num_prony\n",
    "    h = np.imag(res_t)\n",
    "    H = np.zeros((n_sample, n_sample))\n",
    "    for i in range(n_sample):\n",
    "        H[i, :] = h[i:n_sample + i]\n",
    "    \n",
    "    # takagi factoriziation for imagnary part Im[C(t)]\n",
    "    sing_vs, Q = linalg.eigh(H)\n",
    "    phase_mat = np.diag(\n",
    "        [np.exp(-1j * np.angle(sing_v) / 2.0) for sing_v in sing_vs])\n",
    "    vs = np.array([np.abs(sing_v) for sing_v in sing_vs])\n",
    "    Qp = np.dot(Q, phase_mat)\n",
    "    sort_array = np.argsort(vs)[::-1]\n",
    "    vs = vs[sort_array]\n",
    "    Qp = (Qp[:, sort_array])   \n",
    "    print(\"error of decompose\", np.sum(np.abs(H -\n",
    "                   np.dot(np.dot(Qp, np.diag(vs)), (np.transpose(Qp))))))\n",
    "    del H\n",
    "    gamma = np.roots(Qp[:, num_prony][::-1])\n",
    "    tmp_index = gamma != 0\n",
    "    gamma = gamma[tmp_index]\n",
    "    gamma_new = gamma[np.argsort(np.abs(gamma))[:num_prony]]\n",
    "    t_imag = 2 * n * np.log(gamma_new)\n",
    "    gamma_m = np.zeros((n_sample * 2 - 1, num_prony), dtype=complex)\n",
    "    for i in range(num_prony):\n",
    "        for j in range(n_sample * 2 - 1):\n",
    "            gamma_m[j, i] = gamma_new[i]**j\n",
    "    omega_imag = np.dot(linalg.inv(np.dot(np.transpose(gamma_m), gamma_m)),\n",
    "                        np.dot(np.transpose(gamma_m), np.transpose(h)))\n",
    "    plt.scatter(np.real(gamma),np.imag(gamma))\n",
    "    plt.scatter(np.real(gamma_new),np.imag(gamma_new))\n",
    "    plt.show()\n",
    "    print(\"prony: takagi decompostion for imagnary part:\\n\", gamma_new)\n",
    "    \n",
    "    # takagi factoriziation for real part Re[C(t)]\n",
    "    h = np.real(res_t)\n",
    "    H = np.zeros((n_sample, n_sample))\n",
    "    for i in range(n_sample):\n",
    "        H[i, :] = h[i:n_sample + i]\n",
    "    sing_vs, Q = linalg.eigh(H)\n",
    "    \n",
    "    phase_mat = np.diag(\n",
    "    [np.exp(-1j * np.angle(sing_v) / 2.0) for sing_v in sing_vs])\n",
    "    vs = np.array([np.abs(sing_v) for sing_v in sing_vs])\n",
    "    Qp = np.dot(Q, phase_mat)\n",
    "    sort_array = np.argsort(vs)[::-1]\n",
    "    vs = vs[sort_array]\n",
    "    Qp = (Qp[:, sort_array])\n",
    "    print(\n",
    "        \"error of decompose\",\n",
    "        np.sum(np.abs(H -\n",
    "                  np.dot(np.dot(Qp, np.diag(vs)), (np.transpose(Qp))))))\n",
    "    \n",
    "    gamma = np.roots(Qp[:, num_prony][::-1])\n",
    "    tmp_index = gamma != 0\n",
    "    gamma = gamma[tmp_index]\n",
    "    print(\"para\")\n",
    "    print(Qp[:, num_prony][::-1])\n",
    "    \n",
    "    gamma_new = gamma[np.argsort(np.abs(gamma))[:num_prony]]\n",
    "    t_real = 2 * n * np.log(gamma_new)\n",
    "    gamma_m = np.zeros((n_sample * 2 - 1, num_prony), dtype=complex)\n",
    "    for i in range(num_prony):\n",
    "        for j in range(n_sample * 2 - 1):\n",
    "            gamma_m[j, i] = gamma_new[i]**j\n",
    "    omega_real = np.dot(linalg.inv(np.dot(np.transpose(gamma_m), gamma_m)),\n",
    "                        np.dot(np.transpose(gamma_m), np.transpose(h)))\n",
    "    plt.scatter(np.real(gamma),np.imag(gamma))\n",
    "    plt.scatter(np.real(gamma_new),np.imag(gamma_new))\n",
    "    plt.show()\n",
    "    print(\"prony: takagi decompostion for real part:\\n\", gamma_new)\n",
    "    \n",
    "    eta = np.append(1.j * omega_imag, omega_real)\n",
    "    diss_rate = np.append(-t_imag / scale, -t_real / scale)\n",
    "    \n",
    "    return eta, diss_rate"
   ]
  },
  {
   "cell_type": "code",
   "execution_count": 10,
   "id": "9df60c36",
   "metadata": {},
   "outputs": [
    {
     "name": "stdout",
     "output_type": "stream",
     "text": [
      "1501\n",
      "error of decompose 3.683807851371071e-12\n"
     ]
    },
    {
     "data": {
      "image/png": "[encoded data removed]",
      "text/plain": [
       "<Figure size 432x288 with 1 Axes>"
      ]
     },
     "metadata": {
      "needs_background": "light"
     },
     "output_type": "display_data"
    },
    {
     "name": "stdout",
     "output_type": "stream",
     "text": [
      "prony: takagi decompostion for imagnary part:\n",
      " [0.57277925+0.00000000e+00j 0.82877097-1.56214906e-16j\n",
      " 0.89304056-4.68488798e-16j 0.93286934+8.15441604e-17j\n",
      " 0.96005197-5.94818745e-15j 0.97640461+1.92484917e-14j\n",
      " 0.98587845-2.69571964e-14j 0.9913267 +9.70786594e-15j\n",
      " 0.99497724-1.00175126e-15j 0.99832587-3.20576898e-15j]\n",
      "error of decompose 2.084677306422948e-14\n",
      "para\n",
      "[ 2.26236500e-51-3.69472244e-35j  1.42910656e-50-2.33390813e-34j\n",
      " -2.93856536e-51+4.79904143e-35j ... -1.40881384e-18+2.30076761e-02j\n",
      "  1.32040290e-18-2.15638158e-02j  0.00000000e+00+0.00000000e+00j]\n"
     ]
    },
    {
     "data": {
      "image/png": "[encoded data removed]",
      "text/plain": [
       "<Figure size 432x288 with 1 Axes>"
      ]
     },
     "metadata": {
      "needs_background": "light"
     },
     "output_type": "display_data"
    },
    {
     "name": "stdout",
     "output_type": "stream",
     "text": [
      "prony: takagi decompostion for real part:\n",
      " [-0.3801067 +0.00000000e+00j  0.25970789-2.80028015e-01j\n",
      "  0.25970789+2.80028015e-01j -0.10920536-7.96457182e-01j\n",
      " -0.10920536+7.96457182e-01j  0.94806394+8.40526396e-17j\n",
      "  0.67000587+6.74005489e-01j  0.67000587-6.74005489e-01j\n",
      " -0.97664026+1.49778846e-01j -0.97664026-1.49778846e-01j]\n",
      "Done!\n",
      "diss_rate_prony\n",
      " [20.89705854-0.00000000e+00j  7.04292895+7.06836896e-15j\n",
      "  4.24212312+1.96724883e-14j  2.60587975-3.27795745e-15j\n",
      "  1.52879475+2.32338494e-13j  0.89543312-7.39261602e-13j\n",
      "  0.53333265+1.02537474e-12j  0.32666754-3.67230070e-13j\n",
      "  0.18882813+3.77553081e-14j  0.06283236+1.20417932e-13j\n",
      " 36.27387329-1.17809725e+02j 36.09527696+3.08635749e+01j\n",
      " 36.09527696-3.08635749e+01j  8.18508997+6.40147704e+01j\n",
      "  8.18508997-6.40147704e+01j  2.        -3.32464284e-15j\n",
      "  1.90914269-2.95640265e+01j  1.90914269+2.95640265e+01j\n",
      "  0.45049553-1.12103137e+02j  0.45049553+1.12103137e+02j]\n",
      "eta_prony\n",
      " [-1.10163066e-14+2.45601433e-02j  1.10801492e-13+2.53318126e-02j\n",
      " -3.23429717e-13+3.50029690e-02j  4.86579228e-13+1.23837472e-01j\n",
      " -5.76879551e-13-1.26015540e-01j  6.56792418e-13-3.77225031e-02j\n",
      " -6.68130984e-13-1.84347537e-02j  4.81172128e-13-1.03764414e-02j\n",
      " -1.90602312e-13-8.17493999e-03j  3.42716377e-14-8.00817927e-03j\n",
      " -1.89084859e-16+8.91387658e-15j -1.24726618e-15+5.86336535e-15j\n",
      "  6.36123099e-15-1.04191829e-14j -4.32813507e-16+9.31871767e-16j\n",
      "  5.46193949e-16+5.45570533e-16j  2.00000000e-01-4.00382310e-16j\n",
      " -4.05085037e-16-1.69609877e-17j  1.70761842e-18+9.02056208e-17j\n",
      "  8.67361738e-18-5.57550967e-17j  3.33934269e-17+8.80914265e-19j]\n"
     ]
    }
   ],
   "source": [
    "bath_corr_prony = np.zeros(time_sample_for_corr, dtype=complex)\n",
    "\n",
    "eta_prony = np.zeros(2 * num_prony , dtype = complex)\n",
    "diss_rate_prony = np.zeros(2 * num_prony, dtype = complex)\n",
    "\n",
    "eta_prony, diss_rate_prony = prony(phi, num_prony, 80, dimension_Hankel)\n",
    "\n",
    "for i in range(time_sample_for_corr):\n",
    "    for j in range(2 * num_prony):\n",
    "        bath_corr_prony[i] = bath_corr_prony[i] + eta_prony[j] * np.exp(-1 * diss_rate_prony[j] * tt_for_corr[i])\n",
    "\n",
    "print('Done!')\n",
    "\n",
    "print(\"diss_rate_prony\\n\", diss_rate_prony)\n",
    "print(\"eta_prony\\n\", eta_prony)"
   ]
  },
  {
   "cell_type": "code",
   "execution_count": 11,
   "id": "8bc51c4e",
   "metadata": {},
   "outputs": [
    {
     "data": {
      "image/png": "[encoded data removed]",
      "text/plain": [
       "<Figure size 432x288 with 1 Axes>"
      ]
     },
     "metadata": {
      "needs_background": "light"
     },
     "output_type": "display_data"
    }
   ],
   "source": [
    "plt.title(\"correlation function\") \n",
    "plt.xlabel(\"time\") \n",
    "plt.ylabel(\"C(t)\") \n",
    "plt.plot(tt_for_corr, bath_corr_psd.real, label = 'Pade_real', linestyle = '-.', color = 'k') \n",
    "plt.plot(tt_for_corr, bath_corr_psd.imag, label = 'Pade_image', linestyle = '-.', color = 'k') \n",
    "plt.plot(tt_for_corr, bath_corr_exact_real, label = 'exact_real', color = 'r') \n",
    "plt.plot(tt_for_corr, bath_corr_exact_imag, label = 'exact_imag', color = 'r') \n",
    "plt.plot(tt_for_corr, bath_corr_prony.real, label = 'prony_real', linestyle = '--', color = 'g')\n",
    "plt.plot(tt_for_corr, bath_corr_prony.imag, label = 'prony_imag', linestyle = '--', color = 'g')\n",
    "plt.legend(loc=1)\n",
    "plt.xlim(-0.1, 3)\n",
    "plt.show()"
   ]
  },
  {
   "cell_type": "code",
   "execution_count": 12,
   "id": "8d4f2657",
   "metadata": {},
   "outputs": [],
   "source": [
    "bath_corr_psd_freq = np.zeros(omega_sample, dtype = complex)\n",
    "#bath_corr_prony_imag_freq = np.zeros(omega_sample, dtype = complex)\n",
    "#bath_corr_prony_real_freq = np.zeros(omega_sample, dtype = complex)\n",
    "bath_corr_prony_freq = np.zeros(omega_sample, dtype = complex)\n",
    "\n",
    "bath_corr_psd_freq = J_fit(omega, bath_corr_psd_freq, diss_rate_pade * hbar, eta_pade * hbar**2)\n",
    "bath_corr_prony_freq = J_fit(omega, bath_corr_prony_freq, diss_rate_prony, eta_prony)\n",
    "#bath_corr_prony_imag_freq[i] = J_fit(omega_freq[i], diss_rate_prony_imag, eta_prony_imag)\n",
    "#bath_corr_prony_real_freq[i] = J_fit(omega_freq[i], diss_rate_prony_real, eta_prony_real)"
   ]
  },
  {
   "cell_type": "code",
   "execution_count": 14,
   "id": "b26329b4",
   "metadata": {},
   "outputs": [
    {
     "data": {
      "image/png": "[encoded data removed]",
      "text/plain": [
       "<Figure size 432x288 with 1 Axes>"
      ]
     },
     "metadata": {
      "needs_background": "light"
     },
     "output_type": "display_data"
    },
    {
     "name": "stdout",
     "output_type": "stream",
     "text": [
      " -0.03999999999999204 \n",
      " psd   0.17608898000356601 \n",
      " exact 0.17608898000356676 \n",
      " prony 0.17608898635281145\n",
      "\n",
      " 0.0 \n",
      " psd   0.1 \n",
      " exact 0.1 \n",
      " prony 0.09999999999997793\n",
      "\n",
      " 0.04000000000000625 \n",
      " psd   0.023831051983624212 \n",
      " exact 0.02383105198362349 \n",
      " prony 0.02383104563441703\n"
     ]
    }
   ],
   "source": [
    "plt.title(\"correlation function\") \n",
    "plt.xlabel(\"ω / Γ\") \n",
    "plt.ylabel(\"C(ω)\")\n",
    "plt.scatter(omega, bath_corr_psd_freq.real, label = 'Pade_real', s = 2, color = 'k')\n",
    "plt.plot(omega, bath_corr_exact_freq.real, label = 'exact_real', linestyle = '-.', color = 'r')\n",
    "plt.plot(omega, bath_corr_prony_freq.real, label = 'Prony_real', linestyle = '--', color = 'g')\n",
    "plt.legend(loc=1)\n",
    "#plt.xlim(-25, 25)\n",
    "#plt.ylim(-0.01, 0.01)\n",
    "plt.show()\n",
    "\n",
    "x = 2500\n",
    "a = max(np.abs(bath_corr_psd_freq.real))\n",
    "b = max(np.abs(bath_corr_exact_freq.real))\n",
    "c = max(np.abs(bath_corr_prony_freq.real))\n",
    "print('',omega[x-1],'\\n psd  ',(bath_corr_psd_freq[x-1]).real,'\\n exact',bath_corr_exact_freq[x-1],\\\n",
    "      '\\n prony',(bath_corr_prony_freq[x-1]).real)\n",
    "print()\n",
    "print('',omega[x],'\\n psd  ',(bath_corr_psd_freq[x]).real,'\\n exact',bath_corr_exact_freq[x],\\\n",
    "      '\\n prony',(bath_corr_prony_freq[x]).real)\n",
    "print()\n",
    "print('',omega[x+1],'\\n psd  ',(bath_corr_psd_freq[x+1]).real,'\\n exact',bath_corr_exact_freq[x+1],\\\n",
    "      '\\n prony',(bath_corr_prony_freq[x+1]).real)"
   ]
  }
 ],
 "metadata": {
  "kernelspec": {
   "display_name": "Python 3",
   "language": "python",
   "name": "python3"
  },
  "language_info": {
   "codemirror_mode": {
    "name": "ipython",
    "version": 3
   },
   "file_extension": ".py",
   "mimetype": "text/x-python",
   "name": "python",
   "nbconvert_exporter": "python",
   "pygments_lexer": "ipython3",
   "version": "3.8.8"
  }
 },
 "nbformat": 4,
 "nbformat_minor": 5
}
