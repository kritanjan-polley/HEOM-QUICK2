{
 "cells": [
  {
   "cell_type": "code",
   "execution_count": 1,
   "id": "fc2a91a2",
   "metadata": {},
   "outputs": [],
   "source": [
    "import numpy as np\n",
    "from scipy import integrate, linalg, optimize\n",
    "from matplotlib import pyplot as plt \n",
    "\n",
    "def takagi_chen(H):\n",
    "    # takagi factoriziation part\n",
    "    sing_vs, Q = linalg.eigh(H)     \n",
    "    phase_mat = np.diag(\n",
    "                [np.exp(-1.j * np.angle(sing_v) / 2.0) for sing_v in sing_vs])\n",
    "    \n",
    "    vs = np.array([np.abs(sing_v) for sing_v in sing_vs])\n",
    "    Qp = np.dot(Q, phase_mat)  \n",
    "    sort_array = np.argsort(vs)[::-1]\n",
    "    vs = vs[sort_array]  \n",
    "    Qp = (Qp[:, sort_array])\n",
    "\n",
    "    return vs, Qp\n",
    "\n",
    "def takagi_stra(N, tol=1e-13, rounding=13):\n",
    "    r\"\"\"Autonne-Takagi decomposition of a complex symmetric (not Hermitian!) matrix.\n",
    "\n",
    "    Note that singular values of N are considered equal if they are equal after np.round(values, tol).\n",
    "\n",
    "    See :cite:`cariolaro2016` and references therein for a derivation.\n",
    "\n",
    "    Args:\n",
    "        N (array[complex]): square, symmetric matrix N\n",
    "        rounding (int): the number of decimal places to use when rounding the singular values of N\n",
    "        tol (float): the tolerance used when checking if the input matrix is symmetric: :math:`|N-N^T| <` tol\n",
    "\n",
    "    Returns:\n",
    "        tuple[array, array]: (rl, U), where rl are the (rounded) singular values,\n",
    "            and U is the Takagi unitary, such that :math:`N = U \\diag(rl) U^T`.\n",
    "    \"\"\"\n",
    "    (n, m) = N.shape\n",
    "    if n != m:\n",
    "        raise ValueError(\"The input matrix must be square\")\n",
    "    if np.linalg.norm(N - np.transpose(N)) >= tol:\n",
    "        raise ValueError(\"The input matrix is not symmetric\")\n",
    "\n",
    "    N = np.real_if_close(N)\n",
    "\n",
    "    if np.allclose(N, 0):\n",
    "        return np.zeros(n), np.eye(n)\n",
    "\n",
    "    if np.isrealobj(N):\n",
    "        # If the matrix N is real one can be more clever and use its eigendecomposition\n",
    "        l, U = np.linalg.eigh(N)\n",
    "        vals = np.abs(l)  # These are the Takagi eigenvalues\n",
    "        phases = np.sqrt(np.complex128([1 if i > 0 else -1 for i in l]))\n",
    "        Uc = U @ np.diag(phases)  # One needs to readjust the phases\n",
    "        list_vals = [(vals[i], i) for i in range(len(vals))]\n",
    "        list_vals.sort(reverse=True)\n",
    "        sorted_l, permutation = zip(*list_vals)\n",
    "        permutation = np.array(permutation)\n",
    "        Uc = Uc[:, permutation]\n",
    "        # And also rearrange the unitary and values so that they are decreasingly ordered\n",
    "        return np.array(sorted_l), Uc\n",
    "\n",
    "    v, l, ws = np.linalg.svd(N)\n",
    "    w = np.transpose(np.conjugate(ws))\n",
    "    rl = np.round(l, rounding)\n",
    "\n",
    "    # Generate list with degenerancies\n",
    "    result = []\n",
    "    for k, g in groupby(rl):\n",
    "        result.append(list(g))\n",
    "\n",
    "    # Generate lists containing the columns that correspond to degenerancies\n",
    "    kk = 0\n",
    "    for k in result:\n",
    "        for ind, j in enumerate(k):  # pylint: disable=unused-variable\n",
    "            k[ind] = kk\n",
    "            kk = kk + 1\n",
    "\n",
    "    # Generate the lists with the degenerate column subspaces\n",
    "    vas = []\n",
    "    was = []\n",
    "    for i in result:\n",
    "        vas.append(v[:, i])\n",
    "        was.append(w[:, i])\n",
    "\n",
    "    # Generate the matrices qs of the degenerate subspaces\n",
    "    qs = []\n",
    "    for i in range(len(result)):\n",
    "        qs.append(sqrtm(np.transpose(vas[i]) @ was[i]))\n",
    "\n",
    "    # Construct the Takagi unitary\n",
    "    qb = block_diag(*qs)\n",
    "\n",
    "    U = v @ np.conj(qb)\n",
    "    return rl, U\n",
    "\n",
    "def psd(npade):\n",
    "    \n",
    "    b = np.zeros(2 * npade)\n",
    "    mat_xi = np.zeros((2 * npade, 2 * npade))\n",
    "    mat_varsigma = np.zeros((2 * npade - 1, 2 * npade - 1))\n",
    "    tilde_eta_ = np.zeros(npade, dtype = complex)         # namely cpcoef in evaluatepara.f90\n",
    "    pole_ = np.zeros(npade, dtype = complex)              # namely cppole in evaluatepara.f90\n",
    "\n",
    "    for i in range(2 * npade):\n",
    "        b[i] = 2 * (i) + 1\n",
    "\n",
    "    for i in range(2 * npade):\n",
    "        for j in range(2 * npade):\n",
    "            if (i == j-1 or i == j+1) :\n",
    "                mat_xi[i,j] = 1.0 / np.sqrt(b[i] * b[j])\n",
    "\n",
    "    eigval_xi, eigvec_xi = np.linalg.eig(mat_xi) \n",
    "    eigval_xi = np.sort(eigval_xi)\n",
    "            \n",
    "    for i in range(2 * npade - 1):\n",
    "        for j in range(2 * npade -1):\n",
    "            if (i == j-1 or i == j+1) :\n",
    "                mat_varsigma[i,j] = 1.0 / np.sqrt(b[i+1] * b[j+1])\n",
    "\n",
    "    eigval_varsigma, eigvec_varsigma = np.linalg.eig(mat_varsigma)\n",
    "    eigval_varsigma = np.sort(eigval_varsigma)\n",
    "\n",
    "    for i in range(npade):\n",
    "        pole_[i] = (0. + 2.j) / abs(eigval_xi[i])\n",
    "        eigval_xi[i] = 4.0 / eigval_xi[i]**2\n",
    "    for i in range(npade-1):\n",
    "        eigval_varsigma[i] = 4.0 / eigval_varsigma[i]**2\n",
    "\n",
    "    for i in range(npade):\n",
    "        tilde_eta_[i] = 0.5 * npade * (2 * npade + 1)\n",
    "        for j in range(i):\n",
    "            tilde_eta_[i] = tilde_eta_[i] * (eigval_varsigma[j] - eigval_xi[i]) / (eigval_xi[j] - eigval_xi[i])\n",
    "        for j in range(i+1,npade):\n",
    "            tilde_eta_[i] = tilde_eta_[i] * (eigval_varsigma[j-1] - eigval_xi[i]) / (eigval_xi[j] - eigval_xi[i])\n",
    "        tilde_eta_[i] = (-1. + 0.j) * tilde_eta_[i]\n",
    "    \n",
    "    return pole_, tilde_eta_\n",
    "\n",
    "def fdt_real(omega, t):\n",
    "    t = np.array([t], dtype=np.float128)\n",
    "    if (omega / T) <= 50:\n",
    "        fun = np.exp(1.j * omega * t[0]) \\\n",
    "              * (0.5 * sys_bath_coupling * (band_width**2)) / ((omega - sigma * band_center)**2 + band_width**2)\\\n",
    "              / (1.0 + np.exp( omega / T ))\n",
    "    elif (omega / T) > 50:\n",
    "        fun = np.exp(1.j * omega * t[0]) \\\n",
    "              * (0.5 * sys_bath_coupling * (band_width**2)) / ((omega - sigma * band_center)**2 + band_width**2)\\\n",
    "              / 10e+22\n",
    "    #print('C(w,t)',omega,t,fun)\n",
    "    return fun.real\n",
    "\n",
    "def fdt_imag(omega, t):\n",
    "    t = np.array([t], dtype=np.float128)\n",
    "    if (omega / T) <= 50:\n",
    "        fun = np.exp(1.j * omega * t[0]) \\\n",
    "              * (0.5 * sys_bath_coupling * (band_width**2)) / ((omega - sigma * band_center)**2 + band_width**2)\\\n",
    "              / (1.0 + np.exp( omega / T ))\n",
    "    elif (omega / T) > 50:\n",
    "        fun = np.exp(1.j * omega * t[0]) \\\n",
    "              * (0.5 * sys_bath_coupling * (band_width**2)) / ((omega - sigma * band_center)**2 + band_width**2)\\\n",
    "              / 10e+22\n",
    "    #print('C(w,t)',omega,t,fun)\n",
    "    return fun.imag\n",
    "\n",
    "def Jfermi_exact(omega):\n",
    "    if (omega / T) <= 50:\n",
    "        fun = 1.0 * (0.5 * sys_bath_coupling * (band_width**2)) / ((omega - sigma *  band_center)**2 + band_width**2)\\\n",
    "              / (1.0 + np.exp( omega / T ))\n",
    "    elif (omega / T) > 50:\n",
    "        fun = 1.0 * (0.5 * sys_bath_coupling * (band_width**2)) / ((omega - sigma *  band_center)**2 + band_width**2)\\\n",
    "              / 10e+22\n",
    "    return fun\n",
    "\n",
    "def fermi_by_pade(omega):\n",
    "    result = 0.5\n",
    "    for j in range(num_pade):\n",
    "        result = result + tilde_eta[j] / (omega / T + pole[j]) \\\n",
    "                        + tilde_eta[j] / (omega / T - pole[j])\n",
    "    return result\n",
    "\n",
    "def J_fit(omega, rate, eta):\n",
    "    fun = 0\n",
    "    for i in range(len(rate)):\n",
    "        fun = fun + eta[i] / (rate[i] + 1.j * omega )\n",
    "    return fun\n",
    "\n",
    "def mat_fliter(input_mat,crit=1e-9):\n",
    "    input_mat_real = input_mat.real\n",
    "    input_mat_imag = input_mat.imag\n",
    "    input_mat_real[np.abs(input_mat_real) < crit] = 0\n",
    "    input_mat_imag[np.abs(input_mat_imag) < crit] = 0\n",
    "    return input_mat_real + 1.j * input_mat_imag"
   ]
  },
  {
   "cell_type": "code",
   "execution_count": 2,
   "id": "80160519",
   "metadata": {},
   "outputs": [
    {
     "name": "stdout",
     "output_type": "stream",
     "text": [
      "Done!\n"
     ]
    }
   ],
   "source": [
    "# the information of calculation paratemers\n",
    "hbar = 0.658211928\n",
    "omega_max = 50.0\n",
    "omega_min = -50.0\n",
    "omega_sample = 10000 + 1\n",
    "sigma = 1\n",
    "omega_plt = np.linspace(omega_min, omega_max, omega_sample)\n",
    "omega = np.linspace(omega_min, omega_max, omega_sample)\n",
    "\n",
    "time_max = 400.0\n",
    "time_min = -400.0\n",
    "time_sample = 4000 + 1\n",
    "tt = np.linspace(time_min, time_max, time_sample)\n",
    "\n",
    "tt_for_corr_min = 0.0\n",
    "tt_for_corr_max = 10.0\n",
    "time_sample_for_corr =  1000 + 1\n",
    "tt_for_corr = np.linspace(tt_for_corr_min, tt_for_corr_max, time_sample_for_corr)\n",
    "\n",
    "bath_corr_psd = np.zeros(time_sample_for_corr, dtype=complex)\n",
    "bath_corr_exact = np.zeros(time_sample_for_corr, dtype = complex)\n",
    "bath_corr_exact_real = np.zeros(time_sample_for_corr)\n",
    "bath_corr_exact_imag = np.zeros(time_sample_for_corr)\n",
    "\n",
    "print('Done!')"
   ]
  },
  {
   "cell_type": "code",
   "execution_count": 3,
   "id": "ff8d4158",
   "metadata": {},
   "outputs": [],
   "source": [
    "# the information of fermi funcaiton\n",
    "T = 0.01              #eV\n",
    "\n",
    "# define the fermi function f(w)\n",
    "fermi = np.zeros(omega_sample)\n",
    "for i in range(omega_sample):\n",
    "    if (omega[i] / (T)) <= 50 :\n",
    "        fermi[i] = 1.0 / ( 1.0 + np.exp( omega[i] / (T) ) )\n",
    "    elif (omega[i] / (T)) > 50 :\n",
    "        fermi[i] = 1.0 / 10e+22"
   ]
  },
  {
   "cell_type": "code",
   "execution_count": 4,
   "id": "8ec6150a",
   "metadata": {},
   "outputs": [],
   "source": [
    "# the information of bath spectral funcation J(w)\n",
    "# the Lorentz type J(w) = 0.5 * sys_bath_coupling * band_width**2 / ( (w + band_center)**2 + band_width**2)\n",
    "sys_bath_coupling = 0.2  #eV, is equal to HEOM-QUICK\n",
    "band_width = 2.0         #eV\n",
    "band_center = 0.0       #eV\n",
    "\n",
    "# define J(w)\n",
    "bath_spectral = np.zeros(omega_sample, dtype=complex)\n",
    "bath_spectral = (0.5 * sys_bath_coupling * (band_width**2)) / ((omega - sigma * band_center)**2 + band_width**2)\n",
    "spectral_diss_rate = (band_width - 1.j * sigma * band_center) / hbar\n",
    "spectral_eta = 0.5 * sys_bath_coupling * band_width \\\n",
    "                / ( 1.0 + np.exp((sigma * band_center + 1.j * band_width) / T )) / hbar**2\n",
    "\n",
    "# if J(w) is obtained from realistic denisty of states, instead of a Lorentzian spectra function, please\n",
    "# 1. calculate C(w) = J(w) * f(w)\n",
    "# 2. use the Fourier Transform to obtain the time-domain C(t)\n",
    "# 3. use the Prony fitting scheme to unravel C(t)"
   ]
  },
  {
   "cell_type": "code",
   "execution_count": null,
   "id": "51074674",
   "metadata": {},
   "outputs": [],
   "source": [
    "# thr control parameters of Prony fiting\n",
    "dimension_Hankel = 3000\n",
    "num_prony = 8\n",
    "tt_for_prony_min = 0.0\n",
    "tt_for_prony_max = 120.0"
   ]
  },
  {
   "cell_type": "code",
   "execution_count": 5,
   "id": "eeb133b7",
   "metadata": {
    "scrolled": false
   },
   "outputs": [
    {
     "data": {
      "image/png": "[encoded data removed]",
      "text/plain": [
       "<Figure size 432x288 with 1 Axes>"
      ]
     },
     "metadata": {
      "needs_background": "light"
     },
     "output_type": "display_data"
    },
    {
     "data": {
      "image/png": "[encoded data removed]",
      "text/plain": [
       "<Figure size 432x288 with 1 Axes>"
      ]
     },
     "metadata": {
      "needs_background": "light"
     },
     "output_type": "display_data"
    },
    {
     "data": {
      "image/png": "[encoded data removed]",
      "text/plain": [
       "<Figure size 432x288 with 1 Axes>"
      ]
     },
     "metadata": {
      "needs_background": "light"
     },
     "output_type": "display_data"
    },
    {
     "name": "stdout",
     "output_type": "stream",
     "text": [
      "spectral_pole \n",
      " (2+0j)\n",
      "spectral_eta \n",
      " (0.23081737812298458+0.1355391762938551j)\n"
     ]
    }
   ],
   "source": [
    "plt.title(\"Bath spectral function\") \n",
    "plt.xlabel(\"frequency\") \n",
    "plt.ylabel(\"J(w)\") \n",
    "plt.plot(omega_plt, bath_spectral.real, label = 'J(w)')\n",
    "plt.legend(loc=1)\n",
    "plt.show()\n",
    "\n",
    "plt.title(\"Fermi funcaiton for electron\") \n",
    "plt.xlabel(\"frequency\") \n",
    "plt.ylabel(\"F(w)\") \n",
    "plt.plot(omega_plt, fermi.real, label = 'F(w)')\n",
    "plt.legend(loc=1)\n",
    "plt.show()\n",
    "\n",
    "plt.title(\"spectrum funcaiton for electron\") \n",
    "plt.xlabel(\"frequency\") \n",
    "plt.ylabel(\"j * F(w)\") \n",
    "plt.plot(omega_plt, bath_spectral.real * fermi.real, label = 'J * F(w)')\n",
    "plt.legend(loc=1)\n",
    "plt.show()\n",
    "\n",
    "\n",
    "# bath_corr_exact_freq = bath_spectral * fermi\n",
    "\n",
    "print('spectral_pole \\n', spectral_diss_rate * hbar)\n",
    "print('spectral_eta \\n', spectral_eta)\n"
   ]
  },
  {
   "cell_type": "code",
   "execution_count": 6,
   "id": "6f9da4f6",
   "metadata": {
    "scrolled": false
   },
   "outputs": [
    {
     "name": "stdout",
     "output_type": "stream",
     "text": [
      "run times / total times: 0 / 10000  =  0.00\n",
      "run times / total times: 1000 / 10000  =  0.10\n",
      "run times / total times: 2000 / 10000  =  0.20\n",
      "run times / total times: 3000 / 10000  =  0.30\n",
      "run times / total times: 4000 / 10000  =  0.40\n",
      "run times / total times: 5000 / 10000  =  0.50\n",
      "run times / total times: 6000 / 10000  =  0.60\n",
      "run times / total times: 7000 / 10000  =  0.70\n",
      "run times / total times: 8000 / 10000  =  0.80\n",
      "run times / total times: 9000 / 10000  =  0.90\n",
      "run times / total times: 10000 / 10000  =  1.00\n"
     ]
    },
    {
     "data": {
      "image/png": "[encoded data removed]",
      "text/plain": [
       "<Figure size 432x288 with 1 Axes>"
      ]
     },
     "metadata": {
      "needs_background": "light"
     },
     "output_type": "display_data"
    }
   ],
   "source": [
    "#the Pade scheme\n",
    "num_pade = 100\n",
    "tilde_eta = np.zeros(num_pade, dtype = complex)         # namely cpcoef in evaluatepara.f90 \n",
    "pole = np.zeros(num_pade, dtype = complex)              # namely cppole in evaluatepara.f90\n",
    "\n",
    "pole, tilde_eta = psd(num_pade)\n",
    "\n",
    "if sigma == -1:\n",
    "    pole = np.conj(pole)\n",
    "\n",
    "fermi_pade = np.zeros(omega_sample, dtype = np.complex128)\n",
    "for i in range(omega_sample):\n",
    "    fermi_pade[i] = 0.5\n",
    "    for j in range(num_pade):\n",
    "        fermi_pade[i] = fermi_pade[i] + tilde_eta[j] / (omega[i] / T + pole[j]) \\\n",
    "                                      + tilde_eta[j] / (omega[i] / T - pole[j])\n",
    "    if i % 1000 == 0 :\n",
    "        print(\"run times / total times:\", i ,\"/\", omega_sample-1, \" = \", '%.2f'%(i/(omega_sample-1)))\n",
    "\n",
    "\n",
    "plt.title(\"Fermi function\") \n",
    "plt.xlabel(\"frequency\") \n",
    "plt.ylabel(\"f(w)\") \n",
    "plt.plot(omega_plt, fermi, label = 'exact')\n",
    "#plt.plot(omega, fermi_mats.real, label = 'Matsubara', linestyle = '--')\n",
    "plt.plot(omega_plt, fermi_pade.real, label = 'Pade', linestyle = '-.')\n",
    "plt.legend(loc=1)\n",
    "plt.show()"
   ]
  },
  {
   "cell_type": "code",
   "execution_count": 7,
   "id": "93348ad9",
   "metadata": {},
   "outputs": [],
   "source": [
    "# Here we test the nalf = 1, spin = ↑, norbs = 1 and nsgn = (+ or 1). \n",
    "# the coefficients eta and gamma only sum over the number of poles.\n",
    "eta_pade = np.zeros(num_pade + 1, dtype = complex)               # namely cb in evaluatepara.f90\n",
    "diss_rate_pade = np.zeros(num_pade + 1, dtype = complex)         # namely cgamma in evaluatepara.f90\n",
    "\n",
    "spectral_diss_rate_pade = (band_width - sigma * 1.j * band_center) / hbar\n",
    "spectral_eta_pade = (0.5 * sys_bath_coupling) * band_width \\\n",
    "                   * fermi_by_pade((1.j * spectral_diss_rate ) * hbar) / hbar**2\n",
    "\n",
    "diss_rate_pade[0] = spectral_diss_rate_pade\n",
    "eta_pade[0] = spectral_eta_pade\n",
    "\n",
    "for i in range(1, num_pade + 1):\n",
    "    diss_rate_pade[i] = (-1.j * sigma * T * pole[i - 1] ) / hbar\n",
    "    eta_pade[i] = 2.j * tilde_eta[i - 1] * sys_bath_coupling * 0.5 * band_width**2 * T \\\n",
    "             / ( (pole[i - 1] * T - band_center)**2 + band_width**2 ) / hbar**2    \n",
    "    \n",
    "#print('pade_diss_rate \\n', -1 * diss_rate_pade * hbar)\n",
    "#print('pade_eta \\n', eta_pade)\n",
    "#print('pade_eta * hbar**2 \\n', eta_pade * hbar**2)"
   ]
  },
  {
   "cell_type": "code",
   "execution_count": 8,
   "id": "8e83097b",
   "metadata": {},
   "outputs": [
    {
     "name": "stdout",
     "output_type": "stream",
     "text": [
      "run times / total times: 50 / 1000  =  0.05\n",
      "run times / total times: 100 / 1000  =  0.10\n",
      "run times / total times: 150 / 1000  =  0.15\n",
      "run times / total times: 200 / 1000  =  0.20\n",
      "run times / total times: 250 / 1000  =  0.25\n",
      "run times / total times: 300 / 1000  =  0.30\n",
      "run times / total times: 350 / 1000  =  0.35\n",
      "run times / total times: 400 / 1000  =  0.40\n",
      "run times / total times: 450 / 1000  =  0.45\n",
      "run times / total times: 500 / 1000  =  0.50\n",
      "run times / total times: 550 / 1000  =  0.55\n",
      "run times / total times: 600 / 1000  =  0.60\n",
      "run times / total times: 650 / 1000  =  0.65\n",
      "run times / total times: 700 / 1000  =  0.70\n",
      "run times / total times: 750 / 1000  =  0.75\n",
      "run times / total times: 800 / 1000  =  0.80\n",
      "run times / total times: 850 / 1000  =  0.85\n",
      "run times / total times: 900 / 1000  =  0.90\n",
      "run times / total times: 950 / 1000  =  0.95\n",
      "run times / total times: 1000 / 1000  =  1.00\n",
      "Done!\n"
     ]
    }
   ],
   "source": [
    "# compare the pade results and the exact correlation function in time domain\n",
    "# exact results\n",
    "j = 0\n",
    "for i in range(time_sample_for_corr):\n",
    "    j = j + 1\n",
    "    bath_corr_exact_real[i],err = integrate.quad(fdt_real, a = -100, b = 100, args=(tt_for_corr[i]), limit = 20000)\n",
    "    bath_corr_exact_imag[i],err = integrate.quad(fdt_imag, a = -200, b = 200, args=(tt_for_corr[i]), limit = 10000)\n",
    "    bath_corr_exact[i] = complex(bath_corr_exact_real[i], bath_corr_exact_imag[i])\n",
    "    if j % 50 == 0 :\n",
    "        print(\"run times / total times:\", j ,\"/\", time_sample_for_corr-1, \" = \", '%.2f'%(j/(time_sample_for_corr-1)))\n",
    "\n",
    "print('Done!')"
   ]
  },
  {
   "cell_type": "code",
   "execution_count": 9,
   "id": "40a8daed",
   "metadata": {
    "scrolled": true
   },
   "outputs": [
    {
     "name": "stdout",
     "output_type": "stream",
     "text": [
      "Done!\n"
     ]
    }
   ],
   "source": [
    "# pade results\n",
    "for i in range(time_sample_for_corr):\n",
    "    for j in range(num_pade + 1):\n",
    "        bath_corr_psd[i] = bath_corr_psd[i] + eta_pade[j] * hbar**2 * np.exp(-1 * diss_rate_pade[j] * hbar * tt_for_corr[i])\n",
    "\n",
    "print('Done!')"
   ]
  },
  {
   "cell_type": "code",
   "execution_count": 10,
   "id": "d29b4c81",
   "metadata": {},
   "outputs": [
    {
     "name": "stdout",
     "output_type": "stream",
     "text": [
      "run times / total times: 500 / 6000  =  0.08\n",
      "run times / total times: 1000 / 6000  =  0.17\n",
      "run times / total times: 1500 / 6000  =  0.25\n",
      "run times / total times: 2000 / 6000  =  0.33\n",
      "run times / total times: 2500 / 6000  =  0.42\n",
      "run times / total times: 3000 / 6000  =  0.50\n",
      "run times / total times: 3500 / 6000  =  0.58\n",
      "run times / total times: 4000 / 6000  =  0.67\n",
      "run times / total times: 4500 / 6000  =  0.75\n",
      "run times / total times: 5000 / 6000  =  0.83\n",
      "run times / total times: 5500 / 6000  =  0.92\n",
      "run times / total times: 6000 / 6000  =  1.00\n",
      "Done!\n"
     ]
    }
   ],
   "source": [
    "time_sample_for_prony =  2 * dimension_Hankel + 1\n",
    "tt_for_prony = np.linspace(tt_for_prony_min, tt_for_prony_max, time_sample_for_prony)\n",
    "hankel_matrix_real = np.zeros((dimension_Hankel + 1, dimension_Hankel + 1))\n",
    "hankel_matrix_imag = np.zeros((dimension_Hankel + 1, dimension_Hankel + 1))\n",
    "phi_real = np.zeros(time_sample_for_prony)\n",
    "phi_imag = np.zeros(time_sample_for_prony)\n",
    "\n",
    "i = 0\n",
    "for j in range(time_sample_for_prony):\n",
    "    i = i + 1\n",
    "    for k in  range(num_pade + 1):\n",
    "        phi_real[j] = phi_real[j] + np.real(eta_pade[k] * hbar**2 * np.exp(-1 * diss_rate_pade[k] * hbar * tt_for_prony[j])) \n",
    "        phi_imag[j] = phi_imag[j] + np.imag(eta_pade[k] * hbar**2 * np.exp(-1 * diss_rate_pade[k] * hbar * tt_for_prony[j]))\n",
    "    if i % 500 == 0 :\n",
    "        print(\"run times / total times:\", i ,\"/\", time_sample_for_prony-1, \" = \", '%.2f'%(i/(time_sample_for_prony-1)))\n",
    "\n",
    "for n in range(dimension_Hankel + 1):\n",
    "    for m in range(dimension_Hankel + 1):\n",
    "        hankel_matrix_real[n,m] = phi_real[n + m]\n",
    "        hankel_matrix_imag[n,m] = phi_imag[n + m]\n",
    "        \n",
    "print('Done!')\n"
   ]
  },
  {
   "cell_type": "code",
   "execution_count": 11,
   "id": "238be901",
   "metadata": {
    "scrolled": false
   },
   "outputs": [
    {
     "name": "stdout",
     "output_type": "stream",
     "text": [
      "error of decompose real part\n",
      " 2.2244319505421775e-14 \n",
      "error of decompose imag part\n",
      " 5.586204476179438e-12\n",
      "Done!\n"
     ]
    }
   ],
   "source": [
    "sigma_real, U_real = takagi_chen(hankel_matrix_real)\n",
    "sigma_imag, U_imag = takagi_chen(hankel_matrix_imag)\n",
    "\n",
    "print(\n",
    "    \"error of decompose real part\\n\",\n",
    "    np.sum(np.abs(hankel_matrix_real - np.dot(np.dot(U_real, np.diag(sigma_real)), U_real.T))), \"\\n\"\n",
    "    \"error of decompose imag part\\n\",\n",
    "    np.sum(np.abs(hankel_matrix_imag - np.dot(np.dot(U_imag, np.diag(sigma_imag)), U_imag.T))))\n",
    "\n",
    "print('Done!')"
   ]
  },
  {
   "cell_type": "code",
   "execution_count": 12,
   "id": "1b9f7a75",
   "metadata": {},
   "outputs": [
    {
     "name": "stdout",
     "output_type": "stream",
     "text": [
      "Done!\n"
     ]
    }
   ],
   "source": [
    "prony_roots_real = np.roots(U_real[:, num_prony][::-1])\n",
    "tmp_index_real = prony_roots_real != 0\n",
    "prony_roots_real = prony_roots_real[tmp_index_real]\n",
    "prony_roots_real_new = prony_roots_real[np.argsort(np.abs(prony_roots_real))[:num_prony]]\n",
    "\n",
    "print('Done!')"
   ]
  },
  {
   "cell_type": "code",
   "execution_count": 13,
   "id": "b3bd6a81",
   "metadata": {},
   "outputs": [
    {
     "name": "stdout",
     "output_type": "stream",
     "text": [
      "Done!\n"
     ]
    }
   ],
   "source": [
    "prony_roots_imag = np.roots(U_imag[:, num_prony][::-1])\n",
    "tmp_index_imag = prony_roots_imag != 0\n",
    "prony_roots_imag = prony_roots_imag[tmp_index_imag]\n",
    "prony_roots_imag_new = prony_roots_imag[np.argsort(np.abs(prony_roots_imag))[:num_prony]]\n",
    "a = np.argsort(np.abs(prony_roots_imag))[:num_prony]\n",
    "\n",
    "print('Done!')"
   ]
  },
  {
   "cell_type": "code",
   "execution_count": 14,
   "id": "649173d4",
   "metadata": {},
   "outputs": [
    {
     "name": "stdout",
     "output_type": "stream",
     "text": [
      "Done!\n"
     ]
    }
   ],
   "source": [
    "omega_matrix_real = np.zeros((time_sample_for_prony, num_prony), dtype=complex)\n",
    "for i in range(time_sample_for_prony):\n",
    "    for j in range(num_prony):\n",
    "        omega_matrix_real[i, j] = prony_roots_real_new[j]**i\n",
    "eta_prony_real_tmp = np.dot(linalg.inv(np.dot(omega_matrix_real.T, omega_matrix_real)), np.dot(omega_matrix_real.T, phi_real))\n",
    "\n",
    "omega_matrix_imag = np.zeros((time_sample_for_prony, num_prony), dtype=complex)\n",
    "for i in range(time_sample_for_prony):\n",
    "    for j in range(num_prony):\n",
    "        omega_matrix_imag[i, j] = prony_roots_imag_new[j]**i\n",
    "eta_prony_imag_tmp = np.dot(linalg.inv(np.dot(omega_matrix_imag.T, omega_matrix_imag)), np.dot(omega_matrix_imag.T, phi_imag))\n",
    "\n",
    "print('Done!')"
   ]
  },
  {
   "cell_type": "code",
   "execution_count": 15,
   "id": "9df60c36",
   "metadata": {},
   "outputs": [
    {
     "name": "stdout",
     "output_type": "stream",
     "text": [
      "diss_rate_prony\n",
      " [ 5.38939679e+01  +0.j          1.03976138e+01  +0.j\n",
      "  3.30824004e+00  +0.j          1.23918006e+00  +0.j\n",
      "  4.96442691e-01  +0.j          2.08537405e-01  +0.j\n",
      "  9.58324937e-02  +0.j          3.13567212e-02  +0.j\n",
      "  6.85366140e+01  +0.j          2.44573911e+01 -63.31467761j\n",
      "  2.44573911e+01 +63.31467761j  2.40735277e+01+111.04458239j\n",
      "  2.40735277e+01-111.04458239j  2.00000000e+00  +0.j\n",
      " -3.87907883e-01-149.42792805j -3.87907883e-01+149.42792805j]\n",
      "eta_prony\n",
      " [0. +0.00560785j 0. +0.01641348j 0. +0.06304399j 0. -0.06014167j\n",
      " 0. -0.01505093j 0. -0.00556932j 0. -0.00233285j 0. -0.00199095j\n",
      " 0. +0.j         0. +0.j         0. +0.j         0. +0.j\n",
      " 0. +0.j         0.1+0.j         0. +0.j         0. +0.j        ]\n",
      "Done!\n"
     ]
    }
   ],
   "source": [
    "bath_corr_prony = np.zeros(time_sample_for_corr, dtype=complex)\n",
    "\n",
    "diss_rate_prony_real_tmp =  -2 * dimension_Hankel \\\n",
    "                            / tt_for_prony_max * ( np.log( np.abs( prony_roots_real_new ) ) + 1.j * np.angle(prony_roots_real_new) )\n",
    "diss_rate_prony_imag_tmp =  -2 * dimension_Hankel \\\n",
    "                            / tt_for_prony_max * ( np.log( np.abs( prony_roots_imag_new ) ) + 1.j * np.angle(prony_roots_imag_new) )\n",
    "\n",
    "eta_prony = np.zeros(2 * num_prony , dtype = complex)\n",
    "diss_rate_prony = np.zeros(2 * num_prony, dtype = complex)\n",
    "\n",
    "eta_prony[0:num_prony] = mat_fliter(eta_prony_imag_tmp * 1.j)\n",
    "eta_prony[num_prony:2 * num_prony] = mat_fliter(eta_prony_real_tmp)\n",
    "\n",
    "diss_rate_prony[0:num_prony] = mat_fliter(diss_rate_prony_imag_tmp)\n",
    "diss_rate_prony[num_prony:2*num_prony] = mat_fliter(diss_rate_prony_real_tmp)\n",
    "\n",
    "for i in range(time_sample_for_corr):\n",
    "    for j in range(2 * num_prony):\n",
    "        bath_corr_prony[i] = bath_corr_prony[i] + eta_prony[j] * np.exp(-1 * diss_rate_prony[j] * tt_for_corr[i])\n",
    "\n",
    "print(\"diss_rate_prony\\n\",diss_rate_prony)\n",
    "print(\"eta_prony\\n\",eta_prony)\n",
    "\n",
    "print('Done!')"
   ]
  },
  {
   "cell_type": "code",
   "execution_count": 16,
   "id": "849750c9",
   "metadata": {},
   "outputs": [
    {
     "name": "stdout",
     "output_type": "stream",
     "text": [
      "pade_diss_rate \n",
      " [-2.        +0.j -0.03141593+0.j -0.09424778+0.j -0.15707963+0.j\n",
      " -0.21991149+0.j -0.28274334+0.j -0.34557519+0.j -0.40840705+0.j\n",
      " -0.47123926+0.j -0.53413196+0.j -0.59900029+0.j -0.67868546+0.j\n",
      " -0.79919904+0.j -0.99919622+0.j -1.37139146+0.j -2.25669155+0.j\n",
      " -6.72791728+0.j]\n",
      "pade_eta \n",
      " [0.23081738+0.13553918j 0.        -0.00461749j 0.        -0.00462662j\n",
      " 0.        -0.004645j   0.        -0.00467284j 0.        -0.00471049j\n",
      " 0.        -0.00475841j 0.        -0.00481722j 0.        -0.00488786j\n",
      " 0.        -0.00499179j 0.        -0.00554385j 0.        -0.00790543j\n",
      " 0.        -0.0132571j  0.        -0.02563397j 0.        -0.07299512j\n",
      " 0.        +0.39892142j 0.        +0.09568294j]\n",
      "pade_eta * hbar**2 \n",
      " [0.1+0.05872139j 0. -0.00200049j 0. -0.00200445j 0. -0.00201241j\n",
      " 0. -0.00202448j 0. -0.00204079j 0. -0.00206155j 0. -0.00208703j\n",
      " 0. -0.00211763j 0. -0.00216266j 0. -0.00240183j 0. -0.00342497j\n",
      " 0. -0.00574354j 0. -0.01110573j 0. -0.03162462j 0. +0.17282989j\n",
      " 0. +0.04145396j]\n",
      "Done!\n"
     ]
    }
   ],
   "source": [
    "#the Pade scheme\n",
    "num_pade_small = num_prony * 2\n",
    "tilde_eta_small = np.zeros(num_pade_small, dtype = complex)         # namely cpcoef in evaluatepara.f90 \n",
    "pole_small = np.zeros(num_pade_small, dtype = complex)              # namely cppole in evaluatepara.f90\n",
    "bath_corr_psd_small = np.zeros(time_sample_for_corr, dtype = complex)\n",
    "\n",
    "pole_small, tilde_eta_small = psd(num_pade_small)\n",
    "\n",
    "if sigma == -1:\n",
    "    pole_small = np.conj(pole_small)\n",
    "\n",
    "# Here we test the nalf = 1, spin = ↑, norbs = 1 and nsgn = (+ or 1). \n",
    "# the coefficients eta and gamma only sum over the number of poles.\n",
    "eta_pade_small = np.zeros(num_pade_small + 1, dtype = complex)               # namely cb in evaluatepara.f90\n",
    "diss_rate_pade_small = np.zeros(num_pade_small + 1, dtype = complex)         # namely cgamma in evaluatepara.f90\n",
    "\n",
    "diss_rate_pade_small[0] = spectral_diss_rate_pade\n",
    "eta_pade_small[0] = spectral_eta_pade\n",
    "\n",
    "for i in range(1, num_pade_small + 1):\n",
    "    diss_rate_pade_small[i] = (-1.j * sigma * T * pole_small[i - 1]) / hbar\n",
    "    eta_pade_small[i] = 2.j * tilde_eta_small[i - 1] * sys_bath_coupling * 0.5 * band_width**2 * T \\\n",
    "             / ( (pole_small[i - 1] * T - band_center)**2 + band_width**2 ) / hbar**2    \n",
    "\n",
    "print('pade_diss_rate \\n', -1 * diss_rate_pade_small * hbar)\n",
    "print('pade_eta \\n', eta_pade_small)\n",
    "print('pade_eta * hbar**2 \\n', eta_pade_small * hbar**2)\n",
    "\n",
    "# pade results\n",
    "for i in range(time_sample_for_corr):\n",
    "    for j in range(num_pade_small + 1):\n",
    "        bath_corr_psd_small[i] = bath_corr_psd_small[i] + eta_pade_small[j] * hbar**2 * np.exp(-1 * diss_rate_pade_small[j] * hbar * tt_for_corr[i])\n",
    "\n",
    "print('Done!')"
   ]
  },
  {
   "cell_type": "code",
   "execution_count": 17,
   "id": "f3e2132e",
   "metadata": {},
   "outputs": [
    {
     "data": {
      "image/png": "[encoded data removed]",
      "text/plain": [
       "<Figure size 432x288 with 1 Axes>"
      ]
     },
     "metadata": {
      "needs_background": "light"
     },
     "output_type": "display_data"
    }
   ],
   "source": [
    "# distribution of poles\n",
    "one = np.ones(len(diss_rate_pade))\n",
    "two =  np.ones(len(diss_rate_pade_small)) * 2\n",
    "three =  np.ones(len(diss_rate_prony)) * 3\n",
    "\n",
    "plt.title(\"rate\") \n",
    "plt.xlabel(\"ln[abs(rate)]\") \n",
    "plt.ylabel(\"\") \n",
    "plt.scatter(np.abs(diss_rate_pade), one, label = 'Pade-%d' %num_pade, s = 4, color = 'k') \n",
    "plt.scatter(np.abs(diss_rate_pade_small), two, label = 'Pade-%d' %num_pade_small, s = 4, color = 'darkorange') \n",
    "plt.scatter(np.abs(diss_rate_prony), three, label = 'prony', s = 4, color = 'r') \n",
    "plt.legend(loc=2)\n",
    "plt.xscale(\"log\")\n",
    "#plt.xlim(-0.1, 1.5)\n",
    "plt.show()"
   ]
  },
  {
   "cell_type": "code",
   "execution_count": 18,
   "id": "8bc51c4e",
   "metadata": {},
   "outputs": [
    {
     "data": {
      "image/png": "[encoded data removed]",
      "text/plain": [
       "<Figure size 432x288 with 1 Axes>"
      ]
     },
     "metadata": {
      "needs_background": "light"
     },
     "output_type": "display_data"
    },
    {
     "name": "stdout",
     "output_type": "stream",
     "text": [
      "[0.   0.01 0.02 0.03 0.04 0.05 0.06 0.07 0.08 0.09 0.1  0.11 0.12 0.13\n",
      " 0.14 0.15 0.16 0.17 0.18 0.19]\n",
      "[0.1        0.09801987 0.09607894 0.09417645 0.09231163 0.09048374\n",
      " 0.08869204 0.08693582 0.08521438 0.08352702 0.08187308 0.08025188\n",
      " 0.07866279 0.07710516 0.07557837 0.07408182 0.0726149  0.07117703\n",
      " 0.06976763 0.06838614]\n"
     ]
    },
    {
     "data": {
      "image/png": "[encoded data removed]",
      "text/plain": [
       "<Figure size 432x288 with 1 Axes>"
      ]
     },
     "metadata": {
      "needs_background": "light"
     },
     "output_type": "display_data"
    },
    {
     "name": "stdout",
     "output_type": "stream",
     "text": [
      "[0.   0.01 0.02 0.03 0.04 0.05 0.06 0.07 0.08 0.09 0.1  0.11 0.12 0.13\n",
      " 0.14 0.15 0.16 0.17 0.18 0.19]\n",
      "[ 8.91214186e-17 -5.52682144e-03 -9.27987342e-03 -1.23701708e-02\n",
      " -1.50365456e-02 -1.73876224e-02 -1.94890984e-02 -2.13850496e-02\n",
      " -2.31069993e-02 -2.46786126e-02 -2.61183345e-02 -2.74409671e-02\n",
      " -2.86586658e-02 -2.97815994e-02 -3.08184047e-02 -3.17765118e-02\n",
      " -3.26623816e-02 -3.34816851e-02 -3.42394397e-02 -3.49401166e-02]\n"
     ]
    }
   ],
   "source": [
    "plt.title(\"correlation function real part\") \n",
    "plt.xlabel(\"time\") \n",
    "plt.ylabel(\"C(t)\") \n",
    "plt.plot(tt_for_corr, bath_corr_psd.real, label = 'Pade-%d' %num_pade, linestyle = '-.', color = 'k') \n",
    "plt.scatter(tt_for_corr, bath_corr_psd_small.real, label = 'Pade-%d' %num_pade_small, s = 2, color = 'darkorange') \n",
    "plt.plot(tt_for_corr, bath_corr_exact_real / np.pi, label = 'exact', color = 'r') \n",
    "plt.plot(tt_for_corr, bath_corr_prony.real, label = 'prony', linestyle = '--', color = 'g')\n",
    "plt.legend(loc=1)\n",
    "plt.xlim(-0.1, 1.5)\n",
    "plt.show()\n",
    "\n",
    "print(tt_for_corr[:20])\n",
    "print(bath_corr_psd[:20].real)\n",
    "\n",
    "plt.title(\"correlation function imagnary part\") \n",
    "plt.xlabel(\"time\") \n",
    "plt.ylabel(\"C(t)\") \n",
    "plt.plot(tt_for_corr, bath_corr_psd.imag, label = 'Pade-%d' %num_pade, linestyle = '-.', color = 'k') \n",
    "plt.scatter(tt_for_corr, bath_corr_psd_small.imag, label = 'Pade-%d' %num_pade_small, s = 2, color = 'darkorange') \n",
    "plt.plot(tt_for_corr, bath_corr_exact_imag / np.pi, label = 'exact', color = 'r') \n",
    "plt.plot(tt_for_corr, bath_corr_prony.imag, label = 'prony', linestyle = '--', color = 'g')\n",
    "plt.legend(loc=4)\n",
    "plt.xlim(-0.1, 5)\n",
    "plt.show()\n",
    "\n",
    "print(tt_for_corr[:20])\n",
    "print(bath_corr_psd[:20].imag)"
   ]
  },
  {
   "cell_type": "code",
   "execution_count": 19,
   "id": "8d4f2657",
   "metadata": {
    "scrolled": true
   },
   "outputs": [],
   "source": [
    "omega_sample_ = omega_sample * 10\n",
    "omega_max_ = 10\n",
    "omega_min_ = -10\n",
    "\n",
    "omega_plt = np.linspace(omega_min_, omega_max_, omega_sample_)\n",
    "\n",
    "bath_corr_psd_freq = np.zeros(omega_sample_, dtype = complex)\n",
    "bath_corr_psd_small_freq = np.zeros(omega_sample_, dtype = complex)\n",
    "bath_corr_prony_freq = np.zeros(omega_sample_, dtype = complex)\n",
    "bath_corr_exact_freq = np.zeros(omega_sample_, dtype = complex)\n",
    "\n",
    "fermi_ = np.zeros(omega_sample_)\n",
    "bath_spectral_ = np.zeros(omega_sample_)\n",
    "for i in range(omega_sample_):\n",
    "    if (omega_plt[i] / (T)) <= 50 :\n",
    "        fermi_[i] = 1.0 / ( 1.0 + np.exp( omega_plt[i] / (T) ) )\n",
    "    elif (omega_plt[i] / (T)) > 50 :\n",
    "        fermi_[i] = 1.0 / 10e+22\n",
    "bath_spectral_ = (0.5 * sys_bath_coupling * (band_width**2)) / ((omega_plt - sigma * band_center)**2 + band_width**2)\n",
    "\n",
    "bath_corr_exact_freq = bath_spectral_ * fermi_\n",
    "\n",
    "for i in range(omega_sample_):\n",
    "    #bath_corr_psd_small_freq[i] = J_fit(omega[i], diss_rate_pade_small * hbar, eta_pade_small * hbar**2)\n",
    "    bath_corr_psd_freq[i] = J_fit(omega_plt[i], diss_rate_pade * hbar, eta_pade * hbar**2)\n",
    "    bath_corr_prony_freq[i] = J_fit(omega_plt[i], diss_rate_prony, eta_prony)"
   ]
  },
  {
   "cell_type": "code",
   "execution_count": 20,
   "id": "b26329b4",
   "metadata": {
    "scrolled": false
   },
   "outputs": [
    {
     "data": {
      "image/png": "[encoded data removed]",
      "text/plain": [
       "<Figure size 432x288 with 1 Axes>"
      ]
     },
     "metadata": {
      "needs_background": "light"
     },
     "output_type": "display_data"
    },
    {
     "name": "stdout",
     "output_type": "stream",
     "text": [
      " -9.500244977951985 \n",
      " psd   0.004243822244355952 \n",
      " exact 0.004243822244355992 \n",
      " prony 0.00424530212504326\n",
      " small 0.0\n",
      "\n",
      " -9.500044995950365 \n",
      " psd   0.004243993333725722 \n",
      " exact 0.004243993333725761 \n",
      " prony 0.0042454735016922394\n",
      " small 0.0\n",
      "\n",
      " -9.499845013948745 \n",
      " psd   0.004244164433289017 \n",
      " exact 0.004244164433289059 \n",
      " prony 0.004245644888523125\n",
      " small 0.0\n"
     ]
    }
   ],
   "source": [
    "plt.title(\"correlation function\") \n",
    "plt.xlabel(\"ω\") \n",
    "plt.ylabel(\"C(ω)\")\n",
    "plt.scatter(omega_plt, bath_corr_psd_freq.real, label = 'Pade-%d'%num_pade, s = 1, color = 'k')\n",
    "plt.plot(omega_plt, bath_corr_exact_freq.real, label = 'exact', linestyle = '-.', color = 'r')\n",
    "plt.plot(omega_plt, bath_corr_prony_freq.real, label = 'Prony', linestyle = '--', color = 'g')\n",
    "plt.legend(loc=1)\n",
    "plt.xlim(omega_min_, omega_max_)\n",
    "#plt.ylim(-0.001, 0.005)\n",
    "plt.show()\n",
    "\n",
    "x = 2500\n",
    "a = max(np.abs(bath_corr_psd_freq.real))\n",
    "b = max(np.abs(bath_corr_exact_freq.real))\n",
    "c = max(np.abs(bath_corr_prony_freq.real))\n",
    "print('',omega_plt[x-1],'\\n psd  ',(bath_corr_psd_freq[x-1]).real,'\\n exact',bath_corr_exact_freq[x-1],\\\n",
    "      '\\n prony',(bath_corr_prony_freq[x-1]).real)\n",
    "print(' small', bath_corr_psd_small_freq[x-1].real)\n",
    "print()\n",
    "print('',omega_plt[x],'\\n psd  ',(bath_corr_psd_freq[x]).real,'\\n exact',bath_corr_exact_freq[x],\\\n",
    "      '\\n prony',(bath_corr_prony_freq[x]).real)\n",
    "print(' small', bath_corr_psd_small_freq[x].real)\n",
    "print()\n",
    "print('',omega_plt[x+1],'\\n psd  ',(bath_corr_psd_freq[x+1]).real,'\\n exact',bath_corr_exact_freq[x+1],\\\n",
    "      '\\n prony',(bath_corr_prony_freq[x+1]).real)\n",
    "print(' small', bath_corr_psd_small_freq[x+1].real)"
   ]
  },
  {
   "cell_type": "code",
   "execution_count": 21,
   "id": "cc11537f",
   "metadata": {},
   "outputs": [
    {
     "data": {
      "image/png": "[encoded data removed]",
      "text/plain": [
       "<Figure size 432x288 with 1 Axes>"
      ]
     },
     "metadata": {
      "needs_background": "light"
     },
     "output_type": "display_data"
    }
   ],
   "source": [
    "plt.title(\"correlation function\") \n",
    "plt.xlabel(\"ω\") \n",
    "plt.ylabel(\"C(ω)\")\n",
    "plt.plot(omega_plt, bath_corr_psd_freq.real - bath_corr_exact_freq.real, label = 'Pade-%d - exact'%num_pade, linestyle = '-.', color = 'r')\n",
    "plt.plot(omega_plt, bath_corr_prony_freq.real - bath_corr_exact_freq.real, label = 'Prony - exact', linestyle = '--', color = 'g')\n",
    "plt.scatter(omega_plt, bath_corr_prony_freq.real - bath_corr_exact_freq.real, label = 'Prony - exact', s=1 , color = 'g')\n",
    "plt.legend(loc=1)\n",
    "plt.xlim(-0.2, 0.2)\n",
    "plt.ylim(-0.001, 0.001)\n",
    "plt.ticklabel_format(axis=\"x\", style=\"sci\", scilimits=(0,0))\n",
    "plt.ticklabel_format(axis=\"y\", style=\"sci\", scilimits=(0,0))\n",
    "plt.show()"
   ]
  }
 ],
 "metadata": {
  "kernelspec": {
   "display_name": "Python 3",
   "language": "python",
   "name": "python3"
  },
  "language_info": {
   "codemirror_mode": {
    "name": "ipython",
    "version": 3
   },
   "file_extension": ".py",
   "mimetype": "text/x-python",
   "name": "python",
   "nbconvert_exporter": "python",
   "pygments_lexer": "ipython3",
   "version": "3.8.8"
  }
 },
 "nbformat": 4,
 "nbformat_minor": 5
}
