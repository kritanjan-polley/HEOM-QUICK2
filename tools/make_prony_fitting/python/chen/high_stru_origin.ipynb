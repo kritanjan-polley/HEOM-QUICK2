{
 "cells": [
  {
   "cell_type": "code",
   "execution_count": 1,
   "id": "6b4edd9e",
   "metadata": {
    "ExecuteTime": {
     "end_time": "2022-05-09T12:53:20.989399Z",
     "start_time": "2022-05-09T12:53:20.923779Z"
    }
   },
   "outputs": [],
   "source": [
    "import math\n",
    "from numpy import linalg as LA\n",
    "import numpy as np\n",
    "from matplotlib import pyplot as plt \n",
    "\n",
    "import random\n",
    "import os\n",
    "from numba import njit, prange, cuda\n",
    "import itertools\n",
    "import sympy as sp\n",
    "\n",
    "@njit()\n",
    "def fit_J(w, res, expn, etal, sigma):\n",
    "    for i in range(len(etal)):\n",
    "        res += etal[i] / (expn[i] + sigma * 1.j * w)\n",
    "\n",
    "\n",
    "@njit()\n",
    "def fit_t(t, res, expn, etal):\n",
    "    for i in range(len(etal)):\n",
    "        res += etal[i] * np.exp(-expn[i] * t)\n",
    "    return res\n",
    "\n"
   ]
  },
  {
   "cell_type": "code",
   "execution_count": 2,
   "id": "033e9a52",
   "metadata": {
    "ExecuteTime": {
     "end_time": "2022-05-09T12:53:25.944579Z",
     "start_time": "2022-05-09T12:53:25.807436Z"
    }
   },
   "outputs": [
    {
     "name": "stderr",
     "output_type": "stream",
     "text": [
      "<ipython-input-2-48d7d113f836>:33: RuntimeWarning: overflow encountered in exp\n",
      "  plt.scatter(w, 1/(1 + np.exp(sigma * beta * (w - mu_x))),s=4)\n",
      "<ipython-input-2-48d7d113f836>:34: RuntimeWarning: overflow encountered in exp\n",
      "  plt.plot(w, jw / (1 + np.exp(sigma * beta * (w - mu_x))), label='jw*fermi')\n"
     ]
    },
    {
     "data": {
      "text/plain": [
       "<matplotlib.legend.Legend at 0x7f91a30a1f10>"
      ]
     },
     "execution_count": 2,
     "metadata": {},
     "output_type": "execute_result"
    },
    {
     "data": {
      "image/png": "[encoded data removed]",
      "text/plain": [
       "<Figure size 432x288 with 1 Axes>"
      ]
     },
     "metadata": {
      "needs_background": "light"
     },
     "output_type": "display_data"
    }
   ],
   "source": [
    "nmod = 4\n",
    "lams1 = 0.2\n",
    "lams2 = 0\n",
    "gams1 = 4.0\n",
    "gams2 = 0\n",
    "omgs1 = 10\n",
    "omgs2 = 0\n",
    "temp = 0.01\n",
    "beta = int(1 / temp)\n",
    "mu_x = 0.0\n",
    "\n",
    "#random_expn = 10 *  (np.random.rand(5))\n",
    "#random_etal = np.abs(np.random.rand(5))\n",
    "\n",
    "def gen_jw(w):\n",
    "         return lams1 * gams1**2 / (((w - mu_x) - omgs1)**2 + gams1**2)\n",
    "    #     jw = np.zeros_like(w)\n",
    "    #index = (w <= gams1) & (w >= -gams1)\n",
    "    \n",
    "    #     jw = lams1 * np.exp(-np.abs(w) / gams1)\n",
    "    #jw = 0 * w\n",
    "    #for i in range(len(random_expn)):\n",
    "    #    jw[index] += random_etal[i] / ((w[index] - random_expn[i])**2 + 0.01)\n",
    "    #return jw\n",
    "\n",
    "len_ = 10000\n",
    "spe_wid = 50\n",
    "w = np.linspace(-spe_wid, spe_wid, len_)\n",
    "\n",
    "sigma = 1\n",
    "jw = gen_jw(w)\n",
    "plt.plot(w, jw, label='jw')\n",
    "plt.scatter(w, 1/(1 + np.exp(sigma * beta * (w - mu_x))),s=4)\n",
    "plt.plot(w, jw / (1 + np.exp(sigma * beta * (w - mu_x))), label='jw*fermi')\n",
    "plt.ylim(-0.01,0.25)\n",
    "plt.legend(loc=1)\n",
    "# plt.xlim(-15, 15)"
   ]
  },
  {
   "cell_type": "code",
   "execution_count": 3,
   "id": "3ea2568c",
   "metadata": {
    "ExecuteTime": {
     "end_time": "2022-05-09T12:53:27.307968Z",
     "start_time": "2022-05-09T12:53:27.305448Z"
    }
   },
   "outputs": [],
   "source": [
    "# 4 - np.random.rand(10)*2"
   ]
  },
  {
   "cell_type": "code",
   "execution_count": 4,
   "id": "a4094079",
   "metadata": {
    "ExecuteTime": {
     "end_time": "2022-05-09T12:53:34.297234Z",
     "start_time": "2022-05-09T12:53:28.110850Z"
    }
   },
   "outputs": [
    {
     "name": "stdout",
     "output_type": "stream",
     "text": [
      "5.0\n"
     ]
    },
    {
     "name": "stderr",
     "output_type": "stream",
     "text": [
      "<ipython-input-4-10dae44efc59>:14: RuntimeWarning: overflow encountered in exp\n",
      "  cw2 = jw / (1 + np.exp(sigma * beta * (w - mu_x)))\n"
     ]
    },
    {
     "name": "stdout",
     "output_type": "stream",
     "text": [
      "100000.0\n"
     ]
    },
    {
     "name": "stderr",
     "output_type": "stream",
     "text": [
      "<ipython-input-4-10dae44efc59>:32: RuntimeWarning: overflow encountered in exp\n",
      "  plt.plot(w, jw / (1 + np.exp(sigma * beta * (w - mu_x))), label='exact')\n",
      "/home/ZDC/program/anaconda3/lib/python3.8/site-packages/numpy/core/_asarray.py:102: ComplexWarning: Casting complex values to real discards the imaginary part\n",
      "  return array(a, dtype, copy=False, order=order)\n"
     ]
    },
    {
     "data": {
      "image/png": "[encoded data removed]",
      "text/plain": [
       "<Figure size 432x288 with 1 Axes>"
      ]
     },
     "metadata": {
      "needs_background": "light"
     },
     "output_type": "display_data"
    }
   ],
   "source": [
    "n = 2500\n",
    "scale = 500\n",
    "scale_fft = 100\n",
    "n_fft = 10000000\n",
    "\n",
    "n_rate = (scale_fft * scale/ (4 * n))\n",
    "print(n_rate)\n",
    "n_rate = int(n_rate)\n",
    "w = np.linspace(0, scale_fft * np.pi, n_fft + 3)[:-1]\n",
    "dw = w[1] - w[0]\n",
    "\n",
    "jw = gen_jw(w)\n",
    "cw1 = jw / (1 + np.exp(- sigma * beta * (w - mu_x)))\n",
    "cw2 = jw / (1 + np.exp(sigma * beta * (w - mu_x)))\n",
    "# del jw\n",
    "\n",
    "cw1[0] = cw1[0] / 2\n",
    "cw2[0] = cw2[0] / 2\n",
    "if sigma == -1:\n",
    "    fft_ct = (np.fft.ifft(cw1) * len(cw1) * dw + np.fft.fft(cw2) * dw) / np.pi\n",
    "if sigma == 1:\n",
    "    fft_ct = (np.fft.fft(cw1) * dw + np.fft.ifft(cw2) * len(cw2) * dw) / np.pi\n",
    "fft_t = 2 * np.pi * np.fft.fftfreq(len(cw1), dw)\n",
    "del cw1, cw2\n",
    "\n",
    "print(max(fft_t))\n",
    "fft_ct = fft_ct[(scale>=fft_t) & (fft_t >= 0)][::n_rate]\n",
    "fft_t = fft_t[(scale>=fft_t) & (fft_t >= 0)][::n_rate]\n",
    "t = fft_t\n",
    "res_t = np.zeros(len(t), dtype=complex)\n",
    "\n",
    "plt.plot(w, jw / (1 + np.exp(sigma * beta * (w - mu_x))), label='exact')\n",
    "\n",
    "freq_tmp = 2 * np.pi * np.fft.fftfreq(len(fft_ct), fft_t[1]-fft_t[0])\n",
    "value_tmp = len(fft_ct) * (fft_t[1]-fft_t[0]) * np.fft.ifft(fft_ct)\n",
    "\n",
    "index_tmp = np.argsort(freq_tmp[:])\n",
    "freq_tmp = freq_tmp[index_tmp][::]\n",
    "value_tmp = value_tmp[index_tmp][::]\n",
    "\n",
    "# fft_ct[0] = fft_ct[0] / 2\n",
    "plt.plot(freq_tmp, value_tmp)\n",
    "\n",
    "\n",
    "# fft_ct[0] = fft_ct[0] * 2\n",
    "plt.legend(loc=1)\n",
    "plt.xlim(-50, 50)\n",
    "plt.show()"
   ]
  },
  {
   "cell_type": "code",
   "execution_count": null,
   "id": "de127035",
   "metadata": {
    "ExecuteTime": {
     "end_time": "2022-05-09T12:53:58.443418Z",
     "start_time": "2022-05-09T12:53:34.298991Z"
    }
   },
   "outputs": [
    {
     "name": "stdout",
     "output_type": "stream",
     "text": [
      "[8.12784930e-01 5.76843138e-01 1.64962497e-01 5.11013961e-02\n",
      " 1.17664344e-02 4.61335475e-03 2.27547997e-03 4.13213108e-04\n",
      " 7.24309050e-05 5.98276517e-05 1.15236757e-05 2.53589092e-06\n",
      " 1.54858602e-06 1.17546971e-06 2.05006654e-07 2.85962787e-08\n",
      " 7.62734240e-09 3.58110259e-09 1.46424115e-09 4.64224797e-10\n",
      " 1.21624755e-10 2.75179920e-11 3.92786397e-12 3.26205641e-12\n",
      " 8.80654379e-13 2.83139428e-13 8.07750994e-14 2.50052174e-14\n",
      " 2.25889394e-15 5.39647357e-16 3.67093701e-16 2.98812128e-16\n",
      " 2.00674530e-16 1.84822841e-16 1.82600519e-16 1.82580371e-16\n",
      " 1.79317991e-16 1.75232703e-16 1.73836123e-16 1.71728834e-16\n",
      " 1.71719056e-16 1.71366458e-16 1.69538579e-16 1.69013802e-16\n",
      " 1.68044894e-16 1.66235402e-16 1.65125050e-16 1.63174447e-16\n",
      " 1.61314982e-16 1.58996583e-16 1.58458475e-16 1.55970838e-16\n",
      " 1.55581881e-16 1.54793654e-16 1.54446803e-16 1.53870797e-16\n",
      " 1.53117119e-16 1.53007517e-16 1.52574415e-16 1.51898932e-16\n",
      " 1.51417565e-16 1.51037336e-16 1.50447319e-16 1.50149492e-16\n",
      " 1.49775369e-16 1.49650248e-16 1.49418216e-16 1.49184629e-16\n",
      " 1.47394864e-16 1.47370111e-16 1.47049256e-16 1.45569457e-16\n",
      " 1.45123622e-16 1.43487101e-16 1.41987116e-16 1.40472022e-16\n",
      " 1.37521785e-16 1.37441063e-16 1.36657333e-16 1.36514242e-16\n",
      " 1.36057497e-16 1.35978236e-16 1.35503722e-16 1.34952499e-16\n",
      " 1.34727247e-16 1.34643216e-16 1.33205525e-16 1.33006075e-16\n",
      " 1.32957486e-16 1.32168469e-16 1.30488615e-16 1.30202299e-16\n",
      " 1.29911451e-16 1.29198551e-16 1.28002117e-16 1.27643560e-16\n",
      " 1.27295896e-16 1.27090279e-16 1.26789081e-16 1.26357925e-16]\n",
      "len of gamma 10\n"
     ]
    },
    {
     "name": "stderr",
     "output_type": "stream",
     "text": [
      "/home/ZDC/program/anaconda3/lib/python3.8/site-packages/numpy/core/_asarray.py:102: ComplexWarning: Casting complex values to real discards the imaginary part\n",
      "  return array(a, dtype, copy=False, order=order)\n"
     ]
    },
    {
     "data": {
      "image/png": "[encoded data removed]",
      "text/plain": [
       "<Figure size 432x288 with 1 Axes>"
      ]
     },
     "metadata": {
      "needs_background": "light"
     },
     "output_type": "display_data"
    },
    {
     "name": "stdout",
     "output_type": "stream",
     "text": [
      "[9.37494775e-01 4.32326006e-01 3.26819327e-02 6.19480092e-03\n",
      " 1.60945369e-03 5.02835271e-04 1.77957733e-04 6.79990305e-05\n",
      " 2.65364496e-05 1.01102559e-05 3.70697969e-06 1.31258812e-06\n",
      " 4.51713204e-07 1.51843202e-07 5.00308360e-08 1.61976537e-08\n",
      " 5.16197658e-09 1.62152815e-09 5.02632161e-10 1.53879416e-10\n",
      " 4.65628708e-11 1.39349373e-11 4.12682745e-12 1.20999910e-12\n",
      " 3.51397515e-13 1.01118171e-13 2.88417773e-14 8.15328310e-15\n",
      " 1.78669242e-15 1.02164659e-15 2.64352814e-16 2.19357846e-16\n",
      " 2.12647368e-16 1.98460134e-16 1.85448122e-16 1.82840242e-16\n",
      " 1.75906924e-16 1.69999540e-16 1.67812098e-16 1.66806429e-16\n",
      " 1.65349446e-16 1.61792950e-16 1.60662000e-16 1.60467908e-16\n",
      " 1.59957128e-16 1.59191552e-16 1.57190622e-16 1.56654146e-16\n",
      " 1.56642461e-16 1.56333201e-16 1.54170058e-16 1.53983309e-16\n",
      " 1.53160070e-16 1.50078958e-16 1.49959834e-16 1.49647841e-16\n",
      " 1.48458090e-16 1.47497297e-16 1.47241770e-16 1.47011115e-16\n",
      " 1.46987293e-16 1.46882890e-16 1.46293563e-16 1.44660079e-16\n",
      " 1.44100253e-16 1.42869847e-16 1.42625647e-16 1.42115773e-16\n",
      " 1.41466790e-16 1.40480289e-16 1.39593413e-16 1.38685237e-16\n",
      " 1.38306352e-16 1.38139497e-16 1.37863726e-16 1.37403841e-16\n",
      " 1.35848581e-16 1.34723245e-16 1.34706060e-16 1.33447525e-16\n",
      " 1.32725239e-16 1.32605546e-16 1.32482091e-16 1.31379331e-16\n",
      " 1.30127581e-16 1.30108305e-16 1.29180778e-16 1.29118610e-16\n",
      " 1.27991922e-16 1.27313224e-16 1.27157667e-16 1.27033683e-16\n",
      " 1.26424588e-16 1.24813414e-16 1.23275890e-16 1.22781382e-16\n",
      " 1.21831702e-16 1.21316824e-16 1.21262278e-16 1.20957892e-16]\n",
      "len of gamma 10\n"
     ]
    }
   ],
   "source": [
    "n_sample = n + 1\n",
    "n_gamma_l = [10]\n",
    "h = np.imag(fft_ct)\n",
    "H = np.zeros((n_sample, n_sample))\n",
    "for i in range(n_sample):\n",
    "    H[i, :] = h[i:n_sample + i]\n",
    "sing_vs, Q = LA.eigh(H)\n",
    "# del H\n",
    "phase_mat = np.diag(\n",
    "    [np.exp(-1j * np.angle(sing_v) / 2.0) for sing_v in sing_vs])\n",
    "vs = np.array([np.abs(sing_v) for sing_v in sing_vs])\n",
    "Qp = np.dot(Q, phase_mat)\n",
    "sort_array = np.argsort(vs)[::-1]\n",
    "vs = vs[sort_array]\n",
    "Qp = (Qp[:, sort_array])\n",
    "print(vs[:100])\n",
    "vs = vs[:20]\n",
    "Qp = Qp[:, :20]\n",
    "\n",
    "for n_gamma in n_gamma_l:\n",
    "    print(\"len of gamma\", n_gamma)\n",
    "    gamma = np.roots(Qp[:, n_gamma][::-1])\n",
    "    gamma_new = gamma[np.argsort(np.abs(gamma))[:n_gamma]]\n",
    "    t_imag = 2 * n * np.log(gamma_new)\n",
    "    gamma_m = np.zeros((n_sample * 2 - 1, n_gamma), dtype=complex)\n",
    "    for i in range(n_gamma):\n",
    "        for j in range(n_sample * 2 - 1):\n",
    "            gamma_m[j, i] = gamma_new[i]**j\n",
    "    omega_imag = np.dot(LA.inv(np.dot(np.transpose(gamma_m), gamma_m)),\n",
    "                        np.dot(np.transpose(gamma_m), np.transpose(h)))\n",
    "\n",
    "    res_t = np.zeros(len(t), dtype=complex)\n",
    "    fit_t(fft_t, res_t, -t_imag / scale, omega_imag)\n",
    "    plt.plot(fft_t, np.imag(fft_ct) - res_t)\n",
    "    #plt.savefig(\"imag_{}.pdf\".format(n_gamma))\n",
    "    plt.show()\n",
    "\n",
    "h = np.real(fft_ct)\n",
    "H = np.zeros((n_sample, n_sample))\n",
    "for i in range(n_sample):\n",
    "    H[i, :] = h[i:n_sample + i]\n",
    "sing_vs, Q = LA.eigh(H)\n",
    "# del H\n",
    "phase_mat = np.diag(\n",
    "    [np.exp(-1j * np.angle(sing_v) / 2.0) for sing_v in sing_vs])\n",
    "vs = np.array([np.abs(sing_v) for sing_v in sing_vs])\n",
    "Qp = np.dot(Q, phase_mat)\n",
    "sort_array = np.argsort(vs)[::-1]\n",
    "vs = vs[sort_array]\n",
    "Qp = (Qp[:, sort_array])\n",
    "print(vs[:100])\n",
    "vs = vs[:20]\n",
    "Qp = Qp[:, :20]\n",
    "\n",
    "for n_gamma in n_gamma_l:\n",
    "    print(\"len of gamma\", n_gamma)\n",
    "    gamma = np.roots(Qp[:, n_gamma][::-1])\n",
    "    gamma_new = gamma[np.argsort(np.abs(gamma))[:n_gamma]]\n",
    "    t_real = 2 * n * np.log(gamma_new)\n",
    "    gamma_m = np.zeros((n_sample * 2 - 1, n_gamma), dtype=complex)\n",
    "    for i in range(n_gamma):\n",
    "        for j in range(n_sample * 2 - 1):\n",
    "            gamma_m[j, i] = gamma_new[i]**j\n",
    "    omega_real = np.dot(LA.inv(np.dot(np.transpose(gamma_m), gamma_m)),\n",
    "                        np.dot(np.transpose(gamma_m), np.transpose(h)))\n",
    "\n",
    "    res_t = np.zeros(len(t), dtype=complex)\n",
    "    fit_t(fft_t, res_t, -t_real / scale, omega_real)\n",
    "    plt.plot(fft_t, np.real(fft_ct) - res_t)\n",
    "    #plt.savefig(\"real_{}.pdf\".format(n_gamma))\n",
    "    plt.show()"
   ]
  },
  {
   "cell_type": "code",
   "execution_count": null,
   "id": "8e745aac",
   "metadata": {
    "ExecuteTime": {
     "end_time": "2022-05-09T12:53:59.165553Z",
     "start_time": "2022-05-09T12:53:58.444586Z"
    }
   },
   "outputs": [],
   "source": [
    "etal1 = np.append(1.j * omega_imag, omega_real)\n",
    "etar1 = np.append(np.conjugate(1.j * omega_imag), np.conjugate(omega_real))\n",
    "etaa1 = np.append(np.abs(omega_imag), np.abs(omega_real))\n",
    "expn1 = np.append(-t_imag / scale, -t_real / scale)\n",
    "\n",
    "print(\"diss_rate\\n\",expn1)\n",
    "print(\"eta\\n\",etal1)\n",
    "\n",
    "filter_ = 1e-4\n",
    "#print(len(expn1[np.abs(etal1) <= filter_]))\n",
    "expn1 = expn1[np.abs(etal1) > filter_]\n",
    "etal1 = etal1[np.abs(etal1) > filter_]\n",
    "\n",
    "# if sigma == 1:\n",
    "#np.savetxt(\"expn1\", expn1)\n",
    "#np.savetxt(\"etal1\", etal1)\n",
    "# if sigma == -1:\n",
    "#np.savetxt(\"expn2\", expn1)\n",
    "#np.savetxt(\"etal2\", etal1)\n",
    "\n",
    "len_ = 1000000\n",
    "spe_wid = 20\n",
    "w = np.linspace(-spe_wid, spe_wid, len_)\n",
    "phixx = gen_jw(w) / (1 + np.exp(sigma * beta * (w - mu_x)))\n",
    "res_J1 = np.zeros(len(w), dtype=complex)\n",
    "fit_J(w, res_J1, expn1, etal1, sigma)\n",
    "\n",
    "plt.plot(w, (phixx.real), \"b\", label=\"exact\")\n",
    "plt.plot(w, (res_J1.real), \"r--\", label=\"PFS\")\n",
    "plt.xlim(-2, 2)\n",
    "#plt.ylim(-0.001, 0.01)\n",
    "plt.legend(loc=1)\n",
    "plt.show()"
   ]
  }
 ],
 "metadata": {
  "kernelspec": {
   "display_name": "Python 3",
   "language": "python",
   "name": "python3"
  },
  "language_info": {
   "codemirror_mode": {
    "name": "ipython",
    "version": 3
   },
   "file_extension": ".py",
   "mimetype": "text/x-python",
   "name": "python",
   "nbconvert_exporter": "python",
   "pygments_lexer": "ipython3",
   "version": "3.8.8"
  }
 },
 "nbformat": 4,
 "nbformat_minor": 5
}
