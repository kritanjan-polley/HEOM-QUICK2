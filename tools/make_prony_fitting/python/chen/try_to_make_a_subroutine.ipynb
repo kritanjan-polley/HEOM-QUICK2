{
 "cells": [
  {
   "cell_type": "code",
   "execution_count": 1,
   "id": "6b4edd9e",
   "metadata": {
    "ExecuteTime": {
     "end_time": "2022-05-09T12:53:20.989399Z",
     "start_time": "2022-05-09T12:53:20.923779Z"
    }
   },
   "outputs": [],
   "source": [
    "import math\n",
    "from numpy import linalg as LA\n",
    "import numpy as np\n",
    "from matplotlib import pyplot as plt \n",
    "\n",
    "import random\n",
    "import os\n",
    "from numba import njit, prange, cuda\n",
    "import itertools\n",
    "import sympy as sp\n",
    "\n",
    "def fit_J(w, res, expn, etal, sigma):\n",
    "    for i in range(len(etal)):\n",
    "        res += etal[i] / (expn[i] + sigma * 1.j * w)\n",
    "\n",
    "def fit_t(t, res, expn, etal):\n",
    "    for i in range(len(etal)):\n",
    "        res += etal[i] * np.exp(-expn[i] * t)\n",
    "    return res\n",
    "\n",
    "def gen_jw(w):\n",
    "    return lams1 * gams1**2 / (((w - mu_x) - omgs1)**2 + gams1**2)\n",
    "\n",
    "\n",
    "def prony(n = 1500, n_gamma = 10, scale = 500, scale_fft = 100, n_fft = 10000000, filter_ = 0.0001):\n",
    "    \n",
    "    n_rate = (scale_fft * scale/ (4 * n))\n",
    "    #print(n_rate)\n",
    "    n_rate = int(n_rate)\n",
    "    w = np.linspace(0, scale_fft * np.pi, n_fft + 3)[:-1]\n",
    "    dw = w[1] - w[0]\n",
    "\n",
    "    jw = gen_jw(w)\n",
    "    cw1 = jw / (1 + np.exp(- sigma * beta * (w - mu_x)))\n",
    "    cw2 = jw / (1 + np.exp(sigma * beta * (w - mu_x)))\n",
    "    # del jw\n",
    "\n",
    "    cw1[0] = cw1[0] / 2\n",
    "    cw2[0] = cw2[0] / 2\n",
    "    if sigma == -1:\n",
    "        fft_ct = (np.fft.ifft(cw1) * len(cw1) * dw + np.fft.fft(cw2) * dw) / np.pi\n",
    "    if sigma == 1:\n",
    "        fft_ct = (np.fft.fft(cw1) * dw + np.fft.ifft(cw2) * len(cw2) * dw) / np.pi\n",
    "    fft_t = 2 * np.pi * np.fft.fftfreq(len(cw1), dw)\n",
    "    del cw1, cw2\n",
    "\n",
    "    #print(max(fft_t))\n",
    "    fft_ct = fft_ct[(scale>=fft_t) & (fft_t >= 0)][::n_rate]\n",
    "    fft_t = fft_t[(scale>=fft_t) & (fft_t >= 0)][::n_rate]\n",
    "    t = fft_t\n",
    "    res_t = np.zeros(len(t), dtype=complex)\n",
    "    \n",
    "    n_sample = n + 1\n",
    "    h = np.imag(fft_ct)\n",
    "    H = np.zeros((n_sample, n_sample))\n",
    "    for i in range(n_sample):\n",
    "        H[i, :] = h[i:n_sample + i]\n",
    "    sing_vs, Q = LA.eigh(H)\n",
    "    # del H\n",
    "    phase_mat = np.diag(\n",
    "        [np.exp(-1j * np.angle(sing_v) / 2.0) for sing_v in sing_vs])\n",
    "    vs = np.array([np.abs(sing_v) for sing_v in sing_vs])\n",
    "    Qp = np.dot(Q, phase_mat)\n",
    "    sort_array = np.argsort(vs)[::-1]\n",
    "    vs = vs[sort_array]\n",
    "    Qp = (Qp[:, sort_array])\n",
    "    #print(vs[:100])\n",
    "    vs = vs[:20]\n",
    "    Qp = Qp[:, :20]\n",
    "\n",
    "    gamma = np.roots(Qp[:, n_gamma][::-1])\n",
    "    gamma_new = gamma[np.argsort(np.abs(gamma))[:n_gamma]]\n",
    "    t_imag = 2 * n * np.log(gamma_new)\n",
    "    gamma_m = np.zeros((n_sample * 2 - 1, n_gamma), dtype=complex)\n",
    "    for i in range(n_gamma):\n",
    "        for j in range(n_sample * 2 - 1):\n",
    "            gamma_m[j, i] = gamma_new[i]**j\n",
    "    omega_imag = np.dot(LA.inv(np.dot(np.transpose(gamma_m), gamma_m)),\n",
    "                        np.dot(np.transpose(gamma_m), np.transpose(h)))\n",
    "\n",
    "    res_t = np.zeros(len(t), dtype=complex)\n",
    "    fit_t(fft_t, res_t, -t_imag / scale, omega_imag)\n",
    "    plt.plot(fft_t, np.imag(fft_ct) - res_t)\n",
    "    #plt.savefig(\"imag_{}.pdf\".format(n_gamma))\n",
    "    plt.show()\n",
    "\n",
    "    h = np.real(fft_ct)\n",
    "    H = np.zeros((n_sample, n_sample))\n",
    "    for i in range(n_sample):\n",
    "        H[i, :] = h[i:n_sample + i]\n",
    "    sing_vs, Q = LA.eigh(H)\n",
    "    # del H\n",
    "    phase_mat = np.diag(\n",
    "    [np.exp(-1j * np.angle(sing_v) / 2.0) for sing_v in sing_vs])\n",
    "    vs = np.array([np.abs(sing_v) for sing_v in sing_vs])\n",
    "    Qp = np.dot(Q, phase_mat)\n",
    "    sort_array = np.argsort(vs)[::-1]\n",
    "    vs = vs[sort_array]\n",
    "    Qp = (Qp[:, sort_array])\n",
    "    #print(vs[:100])\n",
    "    vs = vs[:20]\n",
    "    Qp = Qp[:, :20]\n",
    "\n",
    "    gamma = np.roots(Qp[:, n_gamma][::-1])\n",
    "    gamma_new = gamma[np.argsort(np.abs(gamma))[:n_gamma]]\n",
    "    t_real = 2 * n * np.log(gamma_new)\n",
    "    gamma_m = np.zeros((n_sample * 2 - 1, n_gamma), dtype=complex)\n",
    "    for i in range(n_gamma):\n",
    "        for j in range(n_sample * 2 - 1):\n",
    "            gamma_m[j, i] = gamma_new[i]**j\n",
    "    omega_real = np.dot(LA.inv(np.dot(np.transpose(gamma_m), gamma_m)),\n",
    "                        np.dot(np.transpose(gamma_m), np.transpose(h)))\n",
    "\n",
    "    res_t = np.zeros(len(t), dtype=complex)\n",
    "    fit_t(fft_t, res_t, -t_real / scale, omega_real)\n",
    "    plt.plot(fft_t, np.real(fft_ct) - res_t)\n",
    "    #plt.savefig(\"real_{}.pdf\".format(n_gamma))\n",
    "    plt.show()\n",
    "    \n",
    "    etal1 = np.append(1.j * omega_imag, omega_real)\n",
    "    expn1 = np.append(-t_imag / scale, -t_real / scale)\n",
    "\n",
    "    expn1 = expn1[np.abs(etal1) > filter_]\n",
    "    etal1 = etal1[np.abs(etal1) > filter_]\n",
    "    \n",
    "    return etal1, expn1\n",
    "    \n"
   ]
  },
  {
   "cell_type": "code",
   "execution_count": 2,
   "id": "033e9a52",
   "metadata": {
    "ExecuteTime": {
     "end_time": "2022-05-09T12:53:25.944579Z",
     "start_time": "2022-05-09T12:53:25.807436Z"
    }
   },
   "outputs": [
    {
     "name": "stderr",
     "output_type": "stream",
     "text": [
      "<ipython-input-2-9eb1e60f6bc5>:21: RuntimeWarning: overflow encountered in exp\n",
      "  plt.scatter(w, 1/(1 + np.exp(sigma * beta * (w - mu_x))),s=4)\n",
      "<ipython-input-2-9eb1e60f6bc5>:22: RuntimeWarning: overflow encountered in exp\n",
      "  plt.plot(w, jw / (1 + np.exp(sigma * beta * (w - mu_x))), label='jw*fermi')\n"
     ]
    },
    {
     "data": {
      "image/png": "[encoded data removed]",
      "text/plain": [
       "<Figure size 432x288 with 1 Axes>"
      ]
     },
     "metadata": {
      "needs_background": "light"
     },
     "output_type": "display_data"
    }
   ],
   "source": [
    "lams1 = 0.2\n",
    "gams1 = 2.0\n",
    "omgs1 = 10\n",
    "temp = 0.001\n",
    "beta = int(1 / temp)\n",
    "mu_x = 0.0\n",
    "sigma = 1\n",
    "\n",
    "n = 2500         # dimension of Hankel matrix\n",
    "n_gamma_l = [11] # number of real or imagnary prony poles\n",
    "scale = 500\n",
    "scale_fft = 100\n",
    "n_fft = 10000000\n",
    "\n",
    "len_ = 10000\n",
    "spe_wid = 50\n",
    "w = np.linspace(-spe_wid, spe_wid, len_)\n",
    "\n",
    "jw = gen_jw(w)\n",
    "plt.plot(w, jw, label='jw')\n",
    "plt.scatter(w, 1/(1 + np.exp(sigma * beta * (w - mu_x))),s=4)\n",
    "plt.plot(w, jw / (1 + np.exp(sigma * beta * (w - mu_x))), label='jw*fermi')\n",
    "plt.ylim(-0.01,0.25)\n",
    "plt.legend(loc=1)\n",
    "plt.show()"
   ]
  },
  {
   "cell_type": "code",
   "execution_count": 3,
   "id": "a4094079",
   "metadata": {
    "ExecuteTime": {
     "end_time": "2022-05-09T12:53:34.297234Z",
     "start_time": "2022-05-09T12:53:28.110850Z"
    }
   },
   "outputs": [
    {
     "name": "stdout",
     "output_type": "stream",
     "text": [
      "5.0\n"
     ]
    },
    {
     "name": "stderr",
     "output_type": "stream",
     "text": [
      "<ipython-input-3-4826341abd30>:12: RuntimeWarning: overflow encountered in exp\n",
      "  cw2 = jw / (1 + np.exp(  sigma * beta * (w - mu_x)))\n"
     ]
    },
    {
     "name": "stdout",
     "output_type": "stream",
     "text": [
      "100000.0\n"
     ]
    },
    {
     "name": "stderr",
     "output_type": "stream",
     "text": [
      "<ipython-input-3-4826341abd30>:30: RuntimeWarning: overflow encountered in exp\n",
      "  plt.plot(w, jw / (1 + np.exp(sigma * beta * (w - mu_x))), label='exact')\n",
      "/home/ZDC/program/anaconda3/lib/python3.8/site-packages/numpy/core/_asarray.py:102: ComplexWarning: Casting complex values to real discards the imaginary part\n",
      "  return array(a, dtype, copy=False, order=order)\n"
     ]
    },
    {
     "data": {
      "image/png": "[encoded data removed]",
      "text/plain": [
       "<Figure size 432x288 with 1 Axes>"
      ]
     },
     "metadata": {
      "needs_background": "light"
     },
     "output_type": "display_data"
    }
   ],
   "source": [
    "if sigma == 1:\n",
    "    omgs1 = omgs1 * -1\n",
    "\n",
    "n_rate = (scale_fft * scale/ (4 * n))\n",
    "print(n_rate)\n",
    "n_rate = int(n_rate)\n",
    "w = np.linspace(0, scale_fft * np.pi, n_fft + 3)[:-1]\n",
    "dw = w[1] - w[0]\n",
    "\n",
    "jw = gen_jw(w)\n",
    "cw1 = jw / (1 + np.exp(- sigma * beta * (w - mu_x)))\n",
    "cw2 = jw / (1 + np.exp(  sigma * beta * (w - mu_x)))\n",
    "# del jw\n",
    "\n",
    "cw1[0] = cw1[0] / 2\n",
    "cw2[0] = cw2[0] / 2\n",
    "if sigma == -1:\n",
    "    fft_ct = (np.fft.ifft(cw1) * len(cw1) * dw + np.fft.fft(cw2) * dw) / np.pi\n",
    "if sigma == 1:\n",
    "    fft_ct = (np.fft.fft(cw1) * dw + np.fft.ifft(cw2) * len(cw2) * dw) / np.pi\n",
    "fft_t = 2 * np.pi * np.fft.fftfreq(len(cw1), dw)\n",
    "del cw1, cw2\n",
    "\n",
    "print(max(fft_t))\n",
    "fft_ct = fft_ct[(scale>=fft_t) & (fft_t >= 0)][::n_rate]\n",
    "fft_t = fft_t[(scale>=fft_t) & (fft_t >= 0)][::n_rate]\n",
    "t = fft_t\n",
    "res_t = np.zeros(len(t), dtype=complex)\n",
    "\n",
    "plt.plot(w, jw / (1 + np.exp(sigma * beta * (w - mu_x))), label='exact')\n",
    "\n",
    "freq_tmp = 2 * np.pi * np.fft.fftfreq(len(fft_ct), fft_t[1]-fft_t[0])\n",
    "value_tmp = len(fft_ct) * (fft_t[1]-fft_t[0]) * np.fft.ifft(fft_ct)\n",
    "\n",
    "index_tmp = np.argsort(freq_tmp[:])\n",
    "freq_tmp = freq_tmp[index_tmp][::]\n",
    "value_tmp = value_tmp[index_tmp][::]\n",
    "\n",
    "# fft_ct[0] = fft_ct[0] / 2\n",
    "plt.plot(freq_tmp, value_tmp)\n",
    "\n",
    "## fft_ct[0] = fft_ct[0] / 2\n",
    "#plt.plot(2 * np.pi * np.fft.fftfreq(len(fft_ct), fft_t[1]-fft_t[0]), len(fft_ct) * (fft_t[1]-fft_t[0]) * np.fft.ifft(fft_ct))\n",
    "## fft_ct[0] = fft_ct[0] * 2\n",
    "plt.legend(loc=1)\n",
    "plt.xlim(-50, 50)\n",
    "plt.show()"
   ]
  },
  {
   "cell_type": "code",
   "execution_count": 4,
   "id": "de127035",
   "metadata": {
    "ExecuteTime": {
     "end_time": "2022-05-09T12:53:58.443418Z",
     "start_time": "2022-05-09T12:53:34.298991Z"
    }
   },
   "outputs": [
    {
     "name": "stdout",
     "output_type": "stream",
     "text": [
      "len of gamma 11\n"
     ]
    },
    {
     "name": "stderr",
     "output_type": "stream",
     "text": [
      "/home/ZDC/program/anaconda3/lib/python3.8/site-packages/numpy/core/_asarray.py:102: ComplexWarning: Casting complex values to real discards the imaginary part\n",
      "  return array(a, dtype, copy=False, order=order)\n"
     ]
    },
    {
     "data": {
      "image/png": "[encoded data removed]",
      "text/plain": [
       "<Figure size 432x288 with 1 Axes>"
      ]
     },
     "metadata": {
      "needs_background": "light"
     },
     "output_type": "display_data"
    },
    {
     "name": "stdout",
     "output_type": "stream",
     "text": [
      "len of gamma 11\n"
     ]
    },
    {
     "name": "stderr",
     "output_type": "stream",
     "text": [
      "/home/ZDC/program/anaconda3/lib/python3.8/site-packages/numpy/core/_asarray.py:102: ComplexWarning: Casting complex values to real discards the imaginary part\n",
      "  return array(a, dtype, copy=False, order=order)\n"
     ]
    },
    {
     "data": {
      "image/png": "[encoded data removed]",
      "text/plain": [
       "<Figure size 432x288 with 1 Axes>"
      ]
     },
     "metadata": {
      "needs_background": "light"
     },
     "output_type": "display_data"
    }
   ],
   "source": [
    "n_sample = n + 1\n",
    "h = np.imag(fft_ct)\n",
    "H = np.zeros((n_sample, n_sample))\n",
    "for i in range(n_sample):\n",
    "    H[i, :] = h[i:n_sample + i]\n",
    "sing_vs, Q = LA.eigh(H)\n",
    "# del H\n",
    "phase_mat = np.diag(\n",
    "    [np.exp(-1j * np.angle(sing_v) / 2.0) for sing_v in sing_vs])\n",
    "vs = np.array([np.abs(sing_v) for sing_v in sing_vs])\n",
    "Qp = np.dot(Q, phase_mat)\n",
    "sort_array = np.argsort(vs)[::-1]\n",
    "vs = vs[sort_array]\n",
    "Qp = (Qp[:, sort_array])\n",
    "#print(vs[:100])\n",
    "#vs = vs[:20]\n",
    "#Qp = Qp[:, :20]\n",
    "\n",
    "for n_gamma in n_gamma_l:\n",
    "    print(\"len of gamma\", n_gamma)\n",
    "    gamma = np.roots(Qp[:, n_gamma][::-1])\n",
    "    gamma_new = gamma[np.argsort(np.abs(gamma))[:n_gamma]]\n",
    "    t_imag = 2 * n * np.log(gamma_new)\n",
    "    gamma_m = np.zeros((n_sample * 2 - 1, n_gamma), dtype=complex)\n",
    "    for i in range(n_gamma):\n",
    "        for j in range(n_sample * 2 - 1):\n",
    "            gamma_m[j, i] = gamma_new[i]**j\n",
    "    omega_imag = np.dot(LA.inv(np.dot(np.transpose(gamma_m), gamma_m)),\n",
    "                        np.dot(np.transpose(gamma_m), np.transpose(h)))\n",
    "\n",
    "    res_t = np.zeros(len(t), dtype=complex)\n",
    "    fit_t(fft_t, res_t, -t_imag / scale, omega_imag)\n",
    "    plt.plot(fft_t, np.imag(fft_ct) - res_t)\n",
    "    #plt.savefig(\"imag_{}.pdf\".format(n_gamma))\n",
    "    plt.show()\n",
    "\n",
    "h = np.real(fft_ct)\n",
    "H = np.zeros((n_sample, n_sample))\n",
    "for i in range(n_sample):\n",
    "    H[i, :] = h[i:n_sample + i]\n",
    "sing_vs, Q = LA.eigh(H)\n",
    "# del H\n",
    "phase_mat = np.diag(\n",
    "    [np.exp(-1j * np.angle(sing_v) / 2.0) for sing_v in sing_vs])\n",
    "vs = np.array([np.abs(sing_v) for sing_v in sing_vs])\n",
    "Qp = np.dot(Q, phase_mat)\n",
    "sort_array = np.argsort(vs)[::-1]\n",
    "vs = vs[sort_array]\n",
    "Qp = (Qp[:, sort_array])\n",
    "#print(vs[:100])\n",
    "#vs = vs[:20]\n",
    "#Qp = Qp[:, :20]\n",
    "\n",
    "for n_gamma in n_gamma_l:\n",
    "    print(\"len of gamma\", n_gamma)\n",
    "    gamma = np.roots(Qp[:, n_gamma][::-1])\n",
    "    gamma_new = gamma[np.argsort(np.abs(gamma))[:n_gamma]]\n",
    "    t_real = 2 * n * np.log(gamma_new)\n",
    "    gamma_m = np.zeros((n_sample * 2 - 1, n_gamma), dtype=complex)\n",
    "    for i in range(n_gamma):\n",
    "        for j in range(n_sample * 2 - 1):\n",
    "            gamma_m[j, i] = gamma_new[i]**j\n",
    "    omega_real = np.dot(LA.inv(np.dot(np.transpose(gamma_m), gamma_m)),\n",
    "                        np.dot(np.transpose(gamma_m), np.transpose(h)))\n",
    "\n",
    "    res_t = np.zeros(len(t), dtype=complex)\n",
    "    fit_t(fft_t, res_t, -t_real / scale, omega_real)\n",
    "    plt.plot(fft_t, np.real(fft_ct) - res_t)\n",
    "    #plt.savefig(\"real_{}.pdf\".format(n_gamma))\n",
    "    plt.show()"
   ]
  },
  {
   "cell_type": "code",
   "execution_count": 10,
   "id": "8e745aac",
   "metadata": {
    "ExecuteTime": {
     "end_time": "2022-05-09T12:53:59.165553Z",
     "start_time": "2022-05-09T12:53:58.444586Z"
    }
   },
   "outputs": [
    {
     "name": "stdout",
     "output_type": "stream",
     "text": [
      "[2.92383780e+01-0.00000000e+00j 1.88810813e+01-3.14159265e+01j\n",
      " 4.63713864e+00-3.01764672e-23j 2.09465406e+00+1.22735150e-14j\n",
      " 9.24121334e-01-1.51225877e-14j 4.03476578e-01+4.80804995e-15j\n",
      " 1.75503054e-01-1.95938761e-14j 7.60142238e-02-1.71480594e-14j\n",
      " 3.22848813e-02+1.17595860e-14j 1.26070463e-02-9.79657063e-15j\n",
      " 3.29447197e-03+2.53194628e-14j 2.83541961e+01-0.00000000e+00j\n",
      " 1.28758775e+01-0.00000000e+00j 6.65449480e+00-0.00000000e+00j\n",
      " 3.43749136e+00+3.31498863e-15j 1.70697043e+00+3.43489971e-15j\n",
      " 8.08286798e-01-7.34461889e-15j 3.63576064e-01+3.82985979e-15j\n",
      " 1.54105994e-01-3.91552044e-14j 6.06231882e-02+1.92721293e-14j\n",
      " 2.12088886e-02+5.92678825e-15j 5.26162088e-03-1.68861838e-14j]\n",
      "[-2.20243871e-16+1.14056435e-02j  1.29088022e-16+4.70621828e-04j\n",
      "  3.43243270e-16-4.92914535e-03j -6.14094216e-16-3.67556643e-03j\n",
      "  7.89873512e-16-1.82254112e-03j -8.47149763e-16-8.16566479e-04j\n",
      "  8.95781681e-16-3.57693605e-04j -8.36124321e-16-1.56438277e-04j\n",
      "  6.13848068e-16-6.95800094e-05j -4.08493437e-16-3.17191822e-05j\n",
      "  1.54211409e-16-1.70150558e-05j  4.84375647e-03+2.41156236e-18j\n",
      "  8.29944931e-03-7.41689498e-18j  6.87982303e-03+9.97609394e-18j\n",
      "  3.08362884e-03-1.68618169e-17j  9.42833343e-04+1.85325733e-17j\n",
      "  2.34862041e-04-9.40522200e-18j  5.13412299e-05+5.99605481e-18j\n",
      "  9.97395290e-06-2.64092109e-18j  1.69366060e-06-1.11334850e-18j\n",
      "  2.43733395e-07+6.34233511e-19j  2.34001479e-08-1.11817517e-19j]\n",
      "8\n"
     ]
    },
    {
     "name": "stderr",
     "output_type": "stream",
     "text": [
      "<ipython-input-10-7e5a05585e47>:27: RuntimeWarning: overflow encountered in exp\n",
      "  phixx = gen_jw(w) / (1 + np.exp(sigma * beta * (w - mu_x)))\n"
     ]
    },
    {
     "data": {
      "image/png": "[encoded data removed]",
      "text/plain": [
       "<Figure size 432x288 with 1 Axes>"
      ]
     },
     "metadata": {
      "needs_background": "light"
     },
     "output_type": "display_data"
    },
    {
     "data": {
      "image/png": "[encoded data removed]",
      "text/plain": [
       "<Figure size 432x288 with 1 Axes>"
      ]
     },
     "metadata": {
      "needs_background": "light"
     },
     "output_type": "display_data"
    }
   ],
   "source": [
    "etal1 = np.append(1.j * omega_imag, omega_real)\n",
    "etar1 = np.append(np.conjugate(1.j * omega_imag), np.conjugate(omega_real))\n",
    "etaa1 = np.append(np.abs(omega_imag), np.abs(omega_real))\n",
    "expn1 = np.append(-t_imag / scale, -t_real / scale)\n",
    "\n",
    "print(expn1)\n",
    "print(etal1)\n",
    "\n",
    "filter_ = 1e-4\n",
    "print(len(expn1[np.abs(etal1) <= filter_]))\n",
    "expn1 = expn1[np.abs(etal1) > filter_]\n",
    "etal1 = etal1[np.abs(etal1) > filter_]\n",
    "\n",
    "# if sigma == 1:\n",
    "#np.savetxt(\"expn1\", expn1)\n",
    "#np.savetxt(\"etal1\", etal1)\n",
    "# if sigma == -1:\n",
    "#np.savetxt(\"expn2\", expn1)\n",
    "#np.savetxt(\"etal2\", etal1)\n",
    "\n",
    "if sigma == 1:\n",
    "    omgs1 = omgs1 * -1\n",
    "\n",
    "len_ = 1000000\n",
    "spe_wid = 20\n",
    "w = np.linspace(-spe_wid, spe_wid, len_)\n",
    "phixx = gen_jw(w) / (1 + np.exp(sigma * beta * (w - mu_x)))\n",
    "res_J1 = np.zeros(len(w), dtype=complex)\n",
    "fit_J(w, res_J1, expn1, etal1, sigma)\n",
    "\n",
    "tt = np.linspace(0, 100, 5001)\n",
    "res_t = np.zeros(5001, dtype=complex)\n",
    "res_t =  fit_t(tt, res_t, expn1, etal1)\n",
    "plt.plot(tt, (res_t.real), \"r--\", label=\"real\")\n",
    "plt.plot(tt, (res_t.imag), \"r--\", label=\"imag\")\n",
    "#plt.xlim(-20, 20)\n",
    "plt.legend(loc=1)\n",
    "plt.show()\n",
    "\n",
    "\n",
    "plt.plot(w, (phixx.real), \"b\", label=\"exact\")\n",
    "plt.plot(w, (res_J1.real), \"r--\", label=\"PFS\")\n",
    "plt.xlim(-20, 20)\n",
    "plt.legend(loc=1)\n",
    "plt.show()\n",
    "#plt.savefig(\"high-stru.pdf\")"
   ]
  }
 ],
 "metadata": {
  "kernelspec": {
   "display_name": "Python 3",
   "language": "python",
   "name": "python3"
  },
  "language_info": {
   "codemirror_mode": {
    "name": "ipython",
    "version": 3
   },
   "file_extension": ".py",
   "mimetype": "text/x-python",
   "name": "python",
   "nbconvert_exporter": "python",
   "pygments_lexer": "ipython3",
   "version": "3.8.8"
  }
 },
 "nbformat": 4,
 "nbformat_minor": 5
}
