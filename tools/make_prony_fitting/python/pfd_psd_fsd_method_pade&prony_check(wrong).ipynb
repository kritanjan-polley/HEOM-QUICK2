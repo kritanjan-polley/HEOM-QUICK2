{
 "cells": [
  {
   "cell_type": "code",
   "execution_count": 1,
   "id": "fc2a91a2",
   "metadata": {},
   "outputs": [],
   "source": [
    "import numpy as np\n",
    "from scipy import integrate, linalg, optimize\n",
    "from matplotlib import pyplot as plt \n",
    "\n",
    "\n",
    "def filte_small_value(U, criterion = 1.e-12):\n",
    "    #filte the value smaller than 1.e-12\n",
    "    if isinstance(U[0,0], np.complex128) or isinstance(U[0,0], complex):\n",
    "        leng = len(U[0])\n",
    "        for i in range(leng):\n",
    "            for j in range(leng):\n",
    "                a = U[i,j].real\n",
    "                b = U[i,j].imag\n",
    "                if np.abs(a) <= criterion:\n",
    "                     a = 0.0\n",
    "                if np.abs(b) <= criterion:\n",
    "                     b = 0.0\n",
    "                U[i,j] = a + b * 1.j\n",
    "    elif isinstance(U[0,0], np.float64) or isinstance(U[0,0], np.float128) or isinstance(U[0,0], float):\n",
    "        leng = len(U[0])\n",
    "        for i in range(leng):\n",
    "            for j in range(leng):\n",
    "                a = U[i,j]\n",
    "                if np.abs(a) <= criterion:\n",
    "                     a = 0.0\n",
    "                U[i,j] = a\n",
    "    return U\n",
    "\n",
    "def takagi_chen(H):\n",
    "    sing_vs, Q = linalg.eigh(H)\n",
    "    phase_mat = np.diag(\n",
    "                [np.exp(-1j * np.angle(sing_v) / 2.0) for sing_v in sing_vs])\n",
    "    vs = np.array([np.abs(sing_v) for sing_v in sing_vs])\n",
    "    Qp = np.dot(Q, phase_mat)\n",
    "    sort_array = np.argsort(vs)[::-1]\n",
    "    vs = vs[sort_array]\n",
    "    Qp = (Qp[:, sort_array])\n",
    "    \n",
    "    return vs, Qp\n",
    "\n",
    "def takagi_stra(N, tol=1e-13, rounding=13):\n",
    "    r\"\"\"Autonne-Takagi decomposition of a complex symmetric (not Hermitian!) matrix.\n",
    "\n",
    "    Note that singular values of N are considered equal if they are equal after np.round(values, tol).\n",
    "\n",
    "    See :cite:`cariolaro2016` and references therein for a derivation.\n",
    "\n",
    "    Args:\n",
    "        N (array[complex]): square, symmetric matrix N\n",
    "        rounding (int): the number of decimal places to use when rounding the singular values of N\n",
    "        tol (float): the tolerance used when checking if the input matrix is symmetric: :math:`|N-N^T| <` tol\n",
    "\n",
    "    Returns:\n",
    "        tuple[array, array]: (rl, U), where rl are the (rounded) singular values,\n",
    "            and U is the Takagi unitary, such that :math:`N = U \\diag(rl) U^T`.\n",
    "    \"\"\"\n",
    "    (n, m) = N.shape\n",
    "    if n != m:\n",
    "        raise ValueError(\"The input matrix must be square\")\n",
    "    if np.linalg.norm(N - np.transpose(N)) >= tol:\n",
    "        raise ValueError(\"The input matrix is not symmetric\")\n",
    "\n",
    "    N = np.real_if_close(N)\n",
    "\n",
    "    if np.allclose(N, 0):\n",
    "        return np.zeros(n), np.eye(n)\n",
    "\n",
    "    if np.isrealobj(N):\n",
    "        # If the matrix N is real one can be more clever and use its eigendecomposition\n",
    "        l, U = np.linalg.eigh(N)\n",
    "        vals = np.abs(l)  # These are the Takagi eigenvalues\n",
    "        phases = np.sqrt(np.complex128([1 if i > 0 else -1 for i in l]))\n",
    "        Uc = U @ np.diag(phases)  # One needs to readjust the phases\n",
    "        list_vals = [(vals[i], i) for i in range(len(vals))]\n",
    "        list_vals.sort(reverse=True)\n",
    "        sorted_l, permutation = zip(*list_vals)\n",
    "        permutation = np.array(permutation)\n",
    "        Uc = Uc[:, permutation]\n",
    "        # And also rearrange the unitary and values so that they are decreasingly ordered\n",
    "        return np.array(sorted_l), Uc\n",
    "\n",
    "    v, l, ws = np.linalg.svd(N)\n",
    "    w = np.transpose(np.conjugate(ws))\n",
    "    rl = np.round(l, rounding)\n",
    "\n",
    "    # Generate list with degenerancies\n",
    "    result = []\n",
    "    for k, g in groupby(rl):\n",
    "        result.append(list(g))\n",
    "\n",
    "    # Generate lists containing the columns that correspond to degenerancies\n",
    "    kk = 0\n",
    "    for k in result:\n",
    "        for ind, j in enumerate(k):  # pylint: disable=unused-variable\n",
    "            k[ind] = kk\n",
    "            kk = kk + 1\n",
    "\n",
    "    # Generate the lists with the degenerate column subspaces\n",
    "    vas = []\n",
    "    was = []\n",
    "    for i in result:\n",
    "        vas.append(v[:, i])\n",
    "        was.append(w[:, i])\n",
    "\n",
    "    # Generate the matrices qs of the degenerate subspaces\n",
    "    qs = []\n",
    "    for i in range(len(result)):\n",
    "        qs.append(sqrtm(np.transpose(vas[i]) @ was[i]))\n",
    "\n",
    "    # Construct the Takagi unitary\n",
    "    qb = block_diag(*qs)\n",
    "\n",
    "    U = v @ np.conj(qb)\n",
    "    return rl, U\n",
    "\n",
    "def fdt_real(omega, t):\n",
    "    t = np.array([t], dtype=np.float128)\n",
    "    if ((omega - chemical_potential) / T) <= 50:\n",
    "        fun = np.exp(1.j * omega * t[0]) \\\n",
    "              * (0.5 * sys_bath_coupling * (band_width**2)) / ((omega + band_center)**2 + band_width**2)\\\n",
    "              / (1.0 + np.exp( (omega - chemical_potential) / T ))\n",
    "    elif ((omega - chemical_potential) / T) > 50:\n",
    "        fun = np.exp(1.j * omega * t[0]) \\\n",
    "              * (0.5 * sys_bath_coupling * (band_width**2)) / ((omega + band_center)**2 + band_width**2)\\\n",
    "              / 10e+22\n",
    "    #print('C(w,t)',omega,t,fun)\n",
    "    return fun.real\n",
    "\n",
    "def fdt_imag(omega, t):\n",
    "    t = np.array([t], dtype=np.float128)\n",
    "    if ((omega - chemical_potential) / T) <= 50:\n",
    "        fun = np.exp(1.j * omega * t[0]) \\\n",
    "              * (0.5 * sys_bath_coupling * (band_width**2)) / ((omega + band_center)**2 + band_width**2)\\\n",
    "              / (1.0 + np.exp( (omega - chemical_potential) / T ))\n",
    "    elif ((omega - chemical_potential) / T) > 50:\n",
    "        fun = np.exp(1.j * omega * t[0]) \\\n",
    "              * (0.5 * sys_bath_coupling * (band_width**2)) / ((omega + band_center)**2 + band_width**2)\\\n",
    "              / 10e+22\n",
    "    #print('C(w,t)',omega,t,fun)\n",
    "    return fun.imag\n",
    "\n",
    "def Jfermi_exact(omega):\n",
    "    if ((omega - chemical_potential) / T) <= 50:\n",
    "        fun = 1.0 * (0.5 * sys_bath_coupling * (band_width**2)) / ((omega + band_center)**2 + band_width**2)\\\n",
    "              / (1.0 + np.exp( (omega - chemical_potential) / T ))\n",
    "    elif ((omega - chemical_potential) / T) > 50:\n",
    "        fun = 1.0 * (0.5 * sys_bath_coupling * (band_width**2)) / ((omega + band_center)**2 + band_width**2)\\\n",
    "              / 10e+22\n",
    "    #print('C(w,t)',omega,t,fun)\n",
    "    return fun\n",
    "\n",
    "def Jfermi_psd(omega):\n",
    "    fun = 1.0 * (0.5 * sys_bath_coupling * (band_width**2)) / ((omega + band_center)**2 + band_width**2)\\\n",
    "          * fermi_by_pade(omega)\n",
    "    #print('C(w,t)',omega,t,fun)\n",
    "    return fun\n",
    "\n",
    "def fermi_by_pade(omega):\n",
    "    result = 0.5\n",
    "    for j in range(num_pade):\n",
    "        result = result + tilde_eta[j] / (omega / T + pole[j]) \\\n",
    "                        + tilde_eta[j] / (omega / T - pole[j])\n",
    "    return result\n",
    "\n",
    "def J_fit(omega, rate, eta):\n",
    "    fun = 0\n",
    "    for i in range(len(rate)):\n",
    "        fun = fun + eta[i] / (rate[i] * hbar + 1.j * omega)\n",
    "        if omega == 0:\n",
    "            print(\"i\",i)\n",
    "            print(\"fun\", fun, \"eta\", eta[i] , \"rate\", rate[i] * hbar, \"omega\", omega)\n",
    "            print(\"(expn[i] + sigma * 1.j * w)[0]\", rate[i] * hbar + 1.j * omega)\n",
    "    return fun"
   ]
  },
  {
   "cell_type": "code",
   "execution_count": 2,
   "id": "80160519",
   "metadata": {},
   "outputs": [
    {
     "name": "stdout",
     "output_type": "stream",
     "text": [
      "Done!\n"
     ]
    }
   ],
   "source": [
    "# the information of calculation paratemers\n",
    "hbar = 0.658211928\n",
    "omega_max = 100.0\n",
    "omega_min = -100.0\n",
    "omega_sample = 5000 + 1\n",
    "omega = np.linspace(omega_min, omega_max, omega_sample)\n",
    "\n",
    "time_max = 400.0\n",
    "time_min = -400.0\n",
    "time_sample = 4000 + 1\n",
    "tt = np.linspace(time_min, time_max, time_sample)\n",
    "\n",
    "tt_for_corr_min = 0.0\n",
    "tt_for_corr_max = 10.0\n",
    "time_sample_for_corr =  1000 + 1\n",
    "tt_for_corr = np.linspace(tt_for_corr_min, tt_for_corr_max, time_sample_for_corr)\n",
    "\n",
    "bath_corr_exact = np.zeros(time_sample_for_corr, dtype = complex)\n",
    "bath_corr_exact_real = np.zeros(time_sample_for_corr)\n",
    "bath_corr_exact_imag = np.zeros(time_sample_for_corr)\n",
    "bath_corr_psd = np.zeros(time_sample_for_corr, dtype=complex)\n",
    "\n",
    "print('Done!')"
   ]
  },
  {
   "cell_type": "code",
   "execution_count": 3,
   "id": "eeb133b7",
   "metadata": {},
   "outputs": [
    {
     "data": {
      "image/png": "[encoded data removed]",
      "text/plain": [
       "<Figure size 432x288 with 1 Axes>"
      ]
     },
     "metadata": {
      "needs_background": "light"
     },
     "output_type": "display_data"
    },
    {
     "data": {
      "image/png": "[encoded data removed]",
      "text/plain": [
       "<Figure size 432x288 with 1 Axes>"
      ]
     },
     "metadata": {
      "needs_background": "light"
     },
     "output_type": "display_data"
    },
    {
     "name": "stdout",
     "output_type": "stream",
     "text": [
      "spectral_pole \n",
      " (2+0j)\n",
      "spectral_eta \n",
      " (0.46163475624596917+0.1255187727426561j)\n"
     ]
    }
   ],
   "source": [
    "# the information of fermi funcaiton\n",
    "T = 0.02                 #eV\n",
    "chemical_potential = 0.0 #ev\n",
    "\n",
    "fermi = np.zeros(omega_sample)\n",
    "for i in range(omega_sample):\n",
    "    if ((omega[i] - chemical_potential) / (T)) <= 50 :\n",
    "        fermi[i] = 1.0 / ( 1.0 + np.exp( (omega[i] - chemical_potential) / (T) ) )\n",
    "    elif ((omega[i] - chemical_potential) / (T)) > 50 :\n",
    "        fermi[i] = 1.0 / 10e+22\n",
    "\n",
    "# the information of bath spectral funcation\n",
    "# the Lorentz type J(w) = 0.5 * sys_bath_coupling * band_width**2 / ( (w - band_center)**2 + band_width**2)\n",
    "sys_bath_coupling = 0.4  #eV, is equal to HEOM-QUICK\n",
    "band_width = 2.0         #eV\n",
    "band_center = 0.0        #eV\n",
    "bath_spectral = np.zeros(omega_sample, dtype=complex)\n",
    "bath_spectral = (0.5 * sys_bath_coupling * (band_width**2)) / ((omega + band_center)**2 + band_width**2)\n",
    "spectral_diss_rate = (band_width - 1.j * band_center) / hbar\n",
    "spectral_eta = 0.5 * sys_bath_coupling * band_width \\\n",
    "                / ( 1.0 + np.exp((1.j * spectral_diss_rate - chemical_potential) * hbar / T )) / hbar**2\n",
    "\n",
    "plt.title(\"Bath spectral function\") \n",
    "plt.xlabel(\"frequency\") \n",
    "plt.ylabel(\"J(w)\") \n",
    "plt.plot(omega, bath_spectral.real, label = 'J(w)')\n",
    "plt.legend(loc=1)\n",
    "plt.show()\n",
    "\n",
    "plt.title(\"Fermi funcaiton for alectron\") \n",
    "plt.xlabel(\"frequency\") \n",
    "plt.ylabel(\"F(w)\") \n",
    "plt.plot(omega, fermi.real, label = 'F(w)')\n",
    "plt.legend(loc=1)\n",
    "plt.show()\n",
    "\n",
    "print('spectral_pole \\n', spectral_diss_rate * hbar)\n",
    "print('spectral_eta \\n', spectral_eta)\n",
    "\n",
    "\n",
    "#the Matsubara scheme\n",
    "#num_mats = 1001\n",
    "#mats = np.linspace(-(num_mats - 1)/2, (num_mats - 1)/2, num_mats, dtype = np.complex128)\n",
    "#fermi_mats = np.zeros(omega_sample, dtype = np.complex128)\n",
    "#bath_corr_msd = np.zeros(time_sample, dtype=np.complex128)\n",
    "\n",
    "# for i in range(num_mats):\n",
    "#     mats[i] = (mats[i] * 2 + 1) * np.pi * complex(0,1.0)\n",
    "\n",
    "# for i in range(omega_sample):\n",
    "#     fermi_mats[i] = 0.5\n",
    "#     for j in range(num_mats):\n",
    "#        fermi_mats[i] = fermi_mats[i] + 1.0 / (mats[j] - omega[i]/T)"
   ]
  },
  {
   "cell_type": "code",
   "execution_count": 4,
   "id": "6f9da4f6",
   "metadata": {
    "scrolled": true
   },
   "outputs": [
    {
     "data": {
      "image/png": "[encoded data removed]",
      "text/plain": [
       "<Figure size 432x288 with 1 Axes>"
      ]
     },
     "metadata": {
      "needs_background": "light"
     },
     "output_type": "display_data"
    }
   ],
   "source": [
    "#the Pade scheme\n",
    "num_pade = 20\n",
    "b = np.zeros(2 * num_pade)\n",
    "mat_xi = np.zeros((2 * num_pade, 2 * num_pade))\n",
    "mat_varsigma = np.zeros((2 * num_pade - 1, 2 * num_pade - 1))\n",
    "tilde_eta = np.zeros(num_pade, dtype = complex)         # namely cpcoef in evaluatepara.f90 \n",
    "pole = np.zeros(num_pade, dtype = complex)              # namely cppole in evaluatepara.f90\n",
    "\n",
    "\n",
    "\n",
    "for i in range(2 * num_pade):\n",
    "    b[i] = 2 * (i) + 1\n",
    "\n",
    "for i in range(2 * num_pade):\n",
    "    for j in range(2 * num_pade):\n",
    "        if (i == j-1 or i == j+1) :\n",
    "            mat_xi[i,j] = 1.0 / np.sqrt(b[i] * b[j])\n",
    "\n",
    "eigval_xi, eigvec_xi = np.linalg.eig(mat_xi) \n",
    "eigval_xi = np.sort(eigval_xi)\n",
    "            \n",
    "for i in range(2 * num_pade -1):\n",
    "    for j in range(2 * num_pade -1):\n",
    "        if (i == j-1 or i == j+1) :\n",
    "            mat_varsigma[i,j] = 1.0 / np.sqrt(b[i+1] * b[j+1])\n",
    "\n",
    "eigval_varsigma, eigvec_varsigma = np.linalg.eig(mat_varsigma)\n",
    "eigval_varsigma = np.sort(eigval_varsigma)\n",
    "\n",
    "\n",
    "for i in range(num_pade):\n",
    "    pole[i] = (0. +2.j) / abs(eigval_xi[i])\n",
    "    eigval_xi[i] = 4.0 / eigval_xi[i]**2\n",
    "for i in range(num_pade-1):\n",
    "    eigval_varsigma[i] = 4.0 / eigval_varsigma[i]**2\n",
    "\n",
    "for i in range(num_pade):\n",
    "    tilde_eta[i] = 0.5 * num_pade * (2 * num_pade + 1)\n",
    "    for j in range(i):\n",
    "        tilde_eta[i] = tilde_eta[i] * (eigval_varsigma[j] - eigval_xi[i]) / (eigval_xi[j] - eigval_xi[i])\n",
    "    for j in range(i+1,num_pade):\n",
    "        tilde_eta[i] = tilde_eta[i] * (eigval_varsigma[j-1] - eigval_xi[i]) / (eigval_xi[j] - eigval_xi[i])\n",
    "    tilde_eta[i] = (-1. +0.j) * tilde_eta[i]\n",
    "\n",
    "fermi_pade = np.zeros(omega_sample, dtype = np.complex128)\n",
    "for i in range(omega_sample):\n",
    "    fermi_pade[i] = 0.5\n",
    "    for j in range(num_pade):\n",
    "        fermi_pade[i] = fermi_pade[i] + tilde_eta[j] / (omega[i] / T + pole[j]) \\\n",
    "                                      + tilde_eta[j] / (omega[i] / T - pole[j])\n",
    "\n",
    "        \n",
    "plt.title(\"Fermi function\") \n",
    "plt.xlabel(\"frequency\") \n",
    "plt.ylabel(\"f(w)\") \n",
    "plt.plot(omega, fermi, label = 'exact')\n",
    "#plt.plot(omega, fermi_mats.real, label = 'Matsubara', linestyle = '--')\n",
    "plt.plot(omega, fermi_pade.real, label = 'Pade', linestyle = '-.')\n",
    "plt.legend(loc=1)\n",
    "plt.show()"
   ]
  },
  {
   "cell_type": "code",
   "execution_count": 5,
   "id": "93348ad9",
   "metadata": {},
   "outputs": [
    {
     "name": "stdout",
     "output_type": "stream",
     "text": [
      "pade_diss_rate \n",
      " [ -2.        +0.j  -0.06283185+0.j  -0.18849556+0.j  -0.31415927+0.j\n",
      "  -0.43982297+0.j  -0.56548668+0.j  -0.69115038+0.j  -0.81681409+0.j\n",
      "  -0.9424778 +0.j  -1.0681415 +0.j  -1.19380535+0.j  -1.31949279+0.j\n",
      "  -1.44619637+0.j  -1.58443278+0.j  -1.76495399+0.j  -2.02608389+0.j\n",
      "  -2.42072165+0.j  -3.05905273+0.j  -4.22944946+0.j  -6.99190012+0.j\n",
      " -20.89157037+0.j]\n",
      "pade_eta \n",
      " [0.46163476-1.71070758j 0.        -0.01848363j 0.        -0.01863088j\n",
      " 0.        -0.01893253j 0.        -0.01940378j 0.        -0.02006985j\n",
      " 0.        -0.02096963j 0.        -0.02216192j 0.        -0.02373645j\n",
      " 0.        -0.02583409j 0.        -0.0286862j  0.        -0.03272508j\n",
      " 0.        -0.03973257j 0.        -0.06039882j 0.        -0.14225723j\n",
      " 0.        +1.77002799j 0.        +0.15481247j 0.        +0.0909147j\n",
      " 0.        +0.0697597j  0.        +0.06048296j 0.        +0.05673243j]\n",
      "pade_eta * hbar**2 \n",
      " [0.2-0.74115198j 0. -0.0080079j  0. -0.0080717j  0. -0.00820239j\n",
      " 0. -0.00840655j 0. -0.00869512j 0. -0.00908494j 0. -0.00960149j\n",
      " 0. -0.01028365j 0. -0.01119244j 0. -0.01242809j 0. -0.01417791j\n",
      " 0. -0.01721386j 0. -0.02616736j 0. -0.06163194j 0. +0.76685213j\n",
      " 0. +0.06707141j 0. +0.03938815j 0. +0.0302229j  0. +0.02620381j\n",
      " 0. +0.02457892j]\n"
     ]
    }
   ],
   "source": [
    "# Here we test the nalf = 1, spin = ↑, norbs = 1 and nsgn = (+ or 1). \n",
    "# the coefficients eta and gamma only sum over the number of poles.\n",
    "eta_pade = np.zeros(num_pade + 1, dtype = complex)               # namely cb in evaluatepara.f90\n",
    "diss_rate_pade = np.zeros(num_pade + 1, dtype = complex)         # namely cgamma in evaluatepara.f90\n",
    "\n",
    "spectral_diss_rate_pade = (band_width - 1.j * band_center) / hbar\n",
    "spectral_eta_pade = 0.5 * sys_bath_coupling * band_width \\\n",
    "                   * fermi_by_pade((1.j * spectral_diss_rate - chemical_potential) * hbar) / hbar**2\n",
    "\n",
    "diss_rate_pade[0] = spectral_diss_rate_pade\n",
    "eta_pade[0] = spectral_eta_pade\n",
    "\n",
    "for i in range(1, num_pade + 1):\n",
    "    diss_rate_pade[i] = -1.j * T * pole[i - 1] / hbar\n",
    "    eta_pade[i] = 2.j * tilde_eta[i - 1] * sys_bath_coupling * 0.5 * band_width**2 * T \\\n",
    "             / ( (pole[i - 1] * T - band_center)**2 + band_width**2 ) / hbar**2\n",
    "\n",
    "print('pade_diss_rate \\n', -1 * diss_rate_pade * hbar)\n",
    "print('pade_eta \\n', eta_pade)\n",
    "print('pade_eta * hbar**2 \\n', eta_pade * hbar**2)"
   ]
  },
  {
   "cell_type": "code",
   "execution_count": 6,
   "id": "8e83097b",
   "metadata": {},
   "outputs": [
    {
     "name": "stderr",
     "output_type": "stream",
     "text": [
      "<ipython-input-6-9f1009cb0324>:5: IntegrationWarning: The integral is probably divergent, or slowly convergent.\n",
      "  bath_corr_exact_real[i],err = integrate.quad(fdt_real, a = -100, b = 100, args=(tt_for_corr[i]), limit = 20000)\n"
     ]
    },
    {
     "name": "stdout",
     "output_type": "stream",
     "text": [
      "Done!\n"
     ]
    }
   ],
   "source": [
    "# compare the pade results and the exact correlation function in time domain\n",
    "# exact results\n",
    "for i in range(time_sample_for_corr):\n",
    "    #bath_corr_exact[i] = gauss_Legendre_integral(fdt, down_limit = -20, upper_limit = 20, interval = 100, t=tt_for_corr[i])\n",
    "    bath_corr_exact_real[i],err = integrate.quad(fdt_real, a = -100, b = 100, args=(tt_for_corr[i]), limit = 20000)\n",
    "    bath_corr_exact_imag[i],err = integrate.quad(fdt_imag, a = -200, b = 200, args=(tt_for_corr[i]), limit = 10000)\n",
    "    bath_corr_exact[i] = complex(bath_corr_exact_real[i], bath_corr_exact_imag[i])\n",
    "    #print(bath_corr_exact[i])\n",
    "\n",
    "print('Done!')"
   ]
  },
  {
   "cell_type": "code",
   "execution_count": 6,
   "id": "40a8daed",
   "metadata": {},
   "outputs": [
    {
     "name": "stdout",
     "output_type": "stream",
     "text": [
      "bath_corr_psd[i] 2.64 -0.0037742651855937393\n",
      "bath_corr_psd[i] 2.64 -0.010558170202707717\n",
      "bath_corr_psd[i] 2.64 -0.015465527632141018\n",
      "bath_corr_psd[i] 2.64 -0.019044388646252783\n",
      "bath_corr_psd[i] 2.64 -0.02167674258437777\n",
      "bath_corr_psd[i] 2.64 -0.02363074000156729\n",
      "bath_corr_psd[i] 2.64 -0.02509592503853083\n",
      "bath_corr_psd[i] 2.64 -0.02620722391522692\n",
      "bath_corr_psd[i] 2.64 -0.027061427160523347\n",
      "bath_corr_psd[i] 2.64 -0.027728633882950444\n",
      "bath_corr_psd[i] 2.64 -0.02826032818401351\n",
      "bath_corr_psd[i] 2.64 -0.028695603784825816\n",
      "bath_corr_psd[i] 2.64 -0.029073837209471702\n",
      "bath_corr_psd[i] 2.64 -0.02947299856133142\n",
      "bath_corr_psd[i] 2.64 -0.03005673934731951\n",
      "bath_corr_psd[i] 2.64 -0.026411461691782028\n",
      "bath_corr_psd[i] 2.64 -0.026298978024556035\n",
      "bath_corr_psd[i] 2.64 -0.02628673053261555\n",
      "bath_corr_psd[i] 2.64 -0.02628630285753321\n",
      "bath_corr_psd[i] 2.64 -0.02628630260524945\n",
      "bath_corr_psd[i] 2.64 -0.02628630260524945\n",
      "Done!\n",
      "pade_diss_rate \n",
      " [ -2.        +0.j  -0.06283185+0.j  -0.18849556+0.j  -0.31415927+0.j\n",
      "  -0.43982297+0.j  -0.56548668+0.j  -0.69115038+0.j  -0.81681409+0.j\n",
      "  -0.9424778 +0.j  -1.0681415 +0.j  -1.19380535+0.j  -1.31949279+0.j\n",
      "  -1.44619637+0.j  -1.58443278+0.j  -1.76495399+0.j  -2.02608389+0.j\n",
      "  -2.42072165+0.j  -3.05905273+0.j  -4.22944946+0.j  -6.99190012+0.j\n",
      " -20.89157037+0.j]\n",
      "pade_eta \n",
      " [0.2-0.74115198j 0. -0.0080079j  0. -0.0080717j  0. -0.00820239j\n",
      " 0. -0.00840655j 0. -0.00869512j 0. -0.00908494j 0. -0.00960149j\n",
      " 0. -0.01028365j 0. -0.01119244j 0. -0.01242809j 0. -0.01417791j\n",
      " 0. -0.01721386j 0. -0.02616736j 0. -0.06163194j 0. +0.76685213j\n",
      " 0. +0.06707141j 0. +0.03938815j 0. +0.0302229j  0. +0.02620381j\n",
      " 0. +0.02457892j]\n"
     ]
    }
   ],
   "source": [
    "# pade results\n",
    "tt_for_corr_tmp = np.linspace(0, 80, 3001)\n",
    "for i in range(time_sample_for_corr):\n",
    "    for j in range(num_pade + 1):\n",
    "        bath_corr_psd[i] = bath_corr_psd[i] + eta_pade[j] * hbar**2 * np.exp(-1 * diss_rate_pade[j] * hbar * tt_for_corr_tmp[i])\n",
    "        if i == 99:\n",
    "            print(\"bath_corr_psd[i]\",tt_for_corr_tmp[i], bath_corr_psd[i].imag)\n",
    "\n",
    "print('Done!')\n",
    "\n",
    "print('pade_diss_rate \\n', -1 * diss_rate_pade * hbar)\n",
    "print('pade_eta \\n', eta_pade * hbar**2)"
   ]
  },
  {
   "cell_type": "code",
   "execution_count": 27,
   "id": "d29b4c81",
   "metadata": {},
   "outputs": [
    {
     "name": "stdout",
     "output_type": "stream",
     "text": [
      "pade_diss_rate \n",
      " [ -2.        +0.j  -0.06283185+0.j  -0.18849556+0.j  -0.31415927+0.j\n",
      "  -0.43982297+0.j  -0.56548668+0.j  -0.69115038+0.j  -0.81681409+0.j\n",
      "  -0.9424778 +0.j  -1.0681415 +0.j  -1.19380535+0.j  -1.31949279+0.j\n",
      "  -1.44619637+0.j  -1.58443278+0.j  -1.76495399+0.j  -2.02608389+0.j\n",
      "  -2.42072165+0.j  -3.05905273+0.j  -4.22944946+0.j  -6.99190012+0.j\n",
      " -20.89157037+0.j]\n",
      "pade_eta \n",
      " [0.2-0.74115198j 0. -0.0080079j  0. -0.0080717j  0. -0.00820239j\n",
      " 0. -0.00840655j 0. -0.00869512j 0. -0.00908494j 0. -0.00960149j\n",
      " 0. -0.01028365j 0. -0.01119244j 0. -0.01242809j 0. -0.01417791j\n",
      " 0. -0.01721386j 0. -0.02616736j 0. -0.06163194j 0. +0.76685213j\n",
      " 0. +0.06707141j 0. +0.03938815j 0. +0.0302229j  0. +0.02620381j\n",
      " 0. +0.02457892j]\n",
      "Done!\n"
     ]
    }
   ],
   "source": [
    "# prony results\n",
    "dimension_Hankel = 1500\n",
    "num_prony = 10\n",
    "\n",
    "tt_for_prony_min = 0.0\n",
    "tt_for_prony_max = 80.0\n",
    "time_sample_for_prony =  2 * dimension_Hankel + 1\n",
    "tt_for_prony = np.linspace(tt_for_prony_min, tt_for_prony_max, time_sample_for_prony)\n",
    "hankel_matrix_real = np.zeros((dimension_Hankel + 1, dimension_Hankel + 1))\n",
    "hankel_matrix_imag = np.zeros((dimension_Hankel + 1, dimension_Hankel + 1))\n",
    "phi_real = np.zeros(time_sample_for_prony)\n",
    "phi_imag = np.zeros(time_sample_for_prony)\n",
    "\n",
    "for j in range(time_sample_for_prony):\n",
    "    for k in  range(num_pade + 1):\n",
    "        phi_real[j] = phi_real[j] + np.real(eta_pade[k] * hbar**2 * np.exp(-1 * diss_rate_pade[k] * hbar * tt_for_prony[j]))\n",
    "        phi_imag[j] = phi_imag[j] + np.imag(eta_pade[k] * hbar**2 * np.exp(-1 * diss_rate_pade[k] * hbar * tt_for_prony[j]))\n",
    "\n",
    "print('pade_diss_rate \\n', -1 * diss_rate_pade * hbar)\n",
    "print('pade_eta \\n', eta_pade * hbar**2)\n",
    "        \n",
    "for n in range(dimension_Hankel + 1):\n",
    "    for m in range(dimension_Hankel + 1):\n",
    "        hankel_matrix_real[n,m] = phi_real[n + m]\n",
    "        hankel_matrix_imag[n,m] = phi_imag[n + m]\n",
    "        \n",
    "print('Done!')"
   ]
  },
  {
   "cell_type": "code",
   "execution_count": 28,
   "id": "238be901",
   "metadata": {},
   "outputs": [
    {
     "name": "stdout",
     "output_type": "stream",
     "text": [
      "error of decompose real part\n",
      " 2.084677306422948e-14 \n",
      "error of decompose imag part\n",
      " 3.683807851371071e-12\n",
      "Done!\n",
      "4.728927624163192\n"
     ]
    }
   ],
   "source": [
    "sigma_real, U_real = takagi_chen(hankel_matrix_real)\n",
    "sigma_imag, U_imag = takagi_chen(hankel_matrix_imag)\n",
    "\n",
    "print(\n",
    "    \"error of decompose real part\\n\",\n",
    "    np.sum(np.abs(hankel_matrix_real - np.dot(np.dot(U_real, np.diag(sigma_real)), U_real.T))), \"\\n\"\n",
    "    \"error of decompose imag part\\n\",\n",
    "    np.sum(np.abs(hankel_matrix_imag - np.dot(np.dot(U_imag, np.diag(sigma_imag)), U_imag.T))))\n",
    "\n",
    "print('Done!')\n",
    "\n",
    "print(sigma_imag[0])"
   ]
  },
  {
   "cell_type": "code",
   "execution_count": 29,
   "id": "1b9f7a75",
   "metadata": {},
   "outputs": [
    {
     "name": "stdout",
     "output_type": "stream",
     "text": [
      "Done!\n"
     ]
    }
   ],
   "source": [
    "prony_roots_real = np.roots(U_real[:, num_prony][::-1])\n",
    "tmp_index = prony_roots_real != 0\n",
    "prony_roots_real = prony_roots_real[tmp_index]\n",
    "prony_roots_real_new = prony_roots_real[np.argsort(np.abs(prony_roots_real))[:num_prony]]\n",
    "\n",
    "\n",
    "prony_roots_imag = np.roots(U_imag[:, num_prony][::-1])\n",
    "tmp_index = prony_roots_imag != 0\n",
    "prony_roots_real = prony_roots_imag[tmp_index]\n",
    "prony_roots_imag_new = prony_roots_imag[np.argsort(np.abs(prony_roots_imag))[:num_prony]]\n",
    "\n",
    "print('Done!')"
   ]
  },
  {
   "cell_type": "code",
   "execution_count": 30,
   "id": "2e3145c0",
   "metadata": {},
   "outputs": [
    {
     "data": {
      "image/png": "[encoded data removed]",
      "text/plain": [
       "<Figure size 432x288 with 1 Axes>"
      ]
     },
     "metadata": {
      "needs_background": "light"
     },
     "output_type": "display_data"
    },
    {
     "name": "stdout",
     "output_type": "stream",
     "text": [
      "[-0.3801067 +0.00000000e+00j  0.25970789-2.80028015e-01j\n",
      "  0.25970789+2.80028015e-01j -0.10920536-7.96457182e-01j\n",
      " -0.10920536+7.96457182e-01j  0.94806394+8.40526396e-17j\n",
      "  0.67000587+6.74005489e-01j  0.67000587-6.74005489e-01j\n",
      " -0.97664026+1.49778846e-01j -0.97664026-1.49778846e-01j]\n"
     ]
    },
    {
     "data": {
      "image/png": "[encoded data removed]",
      "text/plain": [
       "<Figure size 432x288 with 1 Axes>"
      ]
     },
     "metadata": {
      "needs_background": "light"
     },
     "output_type": "display_data"
    },
    {
     "name": "stdout",
     "output_type": "stream",
     "text": [
      "[0.57277925+0.00000000e+00j 0.82877097-1.56214906e-16j\n",
      " 0.89304056-4.68488798e-16j 0.93286934+8.15441604e-17j\n",
      " 0.96005197-5.94818745e-15j 0.97640461+1.92484917e-14j\n",
      " 0.98587845-2.69571964e-14j 0.9913267 +9.70786594e-15j\n",
      " 0.99497724-1.00175126e-15j 0.99832587-3.20576898e-15j]\n"
     ]
    }
   ],
   "source": [
    "plt.title(\"distrubition of real part roots\") \n",
    "plt.xlabel(\"Re Φ\") \n",
    "plt.ylabel(\"Im Φ\")\n",
    "plt.scatter(prony_roots_real.real, prony_roots_real.imag)\n",
    "plt.scatter(prony_roots_real_new.real, prony_roots_real_new.imag)\n",
    "plt.show()\n",
    "\n",
    "print(prony_roots_real_new)\n",
    "\n",
    "plt.title(\"distrubition of imag part roots\") \n",
    "plt.xlabel(\"Re Φ\") \n",
    "plt.ylabel(\"Im Φ\")\n",
    "plt.scatter(prony_roots_imag.real, prony_roots_imag.imag)\n",
    "plt.scatter(prony_roots_imag_new.real, prony_roots_imag_new.imag)\n",
    "plt.show()\n",
    "print(prony_roots_imag_new)"
   ]
  },
  {
   "cell_type": "code",
   "execution_count": 31,
   "id": "649173d4",
   "metadata": {},
   "outputs": [
    {
     "name": "stdout",
     "output_type": "stream",
     "text": [
      "[-1.89084859e-16+8.91387658e-15j -1.24726618e-15+5.86336535e-15j\n",
      "  6.36123099e-15-1.04191829e-14j -4.32813507e-16+9.31871767e-16j\n",
      "  5.46193949e-16+5.45570533e-16j  2.00000000e-01-4.00382310e-16j\n",
      " -4.05085037e-16-1.69609877e-17j  1.70761842e-18+9.02056208e-17j\n",
      "  8.67361738e-18-5.57550967e-17j  3.33934269e-17+8.80914265e-19j]\n",
      "[ 0.02456014+1.10163066e-14j  0.02533181-1.10801492e-13j\n",
      "  0.03500297+3.23429717e-13j  0.12383747-4.86579228e-13j\n",
      " -0.12601554+5.76879551e-13j -0.0377225 -6.56792418e-13j\n",
      " -0.01843475+6.68130984e-13j -0.01037644-4.81172128e-13j\n",
      " -0.00817494+1.90602312e-13j -0.00800818-3.42716377e-14j]\n",
      "Done!\n"
     ]
    }
   ],
   "source": [
    "omega_matrix_real = np.zeros((time_sample_for_prony, num_prony), dtype=complex)\n",
    "for i in range(time_sample_for_prony):\n",
    "    for j in range(num_prony):\n",
    "        omega_matrix_real[i, j] = prony_roots_real_new[j]**i\n",
    "eta_prony_real_tmp = np.dot(linalg.inv(np.dot(omega_matrix_real.T, omega_matrix_real)), np.dot(omega_matrix_real.T, phi_real))\n",
    "print(eta_prony_real_tmp)\n",
    "\n",
    "\n",
    "omega_matrix_imag = np.zeros((time_sample_for_prony, num_prony), dtype=complex)\n",
    "for i in range(time_sample_for_prony):\n",
    "    for j in range(num_prony):\n",
    "        omega_matrix_imag[i, j] = prony_roots_imag_new[j]**i\n",
    "eta_prony_imag_tmp = np.dot(linalg.inv(np.dot(omega_matrix_imag.T, omega_matrix_imag)), np.dot(omega_matrix_imag.T, phi_imag))\n",
    "print(eta_prony_imag_tmp)\n",
    "\n",
    "print('Done!')"
   ]
  },
  {
   "cell_type": "code",
   "execution_count": 32,
   "id": "a0a13f27",
   "metadata": {},
   "outputs": [
    {
     "data": {
      "image/png": "[encoded data removed]",
      "text/plain": [
       "<Figure size 432x288 with 1 Axes>"
      ]
     },
     "metadata": {
      "needs_background": "light"
     },
     "output_type": "display_data"
    }
   ],
   "source": [
    "plt.title(\"distrubition of real part roots\") \n",
    "plt.xlabel(\"Re Φ\") \n",
    "plt.ylabel(\"Im Φ\")\n",
    "plt.scatter(np.real(eta_prony_real_tmp),np.imag(eta_prony_real_tmp), label = 'real')\n",
    "plt.scatter(np.real(eta_prony_imag_tmp),np.imag(eta_prony_imag_tmp), label = 'imag')\n",
    "plt.show()"
   ]
  },
  {
   "cell_type": "code",
   "execution_count": 35,
   "id": "9df60c36",
   "metadata": {},
   "outputs": [
    {
     "name": "stdout",
     "output_type": "stream",
     "text": [
      "(0.2+0j)\n",
      "(2+0j)\n",
      "bath_corr_prony_imag[i] 2.64 2.6975596543338055e-26\n",
      "bath_corr_prony_imag[i] 2.64 2.131496365608173e-10\n",
      "bath_corr_prony_imag[i] 2.64 4.792312563060139e-07\n",
      "bath_corr_prony_imag[i] 2.64 0.00012786279588929145\n",
      "bath_corr_prony_imag[i] 2.64 -0.0020985397972209056\n",
      "bath_corr_prony_imag[i] 2.64 -0.005646288969052797\n",
      "bath_corr_prony_imag[i] 2.64 -0.010156028841110956\n",
      "bath_corr_prony_imag[i] 2.64 -0.01453640971072891\n",
      "bath_corr_prony_imag[i] 2.64 -0.019502173504237774\n",
      "bath_corr_prony_imag[i] 2.64 -0.026286303064244013\n",
      "bath_corr_prony_imag[i] 2.64 -0.026286303064244013\n",
      "Done!\n",
      "diss_rate\n",
      " [20.89705854-0.00000000e+00j  7.04292895+7.06836896e-15j\n",
      "  4.24212312+1.96724883e-14j  2.60587975-3.27795745e-15j\n",
      "  1.52879475+2.32338494e-13j  0.89543312-7.39261602e-13j\n",
      "  0.53333265+1.02537474e-12j  0.32666754-3.67230070e-13j\n",
      "  0.18882813+3.77553081e-14j  0.06283236+1.20417932e-13j\n",
      "  2.        +0.00000000e+00j]\n",
      "eta\n",
      " [-1.10163066e-14+0.02456014j  1.10801492e-13+0.02533181j\n",
      " -3.23429717e-13+0.03500297j  4.86579228e-13+0.12383747j\n",
      " -5.76879551e-13-0.12601554j  6.56792418e-13-0.0377225j\n",
      " -6.68130984e-13-0.01843475j  4.81172128e-13-0.01037644j\n",
      " -1.90602312e-13-0.00817494j  3.42716377e-14-0.00800818j\n",
      "  2.00000000e-01+0.j        ]\n"
     ]
    }
   ],
   "source": [
    "bath_corr_prony_real = np.zeros(time_sample_for_corr, dtype=complex)\n",
    "bath_corr_prony_imag = np.zeros(time_sample_for_corr, dtype=complex)\n",
    "\n",
    "\n",
    "diss_rate_prony_real_tmp =  -2 * dimension_Hankel / tt_for_prony_max * ( np.log( np.abs( prony_roots_real_new ) ) + 1.j * np.angle(prony_roots_real_new) )\n",
    "diss_rate_prony_imag_tmp =  -2 * dimension_Hankel / tt_for_prony_max * ( np.log( np.abs( prony_roots_imag_new ) ) + 1.j * np.angle(prony_roots_imag_new) )\n",
    "\n",
    "eta_prony_real = np.zeros(num_prony + 1, dtype = complex)\n",
    "diss_rate_prony_real = np.zeros(num_prony + 1, dtype = complex)\n",
    "eta_prony_imag = np.zeros(num_prony + 1, dtype = complex)\n",
    "diss_rate_prony_imag = np.zeros(num_prony + 1, dtype = complex)\n",
    "\n",
    "spectrum_pole_prony = (1 + 0.j) * (band_width - 1.j * band_center)\n",
    "spectrum_eta_prony = 0.5 * sys_bath_coupling * band_width / (band_width - 1.j * band_center)\n",
    "\n",
    "eta_prony_real[num_prony] = spectrum_eta_prony\n",
    "diss_rate_prony_real[num_prony] = spectrum_pole_prony\n",
    "eta_prony_real[0:num_prony] = eta_prony_real_tmp * 1.j\n",
    "diss_rate_prony_real[0:num_prony] = diss_rate_prony_real_tmp\n",
    "\n",
    "eta_prony_imag[num_prony] = spectrum_eta_prony\n",
    "diss_rate_prony_imag[num_prony] = spectrum_pole_prony\n",
    "eta_prony_imag[0:num_prony] = eta_prony_imag_tmp * 1.j\n",
    "diss_rate_prony_imag[0:num_prony] = diss_rate_prony_imag_tmp\n",
    "\n",
    "tt_for_corr_tmp = np.linspace(0, 80, 3001)\n",
    "\n",
    "print(spectrum_eta_prony)\n",
    "print(spectrum_pole_prony)\n",
    "\n",
    "#eta_prony_real = np.insert(eta_prony_real, 0, spectrum_eta_prony)\n",
    "#eta_prony_imag = np.insert(eta_prony_imag, 0, spectrum_eta_prony)\n",
    "#diss_rate_prony_real = np.insert(diss_rate_prony_real, 0, spectrum_pole_prony)\n",
    "#diss_rate_prony_imag = np.insert(diss_rate_prony_imag, 0, spectrum_pole_prony)\n",
    "\n",
    "for i in range(time_sample_for_corr):\n",
    "    for j in range(num_prony + 1):\n",
    "        bath_corr_prony_real[i] = bath_corr_prony_real[i] + eta_prony_real[j] * np.exp(-1 * diss_rate_prony_real[j] * tt_for_corr_tmp[i])\n",
    "        bath_corr_prony_imag[i] = bath_corr_prony_imag[i] + eta_prony_imag[j] * np.exp(-1 * diss_rate_prony_imag[j] * tt_for_corr_tmp[i])\n",
    "        if i == 99:\n",
    "            print(\"bath_corr_prony_imag[i]\",tt_for_corr_tmp[i], bath_corr_prony_imag[i].imag)\n",
    "\n",
    "print('Done!')\n",
    "\n",
    "print(\"diss_rate\\n\",diss_rate_prony_imag)\n",
    "print(\"eta\\n\",eta_prony_imag)"
   ]
  },
  {
   "cell_type": "code",
   "execution_count": 36,
   "id": "8bc51c4e",
   "metadata": {},
   "outputs": [
    {
     "data": {
      "image/png": "[encoded data removed]",
      "text/plain": [
       "<Figure size 432x288 with 1 Axes>"
      ]
     },
     "metadata": {
      "needs_background": "light"
     },
     "output_type": "display_data"
    }
   ],
   "source": [
    "plt.title(\"correlation function\") \n",
    "plt.xlabel(\"time\") \n",
    "plt.ylabel(\"C(t)\") \n",
    "plt.plot(tt_for_corr, bath_corr_psd.real, label = 'Pade_real', linestyle = '-.') \n",
    "plt.plot(tt_for_corr, bath_corr_psd.imag, label = 'Pade_image', linestyle = '-.') \n",
    "#plt.plot(tt_for_corr, bath_corr_exact_real, label = 'exact_real') \n",
    "#plt.plot(tt_for_corr, bath_corr_exact_imag, label = 'exact_imag') \n",
    "plt.plot(tt_for_corr, bath_corr_prony_real.real, label = 'prony_real', linestyle = '--', color = 'y')\n",
    "plt.plot(tt_for_corr, bath_corr_prony_imag.imag, label = 'prony_imag', linestyle = '--', color = 'm')\n",
    "plt.legend(loc=1)\n",
    "plt.show()"
   ]
  },
  {
   "cell_type": "code",
   "execution_count": 37,
   "id": "8d4f2657",
   "metadata": {},
   "outputs": [
    {
     "name": "stdout",
     "output_type": "stream",
     "text": [
      "i 0\n",
      "fun (0.1519267514702347-0.5630040664043352j) eta (0.2-0.7411519840396749j) rate (1.316423856+0j) omega 0.0\n",
      "(expn[i] + sigma * 1.j * w)[0] (1.316423856+0j)\n",
      "i 1\n",
      "fun (0.1519267514702347-0.7566343196793774j) eta -0.008007903483946779j rate (0.041356675150199515+0j) omega 0.0\n",
      "(expn[i] + sigma * 1.j * w)[0] (0.041356675150199515+0j)\n",
      "i 2\n",
      "fun (0.1519267514702347-0.8216919191306103j) eta -0.00807169801966931j rate (0.12407002545059855+0j) omega 0.0\n",
      "(expn[i] + sigma * 1.j * w)[0] (0.12407002545059855+0j)\n",
      "i 3\n",
      "fun (0.1519267514702347-0.861358481912132j) eta -0.008202385756401899j rate (0.2067833757509969+0j) omega 0.0\n",
      "(expn[i] + sigma * 1.j * w)[0] (0.2067833757509969+0j)\n",
      "i 4\n",
      "fun (0.1519267514702347-0.8903969784112404j) eta -0.00840654966594678j rate (0.2894967260513955+0j) omega 0.0\n",
      "(expn[i] + sigma * 1.j * w)[0] (0.2894967260513955+0j)\n",
      "i 5\n",
      "fun (0.1519267514702347-0.9137577671882039j) eta -0.008695120974311703j rate (0.3722100763517948+0j) omega 0.0\n",
      "(expn[i] + sigma * 1.j * w)[0] (0.3722100763517948+0j)\n",
      "i 6\n",
      "fun (0.1519267514702347-0.9337280382354877j) eta -0.009084944136003434j rate (0.45492342665219454+0j) omega 0.0\n",
      "(expn[i] + sigma * 1.j * w)[0] (0.45492342665219454+0j)\n",
      "i 7\n",
      "fun (0.1519267514702347-0.9515867379852695j) eta -0.009601493774036815j rate (0.5376367769525934+0j) omega 0.0\n",
      "(expn[i] + sigma * 1.j * w)[0] (0.5376367769525934+0j)\n",
      "i 8\n",
      "fun (0.1519267514702347-0.96816390884204j) eta -0.010283650050493021j rate (0.6203501272530446+0j) omega 0.0\n",
      "(expn[i] + sigma * 1.j * w)[0] (0.6203501272530446+0j)\n",
      "i 9\n",
      "fun (0.1519267514702347-0.9840834333098754j) eta -0.01119243623579382j rate (0.7030634777067369+0j) omega 0.0\n",
      "(expn[i] + sigma * 1.j * w)[0] (0.7030634777067369+0j)\n",
      "i 10\n",
      "fun (0.1519267514702347-0.9998997466567356j) eta -0.01242809405244395j rate (0.7857769241092495+0j) omega 0.0\n",
      "(expn[i] + sigma * 1.j * w)[0] (0.7857769241092495+0j)\n",
      "i 11\n",
      "fun (0.1519267514702347-1.0162242293406465j) eta -0.014177909394012256j rate (0.8685058919499907+0j) omega 0.0\n",
      "(expn[i] + sigma * 1.j * w)[0] (0.8685058919499907+0j)\n",
      "i 12\n",
      "fun (0.1519267514702347-1.0343078405159385j) eta -0.017213856380400096j rate (0.9519036996282945+0j) omega 0.0\n",
      "(expn[i] + sigma * 1.j * w)[0] (0.9519036996282945+0j)\n",
      "i 13\n",
      "fun (0.1519267514702347-1.059398981364717j) eta -0.026167363976341274j rate (1.0428925545493863+0j) omega 0.0\n",
      "(expn[i] + sigma * 1.j * w)[0] (1.0428925545493863+0j)\n",
      "i 14\n",
      "fun (0.1519267514702347-1.1124515872761482j) eta -0.0616319428802603j rate (1.1617137711039507+0j) omega 0.0\n",
      "(expn[i] + sigma * 1.j * w)[0] (1.1617137711039507+0j)\n",
      "i 15\n",
      "fun (0.1519267514702347-0.5374242924979107j) eta 0.7668521345004589j rate (1.3335925815420633+0j) omega 0.0\n",
      "(expn[i] + sigma * 1.j * w)[0] (1.3335925815420633+0j)\n",
      "i 16\n",
      "fun (0.1519267514702347-0.49532964799611184j) eta 0.06707141183756596j rate (1.5933478624507633+0j) omega 0.0\n",
      "(expn[i] + sigma * 1.j * w)[0] (1.5933478624507633+0j)\n",
      "i 17\n",
      "fun (0.1519267514702347-0.47576766338719956j) eta 0.039388153725055934j rate (2.0135049951481414+0j) omega 0.0\n",
      "(expn[i] + sigma * 1.j * w)[0] (2.0135049951481414+0j)\n",
      "i 18\n",
      "fun (0.1519267514702347-0.46491124724130717j) eta 0.03022289554036569j rate (2.783874082774615+0j) omega 0.0\n",
      "(expn[i] + sigma * 1.j * w)[0] (2.783874082774615+0j)\n",
      "i 19\n",
      "fun (0.1519267514702347-0.45921742983317027j) eta 0.02620381349755483j rate (4.602152057090499+0j) omega 0.0\n",
      "(expn[i] + sigma * 1.j * w)[0] (4.602152057090499+0j)\n",
      "i 20\n",
      "fun (0.1519267514702347-0.45743001224322954j) eta 0.024578923718732104j rate (13.751080809016164+0j) omega 0.0\n",
      "(expn[i] + sigma * 1.j * w)[0] (13.751080809016164+0j)\n",
      "i 0\n",
      "fun (-8.009125640899977e-16+0.001785582780577416j) eta (-1.1016306591829334e-14+0.02456014331387313j) rate (13.75469319094293+0j) omega 0.0\n",
      "(expn[i] + sigma * 1.j * w)[0] (13.75469319094293+0j)\n",
      "i 1\n",
      "fun (2.31061485143073e-14+0.007250042269834192j) eta (1.1080149219569385e-13+0.025331812561104172j) rate (4.63573984049236+4.652484763907807e-15j) omega 0.0\n",
      "(expn[i] + sigma * 1.j * w)[0] (4.63573984049236+4.652484763907807e-15j)\n",
      "i 2\n",
      "fun (-9.26683434000922e-14+0.019785952277513785j) eta (-3.2342971667736125e-13+0.03500296900089239j) rate (2.7922160401158993+1.2948666479496672e-14j) omega 0.0\n",
      "(expn[i] + sigma * 1.j * w)[0] (2.7922160401158993+1.2948666479496672e-14j)\n",
      "i 3\n",
      "fun (1.9092392471927462e-13+0.09198508118933173j) eta (4.865792283849152e-13+0.12383747189298333j) rate (1.7152211357596165-2.1575906928112454e-15j) omega 0.0\n",
      "(expn[i] + sigma * 1.j * w)[0] (1.7152211357596165-2.1575906928112454e-15j)\n",
      "i 4\n",
      "fun (-4.01392451332152e-13-0.033245147593675875j) eta (-5.76879551404465e-13-0.1260155398954339j) rate (1.0062709388943707+1.5292796821843462e-13j) omega 0.0\n",
      "(expn[i] + sigma * 1.j * w)[0] (1.0062709388943707+1.5292796821843462e-13j)\n",
      "i 5\n",
      "fun (7.658175333152093e-13-0.09724833435511122j) eta (6.567924183571256e-13-0.037722503078754244j) rate (0.5893847632831255-4.86590804642952e-13j) omega 0.0\n",
      "(expn[i] + sigma * 1.j * w)[0] (0.5893847632831255-4.86590804642952e-13j)\n",
      "i 6\n",
      "fun (-1.2384025673739228e-12-0.14976213118934004j) eta (-6.681309836665398e-13-0.018434753735405707j) rate (0.35104591263128443+6.749138860730751e-13j) omega 0.0\n",
      "(expn[i] + sigma * 1.j * w)[0] (0.35104591263128443+6.749138860730751e-13j)\n",
      "i 7\n",
      "fun (1.0536870323538297e-12-0.19802095197725295j) eta (4.811721280398614e-13-0.01037644138698468j) rate (0.21501647196451198-2.4171521246685705e-13j) omega 0.0\n",
      "(expn[i] + sigma * 1.j * w)[0] (0.21501647196451198-2.4171521246685705e-13j)\n",
      "i 8\n",
      "fun (-4.930063093277735e-13-0.2637946318433709j) eta (-1.9060231197231828e-13-0.008174939987849683j) rate (0.12428892536482285+2.485099415970114e-14j) omega 0.0\n",
      "(expn[i] + sigma * 1.j * w)[0] (0.12428892536482285+2.485099415970114e-14j)\n",
      "i 9\n",
      "fun (-3.542973048154227e-14-0.4574299898602018j) eta (3.427163772313737e-14-0.008008179267407378j) rate (0.0413570091197461+7.92605190291617e-14j) omega 0.0\n",
      "(expn[i] + sigma * 1.j * w)[0] (0.0413570091197461+7.92605190291617e-14j)\n",
      "i 10\n",
      "fun (0.1519267514701993-0.4574299898602018j) eta (0.2+0j) rate (1.316423856+0j) omega 0.0\n",
      "(expn[i] + sigma * 1.j * w)[0] (1.316423856+0j)\n"
     ]
    }
   ],
   "source": [
    "omega_max_freq = 100.0\n",
    "omega_min_freq = -100.0\n",
    "omega_sample_freq = 2000 + 1\n",
    "omega_freq = np.linspace(omega_min_freq, omega_max_freq, omega_sample_freq)\n",
    "\n",
    "\n",
    "bath_corr_psd_freq = np.zeros(omega_sample_freq, dtype = complex)\n",
    "bath_corr_exact_freq = np.zeros(omega_sample_freq, dtype = complex)\n",
    "bath_corr_prony_imag_freq = np.zeros(omega_sample_freq, dtype = complex)\n",
    "bath_corr_prony_real_freq = np.zeros(omega_sample_freq, dtype = complex)\n",
    "\n",
    "\n",
    "for i in range(omega_sample_freq):\n",
    "    #bath_corr_psd_freq[i] =   Jfermi_psd(omega_freq[i])\n",
    "    bath_corr_psd_freq[i] = J_fit(omega_freq[i], diss_rate_pade * hbar, eta_pade * hbar**2)\n",
    "    #bath_corr_exact_freq[i] = Jfermi_exact(omega_freq[i])\n",
    "    bath_corr_prony_imag_freq[i] = J_fit(omega_freq[i], diss_rate_prony_imag, eta_prony_imag)\n",
    "    #bath_corr_prony_imag_freq[i] += spectrum_eta_prony / ( spectrum_pole_prony * hbar + 1.j * omega_freq[i] )\n",
    "    #bath_corr_prony_real_freq[i] = J_fit(omega_freq[i], diss_rate_prony_real, eta_prony_real)"
   ]
  },
  {
   "cell_type": "code",
   "execution_count": 40,
   "id": "b26329b4",
   "metadata": {},
   "outputs": [
    {
     "data": {
      "image/png": "[encoded data removed]",
      "text/plain": [
       "<Figure size 432x288 with 1 Axes>"
      ]
     },
     "metadata": {
      "needs_background": "light"
     },
     "output_type": "display_data"
    }
   ],
   "source": [
    "plt.title(\"correlation function\") \n",
    "plt.xlabel(\"ω / Γ\") \n",
    "plt.ylabel(\"C(ω)\")\n",
    "plt.plot(omega_freq[800:1200]/(sys_bath_coupling/2), bath_corr_psd_freq[800:1200].real/max(np.abs(bath_corr_psd_freq.real)) , label = 'Pade_real')\n",
    "#plt.plot(omega_freq[800:1200]/(sys_bath_coupling/2), bath_corr_exact_freq[800:1200].real/max(np.abs(bath_corr_exact_freq.real)) , label = 'exact_real', linestyle = '-.')\n",
    "plt.plot(omega_freq[800:1200]/(sys_bath_coupling/2), bath_corr_prony_imag_freq[800:1200].real/max(np.abs(bath_corr_prony_imag_freq.real)), label = 'Prony_real', linestyle = '--')\n",
    "\n",
    "#plt.plot(fourier_psd/(sys_bath_coupling/2), bath_corr_psd_freq_fourier.real/max(bath_corr_psd_freq_fourier.real) , label = 'Pade_real_Fourier')\n",
    "#plt.plot(fourier_exact/(sys_bath_coupling/2), bath_corr_exact_freq_fourier.real/max(bath_corr_exact_freq_fourier.real) , label = 'exact_real_Fourier', linestyle = '--')\n",
    "plt.legend(loc=1)\n",
    "plt.show()"
   ]
  }
 ],
 "metadata": {
  "kernelspec": {
   "display_name": "Python 3",
   "language": "python",
   "name": "python3"
  },
  "language_info": {
   "codemirror_mode": {
    "name": "ipython",
    "version": 3
   },
   "file_extension": ".py",
   "mimetype": "text/x-python",
   "name": "python",
   "nbconvert_exporter": "python",
   "pygments_lexer": "ipython3",
   "version": "3.8.8"
  }
 },
 "nbformat": 4,
 "nbformat_minor": 5
}
