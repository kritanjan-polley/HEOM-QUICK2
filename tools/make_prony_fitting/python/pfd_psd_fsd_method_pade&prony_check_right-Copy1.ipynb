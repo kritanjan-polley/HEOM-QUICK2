{
 "cells": [
  {
   "cell_type": "code",
   "execution_count": 23,
   "id": "fc2a91a2",
   "metadata": {},
   "outputs": [],
   "source": [
    "import numpy as np\n",
    "from scipy import integrate, linalg, optimize\n",
    "from matplotlib import pyplot as plt \n",
    "\n",
    "def takagi_chen(H):\n",
    "    # takagi factoriziation part\n",
    "    sing_vs, Q = linalg.eigh(H) \n",
    "    \n",
    "    print(\"eigval\")\n",
    "    print(sing_vs[::-1][:4])\n",
    "    print(\"eigvec\")\n",
    "    print(Q[:4,-1])\n",
    "    print(Q[:4,-2])\n",
    "    print(Q[:4,-3])\n",
    "    print(Q[:4,-4])\n",
    "    print()\n",
    "    print('n = ', 1501)\n",
    "    print(\"H * v_n\")\n",
    "    print(np.dot(H, Q[:,-1])[:10])\n",
    "    print(\"λ_n * v_n\")\n",
    "    print(np.dot(sing_vs[-1], Q[:,-1])[:10])\n",
    "    print()\n",
    "    print('n = ', 1500)\n",
    "    print(\"H * v_n\")\n",
    "    print(np.dot(H, Q[:,-2])[:10])\n",
    "    print(\"λ_n * v_n\")\n",
    "    print(np.dot(sing_vs[-2], Q[:,-2])[:10])\n",
    "    print()\n",
    "    \n",
    "    phase_mat = np.diag(\n",
    "                [np.exp(-1.j * np.angle(sing_v) / 2.0) for sing_v in sing_vs])\n",
    "    vs = np.array([np.abs(sing_v) for sing_v in sing_vs])\n",
    "    Qp = np.dot(Q, phase_mat)  \n",
    "    sort_array = np.argsort(vs)[::-1]\n",
    "    vs = vs[sort_array]  \n",
    "    Qp = (Qp[:, sort_array])\n",
    "\n",
    "    return vs, Qp\n",
    "\n",
    "def takagi_stra(N, tol=1e-13, rounding=13):\n",
    "    r\"\"\"Autonne-Takagi decomposition of a complex symmetric (not Hermitian!) matrix.\n",
    "\n",
    "    Note that singular values of N are considered equal if they are equal after np.round(values, tol).\n",
    "\n",
    "    See :cite:`cariolaro2016` and references therein for a derivation.\n",
    "\n",
    "    Args:\n",
    "        N (array[complex]): square, symmetric matrix N\n",
    "        rounding (int): the number of decimal places to use when rounding the singular values of N\n",
    "        tol (float): the tolerance used when checking if the input matrix is symmetric: :math:`|N-N^T| <` tol\n",
    "\n",
    "    Returns:\n",
    "        tuple[array, array]: (rl, U), where rl are the (rounded) singular values,\n",
    "            and U is the Takagi unitary, such that :math:`N = U \\diag(rl) U^T`.\n",
    "    \"\"\"\n",
    "    (n, m) = N.shape\n",
    "    if n != m:\n",
    "        raise ValueError(\"The input matrix must be square\")\n",
    "    if np.linalg.norm(N - np.transpose(N)) >= tol:\n",
    "        raise ValueError(\"The input matrix is not symmetric\")\n",
    "\n",
    "    N = np.real_if_close(N)\n",
    "\n",
    "    if np.allclose(N, 0):\n",
    "        return np.zeros(n), np.eye(n)\n",
    "\n",
    "    if np.isrealobj(N):\n",
    "        # If the matrix N is real one can be more clever and use its eigendecomposition\n",
    "        l, U = np.linalg.eigh(N)\n",
    "        vals = np.abs(l)  # These are the Takagi eigenvalues\n",
    "        phases = np.sqrt(np.complex128([1 if i > 0 else -1 for i in l]))\n",
    "        Uc = U @ np.diag(phases)  # One needs to readjust the phases\n",
    "        list_vals = [(vals[i], i) for i in range(len(vals))]\n",
    "        list_vals.sort(reverse=True)\n",
    "        sorted_l, permutation = zip(*list_vals)\n",
    "        permutation = np.array(permutation)\n",
    "        Uc = Uc[:, permutation]\n",
    "        # And also rearrange the unitary and values so that they are decreasingly ordered\n",
    "        return np.array(sorted_l), Uc\n",
    "\n",
    "    v, l, ws = np.linalg.svd(N)\n",
    "    w = np.transpose(np.conjugate(ws))\n",
    "    rl = np.round(l, rounding)\n",
    "\n",
    "    # Generate list with degenerancies\n",
    "    result = []\n",
    "    for k, g in groupby(rl):\n",
    "        result.append(list(g))\n",
    "\n",
    "    # Generate lists containing the columns that correspond to degenerancies\n",
    "    kk = 0\n",
    "    for k in result:\n",
    "        for ind, j in enumerate(k):  # pylint: disable=unused-variable\n",
    "            k[ind] = kk\n",
    "            kk = kk + 1\n",
    "\n",
    "    # Generate the lists with the degenerate column subspaces\n",
    "    vas = []\n",
    "    was = []\n",
    "    for i in result:\n",
    "        vas.append(v[:, i])\n",
    "        was.append(w[:, i])\n",
    "\n",
    "    # Generate the matrices qs of the degenerate subspaces\n",
    "    qs = []\n",
    "    for i in range(len(result)):\n",
    "        qs.append(sqrtm(np.transpose(vas[i]) @ was[i]))\n",
    "\n",
    "    # Construct the Takagi unitary\n",
    "    qb = block_diag(*qs)\n",
    "\n",
    "    U = v @ np.conj(qb)\n",
    "    return rl, U\n",
    "\n",
    "def psd(npade):\n",
    "    \n",
    "    b = np.zeros(2 * npade)\n",
    "    mat_xi = np.zeros((2 * npade, 2 * npade))\n",
    "    mat_varsigma = np.zeros((2 * npade - 1, 2 * npade - 1))\n",
    "    tilde_eta_ = np.zeros(npade, dtype = complex)         # namely cpcoef in evaluatepara.f90\n",
    "    pole_ = np.zeros(npade, dtype = complex)              # namely cppole in evaluatepara.f90\n",
    "\n",
    "    for i in range(2 * npade):\n",
    "        b[i] = 2 * (i) + 1\n",
    "\n",
    "    for i in range(2 * npade):\n",
    "        for j in range(2 * npade):\n",
    "            if (i == j-1 or i == j+1) :\n",
    "                mat_xi[i,j] = 1.0 / np.sqrt(b[i] * b[j])\n",
    "\n",
    "    eigval_xi, eigvec_xi = np.linalg.eig(mat_xi) \n",
    "    eigval_xi = np.sort(eigval_xi)\n",
    "            \n",
    "    for i in range(2 * npade - 1):\n",
    "        for j in range(2 * npade -1):\n",
    "            if (i == j-1 or i == j+1) :\n",
    "                mat_varsigma[i,j] = 1.0 / np.sqrt(b[i+1] * b[j+1])\n",
    "\n",
    "    eigval_varsigma, eigvec_varsigma = np.linalg.eig(mat_varsigma)\n",
    "    eigval_varsigma = np.sort(eigval_varsigma)\n",
    "\n",
    "    for i in range(npade):\n",
    "        pole_[i] = (0. + 2.j) / abs(eigval_xi[i])\n",
    "        eigval_xi[i] = 4.0 / eigval_xi[i]**2\n",
    "    for i in range(npade-1):\n",
    "        eigval_varsigma[i] = 4.0 / eigval_varsigma[i]**2\n",
    "\n",
    "    for i in range(npade):\n",
    "        tilde_eta_[i] = 0.5 * npade * (2 * npade + 1)\n",
    "        for j in range(i):\n",
    "            tilde_eta_[i] = tilde_eta_[i] * (eigval_varsigma[j] - eigval_xi[i]) / (eigval_xi[j] - eigval_xi[i])\n",
    "        for j in range(i+1,npade):\n",
    "            tilde_eta_[i] = tilde_eta_[i] * (eigval_varsigma[j-1] - eigval_xi[i]) / (eigval_xi[j] - eigval_xi[i])\n",
    "        tilde_eta_[i] = (-1. + 0.j) * tilde_eta_[i]\n",
    "    \n",
    "    return pole_, tilde_eta_\n",
    "\n",
    "def fdt_real(omega, t):\n",
    "    t = np.array([t], dtype=np.float128)\n",
    "    if (omega / T) <= 50:\n",
    "        fun = np.exp(1.j * omega * t[0]) \\\n",
    "              * (0.5 * sys_bath_coupling * (band_width**2)) / ((omega - sigma * band_center)**2 + band_width**2)\\\n",
    "              / (1.0 + np.exp( omega / T ))\n",
    "    elif (omega / T) > 50:\n",
    "        fun = np.exp(1.j * omega * t[0]) \\\n",
    "              * (0.5 * sys_bath_coupling * (band_width**2)) / ((omega - sigma * band_center)**2 + band_width**2)\\\n",
    "              / 10e+22\n",
    "    #print('C(w,t)',omega,t,fun)\n",
    "    return fun.real\n",
    "\n",
    "def fdt_imag(omega, t):\n",
    "    t = np.array([t], dtype=np.float128)\n",
    "    if (omega / T) <= 50:\n",
    "        fun = np.exp(1.j * omega * t[0]) \\\n",
    "              * (0.5 * sys_bath_coupling * (band_width**2)) / ((omega - sigma * band_center)**2 + band_width**2)\\\n",
    "              / (1.0 + np.exp( omega / T ))\n",
    "    elif (omega / T) > 50:\n",
    "        fun = np.exp(1.j * omega * t[0]) \\\n",
    "              * (0.5 * sys_bath_coupling * (band_width**2)) / ((omega - sigma * band_center)**2 + band_width**2)\\\n",
    "              / 10e+22\n",
    "    #print('C(w,t)',omega,t,fun)\n",
    "    return fun.imag\n",
    "\n",
    "def Jfermi_exact(omega):\n",
    "    if (omega / T) <= 50:\n",
    "        fun = 1.0 * (0.5 * sys_bath_coupling * (band_width**2)) / ((omega - sigma * band_center)**2 + band_width**2)\\\n",
    "              / (1.0 + np.exp( omega / T ))\n",
    "    elif (omega / T) > 50:\n",
    "        fun = 1.0 * (0.5 * sys_bath_coupling * (band_width**2)) / ((omega - sigma * band_center)**2 + band_width**2)\\\n",
    "              / 10e+22\n",
    "    return fun\n",
    "\n",
    "def fermi_by_pade(omega):\n",
    "    result = 0.5\n",
    "    for j in range(num_pade):\n",
    "        result = result + tilde_eta[j] / (omega / T + pole[j]) \\\n",
    "                        + tilde_eta[j] / (omega / T - pole[j])\n",
    "    return result\n",
    "\n",
    "def J_fit(omega, rate, eta):\n",
    "    fun = 0\n",
    "    for i in range(len(rate)):\n",
    "        fun = fun + eta[i] / (rate[i] + 1.j * omega )\n",
    "#         if omega == 11.0:\n",
    "#             print(\"i\",i)\n",
    "#             print(\"omega\", omega, \"fun\", fun)\n",
    "#             print(\"eta\", eta[i], \"rate\", rate[i]) \n",
    "#             print(\"value\", eta[i] / (rate[i] + 1.j * omega ))\n",
    "#             print()\n",
    "    return fun"
   ]
  },
  {
   "cell_type": "code",
   "execution_count": 2,
   "id": "80160519",
   "metadata": {},
   "outputs": [
    {
     "name": "stdout",
     "output_type": "stream",
     "text": [
      "Done!\n"
     ]
    }
   ],
   "source": [
    "# the information of calculation paratemers\n",
    "hbar = 0.658211928\n",
    "omega_max = 100.0\n",
    "omega_min = -100.0\n",
    "omega_sample = 5000 + 1\n",
    "sigma = 1\n",
    "omega_plt = np.linspace(omega_min, omega_max, omega_sample)\n",
    "omega = np.linspace(omega_min, omega_max, omega_sample)\n",
    "\n",
    "time_max = 400.0\n",
    "time_min = -400.0\n",
    "time_sample = 4000 + 1\n",
    "tt = np.linspace(time_min, time_max, time_sample)\n",
    "\n",
    "tt_for_corr_min = 0.0\n",
    "tt_for_corr_max = 10.0\n",
    "time_sample_for_corr =  1000 + 1\n",
    "tt_for_corr = np.linspace(tt_for_corr_min, tt_for_corr_max, time_sample_for_corr)\n",
    "\n",
    "bath_corr_psd = np.zeros(time_sample_for_corr, dtype=complex)\n",
    "bath_corr_exact = np.zeros(time_sample_for_corr, dtype = complex)\n",
    "bath_corr_exact_real = np.zeros(time_sample_for_corr)\n",
    "bath_corr_exact_imag = np.zeros(time_sample_for_corr)\n",
    "bath_corr_exact_freq = np.zeros(omega_sample, dtype = complex)\n",
    "\n",
    "print('Done!')"
   ]
  },
  {
   "cell_type": "code",
   "execution_count": 3,
   "id": "eeb133b7",
   "metadata": {
    "scrolled": false
   },
   "outputs": [
    {
     "data": {
      "image/png": "[encoded data removed]",
      "text/plain": [
       "<Figure size 432x288 with 1 Axes>"
      ]
     },
     "metadata": {
      "needs_background": "light"
     },
     "output_type": "display_data"
    },
    {
     "data": {
      "image/png": "[encoded data removed]",
      "text/plain": [
       "<Figure size 432x288 with 1 Axes>"
      ]
     },
     "metadata": {
      "needs_background": "light"
     },
     "output_type": "display_data"
    },
    {
     "data": {
      "image/png": "[encoded data removed]",
      "text/plain": [
       "<Figure size 432x288 with 1 Axes>"
      ]
     },
     "metadata": {
      "needs_background": "light"
     },
     "output_type": "display_data"
    },
    {
     "name": "stdout",
     "output_type": "stream",
     "text": [
      "spectral_pole \n",
      " (4+0j)\n",
      "spectral_eta \n",
      " (0.9232695124919383+0.5421567051754204j)\n"
     ]
    }
   ],
   "source": [
    "# the information of fermi funcaiton\n",
    "T = 0.02              #eV\n",
    "chemical_potential = 0.0 #ev\n",
    "\n",
    "omega = omega - chemical_potential\n",
    "\n",
    "fermi = np.zeros(omega_sample)\n",
    "for i in range(omega_sample):\n",
    "    if (omega[i] / (T)) <= 50 :\n",
    "        fermi[i] = 1.0 / ( 1.0 + np.exp( omega[i] / (T) ) )\n",
    "    elif (omega[i] / (T)) > 50 :\n",
    "        fermi[i] = 1.0 / 10e+22\n",
    "\n",
    "# the information of bath spectral funcation\n",
    "# the Lorentz type J(w) = 0.5 * sys_bath_coupling * band_width**2 / ( (w + band_center)**2 + band_width**2)\n",
    "sys_bath_coupling = 0.4  #eV, is equal to HEOM-QUICK\n",
    "band_width = 4.0         #eV\n",
    "band_center = 0.0       #eV\n",
    "\n",
    "bath_spectral = np.zeros(omega_sample, dtype=complex)\n",
    "bath_spectral = (0.5 * sys_bath_coupling * (band_width**2)) / ((omega_plt - sigma * band_center)**2 + band_width**2)\n",
    "spectral_diss_rate = (band_width - 1.j * sigma * band_center) / hbar\n",
    "spectral_eta = 0.5 * sys_bath_coupling * band_width \\\n",
    "                / ( 1.0 + np.exp((sigma * band_center + 1.j * band_width) / T )) / hbar**2\n",
    "\n",
    "plt.title(\"Bath spectral function\") \n",
    "plt.xlabel(\"frequency\") \n",
    "plt.ylabel(\"J(w)\") \n",
    "plt.plot(omega_plt, bath_spectral.real, label = 'J(w)')\n",
    "plt.legend(loc=1)\n",
    "plt.show()\n",
    "\n",
    "plt.title(\"Fermi funcaiton for electron\") \n",
    "plt.xlabel(\"frequency\") \n",
    "plt.ylabel(\"F(w)\") \n",
    "plt.plot(omega_plt, fermi.real, label = 'F(w)')\n",
    "plt.legend(loc=1)\n",
    "plt.show()\n",
    "\n",
    "plt.title(\"spectrum funcaiton for electron\") \n",
    "plt.xlabel(\"frequency\") \n",
    "plt.ylabel(\"j * F(w)\") \n",
    "plt.plot(omega_plt, bath_spectral.real * fermi.real, label = 'J * F(w)')\n",
    "plt.legend(loc=1)\n",
    "plt.show()\n",
    "\n",
    "\n",
    "bath_corr_exact_freq = bath_spectral * fermi\n",
    "\n",
    "print('spectral_pole \\n', spectral_diss_rate * hbar)\n",
    "print('spectral_eta \\n', spectral_eta)\n"
   ]
  },
  {
   "cell_type": "code",
   "execution_count": 4,
   "id": "6f9da4f6",
   "metadata": {
    "scrolled": true
   },
   "outputs": [
    {
     "data": {
      "image/png": "[encoded data removed]",
      "text/plain": [
       "<Figure size 432x288 with 1 Axes>"
      ]
     },
     "metadata": {
      "needs_background": "light"
     },
     "output_type": "display_data"
    }
   ],
   "source": [
    "#the Pade scheme\n",
    "num_pade = 20\n",
    "tilde_eta = np.zeros(num_pade, dtype = complex)         # namely cpcoef in evaluatepara.f90 \n",
    "pole = np.zeros(num_pade, dtype = complex)              # namely cppole in evaluatepara.f90\n",
    "\n",
    "pole, tilde_eta = psd(num_pade)\n",
    "\n",
    "if sigma == -1:\n",
    "    pole = np.conj(pole)\n",
    "\n",
    "fermi_pade = np.zeros(omega_sample, dtype = np.complex128)\n",
    "for i in range(omega_sample):\n",
    "    fermi_pade[i] = 0.5\n",
    "    for j in range(num_pade):\n",
    "        fermi_pade[i] = fermi_pade[i] + tilde_eta[j] / (omega[i] / T + pole[j]) \\\n",
    "                                      + tilde_eta[j] / (omega[i] / T - pole[j])\n",
    "\n",
    "\n",
    "plt.title(\"Fermi function\") \n",
    "plt.xlabel(\"frequency\") \n",
    "plt.ylabel(\"f(w)\") \n",
    "plt.plot(omega_plt, fermi, label = 'exact')\n",
    "#plt.plot(omega, fermi_mats.real, label = 'Matsubara', linestyle = '--')\n",
    "plt.plot(omega_plt, fermi_pade.real, label = 'Pade', linestyle = '-.')\n",
    "plt.legend(loc=1)\n",
    "plt.xlim(chemical_potential-50,chemical_potential+50)\n",
    "plt.show()"
   ]
  },
  {
   "cell_type": "code",
   "execution_count": 5,
   "id": "93348ad9",
   "metadata": {},
   "outputs": [
    {
     "name": "stdout",
     "output_type": "stream",
     "text": [
      "pade_diss_rate \n",
      " [ -4.        +0.j  -0.06283185+0.j  -0.18849556+0.j  -0.31415927+0.j\n",
      "  -0.43982297+0.j  -0.56548668+0.j  -0.69115038+0.j  -0.81681409+0.j\n",
      "  -0.9424778 +0.j  -1.0681415 +0.j  -1.19380535+0.j  -1.31949279+0.j\n",
      "  -1.44619637+0.j  -1.58443278+0.j  -1.76495399+0.j  -2.02608389+0.j\n",
      "  -2.42072165+0.j  -3.05905273+0.j  -4.22944946+0.j  -6.99190012+0.j\n",
      " -20.89157037+0.j]\n",
      "pade_eta \n",
      " [0.92326951-1.84714831j 0.        -0.01846995j 0.        -0.01850649j\n",
      " 0.        -0.01858j    0.        -0.01869137j 0.        -0.01884196j\n",
      " 0.        -0.01903365j 0.        -0.01926888j 0.        -0.01955078j\n",
      " 0.        -0.01988322j 0.        -0.02027113j 0.        -0.02073757j\n",
      " 0.        -0.02180829j 0.        -0.02667792j 0.        -0.0390809j\n",
      " 0.        -0.06250739j 0.        -0.11358251j 0.        -0.29333859j\n",
      " 0.        +2.05236237j 0.        +0.33021021j 0.        +0.23340636j]\n",
      "pade_eta * hbar**2 \n",
      " [0.4-0.80026397j 0. -0.00800197j 0. -0.0080178j  0. -0.00804965j\n",
      " 0. -0.00809791j 0. -0.00816315j 0. -0.00824619j 0. -0.00834811j\n",
      " 0. -0.00847024j 0. -0.00861427j 0. -0.00878232j 0. -0.00898441j\n",
      " 0. -0.00944829j 0. -0.01155802j 0. -0.01693153j 0. -0.02708089j\n",
      " 0. -0.04920882j 0. -0.12708687j 0. +0.88917151j 0. +0.14306124j\n",
      " 0. +0.10112166j]\n"
     ]
    }
   ],
   "source": [
    "# Here we test the nalf = 1, spin = ↑, norbs = 1 and nsgn = (+ or 1). \n",
    "# the coefficients eta and gamma only sum over the number of poles.\n",
    "eta_pade = np.zeros(num_pade + 1, dtype = complex)               # namely cb in evaluatepara.f90\n",
    "diss_rate_pade = np.zeros(num_pade + 1, dtype = complex)         # namely cgamma in evaluatepara.f90\n",
    "\n",
    "spectral_diss_rate_pade = (band_width - sigma * 1.j * band_center) / hbar\n",
    "spectral_eta_pade = (0.5 * sys_bath_coupling) * band_width \\\n",
    "                   * fermi_by_pade((1.j * spectral_diss_rate ) * hbar) / hbar**2\n",
    "\n",
    "diss_rate_pade[0] = spectral_diss_rate_pade\n",
    "eta_pade[0] = spectral_eta_pade\n",
    "\n",
    "for i in range(1, num_pade + 1):\n",
    "    diss_rate_pade[i] = (-1.j * sigma * T * pole[i - 1] ) / hbar\n",
    "    eta_pade[i] = 2.j * tilde_eta[i - 1] * sys_bath_coupling * 0.5 * band_width**2 * T \\\n",
    "             / ( (pole[i - 1] * T - band_center)**2 + band_width**2 ) / hbar**2    \n",
    "    \n",
    "print('pade_diss_rate \\n', -1 * diss_rate_pade * hbar)\n",
    "print('pade_eta \\n', eta_pade)\n",
    "print('pade_eta * hbar**2 \\n', eta_pade * hbar**2)"
   ]
  },
  {
   "cell_type": "code",
   "execution_count": 6,
   "id": "8e83097b",
   "metadata": {},
   "outputs": [
    {
     "name": "stdout",
     "output_type": "stream",
     "text": [
      "run times / total times: 50 / 1000  =  0.05\n"
     ]
    },
    {
     "name": "stderr",
     "output_type": "stream",
     "text": [
      "<ipython-input-6-eb8baefba233>:7: IntegrationWarning: The integral is probably divergent, or slowly convergent.\n",
      "  bath_corr_exact_real[i],err = integrate.quad(fdt_real, a = -100, b = 100, args=(tt_for_corr[i]), limit = 20000)\n"
     ]
    },
    {
     "name": "stdout",
     "output_type": "stream",
     "text": [
      "run times / total times: 100 / 1000  =  0.10\n",
      "run times / total times: 150 / 1000  =  0.15\n",
      "run times / total times: 200 / 1000  =  0.20\n",
      "run times / total times: 250 / 1000  =  0.25\n",
      "run times / total times: 300 / 1000  =  0.30\n",
      "run times / total times: 350 / 1000  =  0.35\n",
      "run times / total times: 400 / 1000  =  0.40\n",
      "run times / total times: 450 / 1000  =  0.45\n",
      "run times / total times: 500 / 1000  =  0.50\n",
      "run times / total times: 550 / 1000  =  0.55\n",
      "run times / total times: 600 / 1000  =  0.60\n",
      "run times / total times: 650 / 1000  =  0.65\n",
      "run times / total times: 700 / 1000  =  0.70\n",
      "run times / total times: 750 / 1000  =  0.75\n",
      "run times / total times: 800 / 1000  =  0.80\n",
      "run times / total times: 850 / 1000  =  0.85\n",
      "run times / total times: 900 / 1000  =  0.90\n",
      "run times / total times: 950 / 1000  =  0.95\n",
      "run times / total times: 1000 / 1000  =  1.00\n",
      "Done!\n"
     ]
    }
   ],
   "source": [
    "# compare the pade results and the exact correlation function in time domain\n",
    "# exact results\n",
    "\n",
    "j = 0\n",
    "for i in range(time_sample_for_corr):\n",
    "    j = j + 1\n",
    "    bath_corr_exact_real[i],err = integrate.quad(fdt_real, a = -100, b = 100, args=(tt_for_corr[i]), limit = 20000)\n",
    "    bath_corr_exact_imag[i],err = integrate.quad(fdt_imag, a = -200, b = 200, args=(tt_for_corr[i]), limit = 10000)\n",
    "    bath_corr_exact[i] = complex(bath_corr_exact_real[i], bath_corr_exact_imag[i])\n",
    "    if j % 50 == 0 :\n",
    "        print(\"run times / total times:\", j ,\"/\", time_sample_for_corr-1, \" = \", '%.2f'%(j/(time_sample_for_corr-1)))\n",
    "\n",
    "print('Done!')"
   ]
  },
  {
   "cell_type": "code",
   "execution_count": 7,
   "id": "40a8daed",
   "metadata": {
    "scrolled": true
   },
   "outputs": [
    {
     "name": "stdout",
     "output_type": "stream",
     "text": [
      "Done!\n"
     ]
    }
   ],
   "source": [
    "# pade results\n",
    "for i in range(time_sample_for_corr):\n",
    "    for j in range(num_pade + 1):\n",
    "        bath_corr_psd[i] = bath_corr_psd[i] + eta_pade[j] * hbar**2 * np.exp(-1 * diss_rate_pade[j] * hbar * tt_for_corr[i])\n",
    "\n",
    "print('Done!')"
   ]
  },
  {
   "cell_type": "code",
   "execution_count": 8,
   "id": "d29b4c81",
   "metadata": {},
   "outputs": [
    {
     "name": "stdout",
     "output_type": "stream",
     "text": [
      "run times / total times: 100 / 3000  =  0.03\n",
      "run times / total times: 200 / 3000  =  0.07\n",
      "run times / total times: 300 / 3000  =  0.10\n",
      "run times / total times: 400 / 3000  =  0.13\n",
      "run times / total times: 500 / 3000  =  0.17\n",
      "run times / total times: 600 / 3000  =  0.20\n",
      "run times / total times: 700 / 3000  =  0.23\n",
      "run times / total times: 800 / 3000  =  0.27\n",
      "run times / total times: 900 / 3000  =  0.30\n",
      "run times / total times: 1000 / 3000  =  0.33\n",
      "run times / total times: 1100 / 3000  =  0.37\n",
      "run times / total times: 1200 / 3000  =  0.40\n",
      "run times / total times: 1300 / 3000  =  0.43\n",
      "run times / total times: 1400 / 3000  =  0.47\n",
      "run times / total times: 1500 / 3000  =  0.50\n",
      "run times / total times: 1600 / 3000  =  0.53\n",
      "run times / total times: 1700 / 3000  =  0.57\n",
      "run times / total times: 1800 / 3000  =  0.60\n",
      "run times / total times: 1900 / 3000  =  0.63\n",
      "run times / total times: 2000 / 3000  =  0.67\n",
      "run times / total times: 2100 / 3000  =  0.70\n",
      "run times / total times: 2200 / 3000  =  0.73\n",
      "run times / total times: 2300 / 3000  =  0.77\n",
      "run times / total times: 2400 / 3000  =  0.80\n",
      "run times / total times: 2500 / 3000  =  0.83\n",
      "run times / total times: 2600 / 3000  =  0.87\n",
      "run times / total times: 2700 / 3000  =  0.90\n",
      "run times / total times: 2800 / 3000  =  0.93\n",
      "run times / total times: 2900 / 3000  =  0.97\n",
      "run times / total times: 3000 / 3000  =  1.00\n",
      "Done!\n",
      "\n",
      "hankel_matrix_real\n",
      "[0.4        0.36924654 0.34085752 0.31465114]\n",
      "[0.36924654 0.34085752 0.31465114 0.29045961]\n",
      "[0.34085752 0.31465114 0.29045961 0.26812802]\n",
      "[0.31465114 0.29045961 0.26812802 0.24751336]\n",
      "\n"
     ]
    }
   ],
   "source": [
    "# prony results\n",
    "dimension_Hankel = 1500\n",
    "\n",
    "tt_for_prony_min = 0.0\n",
    "tt_for_prony_max = 60.0\n",
    "time_sample_for_prony =  2 * dimension_Hankel + 1\n",
    "tt_for_prony = np.linspace(tt_for_prony_min, tt_for_prony_max, time_sample_for_prony)\n",
    "hankel_matrix_real = np.zeros((dimension_Hankel + 1, dimension_Hankel + 1))\n",
    "hankel_matrix_imag = np.zeros((dimension_Hankel + 1, dimension_Hankel + 1))\n",
    "phi_real = np.zeros(time_sample_for_prony)\n",
    "phi_imag = np.zeros(time_sample_for_prony)\n",
    "\n",
    "i = 0\n",
    "for j in range(time_sample_for_prony):\n",
    "    i = i + 1\n",
    "    for k in  range(num_pade + 1):\n",
    "        phi_real[j] = phi_real[j] + np.real(eta_pade[k] * hbar**2 * np.exp(-1 * diss_rate_pade[k] * hbar * tt_for_prony[j])) \n",
    "        phi_imag[j] = phi_imag[j] + np.imag(eta_pade[k] * hbar**2 * np.exp(-1 * diss_rate_pade[k] * hbar * tt_for_prony[j]))\n",
    "    if i % 100 == 0 :\n",
    "        print(\"run times / total times:\", i ,\"/\", time_sample_for_prony-1, \" = \", '%.2f'%(i/(time_sample_for_prony-1)))\n",
    "\n",
    "for n in range(dimension_Hankel + 1):\n",
    "    for m in range(dimension_Hankel + 1):\n",
    "        hankel_matrix_real[n,m] = phi_real[n + m]\n",
    "        hankel_matrix_imag[n,m] = phi_imag[n + m]\n",
    "        \n",
    "print('Done!\\n')\n",
    "\n",
    "print(\"hankel_matrix_real\")\n",
    "print(hankel_matrix_real[0,:4])\n",
    "print(hankel_matrix_real[1,:4])\n",
    "print(hankel_matrix_real[2,:4])\n",
    "print(hankel_matrix_real[3,:4])\n",
    "print()"
   ]
  },
  {
   "cell_type": "code",
   "execution_count": 24,
   "id": "238be901",
   "metadata": {
    "scrolled": false
   },
   "outputs": [
    {
     "name": "stdout",
     "output_type": "stream",
     "text": [
      "eigval\n",
      "[2.70533106e+00 4.44089210e-16 2.17779659e-16 1.85202058e-16]\n",
      "eigvec\n",
      "[-0.38452076 -0.35495739 -0.32766697 -0.30247474]\n",
      "[ 0.92311635 -0.14785621 -0.13648849 -0.12599475]\n",
      "[ 0.          0.32087367  0.45737945 -0.07525169]\n",
      "[0.         0.26955047 0.42804333 0.06135542]\n",
      "\n",
      "n =  1501\n",
      "H * v_n\n",
      "[-1.04025594 -0.96027726 -0.88644764 -0.81829431 -0.75538085 -0.69730441\n",
      " -0.6436931  -0.59420362 -0.54851908 -0.50634693]\n",
      "λ_n * v_n\n",
      "[-1.04025594 -0.96027726 -0.88644764 -0.81829431 -0.75538085 -0.69730441\n",
      " -0.6436931  -0.59420362 -0.54851908 -0.50634693]\n",
      "\n",
      "n =  1500\n",
      "H * v_n\n",
      "[ 2.77555756e-17  5.55111512e-17  3.05311332e-16 -2.77555756e-17\n",
      "  0.00000000e+00  2.77555756e-17  0.00000000e+00 -4.16333634e-17\n",
      "  0.00000000e+00  0.00000000e+00]\n",
      "λ_n * v_n\n",
      "[ 4.09946009e-16 -6.56613479e-17 -6.06130636e-17 -5.59529098e-17\n",
      " -5.16510457e-17 -4.76799246e-17 -4.40141178e-17 -4.06301516e-17\n",
      " -3.75063571e-17 -3.46227313e-17]\n",
      "\n",
      "eigval\n",
      "[4.06695597e-01 1.78182814e-02 5.99242662e-05 1.72920377e-15]\n",
      "eigvec\n",
      "[0.6133478  0.4434561  0.31721543 0.22193488]\n",
      "[ 0.54661285  0.1052795  -0.13578543 -0.25203444]\n",
      "[-0.27429192  0.11851726  0.24847332  0.2398075 ]\n",
      "[ 0.07744723 -0.20353645  0.1788347  -0.23874668]\n",
      "\n",
      "n =  1501\n",
      "H * v_n\n",
      "[ 0.24944585  0.18035164  0.12901012  0.09025994  0.06058423  0.03756377\n",
      "  0.01951511  0.00525066 -0.00608074 -0.01509996]\n",
      "λ_n * v_n\n",
      "[ 0.24944585  0.18035164  0.12901012  0.09025994  0.06058423  0.03756377\n",
      "  0.01951511  0.00525066 -0.00608074 -0.01509996]\n",
      "\n",
      "n =  1500\n",
      "H * v_n\n",
      "[ 0.0097397   0.0018759  -0.00241946 -0.00449082 -0.00520751 -0.00512799\n",
      " -0.00460768 -0.00386986 -0.00305205 -0.00223652]\n",
      "λ_n * v_n\n",
      "[ 0.0097397   0.0018759  -0.00241946 -0.00449082 -0.00520751 -0.00512799\n",
      " -0.00460768 -0.00386986 -0.00305205 -0.00223652]\n",
      "\n",
      "error of decompose real part\n",
      " 5.262531515752449e-14 \n",
      "error of decompose imag part\n",
      " 2.0436148873388022e-11\n",
      "Done!\n",
      "\n",
      "sigma_real\n",
      "[2.70533106e+00 5.59042886e-16 4.44089210e-16 2.17779659e-16]\n",
      "U_real\n",
      "[-0.38452076+0.j  0.        +0.j  0.92311635+0.j  0.        +0.j]\n",
      "[-3.54957394e-01+0.j          4.35704204e-17-0.71155896j\n",
      " -1.47856211e-01+0.j          3.20873673e-01+0.j        ]\n",
      "[-3.27666973e-01+0.j         -2.39260419e-17+0.39074192j\n",
      " -1.36488485e-01+0.j          4.57379453e-01+0.j        ]\n",
      "[-3.02474739e-01+0.j         -2.47848627e-17+0.40476752j\n",
      " -1.25994752e-01+0.j         -7.52516899e-02+0.j        ]\n",
      "\n"
     ]
    }
   ],
   "source": [
    "sigma_real, U_real = takagi_chen(hankel_matrix_real)\n",
    "sigma_imag, U_imag = takagi_chen(hankel_matrix_imag)\n",
    "\n",
    "print(\n",
    "    \"error of decompose real part\\n\",\n",
    "    np.sum(np.abs(hankel_matrix_real - np.dot(np.dot(U_real, np.diag(sigma_real)), U_real.T))), \"\\n\"\n",
    "    \"error of decompose imag part\\n\",\n",
    "    np.sum(np.abs(hankel_matrix_imag - np.dot(np.dot(U_imag, np.diag(sigma_imag)), U_imag.T))))\n",
    "\n",
    "print('Done!')\n",
    "\n",
    "print()\n",
    "print(\"sigma_real\")\n",
    "print(sigma_real[:4])\n",
    "print(\"U_real\")\n",
    "print(U_real[0,:4])\n",
    "print(U_real[1,:4])\n",
    "print(U_real[2,:4])\n",
    "print(U_real[3,:4])\n",
    "print()"
   ]
  },
  {
   "cell_type": "code",
   "execution_count": 10,
   "id": "1b9f7a75",
   "metadata": {},
   "outputs": [
    {
     "name": "stdout",
     "output_type": "stream",
     "text": [
      "Done!\n"
     ]
    }
   ],
   "source": [
    "num_prony = 8\n",
    "\n",
    "prony_roots_real = np.roots(U_real[:, num_prony][::-1])\n",
    "tmp_index_real = prony_roots_real != 0\n",
    "prony_roots_real = prony_roots_real[tmp_index_real]\n",
    "prony_roots_real_new = prony_roots_real[np.argsort(np.abs(prony_roots_real))[:num_prony]]\n",
    "\n",
    "print('Done!')"
   ]
  },
  {
   "cell_type": "code",
   "execution_count": 11,
   "id": "b3bd6a81",
   "metadata": {},
   "outputs": [
    {
     "name": "stdout",
     "output_type": "stream",
     "text": [
      "Done!\n"
     ]
    }
   ],
   "source": [
    "prony_roots_imag = np.roots(U_imag[:, num_prony][::-1])\n",
    "tmp_index_imag = prony_roots_imag != 0\n",
    "prony_roots_imag = prony_roots_imag[tmp_index_imag]\n",
    "prony_roots_imag_new = prony_roots_imag[np.argsort(np.abs(prony_roots_imag))[:num_prony]]\n",
    "a = np.argsort(np.abs(prony_roots_imag))[:num_prony]\n",
    "\n",
    "print('Done!')"
   ]
  },
  {
   "cell_type": "code",
   "execution_count": 12,
   "id": "2e3145c0",
   "metadata": {},
   "outputs": [],
   "source": [
    "# plt.title(\"distrubition of roots of Re[C(t)]\") \n",
    "# plt.xlabel(\"Re Φ\") \n",
    "# plt.ylabel(\"Im Φ\")\n",
    "# plt.scatter(prony_roots_real.real, prony_roots_real.imag)\n",
    "# plt.scatter(prony_roots_real_new.real, prony_roots_real_new.imag)\n",
    "# plt.show()\n",
    "\n",
    "# print(prony_roots_real_new)\n",
    "\n",
    "# plt.title(\"distrubition of roots of Im[C(t)]\") \n",
    "# plt.xlabel(\"Re Φ\") \n",
    "# plt.ylabel(\"Im Φ\")\n",
    "# plt.scatter(prony_roots_imag.real, prony_roots_imag.imag)\n",
    "# plt.scatter(prony_roots_imag_new.real, prony_roots_imag_new.imag)\n",
    "# plt.show()\n",
    "\n",
    "# print(prony_roots_imag_new)"
   ]
  },
  {
   "cell_type": "code",
   "execution_count": 13,
   "id": "649173d4",
   "metadata": {},
   "outputs": [
    {
     "name": "stdout",
     "output_type": "stream",
     "text": [
      "Done!\n"
     ]
    }
   ],
   "source": [
    "omega_matrix_real = np.zeros((time_sample_for_prony, num_prony), dtype=complex)\n",
    "for i in range(time_sample_for_prony):\n",
    "    for j in range(num_prony):\n",
    "        omega_matrix_real[i, j] = prony_roots_real_new[j]**i\n",
    "eta_prony_real_tmp = np.dot(linalg.inv(np.dot(omega_matrix_real.T, omega_matrix_real)), np.dot(omega_matrix_real.T, phi_real))\n",
    "\n",
    "omega_matrix_imag = np.zeros((time_sample_for_prony, num_prony), dtype=complex)\n",
    "for i in range(time_sample_for_prony):\n",
    "    for j in range(num_prony):\n",
    "        omega_matrix_imag[i, j] = prony_roots_imag_new[j]**i\n",
    "eta_prony_imag_tmp = np.dot(linalg.inv(np.dot(omega_matrix_imag.T, omega_matrix_imag)), np.dot(omega_matrix_imag.T, phi_imag))\n",
    "\n",
    "print('Done!')"
   ]
  },
  {
   "cell_type": "code",
   "execution_count": 14,
   "id": "a0a13f27",
   "metadata": {},
   "outputs": [],
   "source": [
    "# plt.title(\"distrubition of part roots\") \n",
    "# plt.xlabel(\"Re Φ\") \n",
    "# plt.ylabel(\"Im Φ\")\n",
    "# plt.scatter(np.real(eta_prony_real_tmp),np.imag(eta_prony_real_tmp), label = 'real')\n",
    "# plt.scatter(np.real(eta_prony_imag_tmp),np.imag(eta_prony_imag_tmp), label = 'imag')\n",
    "# plt.show()"
   ]
  },
  {
   "cell_type": "code",
   "execution_count": 15,
   "id": "9df60c36",
   "metadata": {},
   "outputs": [
    {
     "name": "stdout",
     "output_type": "stream",
     "text": [
      "diss_rate_prony\n",
      " [20.62944854-5.45507932e-16j  6.13538872+3.22865325e-14j\n",
      "  2.65400245-1.39296351e-13j  1.19458117+1.47718722e-13j\n",
      "  0.54613036-1.84770624e-14j  0.25414097+8.10921600e-15j\n",
      "  0.15806823-8.66497735e-14j  0.06264743+1.48629488e-13j\n",
      " 53.51311107-0.00000000e+00j 14.9420321 -7.14080471e+01j\n",
      " 14.9420321 +7.14080471e+01j  7.52966203+2.51364285e-15j\n",
      "  4.        -1.47934211e-14j  1.3102232 -1.29408269e+02j\n",
      "  1.3102232 +1.29408269e+02j -0.63917233-8.39854322e+01j]\n",
      "eta_prony\n",
      " [-1.02064323e-14+1.04179635e-01j  4.50941868e-14+2.56942656e-01j\n",
      " -7.04175855e-14-2.44661446e-01j  7.52062422e-14-6.58818935e-02j\n",
      " -1.01513222e-13-2.75322505e-02j  1.67185801e-13-1.17503398e-02j\n",
      " -1.49896063e-13-3.40500762e-03j  4.34876647e-14-7.91450637e-03j\n",
      "  3.85887495e-15-1.14870194e-15j  2.82977318e-17+2.48614782e-16j\n",
      " -5.25596618e-16+9.27021533e-17j  1.04887916e-14+3.82960877e-15j\n",
      "  4.00000000e-01-3.28368413e-15j -7.02698051e-17+4.24645275e-18j\n",
      " -6.94646498e-17+1.67689017e-17j  1.36845553e-48+6.41463530e-49j]\n",
      "Done!\n"
     ]
    }
   ],
   "source": [
    "bath_corr_prony = np.zeros(time_sample_for_corr, dtype=complex)\n",
    "\n",
    "diss_rate_prony_real_tmp =  -2 * dimension_Hankel \\\n",
    "                            / tt_for_prony_max * ( np.log( np.abs( prony_roots_real_new ) ) + 1.j * np.angle(prony_roots_real_new) )\n",
    "diss_rate_prony_imag_tmp =  -2 * dimension_Hankel \\\n",
    "                            / tt_for_prony_max * ( np.log( np.abs( prony_roots_imag_new ) ) + 1.j * np.angle(prony_roots_imag_new) )\n",
    "\n",
    "eta_prony = np.zeros(2 * num_prony , dtype = complex)\n",
    "diss_rate_prony = np.zeros(2 * num_prony, dtype = complex)\n",
    "\n",
    "eta_prony[0:num_prony] = eta_prony_imag_tmp * 1.j\n",
    "eta_prony[num_prony:2 * num_prony] = eta_prony_real_tmp\n",
    "\n",
    "diss_rate_prony[0:num_prony] = diss_rate_prony_imag_tmp\n",
    "diss_rate_prony[num_prony:2*num_prony] = diss_rate_prony_real_tmp\n",
    "\n",
    "for i in range(time_sample_for_corr):\n",
    "    for j in range(2 * num_prony):\n",
    "        bath_corr_prony[i] = bath_corr_prony[i] + eta_prony[j] * np.exp(-1 * diss_rate_prony[j] * tt_for_corr[i])\n",
    "\n",
    "print(\"diss_rate_prony\\n\",diss_rate_prony)\n",
    "print(\"eta_prony\\n\",eta_prony)\n",
    "\n",
    "print('Done!')"
   ]
  },
  {
   "cell_type": "code",
   "execution_count": 16,
   "id": "849750c9",
   "metadata": {},
   "outputs": [
    {
     "name": "stdout",
     "output_type": "stream",
     "text": [
      "pade_diss_rate \n",
      " [ -4.        +0.j  -0.06283185+0.j  -0.18849556+0.j  -0.31415927+0.j\n",
      "  -0.43982297+0.j  -0.56548668+0.j  -0.69115038+0.j  -0.81681409+0.j\n",
      "  -0.94247852+0.j  -1.06826391+0.j  -1.19800057+0.j  -1.35737091+0.j\n",
      "  -1.59839807+0.j  -1.99839244+0.j  -2.74278292+0.j  -4.51338309+0.j\n",
      " -13.45583455+0.j]\n",
      "pade_eta \n",
      " [0.92326951-1.84714831j 0.        -0.01846995j 0.        -0.01850649j\n",
      " 0.        -0.01858j    0.        -0.01869137j 0.        -0.01884196j\n",
      " 0.        -0.01903365j 0.        -0.01926889j 0.        -0.01955146j\n",
      " 0.        -0.01996716j 0.        -0.02217541j 0.        -0.0316217j\n",
      " 0.        -0.05302838j 0.        -0.10253586j 0.        -0.29198049j\n",
      " 0.        +1.59568568j 0.        +0.38273175j]\n",
      "pade_eta * hbar**2 \n",
      " [0.4-0.80026397j 0. -0.00800197j 0. -0.0080178j  0. -0.00804965j\n",
      " 0. -0.00809791j 0. -0.00816315j 0. -0.00824619j 0. -0.00834811j\n",
      " 0. -0.00847053j 0. -0.00865063j 0. -0.00960734j 0. -0.01369988j\n",
      " 0. -0.02297417j 0. -0.04442294j 0. -0.12649849j 0. +0.69131956j\n",
      " 0. +0.16581583j]\n",
      "Done!\n"
     ]
    }
   ],
   "source": [
    "#the Pade scheme\n",
    "num_pade_small = num_prony * 2\n",
    "tilde_eta_small = np.zeros(num_pade_small, dtype = complex)         # namely cpcoef in evaluatepara.f90 \n",
    "pole_small = np.zeros(num_pade_small, dtype = complex)              # namely cppole in evaluatepara.f90\n",
    "bath_corr_psd_small = np.zeros(time_sample_for_corr, dtype = complex)\n",
    "\n",
    "pole_small, tilde_eta_small = psd(num_pade_small)\n",
    "\n",
    "if sigma == -1:\n",
    "    pole_small = np.conj(pole_small)\n",
    "\n",
    "# Here we test the nalf = 1, spin = ↑, norbs = 1 and nsgn = (+ or 1). \n",
    "# the coefficients eta and gamma only sum over the number of poles.\n",
    "eta_pade_small = np.zeros(num_pade_small + 1, dtype = complex)               # namely cb in evaluatepara.f90\n",
    "diss_rate_pade_small = np.zeros(num_pade_small + 1, dtype = complex)         # namely cgamma in evaluatepara.f90\n",
    "\n",
    "diss_rate_pade_small[0] = spectral_diss_rate_pade\n",
    "eta_pade_small[0] = spectral_eta_pade\n",
    "\n",
    "for i in range(1, num_pade_small + 1):\n",
    "    diss_rate_pade_small[i] = (-1.j * sigma * T * pole_small[i - 1]) / hbar\n",
    "    eta_pade_small[i] = 2.j * tilde_eta_small[i - 1] * sys_bath_coupling * 0.5 * band_width**2 * T \\\n",
    "             / ( (pole_small[i - 1] * T - band_center)**2 + band_width**2 ) / hbar**2    \n",
    "\n",
    "print('pade_diss_rate \\n', -1 * diss_rate_pade_small * hbar)\n",
    "print('pade_eta \\n', eta_pade_small)\n",
    "print('pade_eta * hbar**2 \\n', eta_pade_small * hbar**2)\n",
    "\n",
    "# pade results\n",
    "for i in range(time_sample_for_corr):\n",
    "    for j in range(num_pade_small + 1):\n",
    "        bath_corr_psd_small[i] = bath_corr_psd_small[i] + eta_pade_small[j] * hbar**2 * np.exp(-1 * diss_rate_pade_small[j] * hbar * tt_for_corr[i])\n",
    "\n",
    "print('Done!')"
   ]
  },
  {
   "cell_type": "code",
   "execution_count": 17,
   "id": "8bc51c4e",
   "metadata": {},
   "outputs": [
    {
     "data": {
      "image/png": "[encoded data removed]",
      "text/plain": [
       "<Figure size 432x288 with 1 Axes>"
      ]
     },
     "metadata": {
      "needs_background": "light"
     },
     "output_type": "display_data"
    },
    {
     "name": "stdout",
     "output_type": "stream",
     "text": [
      "[0.   0.01 0.02 0.03 0.04 0.05 0.06 0.07 0.08 0.09 0.1  0.11 0.12 0.13\n",
      " 0.14 0.15 0.16 0.17 0.18 0.19]\n",
      "[0.4        0.38431578 0.36924654 0.35476817 0.34085752 0.3274923\n",
      " 0.31465114 0.3023135  0.29045961 0.27907053 0.26812802 0.25761457\n",
      " 0.24751336 0.23780822 0.22848363 0.21952465 0.21091697 0.2026468\n",
      " 0.1947009  0.18706657]\n"
     ]
    },
    {
     "data": {
      "image/png": "[encoded data removed]",
      "text/plain": [
       "<Figure size 432x288 with 1 Axes>"
      ]
     },
     "metadata": {
      "needs_background": "light"
     },
     "output_type": "display_data"
    },
    {
     "name": "stdout",
     "output_type": "stream",
     "text": [
      "[0.   0.01 0.02 0.03 0.04 0.05 0.06 0.07 0.08 0.09 0.1  0.11 0.12 0.13\n",
      " 0.14 0.15 0.16 0.17 0.18 0.19]\n",
      "[ 4.44089210e-16 -2.73631624e-02 -5.03552419e-02 -6.97082990e-02\n",
      " -8.60230553e-02 -9.97932139e-02 -1.11425223e-01 -1.21254339e-01\n",
      " -1.29557691e-01 -1.36564897e-01 -1.42466708e-01 -1.47422040e-01\n",
      " -1.51563701e-01 -1.55003050e-01 -1.57833804e-01 -1.60135134e-01\n",
      " -1.61974199e-01 -1.63408211e-01 -1.64486126e-01 -1.65250028e-01]\n"
     ]
    }
   ],
   "source": [
    "plt.title(\"correlation function real part\") \n",
    "plt.xlabel(\"time\") \n",
    "plt.ylabel(\"C(t)\") \n",
    "plt.plot(tt_for_corr, bath_corr_psd.real, label = 'Pade-%d' %num_pade, linestyle = '-.', color = 'k') \n",
    "plt.scatter(tt_for_corr, bath_corr_psd_small.real, label = 'Pade-%d' %num_pade_small, s = 2, color = 'darkorange') \n",
    "plt.plot(tt_for_corr, bath_corr_exact_real / np.pi, label = 'exact', color = 'r') \n",
    "plt.plot(tt_for_corr, bath_corr_prony.real, label = 'prony', linestyle = '--', color = 'g')\n",
    "plt.legend(loc=1)\n",
    "plt.xlim(-0.1, 1.5)\n",
    "plt.show()\n",
    "\n",
    "print(tt_for_corr[:20])\n",
    "print(bath_corr_psd[:20].real)\n",
    "\n",
    "plt.title(\"correlation function imagnary part\") \n",
    "plt.xlabel(\"time\") \n",
    "plt.ylabel(\"C(t)\") \n",
    "plt.plot(tt_for_corr, bath_corr_psd.imag, label = 'Pade-%d' %num_pade, linestyle = '-.', color = 'k') \n",
    "plt.scatter(tt_for_corr, bath_corr_psd_small.imag, label = 'Pade-%d' %num_pade_small, s = 2, color = 'darkorange') \n",
    "plt.plot(tt_for_corr, bath_corr_exact_imag / np.pi, label = 'exact', color = 'r') \n",
    "plt.plot(tt_for_corr, bath_corr_prony.imag, label = 'prony', linestyle = '--', color = 'g')\n",
    "plt.legend(loc=4)\n",
    "plt.xlim(-0.1, 1.5)\n",
    "plt.show()\n",
    "\n",
    "print(tt_for_corr[:20])\n",
    "print(bath_corr_psd[:20].imag)"
   ]
  },
  {
   "cell_type": "code",
   "execution_count": 18,
   "id": "56d866f5",
   "metadata": {},
   "outputs": [
    {
     "data": {
      "image/png": "[encoded data removed]",
      "text/plain": [
       "<Figure size 432x288 with 1 Axes>"
      ]
     },
     "metadata": {
      "needs_background": "light"
     },
     "output_type": "display_data"
    }
   ],
   "source": [
    "one = np.ones(len(diss_rate_pade))\n",
    "two =  np.ones(len(diss_rate_pade_small)) * 2\n",
    "three =  np.ones(len(diss_rate_prony)) * 3\n",
    "plt.title(\"rate\") \n",
    "plt.xlabel(\"ln[abs(rate)]\") \n",
    "plt.ylabel(\"\") \n",
    "plt.scatter(np.abs(diss_rate_pade), one, label = 'Pade-%d' %num_pade, s = 4, color = 'k') \n",
    "plt.scatter(np.abs(diss_rate_pade_small), two, label = 'Pade-%d' %num_pade_small, s = 4, color = 'darkorange') \n",
    "plt.scatter(np.abs(diss_rate_prony), three, label = 'prony', s = 4, color = 'r') \n",
    "plt.legend(loc=2)\n",
    "plt.xscale(\"log\")\n",
    "#plt.xlim(-0.1, 1.5)\n",
    "plt.show()"
   ]
  },
  {
   "cell_type": "code",
   "execution_count": 19,
   "id": "8d4f2657",
   "metadata": {
    "scrolled": true
   },
   "outputs": [],
   "source": [
    "bath_corr_psd_freq = np.zeros(omega_sample, dtype = complex)\n",
    "bath_corr_psd_small_freq = np.zeros(omega_sample, dtype = complex)\n",
    "#bath_corr_prony_imag_freq = np.zeros(omega_sample, dtype = complex)\n",
    "#bath_corr_prony_real_freq = np.zeros(omega_sample, dtype = complex)\n",
    "bath_corr_prony_freq = np.zeros(omega_sample, dtype = complex)\n",
    "\n",
    "for i in range(omega_sample):\n",
    "    #bath_corr_psd_freq[i] =   Jfermi_psd(omega_freq[i])\n",
    "    bath_corr_psd_small_freq[i] = J_fit(omega[i], diss_rate_pade_small * hbar, eta_pade_small * hbar**2)\n",
    "    bath_corr_psd_freq[i] = J_fit(omega[i], diss_rate_pade * hbar, eta_pade * hbar**2)\n",
    "    bath_corr_prony_freq[i] = J_fit(omega[i], diss_rate_prony, eta_prony)\n",
    "    #bath_corr_prony_imag_freq[i] = J_fit(omega_freq[i], diss_rate_prony_imag, eta_prony_imag)\n",
    "    #bath_corr_prony_real_freq[i] = J_fit(omega_freq[i], diss_rate_prony_real, eta_prony_real)"
   ]
  },
  {
   "cell_type": "code",
   "execution_count": 20,
   "id": "b26329b4",
   "metadata": {
    "scrolled": false
   },
   "outputs": [
    {
     "data": {
      "image/png": "[encoded data removed]",
      "text/plain": [
       "<Figure size 432x288 with 1 Axes>"
      ]
     },
     "metadata": {
      "needs_background": "light"
     },
     "output_type": "display_data"
    },
    {
     "name": "stdout",
     "output_type": "stream",
     "text": [
      " -0.03999999999999204 \n",
      " psd   0.17614180141542582 \n",
      " exact 0.1761418014154266 \n",
      " prony 0.17614060588931862\n",
      " small 0.17672768619866314\n",
      "\n",
      " 0.0 \n",
      " psd   0.1 \n",
      " exact 0.1 \n",
      " prony 0.09999999999997285\n",
      " small 0.1\n",
      "\n",
      " 0.04000000000000625 \n",
      " psd   0.023838200584359263 \n",
      " exact 0.02383820058435851 \n",
      " prony 0.02383939611051064\n",
      " small 0.02325231580112177\n"
     ]
    }
   ],
   "source": [
    "plt.title(\"correlation function\") \n",
    "plt.xlabel(\"ω\") \n",
    "plt.ylabel(\"C(ω)\")\n",
    "plt.scatter(omega_plt, bath_corr_psd_freq.real, label = 'Pade-%d'%num_pade, s = 1, color = 'k')\n",
    "plt.scatter(omega_plt, bath_corr_psd_small_freq.real, label = 'Pade-%d'%num_pade_small, s = 1, color = 'darkorange')\n",
    "plt.plot(omega_plt, bath_corr_exact_freq.real, label = 'exact', linestyle = '-.', color = 'r')\n",
    "plt.plot(omega_plt, bath_corr_prony_freq.real, label = 'Prony', linestyle = '--', color = 'g')\n",
    "plt.legend(loc=1)\n",
    "plt.xlim(-1, 1)\n",
    "plt.ylim(-0.001, 0.0045)\n",
    "plt.show()\n",
    "\n",
    "x = 2500\n",
    "a = max(np.abs(bath_corr_psd_freq.real))\n",
    "b = max(np.abs(bath_corr_exact_freq.real))\n",
    "c = max(np.abs(bath_corr_prony_freq.real))\n",
    "print('',omega_plt[x-1],'\\n psd  ',(bath_corr_psd_freq[x-1]).real,'\\n exact',bath_corr_exact_freq[x-1],\\\n",
    "      '\\n prony',(bath_corr_prony_freq[x-1]).real)\n",
    "print(' small', bath_corr_psd_small_freq[x-1].real)\n",
    "print()\n",
    "print('',omega_plt[x],'\\n psd  ',(bath_corr_psd_freq[x]).real,'\\n exact',bath_corr_exact_freq[x],\\\n",
    "      '\\n prony',(bath_corr_prony_freq[x]).real)\n",
    "print(' small', bath_corr_psd_small_freq[x].real)\n",
    "print()\n",
    "print('',omega_plt[x+1],'\\n psd  ',(bath_corr_psd_freq[x+1]).real,'\\n exact',bath_corr_exact_freq[x+1],\\\n",
    "      '\\n prony',(bath_corr_prony_freq[x+1]).real)\n",
    "print(' small', bath_corr_psd_small_freq[x+1].real)"
   ]
  }
 ],
 "metadata": {
  "kernelspec": {
   "display_name": "Python 3",
   "language": "python",
   "name": "python3"
  },
  "language_info": {
   "codemirror_mode": {
    "name": "ipython",
    "version": 3
   },
   "file_extension": ".py",
   "mimetype": "text/x-python",
   "name": "python",
   "nbconvert_exporter": "python",
   "pygments_lexer": "ipython3",
   "version": "3.8.8"
  }
 },
 "nbformat": 4,
 "nbformat_minor": 5
}
