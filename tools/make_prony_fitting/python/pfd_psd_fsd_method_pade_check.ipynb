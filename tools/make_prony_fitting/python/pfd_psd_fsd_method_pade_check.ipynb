{
 "cells": [
  {
   "cell_type": "code",
   "execution_count": 1,
   "id": "fc2a91a2",
   "metadata": {},
   "outputs": [],
   "source": [
    "import numpy as np\n",
    "from scipy import integrate, linalg, optimize\n",
    "from matplotlib import pyplot as plt \n",
    "\n",
    "\n",
    "def filte_small_value(U, criterion = 1.e-12):\n",
    "    #filte the value smaller than 1.e-12\n",
    "    if isinstance(U[0,0], np.complex128) or isinstance(U[0,0], complex):\n",
    "        leng = len(U[0])\n",
    "        for i in range(leng):\n",
    "            for j in range(leng):\n",
    "                a = U[i,j].real\n",
    "                b = U[i,j].imag\n",
    "                if np.abs(a) <= criterion:\n",
    "                     a = 0.0\n",
    "                if np.abs(b) <= criterion:\n",
    "                     b = 0.0\n",
    "                U[i,j] = a + b * 1.j\n",
    "    elif isinstance(U[0,0], np.float64) or isinstance(U[0,0], np.float128) or isinstance(U[0,0], float):\n",
    "        leng = len(U[0])\n",
    "        for i in range(leng):\n",
    "            for j in range(leng):\n",
    "                a = U[i,j]\n",
    "                if np.abs(a) <= criterion:\n",
    "                     a = 0.0\n",
    "                U[i,j] = a\n",
    "    return U\n",
    "\n",
    "def takagi_chen(H):\n",
    "    sing_vs, Q = linalg.eigh(H)\n",
    "    phase_mat = np.diag(\n",
    "                [np.exp(-1j * np.angle(sing_v) / 2.0) for sing_v in sing_vs])\n",
    "    vs = np.array([np.abs(sing_v) for sing_v in sing_vs])\n",
    "    Qp = np.dot(Q, phase_mat)\n",
    "    sort_array = np.argsort(vs)[::-1]\n",
    "    vs = vs[sort_array]\n",
    "    Qp = (Qp[:, sort_array])\n",
    "    \n",
    "    return vs, Qp\n",
    "\n",
    "def takagi_stra(N, tol=1e-13, rounding=13):\n",
    "    r\"\"\"Autonne-Takagi decomposition of a complex symmetric (not Hermitian!) matrix.\n",
    "\n",
    "    Note that singular values of N are considered equal if they are equal after np.round(values, tol).\n",
    "\n",
    "    See :cite:`cariolaro2016` and references therein for a derivation.\n",
    "\n",
    "    Args:\n",
    "        N (array[complex]): square, symmetric matrix N\n",
    "        rounding (int): the number of decimal places to use when rounding the singular values of N\n",
    "        tol (float): the tolerance used when checking if the input matrix is symmetric: :math:`|N-N^T| <` tol\n",
    "\n",
    "    Returns:\n",
    "        tuple[array, array]: (rl, U), where rl are the (rounded) singular values,\n",
    "            and U is the Takagi unitary, such that :math:`N = U \\diag(rl) U^T`.\n",
    "    \"\"\"\n",
    "    (n, m) = N.shape\n",
    "    if n != m:\n",
    "        raise ValueError(\"The input matrix must be square\")\n",
    "    if np.linalg.norm(N - np.transpose(N)) >= tol:\n",
    "        raise ValueError(\"The input matrix is not symmetric\")\n",
    "\n",
    "    N = np.real_if_close(N)\n",
    "\n",
    "    if np.allclose(N, 0):\n",
    "        return np.zeros(n), np.eye(n)\n",
    "\n",
    "    if np.isrealobj(N):\n",
    "        # If the matrix N is real one can be more clever and use its eigendecomposition\n",
    "        l, U = np.linalg.eigh(N)\n",
    "        vals = np.abs(l)  # These are the Takagi eigenvalues\n",
    "        phases = np.sqrt(np.complex128([1 if i > 0 else -1 for i in l]))\n",
    "        Uc = U @ np.diag(phases)  # One needs to readjust the phases\n",
    "        list_vals = [(vals[i], i) for i in range(len(vals))]\n",
    "        list_vals.sort(reverse=True)\n",
    "        sorted_l, permutation = zip(*list_vals)\n",
    "        permutation = np.array(permutation)\n",
    "        Uc = Uc[:, permutation]\n",
    "        # And also rearrange the unitary and values so that they are decreasingly ordered\n",
    "        return np.array(sorted_l), Uc\n",
    "\n",
    "    v, l, ws = np.linalg.svd(N)\n",
    "    w = np.transpose(np.conjugate(ws))\n",
    "    rl = np.round(l, rounding)\n",
    "\n",
    "    # Generate list with degenerancies\n",
    "    result = []\n",
    "    for k, g in groupby(rl):\n",
    "        result.append(list(g))\n",
    "\n",
    "    # Generate lists containing the columns that correspond to degenerancies\n",
    "    kk = 0\n",
    "    for k in result:\n",
    "        for ind, j in enumerate(k):  # pylint: disable=unused-variable\n",
    "            k[ind] = kk\n",
    "            kk = kk + 1\n",
    "\n",
    "    # Generate the lists with the degenerate column subspaces\n",
    "    vas = []\n",
    "    was = []\n",
    "    for i in result:\n",
    "        vas.append(v[:, i])\n",
    "        was.append(w[:, i])\n",
    "\n",
    "    # Generate the matrices qs of the degenerate subspaces\n",
    "    qs = []\n",
    "    for i in range(len(result)):\n",
    "        qs.append(sqrtm(np.transpose(vas[i]) @ was[i]))\n",
    "\n",
    "    # Construct the Takagi unitary\n",
    "    qb = block_diag(*qs)\n",
    "\n",
    "    U = v @ np.conj(qb)\n",
    "    return rl, U\n",
    "\n",
    "def fdt_real(omega, t):\n",
    "    t = np.array([t], dtype=np.float128)\n",
    "    if ((omega - chemical_potential) / T) <= 50:\n",
    "        fun = np.exp(1.j * omega * t[0]) \\\n",
    "              * (0.5 * sys_bath_coupling * (band_width**2)) / ((omega + band_center)**2 + band_width**2)\\\n",
    "              / (1.0 + np.exp( (omega - chemical_potential) / T ))\n",
    "    elif ((omega - chemical_potential) / T) > 50:\n",
    "        fun = np.exp(1.j * omega * t[0]) \\\n",
    "              * (0.5 * sys_bath_coupling * (band_width**2)) / ((omega + band_center)**2 + band_width**2)\\\n",
    "              / 10e+22\n",
    "    #print('C(w,t)',omega,t,fun)\n",
    "    return fun.real\n",
    "\n",
    "def fdt_imag(omega, t):\n",
    "    t = np.array([t], dtype=np.float128)\n",
    "    if ((omega - chemical_potential) / T) <= 50:\n",
    "        fun = np.exp(1.j * omega * t[0]) \\\n",
    "              * (0.5 * sys_bath_coupling * (band_width**2)) / ((omega + band_center)**2 + band_width**2)\\\n",
    "              / (1.0 + np.exp( (omega - chemical_potential) / T ))\n",
    "    elif ((omega - chemical_potential) / T) > 50:\n",
    "        fun = np.exp(1.j * omega * t[0]) \\\n",
    "              * (0.5 * sys_bath_coupling * (band_width**2)) / ((omega + band_center)**2 + band_width**2)\\\n",
    "              / 10e+22\n",
    "    #print('C(w,t)',omega,t,fun)\n",
    "    return fun.imag\n",
    "\n",
    "def Jfermi_exact(omega):\n",
    "    if ((omega - chemical_potential) / T) <= 50:\n",
    "        fun = 1.0 * (0.5 * sys_bath_coupling * (band_width**2)) / ((omega + band_center)**2 + band_width**2)\\\n",
    "              / (1.0 + np.exp( (omega - chemical_potential) / T ))\n",
    "    elif ((omega - chemical_potential) / T) > 50:\n",
    "        fun = 1.0 * (0.5 * sys_bath_coupling * (band_width**2)) / ((omega + band_center)**2 + band_width**2)\\\n",
    "              / 10e+22\n",
    "    #print('C(w,t)',omega,t,fun)\n",
    "    return fun\n",
    "\n",
    "def Jfermi_psd(omega):\n",
    "    fun = 1.0 * (0.5 * sys_bath_coupling * (band_width**2)) / ((omega + band_center)**2 + band_width**2)\\\n",
    "          * fermi_by_pade(omega)\n",
    "    #print('C(w,t)',omega,t,fun)\n",
    "    return fun\n",
    "\n",
    "def fermi_by_pade(omega):\n",
    "    result = 0.5\n",
    "    for j in range(num_pade):\n",
    "        result = result + tilde_eta[j] / (omega / T + pole[j]) \\\n",
    "                        + tilde_eta[j] / (omega / T - pole[j])\n",
    "    return result\n",
    "\n",
    "def J_fit(omega, rate, eta):\n",
    "    fun = 0\n",
    "    for i in range(len(rate)):\n",
    "        fun = fun + eta[i] / (rate[i] * hbar + 1.j * omega)\n",
    "        if omega == 0:\n",
    "            print(\"i\",i)\n",
    "            print(\"fun\", fun, \"eta\", eta[i] , \"rate\", rate[i] * hbar, \"omega\", omega)\n",
    "            print(\"(expn[i] + sigma * 1.j * w)[0]\", rate[i] * hbar + 1.j * omega)\n",
    "    return fun"
   ]
  },
  {
   "cell_type": "code",
   "execution_count": 2,
   "id": "80160519",
   "metadata": {},
   "outputs": [
    {
     "name": "stdout",
     "output_type": "stream",
     "text": [
      "Done!\n"
     ]
    }
   ],
   "source": [
    "# the information of calculation paratemers\n",
    "hbar = 0.658211928\n",
    "omega_max = 100.0\n",
    "omega_min = -100.0\n",
    "omega_sample = 5000 + 1\n",
    "omega = np.linspace(omega_min, omega_max, omega_sample)\n",
    "\n",
    "time_max = 400.0\n",
    "time_min = -400.0\n",
    "time_sample = 4000 + 1\n",
    "tt = np.linspace(time_min, time_max, time_sample)\n",
    "\n",
    "tt_for_corr_min = 0.0\n",
    "tt_for_corr_max = 10.0\n",
    "time_sample_for_corr =  1000 + 1\n",
    "tt_for_corr = np.linspace(tt_for_corr_min, tt_for_corr_max, time_sample_for_corr)\n",
    "\n",
    "bath_corr_exact = np.zeros(time_sample_for_corr, dtype = complex)\n",
    "bath_corr_exact_real = np.zeros(time_sample_for_corr)\n",
    "bath_corr_exact_imag = np.zeros(time_sample_for_corr)\n",
    "bath_corr_psd = np.zeros(time_sample_for_corr, dtype=complex)\n",
    "\n",
    "print('Done!')"
   ]
  },
  {
   "cell_type": "code",
   "execution_count": 3,
   "id": "eeb133b7",
   "metadata": {},
   "outputs": [
    {
     "data": {
      "image/png": "[encoded data removed]",
      "text/plain": [
       "<Figure size 432x288 with 1 Axes>"
      ]
     },
     "metadata": {
      "needs_background": "light"
     },
     "output_type": "display_data"
    },
    {
     "data": {
      "image/png": "[encoded data removed]",
      "text/plain": [
       "<Figure size 432x288 with 1 Axes>"
      ]
     },
     "metadata": {
      "needs_background": "light"
     },
     "output_type": "display_data"
    },
    {
     "name": "stdout",
     "output_type": "stream",
     "text": [
      "spectral_pole \n",
      " (2+0j)\n",
      "spectral_eta \n",
      " (0.46163475624596917+0.1255187727426561j)\n"
     ]
    }
   ],
   "source": [
    "# the information of fermi funcaiton\n",
    "T = 0.02                 #eV\n",
    "chemical_potential = 0.0 #ev\n",
    "\n",
    "fermi = np.zeros(omega_sample)\n",
    "for i in range(omega_sample):\n",
    "    if ((omega[i] - chemical_potential) / (T)) <= 50 :\n",
    "        fermi[i] = 1.0 / ( 1.0 + np.exp( (omega[i] - chemical_potential) / (T) ) )\n",
    "    elif ((omega[i] - chemical_potential) / (T)) > 50 :\n",
    "        fermi[i] = 1.0 / 10e+22\n",
    "\n",
    "# the information of bath spectral funcation\n",
    "# the Lorentz type J(w) = 0.5 * sys_bath_coupling * band_width**2 / ( (w - band_center)**2 + band_width**2)\n",
    "sys_bath_coupling = 0.4  #eV, is equal to HEOM-QUICK\n",
    "band_width = 2.0         #eV\n",
    "band_center = 0.0        #eV\n",
    "bath_spectral = np.zeros(omega_sample, dtype=complex)\n",
    "bath_spectral = (0.5 * sys_bath_coupling * (band_width**2)) / ((omega + band_center)**2 + band_width**2)\n",
    "spectral_diss_rate = (band_width - 1.j * band_center) / hbar\n",
    "spectral_eta = 0.5 * sys_bath_coupling * band_width \\\n",
    "                / ( 1.0 + np.exp((1.j * spectral_diss_rate - chemical_potential) * hbar / T )) / hbar**2\n",
    "\n",
    "plt.title(\"Bath spectral function\") \n",
    "plt.xlabel(\"frequency\") \n",
    "plt.ylabel(\"J(w)\") \n",
    "plt.plot(omega, bath_spectral.real, label = 'J(w)')\n",
    "plt.legend(loc=1)\n",
    "plt.show()\n",
    "\n",
    "plt.title(\"Fermi funcaiton for alectron\") \n",
    "plt.xlabel(\"frequency\") \n",
    "plt.ylabel(\"F(w)\") \n",
    "plt.plot(omega, fermi.real, label = 'F(w)')\n",
    "plt.legend(loc=1)\n",
    "plt.show()\n",
    "\n",
    "print('spectral_pole \\n', spectral_diss_rate * hbar)\n",
    "print('spectral_eta \\n', spectral_eta)\n",
    "\n",
    "\n",
    "#the Matsubara scheme\n",
    "#num_mats = 1001\n",
    "#mats = np.linspace(-(num_mats - 1)/2, (num_mats - 1)/2, num_mats, dtype = np.complex128)\n",
    "#fermi_mats = np.zeros(omega_sample, dtype = np.complex128)\n",
    "#bath_corr_msd = np.zeros(time_sample, dtype=np.complex128)\n",
    "\n",
    "# for i in range(num_mats):\n",
    "#     mats[i] = (mats[i] * 2 + 1) * np.pi * complex(0,1.0)\n",
    "\n",
    "# for i in range(omega_sample):\n",
    "#     fermi_mats[i] = 0.5\n",
    "#     for j in range(num_mats):\n",
    "#        fermi_mats[i] = fermi_mats[i] + 1.0 / (mats[j] - omega[i]/T)"
   ]
  },
  {
   "cell_type": "code",
   "execution_count": 4,
   "id": "6f9da4f6",
   "metadata": {
    "scrolled": true
   },
   "outputs": [
    {
     "data": {
      "image/png": "[encoded data removed]",
      "text/plain": [
       "<Figure size 432x288 with 1 Axes>"
      ]
     },
     "metadata": {
      "needs_background": "light"
     },
     "output_type": "display_data"
    }
   ],
   "source": [
    "#the Pade scheme\n",
    "num_pade = 20\n",
    "b = np.zeros(2 * num_pade)\n",
    "mat_xi = np.zeros((2 * num_pade, 2 * num_pade))\n",
    "mat_varsigma = np.zeros((2 * num_pade - 1, 2 * num_pade - 1))\n",
    "tilde_eta = np.zeros(num_pade, dtype = complex)         # namely cpcoef in evaluatepara.f90 \n",
    "pole = np.zeros(num_pade, dtype = complex)              # namely cppole in evaluatepara.f90\n",
    "\n",
    "\n",
    "\n",
    "for i in range(2 * num_pade):\n",
    "    b[i] = 2 * (i) + 1\n",
    "\n",
    "for i in range(2 * num_pade):\n",
    "    for j in range(2 * num_pade):\n",
    "        if (i == j-1 or i == j+1) :\n",
    "            mat_xi[i,j] = 1.0 / np.sqrt(b[i] * b[j])\n",
    "\n",
    "eigval_xi, eigvec_xi = np.linalg.eig(mat_xi) \n",
    "eigval_xi = np.sort(eigval_xi)\n",
    "            \n",
    "for i in range(2 * num_pade -1):\n",
    "    for j in range(2 * num_pade -1):\n",
    "        if (i == j-1 or i == j+1) :\n",
    "            mat_varsigma[i,j] = 1.0 / np.sqrt(b[i+1] * b[j+1])\n",
    "\n",
    "eigval_varsigma, eigvec_varsigma = np.linalg.eig(mat_varsigma)\n",
    "eigval_varsigma = np.sort(eigval_varsigma)\n",
    "\n",
    "\n",
    "for i in range(num_pade):\n",
    "    pole[i] = (0. +2.j) / abs(eigval_xi[i])\n",
    "    eigval_xi[i] = 4.0 / eigval_xi[i]**2\n",
    "for i in range(num_pade-1):\n",
    "    eigval_varsigma[i] = 4.0 / eigval_varsigma[i]**2\n",
    "\n",
    "for i in range(num_pade):\n",
    "    tilde_eta[i] = 0.5 * num_pade * (2 * num_pade + 1)\n",
    "    for j in range(i):\n",
    "        tilde_eta[i] = tilde_eta[i] * (eigval_varsigma[j] - eigval_xi[i]) / (eigval_xi[j] - eigval_xi[i])\n",
    "    for j in range(i+1,num_pade):\n",
    "        tilde_eta[i] = tilde_eta[i] * (eigval_varsigma[j-1] - eigval_xi[i]) / (eigval_xi[j] - eigval_xi[i])\n",
    "    tilde_eta[i] = (-1. +0.j) * tilde_eta[i]\n",
    "\n",
    "fermi_pade = np.zeros(omega_sample, dtype = np.complex128)\n",
    "for i in range(omega_sample):\n",
    "    fermi_pade[i] = 0.5\n",
    "    for j in range(num_pade):\n",
    "        fermi_pade[i] = fermi_pade[i] + tilde_eta[j] / (omega[i] / T + pole[j]) \\\n",
    "                                      + tilde_eta[j] / (omega[i] / T - pole[j])\n",
    "\n",
    "        \n",
    "plt.title(\"Fermi function\") \n",
    "plt.xlabel(\"frequency\") \n",
    "plt.ylabel(\"f(w)\") \n",
    "plt.plot(omega, fermi, label = 'exact')\n",
    "#plt.plot(omega, fermi_mats.real, label = 'Matsubara', linestyle = '--')\n",
    "plt.plot(omega, fermi_pade.real, label = 'Pade', linestyle = '-.')\n",
    "plt.legend(loc=1)\n",
    "plt.show()"
   ]
  },
  {
   "cell_type": "code",
   "execution_count": 5,
   "id": "93348ad9",
   "metadata": {},
   "outputs": [
    {
     "name": "stdout",
     "output_type": "stream",
     "text": [
      "pade_diss_rate \n",
      " [ -2.        +0.j  -0.06283185+0.j  -0.18849556+0.j  -0.31415927+0.j\n",
      "  -0.43982297+0.j  -0.56548668+0.j  -0.69115038+0.j  -0.81681409+0.j\n",
      "  -0.9424778 +0.j  -1.0681415 +0.j  -1.19380535+0.j  -1.31949279+0.j\n",
      "  -1.44619637+0.j  -1.58443278+0.j  -1.76495399+0.j  -2.02608389+0.j\n",
      "  -2.42072165+0.j  -3.05905273+0.j  -4.22944946+0.j  -6.99190012+0.j\n",
      " -20.89157037+0.j]\n",
      "pade_eta \n",
      " [0.46163476-1.71070758j 0.        -0.01848363j 0.        -0.01863088j\n",
      " 0.        -0.01893253j 0.        -0.01940378j 0.        -0.02006985j\n",
      " 0.        -0.02096963j 0.        -0.02216192j 0.        -0.02373645j\n",
      " 0.        -0.02583409j 0.        -0.0286862j  0.        -0.03272508j\n",
      " 0.        -0.03973257j 0.        -0.06039882j 0.        -0.14225723j\n",
      " 0.        +1.77002799j 0.        +0.15481247j 0.        +0.0909147j\n",
      " 0.        +0.0697597j  0.        +0.06048296j 0.        +0.05673243j]\n",
      "pade_eta * hbar**2 \n",
      " [0.2-0.74115198j 0. -0.0080079j  0. -0.0080717j  0. -0.00820239j\n",
      " 0. -0.00840655j 0. -0.00869512j 0. -0.00908494j 0. -0.00960149j\n",
      " 0. -0.01028365j 0. -0.01119244j 0. -0.01242809j 0. -0.01417791j\n",
      " 0. -0.01721386j 0. -0.02616736j 0. -0.06163194j 0. +0.76685213j\n",
      " 0. +0.06707141j 0. +0.03938815j 0. +0.0302229j  0. +0.02620381j\n",
      " 0. +0.02457892j]\n"
     ]
    }
   ],
   "source": [
    "# Here we test the nalf = 1, spin = ↑, norbs = 1 and nsgn = (+ or 1). \n",
    "# the coefficients eta and gamma only sum over the number of poles.\n",
    "eta_pade = np.zeros(num_pade + 1, dtype = complex)               # namely cb in evaluatepara.f90\n",
    "diss_rate_pade = np.zeros(num_pade + 1, dtype = complex)         # namely cgamma in evaluatepara.f90\n",
    "\n",
    "spectral_diss_rate_pade = (band_width - 1.j * band_center) / hbar\n",
    "spectral_eta_pade = 0.5 * sys_bath_coupling * band_width \\\n",
    "                   * fermi_by_pade((1.j * spectral_diss_rate - chemical_potential) * hbar) / hbar**2\n",
    "\n",
    "diss_rate_pade[0] = spectral_diss_rate_pade\n",
    "eta_pade[0] = spectral_eta_pade\n",
    "\n",
    "for i in range(1, num_pade + 1):\n",
    "    diss_rate_pade[i] = -1.j * T * pole[i - 1] / hbar\n",
    "    eta_pade[i] = 2.j * tilde_eta[i - 1] * sys_bath_coupling * 0.5 * band_width**2 * T \\\n",
    "             / ( (pole[i - 1] * T - band_center)**2 + band_width**2 ) / hbar**2\n",
    "\n",
    "print('pade_diss_rate \\n', -1 * diss_rate_pade * hbar)\n",
    "print('pade_eta \\n', eta_pade)\n",
    "print('pade_eta * hbar**2 \\n', eta_pade * hbar**2)"
   ]
  },
  {
   "cell_type": "code",
   "execution_count": 6,
   "id": "8e83097b",
   "metadata": {},
   "outputs": [
    {
     "name": "stderr",
     "output_type": "stream",
     "text": [
      "<ipython-input-6-9f1009cb0324>:5: IntegrationWarning: The integral is probably divergent, or slowly convergent.\n",
      "  bath_corr_exact_real[i],err = integrate.quad(fdt_real, a = -100, b = 100, args=(tt_for_corr[i]), limit = 20000)\n"
     ]
    },
    {
     "name": "stdout",
     "output_type": "stream",
     "text": [
      "Done!\n"
     ]
    }
   ],
   "source": [
    "# compare the pade results and the exact correlation function in time domain\n",
    "# exact results\n",
    "for i in range(time_sample_for_corr):\n",
    "    #bath_corr_exact[i] = gauss_Legendre_integral(fdt, down_limit = -20, upper_limit = 20, interval = 100, t=tt_for_corr[i])\n",
    "    bath_corr_exact_real[i],err = integrate.quad(fdt_real, a = -100, b = 100, args=(tt_for_corr[i]), limit = 20000)\n",
    "    bath_corr_exact_imag[i],err = integrate.quad(fdt_imag, a = -200, b = 200, args=(tt_for_corr[i]), limit = 10000)\n",
    "    bath_corr_exact[i] = complex(bath_corr_exact_real[i], bath_corr_exact_imag[i])\n",
    "    #print(bath_corr_exact[i])\n",
    "\n",
    "print('Done!')"
   ]
  },
  {
   "cell_type": "code",
   "execution_count": 6,
   "id": "40a8daed",
   "metadata": {},
   "outputs": [
    {
     "name": "stdout",
     "output_type": "stream",
     "text": [
      "bath_corr_psd[i] 2.64 -0.0037742651855937393\n",
      "bath_corr_psd[i] 2.64 -0.010558170202707717\n",
      "bath_corr_psd[i] 2.64 -0.015465527632141018\n",
      "bath_corr_psd[i] 2.64 -0.019044388646252783\n",
      "bath_corr_psd[i] 2.64 -0.02167674258437777\n",
      "bath_corr_psd[i] 2.64 -0.02363074000156729\n",
      "bath_corr_psd[i] 2.64 -0.02509592503853083\n",
      "bath_corr_psd[i] 2.64 -0.02620722391522692\n",
      "bath_corr_psd[i] 2.64 -0.027061427160523347\n",
      "bath_corr_psd[i] 2.64 -0.027728633882950444\n",
      "bath_corr_psd[i] 2.64 -0.02826032818401351\n",
      "bath_corr_psd[i] 2.64 -0.028695603784825816\n",
      "bath_corr_psd[i] 2.64 -0.029073837209471702\n",
      "bath_corr_psd[i] 2.64 -0.02947299856133142\n",
      "bath_corr_psd[i] 2.64 -0.03005673934731951\n",
      "bath_corr_psd[i] 2.64 -0.026411461691782028\n",
      "bath_corr_psd[i] 2.64 -0.026298978024556035\n",
      "bath_corr_psd[i] 2.64 -0.02628673053261555\n",
      "bath_corr_psd[i] 2.64 -0.02628630285753321\n",
      "bath_corr_psd[i] 2.64 -0.02628630260524945\n",
      "bath_corr_psd[i] 2.64 -0.02628630260524945\n",
      "Done!\n",
      "pade_diss_rate \n",
      " [ -2.        +0.j  -0.06283185+0.j  -0.18849556+0.j  -0.31415927+0.j\n",
      "  -0.43982297+0.j  -0.56548668+0.j  -0.69115038+0.j  -0.81681409+0.j\n",
      "  -0.9424778 +0.j  -1.0681415 +0.j  -1.19380535+0.j  -1.31949279+0.j\n",
      "  -1.44619637+0.j  -1.58443278+0.j  -1.76495399+0.j  -2.02608389+0.j\n",
      "  -2.42072165+0.j  -3.05905273+0.j  -4.22944946+0.j  -6.99190012+0.j\n",
      " -20.89157037+0.j]\n",
      "pade_eta \n",
      " [0.2-0.74115198j 0. -0.0080079j  0. -0.0080717j  0. -0.00820239j\n",
      " 0. -0.00840655j 0. -0.00869512j 0. -0.00908494j 0. -0.00960149j\n",
      " 0. -0.01028365j 0. -0.01119244j 0. -0.01242809j 0. -0.01417791j\n",
      " 0. -0.01721386j 0. -0.02616736j 0. -0.06163194j 0. +0.76685213j\n",
      " 0. +0.06707141j 0. +0.03938815j 0. +0.0302229j  0. +0.02620381j\n",
      " 0. +0.02457892j]\n"
     ]
    }
   ],
   "source": [
    "# pade results\n",
    "tt_for_corr_tmp = np.linspace(0, 80, 3001)\n",
    "for i in range(time_sample_for_corr):\n",
    "    for j in range(num_pade + 1):\n",
    "        bath_corr_psd[i] = bath_corr_psd[i] + eta_pade[j] * hbar**2 * np.exp(-1 * diss_rate_pade[j] * hbar * tt_for_corr_tmp[i])\n",
    "        if i == 99:\n",
    "            print(\"bath_corr_psd[i]\",tt_for_corr_tmp[i], bath_corr_psd[i].imag)\n",
    "\n",
    "print('Done!')\n",
    "\n",
    "print('pade_diss_rate \\n', -1 * diss_rate_pade * hbar)\n",
    "print('pade_eta \\n', eta_pade * hbar**2)"
   ]
  },
  {
   "cell_type": "code",
   "execution_count": 8,
   "id": "d29b4c81",
   "metadata": {},
   "outputs": [
    {
     "name": "stdout",
     "output_type": "stream",
     "text": [
      "pade_diss_rate \n",
      " [ -2.        +0.j  -0.06283185+0.j  -0.18849556+0.j  -0.31415927+0.j\n",
      "  -0.43982297+0.j  -0.56548668+0.j  -0.69115038+0.j  -0.81681409+0.j\n",
      "  -0.9424778 +0.j  -1.0681415 +0.j  -1.19380535+0.j  -1.31949279+0.j\n",
      "  -1.44619637+0.j  -1.58443278+0.j  -1.76495399+0.j  -2.02608389+0.j\n",
      "  -2.42072165+0.j  -3.05905273+0.j  -4.22944946+0.j  -6.99190012+0.j\n",
      " -20.89157037+0.j]\n",
      "pade_eta \n",
      " [0.2-0.74115198j 0. -0.0080079j  0. -0.0080717j  0. -0.00820239j\n",
      " 0. -0.00840655j 0. -0.00869512j 0. -0.00908494j 0. -0.00960149j\n",
      " 0. -0.01028365j 0. -0.01119244j 0. -0.01242809j 0. -0.01417791j\n",
      " 0. -0.01721386j 0. -0.02616736j 0. -0.06163194j 0. +0.76685213j\n",
      " 0. +0.06707141j 0. +0.03938815j 0. +0.0302229j  0. +0.02620381j\n",
      " 0. +0.02457892j]\n",
      "Done!\n"
     ]
    }
   ],
   "source": [
    "# prony results\n",
    "dimension_Hankel = 1500\n",
    "num_prony = 10\n",
    "\n",
    "tt_for_prony_min = 0.0\n",
    "tt_for_prony_max = 80.0\n",
    "time_sample_for_prony =  2 * dimension_Hankel + 1\n",
    "tt_for_prony = np.linspace(tt_for_prony_min, tt_for_prony_max, time_sample_for_prony)\n",
    "hankel_matrix_real = np.zeros((dimension_Hankel + 1, dimension_Hankel + 1))\n",
    "hankel_matrix_imag = np.zeros((dimension_Hankel + 1, dimension_Hankel + 1))\n",
    "phi_real = np.zeros(time_sample_for_prony)\n",
    "phi_imag = np.zeros(time_sample_for_prony)\n",
    "\n",
    "for j in range(time_sample_for_prony):\n",
    "    for k in  range(num_pade + 1):\n",
    "        phi_real[j] = phi_real[j] + np.real(eta_pade[k] * np.exp(-1 * diss_rate_pade[k] * tt_for_prony[j]))\n",
    "        phi_imag[j] = phi_imag[j] + np.imag(eta_pade[k] * np.exp(-1 * diss_rate_pade[k] * tt_for_prony[j]))\n",
    "\n",
    "print('pade_diss_rate \\n', -1 * diss_rate_pade * hbar)\n",
    "print('pade_eta \\n', eta_pade * hbar**2)\n",
    "        \n",
    "for n in range(dimension_Hankel + 1):\n",
    "    for m in range(dimension_Hankel + 1):\n",
    "        hankel_matrix_real[n,m] = phi_real[n + m]\n",
    "        hankel_matrix_imag[n,m] = phi_imag[n + m]\n",
    "        \n",
    "print('Done!')"
   ]
  },
  {
   "cell_type": "code",
   "execution_count": 9,
   "id": "238be901",
   "metadata": {},
   "outputs": [
    {
     "name": "stdout",
     "output_type": "stream",
     "text": [
      "error of decompose real part\n",
      " 2.6075474767519768e-14 \n",
      "error of decompose imag part\n",
      " 4.489612786312428e-12\n",
      "Done!\n",
      "7.220621037247959\n"
     ]
    }
   ],
   "source": [
    "sigma_real, U_real = takagi_chen(hankel_matrix_real)\n",
    "sigma_imag, U_imag = takagi_chen(hankel_matrix_imag)\n",
    "\n",
    "print(\n",
    "    \"error of decompose real part\\n\",\n",
    "    np.sum(np.abs(hankel_matrix_real - np.dot(np.dot(U_real, np.diag(sigma_real)), U_real.T))), \"\\n\"\n",
    "    \"error of decompose imag part\\n\",\n",
    "    np.sum(np.abs(hankel_matrix_imag - np.dot(np.dot(U_imag, np.diag(sigma_imag)), U_imag.T))))\n",
    "\n",
    "print('Done!')\n",
    "\n",
    "print(sigma_imag[0])"
   ]
  },
  {
   "cell_type": "code",
   "execution_count": 10,
   "id": "1b9f7a75",
   "metadata": {},
   "outputs": [
    {
     "name": "stdout",
     "output_type": "stream",
     "text": [
      "Done!\n"
     ]
    }
   ],
   "source": [
    "prony_roots_real = np.roots(U_real[:, num_prony][::-1])\n",
    "tmp_index = prony_roots_real != 0\n",
    "prony_roots_real = prony_roots_real[tmp_index]\n",
    "prony_roots_real_new = prony_roots_real[np.argsort(np.abs(prony_roots_real))[:num_prony]]\n",
    "\n",
    "\n",
    "prony_roots_imag = np.roots(U_imag[:, num_prony][::-1])\n",
    "tmp_index = prony_roots_imag != 0\n",
    "prony_roots_real = prony_roots_imag[tmp_index]\n",
    "prony_roots_imag_new = prony_roots_imag[np.argsort(np.abs(prony_roots_imag))[:num_prony]]\n",
    "\n",
    "print('Done!')"
   ]
  },
  {
   "cell_type": "code",
   "execution_count": 11,
   "id": "2e3145c0",
   "metadata": {},
   "outputs": [
    {
     "data": {
      "image/png": "[encoded data removed]",
      "text/plain": [
       "<Figure size 432x288 with 1 Axes>"
      ]
     },
     "metadata": {
      "needs_background": "light"
     },
     "output_type": "display_data"
    },
    {
     "name": "stdout",
     "output_type": "stream",
     "text": [
      "[0.42885784+0.00000000e+00j 0.75159687+1.56357239e-17j\n",
      " 0.84161262-2.75878002e-15j 0.89965773+3.82890746e-15j\n",
      " 0.94002588-2.50088898e-15j 0.96450076+3.63752949e-15j\n",
      " 0.97871655-2.96984659e-15j 0.98688416+1.35470066e-15j\n",
      " 0.99238119-4.14268556e-15j 0.99745767+4.21884749e-15j]\n"
     ]
    },
    {
     "data": {
      "image/png": "[encoded data removed]",
      "text/plain": [
       "<Figure size 432x288 with 1 Axes>"
      ]
     },
     "metadata": {
      "needs_background": "light"
     },
     "output_type": "display_data"
    },
    {
     "name": "stdout",
     "output_type": "stream",
     "text": [
      "[ 0.06373554+0.00000000e+00j -0.56852215+4.30138054e-29j\n",
      " -0.89319525-2.79956454e-16j -0.78508487-4.40364582e-01j\n",
      " -0.78508487+4.40364582e-01j  0.92216824-3.99332056e-16j\n",
      "  0.29876396-8.90643525e-01j  0.29876396+8.90643525e-01j\n",
      "  0.90074312+2.86204314e-01j  0.90074312-2.86204314e-01j]\n"
     ]
    }
   ],
   "source": [
    "plt.title(\"distrubition of imag part roots\") \n",
    "plt.xlabel(\"Re Φ\") \n",
    "plt.ylabel(\"Im Φ\")\n",
    "plt.scatter(prony_roots_imag.real, prony_roots_imag.imag)\n",
    "plt.scatter(prony_roots_imag_new.real, prony_roots_imag_new.imag)\n",
    "plt.show()\n",
    "print(prony_roots_imag_new)\n",
    "\n",
    "plt.title(\"distrubition of real part roots\") \n",
    "plt.xlabel(\"Re Φ\") \n",
    "plt.ylabel(\"Im Φ\")\n",
    "plt.scatter(prony_roots_real.real, prony_roots_real.imag)\n",
    "plt.scatter(prony_roots_real_new.real, prony_roots_real_new.imag)\n",
    "plt.show()\n",
    "\n",
    "print(prony_roots_real_new)"
   ]
  },
  {
   "cell_type": "code",
   "execution_count": 12,
   "id": "649173d4",
   "metadata": {},
   "outputs": [
    {
     "name": "stdout",
     "output_type": "stream",
     "text": [
      "[ 2.08028039e-14-1.99840144e-15j -7.82707232e-15-2.49800181e-15j\n",
      "  1.29063427e-15-6.03683770e-16j  2.35922393e-16-1.05124243e-15j\n",
      "  4.85722573e-17+1.15445847e-15j  4.61634756e-01+1.94289029e-15j\n",
      " -4.79651041e-16+7.45931095e-16j -5.51642065e-16-4.96130914e-16j\n",
      "  1.11022302e-15-3.41393580e-15j  2.03309591e-15+2.89004931e-15j]\n",
      "[ 0.05668629-2.71225854e-14j  0.0582251 +2.84678347e-13j\n",
      "  0.08020665-8.44947326e-13j  0.28582823+1.37261192e-12j\n",
      " -0.29072171-1.62873092e-12j -0.08686308+1.68115507e-12j\n",
      " -0.04229311-1.52616711e-12j -0.02374612+1.02644911e-12j\n",
      " -0.01883816-4.05892397e-13j -0.01848404+6.73064313e-14j]\n",
      "Done!\n"
     ]
    }
   ],
   "source": [
    "omega_matrix_real = np.zeros((time_sample_for_prony, num_prony), dtype=complex)\n",
    "for i in range(time_sample_for_prony):\n",
    "    for j in range(num_prony):\n",
    "        omega_matrix_real[i, j] = prony_roots_real_new[j]**i\n",
    "eta_prony_real = np.dot(linalg.inv(np.dot(omega_matrix_real.T, omega_matrix_real)), np.dot(omega_matrix_real.T, phi_real))\n",
    "print(eta_prony_real)\n",
    "\n",
    "\n",
    "omega_matrix_imag = np.zeros((time_sample_for_prony, num_prony), dtype=complex)\n",
    "for i in range(time_sample_for_prony):\n",
    "    for j in range(num_prony):\n",
    "        omega_matrix_imag[i, j] = prony_roots_imag_new[j]**i\n",
    "eta_prony_imag = np.dot(linalg.inv(np.dot(omega_matrix_imag.T, omega_matrix_imag)), np.dot(omega_matrix_imag.T, phi_imag))\n",
    "print(eta_prony_imag)\n",
    "\n",
    "print('Done!')"
   ]
  },
  {
   "cell_type": "code",
   "execution_count": 13,
   "id": "a0a13f27",
   "metadata": {},
   "outputs": [
    {
     "data": {
      "image/png": "[encoded data removed]",
      "text/plain": [
       "<Figure size 432x288 with 1 Axes>"
      ]
     },
     "metadata": {
      "needs_background": "light"
     },
     "output_type": "display_data"
    }
   ],
   "source": [
    "plt.title(\"distrubition of real part roots\") \n",
    "plt.xlabel(\"Re Φ\") \n",
    "plt.ylabel(\"Im Φ\")\n",
    "plt.scatter(np.real(eta_prony_real),np.imag(eta_prony_real), label = 'real')\n",
    "plt.scatter(np.real(eta_prony_imag),np.imag(eta_prony_imag), label = 'imag')\n",
    "plt.show()"
   ]
  },
  {
   "cell_type": "code",
   "execution_count": 19,
   "id": "9df60c36",
   "metadata": {},
   "outputs": [
    {
     "name": "stdout",
     "output_type": "stream",
     "text": [
      "(-2-0j)\n",
      "-0.2j\n",
      "Done!\n",
      "diss_rate [31.74861743-0.00000000e+00j 10.70831918-7.80125186e-16j\n",
      "  6.46632889+1.22923835e-13j  3.9652835 -1.59598507e-13j\n",
      "  2.31929522+9.97667603e-14j  1.35542469-1.41427940e-13j\n",
      "  0.80674531+1.13791115e-13j  0.49509794-5.14764315e-14j\n",
      "  0.28679918+1.56543382e-13j  0.09545886-1.58610020e-13j]\n",
      "eta [ 0.05668629-2.71225854e-14j  0.0582251 +2.84678347e-13j\n",
      "  0.08020665-8.44947326e-13j  0.28582823+1.37261192e-12j\n",
      " -0.29072171-1.62873092e-12j -0.08686308+1.68115507e-12j\n",
      " -0.04229311-1.52616711e-12j -0.02374612+1.02644911e-12j\n",
      " -0.01883816-4.05892397e-13j -0.01848404+6.73064313e-14j]\n",
      "bath_corr_prony_imag [ 3.59281909e-08-6.59472604e-16j -2.91038716e-02+8.97991887e-16j\n",
      " -5.28382966e-02+1.48457258e-15j -7.24379862e-02+1.49239855e-15j\n",
      " -8.88193070e-02+1.18508106e-15j -1.02665407e-01+7.35737085e-16j\n",
      " -1.14488340e-01+2.54289592e-16j -1.24674407e-01-1.92994746e-16j\n",
      " -1.33517272e-01-5.69579975e-16j -1.41242161e-01-8.58786175e-16j\n",
      " -1.48023567e-01-1.05683297e-15j -1.53998222e-01-1.16798003e-15j\n",
      " -1.59274606e-01-1.20116986e-15j -1.63939934e-01-1.16774258e-15j\n",
      " -1.68065310e-01-1.07991189e-15j -1.71709521e-01-9.49778211e-16j\n",
      " -1.74921858e-01-7.88717788e-16j -1.77744205e-01-6.07032021e-16j\n",
      " -1.80212610e-01-4.13774538e-16j -1.82358453e-01-2.16697104e-16j\n",
      " -1.84209346e-01-2.22728243e-17j -1.85789801e-01+1.64232574e-16j\n",
      " -1.87121758e-01+3.38661655e-16j -1.88224988e-01+4.97852306e-16j\n",
      " -1.89117412e-01+6.39520259e-16j -1.89815354e-01+7.62143251e-16j\n",
      " -1.90333742e-01+8.64850692e-16j -1.90686276e-01+9.47321131e-16j\n",
      " -1.90885567e-01+1.00968873e-15j -1.90943246e-01+1.05245918e-15j\n",
      " -1.90870067e-01+1.07643505e-15j -1.90675987e-01+1.08265015e-15j\n",
      " -1.90370238e-01+1.07231246e-15j -1.89961392e-01+1.04675488e-15j\n",
      " -1.89457414e-01+1.00739320e-15j -1.88865714e-01+9.55690388e-16j\n",
      " -1.88193187e-01+8.93126837e-16j -1.87446259e-01+8.21175550e-16j\n",
      " -1.86630917e-01+7.41281927e-16j -1.85752743e-01+6.54847450e-16j\n",
      " -1.84816948e-01+5.63216809e-16j -1.83828392e-01+4.67667985e-16j\n",
      " -1.82791614e-01+3.69404888e-16j -1.81710850e-01+2.69552173e-16j\n",
      " -1.80590062e-01+1.69151903e-16j -1.79432946e-01+6.91617821e-17j\n",
      " -1.78242960e-01-2.95453166e-17j -1.77023333e-01-1.26180734e-16j\n",
      " -1.75777085e-01-2.20038524e-16j -1.74507038e-01-3.10493237e-16j\n",
      " -1.73215831e-01-3.96997137e-16j -1.71905928e-01-4.79076970e-16j\n",
      " -1.70579634e-01-5.56330408e-16j -1.69239105e-01-6.28422250e-16j\n",
      " -1.67886353e-01-6.95080467e-16j -1.66523259e-01-7.56092150e-16j\n",
      " -1.65151580e-01-8.11299431e-16j -1.63772958e-01-8.60595409e-16j\n",
      " -1.62388923e-01-9.03920129e-16j -1.61000907e-01-9.41256645e-16j\n",
      " -1.59610243e-01-9.72627195e-16j -1.58218175e-01-9.98089494e-16j\n",
      " -1.56825863e-01-1.01773319e-15j -1.55434387e-01-1.03167644e-15j\n",
      " -1.54044751e-01-1.04006271e-15j -1.52657892e-01-1.04305770e-15j\n",
      " -1.51274679e-01-1.04084641e-15j -1.49895919e-01-1.03363050e-15j\n",
      " -1.48522361e-01-1.02162568e-15j -1.47154699e-01-1.00505935e-15j\n",
      " -1.45793576e-01-9.84168424e-16j -1.44439586e-01-9.59197252e-16j\n",
      " -1.43093278e-01-9.30395748e-16j -1.41755157e-01-8.98017657e-16j\n",
      " -1.40425689e-01-8.62318964e-16j -1.39105300e-01-8.23556451e-16j\n",
      " -1.37794381e-01-7.81986381e-16j -1.36493291e-01-7.37863308e-16j\n",
      " -1.35202356e-01-6.91439016e-16j -1.33921871e-01-6.42961554e-16j\n",
      " -1.32652106e-01-5.92674399e-16j -1.31393301e-01-5.40815697e-16j\n",
      " -1.30145674e-01-4.87617613e-16j -1.28909419e-01-4.33305761e-16j\n",
      " -1.27684707e-01-3.78098715e-16j -1.26471690e-01-3.22207601e-16j\n",
      " -1.25270500e-01-2.65835748e-16j -1.24081251e-01-2.09178416e-16j\n",
      " -1.22904038e-01-1.52422572e-16j -1.21738944e-01-9.57467286e-17j\n",
      " -1.20586034e-01-3.93208263e-17j -1.19445359e-01+1.66938337e-17j\n",
      " -1.18316957e-01+7.21446192e-17j -1.17200856e-01+1.26887557e-16j\n",
      " -1.16097069e-01+1.80787292e-16j -1.15005600e-01+2.33717011e-16j\n",
      " -1.13926442e-01+2.85558343e-16j -1.12859581e-01+3.36201236e-16j\n",
      " -1.11804990e-01+3.85543810e-16j -1.10762637e-01+4.33492192e-16j]\n"
     ]
    }
   ],
   "source": [
    "bath_corr_prony_real = np.zeros(time_sample_for_corr, dtype=complex)\n",
    "bath_corr_prony_imag = np.zeros(time_sample_for_corr, dtype=complex)\n",
    "\n",
    "\n",
    "diss_rate_prony_real =  -2 * dimension_Hankel / tt_for_prony_max * ( np.log( np.abs( prony_roots_real_new ) ) + 1.j * np.angle(prony_roots_real_new) )\n",
    "diss_rate_prony_imag =  -2 * dimension_Hankel / tt_for_prony_max * ( np.log( np.abs( prony_roots_imag_new ) ) + 1.j * np.angle(prony_roots_imag_new) )\n",
    "\n",
    "spectrum_eta_prony = -(1 + 0.j) * (band_width - 1.j * band_center)\n",
    "spectrum_pole_prony = -0.5j * sys_bath_coupling * band_width / (band_width - 1.j * band_center)\n",
    "\n",
    "print(spectrum_eta_prony)\n",
    "print(spectrum_pole_prony)\n",
    "\n",
    "#eta_prony_real = np.insert(eta_prony_real, 0, spectrum_eta_prony)\n",
    "#eta_prony_imag = np.insert(eta_prony_imag, 0, spectrum_eta_prony)\n",
    "#diss_rate_prony_real = np.insert(diss_rate_prony_real, 0, spectrum_pole_prony)\n",
    "#diss_rate_prony_imag = np.insert(diss_rate_prony_imag, 0, spectrum_pole_prony)\n",
    "\n",
    "for i in range(time_sample_for_corr):\n",
    "    for j in range(len(eta_prony_real)):\n",
    "        bath_corr_prony_real[i] = bath_corr_prony_real[i] + eta_prony_real[j] * np.exp(-1 * diss_rate_prony_real[j] * tt_for_corr[i])\n",
    "        bath_corr_prony_imag[i] = bath_corr_prony_imag[i] + eta_prony_imag[j] * np.exp(-1 * diss_rate_prony_imag[j] * tt_for_corr[i])\n",
    "\n",
    "print('Done!')\n",
    "\n",
    "print(\"diss_rate\",diss_rate_prony_imag)\n",
    "print(\"eta\",eta_prony_imag)\n",
    "print(\"bath_corr_prony_imag\",bath_corr_prony_imag[:100])"
   ]
  },
  {
   "cell_type": "code",
   "execution_count": 8,
   "id": "8bc51c4e",
   "metadata": {},
   "outputs": [
    {
     "data": {
      "image/png": "[encoded data removed]",
      "text/plain": [
       "<Figure size 432x288 with 1 Axes>"
      ]
     },
     "metadata": {
      "needs_background": "light"
     },
     "output_type": "display_data"
    }
   ],
   "source": [
    "plt.title(\"correlation function\") \n",
    "plt.xlabel(\"time\") \n",
    "plt.ylabel(\"C(t)\") \n",
    "plt.plot(tt_for_corr, bath_corr_psd.real, label = 'Pade_real', linestyle = '-.') \n",
    "plt.plot(tt_for_corr, bath_corr_psd.imag, label = 'Pade_image', linestyle = '-.') \n",
    "#plt.plot(tt_for_corr, bath_corr_exact_real, label = 'exact_real') \n",
    "#plt.plot(tt_for_corr, bath_corr_exact_imag, label = 'exact_imag') \n",
    "#plt.plot(tt_for_corr, bath_corr_prony_real.real, label = 'prony_real', linestyle = '--', color = 'y')\n",
    "#plt.plot(tt_for_corr, bath_corr_prony_imag.real, label = 'prony_imag', linestyle = '--', color = 'm')\n",
    "plt.legend(loc=1)\n",
    "plt.show()"
   ]
  },
  {
   "cell_type": "code",
   "execution_count": 16,
   "id": "8d4f2657",
   "metadata": {},
   "outputs": [
    {
     "name": "stdout",
     "output_type": "stream",
     "text": [
      "i 0\n",
      "fun (1.297897868246555e-15+0.002712610571968459j) eta (2.712258537922106e-14+0.05668628760303651j) rate (20.897318689538615+0j) omega 0.0\n",
      "(expn[i] + sigma * 1.j * w)[0] (20.897318689538615+0j)\n",
      "i 1\n",
      "fun (-3.909210189729114e-14+0.010973430509314801j) eta (-2.8467834689571295e-13+0.05822509577637547j) rate (7.048343411184359-5.134877027450498e-16j) omega 0.0\n",
      "(expn[i] + sigma * 1.j * w)[0] (7.048343411184359-5.134877027450498e-16j)\n",
      "i 2\n",
      "fun (1.5978696774875826e-13+0.029818027439941563j) eta (8.449473262575722e-13+0.08020665251873993j) rate (4.256214808626968+8.090993410526967e-14j) omega 0.0\n",
      "(expn[i] + sigma * 1.j * w)[0] (4.256214808626968+8.090993410526967e-14j)\n",
      "i 3\n",
      "fun (-3.705263838276772e-13+0.13933088917986572j) eta (-1.372611915351092e-12+0.28582822934470187j) rate (2.609996897200066-1.0504964096813772e-13j) omega 0.0\n",
      "(expn[i] + sigma * 1.j * w)[0] (2.609996897200066-1.0504964096813772e-13j)\n",
      "i 4\n",
      "fun (6.881911465675121e-13-0.05110802019088628j) eta (1.6287309210414708e-12-0.29072171132312974j) rate (1.5265877770657899+6.566767167600905e-14j) omega 0.0\n",
      "(expn[i] + sigma * 1.j * w)[0] (1.5265877770657899+6.566767167600905e-14j)\n",
      "i 5\n",
      "fun (-1.1860217454990203e-12-0.14847105429482754j) eta (-1.6811550663275958e-12-0.08686308298470635j) rate (0.8921566977049469-9.308955733450594e-14j) omega 0.0\n",
      "(expn[i] + sigma * 1.j * w)[0] (0.8921566977049469-9.308955733450594e-14j)\n",
      "i 6\n",
      "fun (1.6768310131084616e-12-0.22811768547081676j) eta (1.5261671104187478e-12-0.042293108667678325j) rate (0.531009385371572+7.48986689480684e-14j) omega 0.0\n",
      "(expn[i] + sigma * 1.j * w)[0] (0.531009385371572+7.48986689480684e-14j)\n",
      "i 7\n",
      "fun (-1.4653751689532758e-12-0.30098552109318594j) eta (-1.0264491075104807e-12-0.023746124348434705j) rate (0.3258793697605731-3.38824012177379e-14j) omega 0.0\n",
      "(expn[i] + sigma * 1.j * w)[0] (0.3258793697605731-3.38824012177379e-14j)\n",
      "i 8\n",
      "fun (6.302981610633282e-13-0.4007773198219786j) eta (4.058923969088218e-13-0.01883816083857326j) rate (0.18877463958506577+1.0303872139681171e-13j) omega 0.0\n",
      "(expn[i] + sigma * 1.j * w)[0] (0.18877463958506577+1.0303872139681171e-13j)\n",
      "i 9\n",
      "fun (4.788614822891393e-14-0.6949585468833264j) eta (-6.730643131696629e-14-0.01848404115214053j) rate (0.06283215736361694-1.043990073156124e-13j) omega 0.0\n",
      "(expn[i] + sigma * 1.j * w)[0] (0.06283215736361694-1.043990073156124e-13j)\n"
     ]
    }
   ],
   "source": [
    "omega_max_freq = 100.0\n",
    "omega_min_freq = -100.0\n",
    "omega_sample_freq = 2000 + 1\n",
    "omega_freq = np.linspace(omega_min_freq, omega_max_freq, omega_sample_freq)\n",
    "\n",
    "\n",
    "bath_corr_psd_freq = np.zeros(omega_sample_freq, dtype = complex)\n",
    "bath_corr_exact_freq = np.zeros(omega_sample_freq, dtype = complex)\n",
    "bath_corr_prony_imag_freq = np.zeros(omega_sample_freq, dtype = complex)\n",
    "bath_corr_prony_real_freq = np.zeros(omega_sample_freq, dtype = complex)\n",
    "\n",
    "\n",
    "for i in range(omega_sample_freq):\n",
    "    #bath_corr_psd_freq[i] =   Jfermi_psd(omega_freq[i])\n",
    "    bath_corr_psd_freq[i] = J_fit(omega_freq[i], diss_rate_pade * hbar, eta_pade * hbar**2)\n",
    "    #bath_corr_exact_freq[i] = Jfermi_exact(omega_freq[i])\n",
    "    #bath_corr_prony_imag_freq[i] = J_fit(omega_freq[i], diss_rate_prony_imag, eta_prony_imag * 1.j)\n",
    "    #bath_corr_prony_imag_freq[i] += spectrum_eta_prony / ( spectrum_pole_prony * hbar + 1.j * omega_freq[i] )\n",
    "    #bath_corr_prony_real_freq[i] = J_fit(omega_freq[i], diss_rate_prony_real, eta_prony_real)"
   ]
  },
  {
   "cell_type": "code",
   "execution_count": 17,
   "id": "b26329b4",
   "metadata": {},
   "outputs": [
    {
     "name": "stderr",
     "output_type": "stream",
     "text": [
      "<ipython-input-17-f3bd8866598b>:4: RuntimeWarning: invalid value encountered in true_divide\n",
      "  plt.plot(omega_freq[800:1200]/(sys_bath_coupling/2), bath_corr_psd_freq[800:1200].real/max(np.abs(bath_corr_psd_freq.real)) , label = 'Pade_real')\n"
     ]
    },
    {
     "data": {
      "image/png": "[encoded data removed]",
      "text/plain": [
       "<Figure size 432x288 with 1 Axes>"
      ]
     },
     "metadata": {
      "needs_background": "light"
     },
     "output_type": "display_data"
    }
   ],
   "source": [
    "plt.title(\"correlation function\") \n",
    "plt.xlabel(\"ω / Γ\") \n",
    "plt.ylabel(\"C(ω)\")\n",
    "plt.plot(omega_freq[800:1200]/(sys_bath_coupling/2), bath_corr_psd_freq[800:1200].real/max(np.abs(bath_corr_psd_freq.real)) , label = 'Pade_real')\n",
    "plt.plot(omega_freq[800:1200]/(sys_bath_coupling/2), bath_corr_exact_freq[800:1200].real/max(np.abs(bath_corr_exact_freq.real)) , label = 'exact_real', linestyle = '-.')\n",
    "plt.plot(omega_freq[800:1200]/(sys_bath_coupling/2), bath_corr_prony_imag_freq[800:1200].real/max(np.abs(bath_corr_prony_imag_freq.real)) , label = 'Prony_real')\n",
    "\n",
    "#plt.plot(fourier_psd/(sys_bath_coupling/2), bath_corr_psd_freq_fourier.real/max(bath_corr_psd_freq_fourier.real) , label = 'Pade_real_Fourier')\n",
    "#plt.plot(fourier_exact/(sys_bath_coupling/2), bath_corr_exact_freq_fourier.real/max(bath_corr_exact_freq_fourier.real) , label = 'exact_real_Fourier', linestyle = '--')\n",
    "plt.legend(loc=1)\n",
    "plt.show()"
   ]
  }
 ],
 "metadata": {
  "kernelspec": {
   "display_name": "Python 3",
   "language": "python",
   "name": "python3"
  },
  "language_info": {
   "codemirror_mode": {
    "name": "ipython",
    "version": 3
   },
   "file_extension": ".py",
   "mimetype": "text/x-python",
   "name": "python",
   "nbconvert_exporter": "python",
   "pygments_lexer": "ipython3",
   "version": "3.8.8"
  }
 },
 "nbformat": 4,
 "nbformat_minor": 5
}
