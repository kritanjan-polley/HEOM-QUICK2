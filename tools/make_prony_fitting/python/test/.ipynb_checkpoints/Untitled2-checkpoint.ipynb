{
 "cells": [
  {
   "cell_type": "code",
   "execution_count": 1,
   "id": "cfc96777",
   "metadata": {},
   "outputs": [],
   "source": [
    "import math\n",
    "from numpy import linalg as LA\n",
    "import numpy as np\n",
    "from matplotlib import pyplot as plt \n",
    "\n",
    "import random\n",
    "import os\n",
    "from numba import njit, prange, cuda\n",
    "import itertools\n",
    "import sympy as sp\n",
    "\n",
    "def fit_J(w, res, expn, etal, sigma):\n",
    "    for i in range(len(etal)):\n",
    "        res += etal[i] / (expn[i] + sigma * 1.j * w)\n",
    "\n",
    "def fit_t(t, res, expn, etal):\n",
    "    for i in range(len(etal)):\n",
    "        res += etal[i] * np.exp(-expn[i] * t)\n",
    "    return res\n",
    "\n",
    "def gen_jw(w):\n",
    "    return lams1 * gams1**2 / (((w - mu_x) - omgs)**2 + gams1**2)\n",
    "\n",
    "\n",
    "def gen_jw_sp(w, omgs1):\n",
    "    return lams1 * gams1**2 / (((w - mu_x) - omgs1)**2 + gams1**2)\n",
    "\n",
    "def prony(n = 2500, n_gamma = 11, scale = 100, scale_fft = 500, n_fft = 100000, filter_ = 0.0001, sigma = 1, omgs1 = 0):\n",
    "    \n",
    "    if sigma == 1:\n",
    "        omgs1 = omgs1 * -1\n",
    "    \n",
    "    print(sigma, omgs1)\n",
    "    \n",
    "    n_rate = (scale_fft * scale/ (4 * n))\n",
    "    print(n_rate)\n",
    "    n_rate = int(n_rate)\n",
    "    w = np.linspace(0, scale_fft * np.pi, n_fft + 3)[:-1]\n",
    "    dw = w[1] - w[0]\n",
    "\n",
    "    jw = gen_jw_sp(w,omgs1)\n",
    "    cw1 = jw / (1 + np.exp(- sigma * beta * (w - mu_x)))\n",
    "    cw2 = jw / (1 + np.exp(sigma * beta * (w - mu_x)))\n",
    "    # del jw\n",
    "\n",
    "    cw1[0] = cw1[0] / 2\n",
    "    cw2[0] = cw2[0] / 2\n",
    "    if sigma == -1:\n",
    "        fft_ct = (np.fft.ifft(cw1) * len(cw1) * dw + np.fft.fft(cw2) * dw) / np.pi\n",
    "    if sigma == 1:\n",
    "        fft_ct = (np.fft.fft(cw1) * dw + np.fft.ifft(cw2) * len(cw2) * dw) / np.pi\n",
    "    fft_t = 2 * np.pi * np.fft.fftfreq(len(cw1), dw)\n",
    "    del cw1, cw2\n",
    "\n",
    "    print(max(fft_t))\n",
    "    fft_ct = fft_ct[(scale>=fft_t) & (fft_t >= 0)][::n_rate]\n",
    "    fft_t = fft_t[(scale>=fft_t) & (fft_t >= 0)][::n_rate]\n",
    "    t = fft_t\n",
    "    res_t = np.zeros(len(t), dtype=complex)\n",
    "    \n",
    "    n_sample = n + 1\n",
    "    h = np.imag(fft_ct)\n",
    "    H = np.zeros((n_sample, n_sample))\n",
    "    for i in range(n_sample):\n",
    "        H[i, :] = h[i:n_sample + i]\n",
    "    sing_vs, Q = LA.eigh(H)\n",
    "    # del H\n",
    "    phase_mat = np.diag(\n",
    "        [np.exp(-1j * np.angle(sing_v) / 2.0) for sing_v in sing_vs])\n",
    "    vs = np.array([np.abs(sing_v) for sing_v in sing_vs])\n",
    "    Qp = np.dot(Q, phase_mat)\n",
    "    sort_array = np.argsort(vs)[::-1]\n",
    "    vs = vs[sort_array]\n",
    "    Qp = (Qp[:, sort_array])\n",
    "    #print(vs[:100])\n",
    "    #vs = vs[:20]\n",
    "    #Qp = Qp[:, :20]\n",
    "\n",
    "    gamma = np.roots(Qp[:, n_gamma][::-1])\n",
    "    gamma_new = gamma[np.argsort(np.abs(gamma))[:n_gamma]]\n",
    "    t_imag = 2 * n * np.log(gamma_new)\n",
    "    gamma_m = np.zeros((n_sample * 2 - 1, n_gamma), dtype=complex)\n",
    "    for i in range(n_gamma):\n",
    "        for j in range(n_sample * 2 - 1):\n",
    "            gamma_m[j, i] = gamma_new[i]**j\n",
    "    omega_imag = np.dot(LA.inv(np.dot(np.transpose(gamma_m), gamma_m)),\n",
    "                        np.dot(np.transpose(gamma_m), np.transpose(h)))\n",
    "\n",
    "    res_t = np.zeros(len(t), dtype=complex)\n",
    "    fit_t(fft_t, res_t, -t_imag / scale, omega_imag)\n",
    "    plt.plot(fft_t, np.imag(fft_ct) - res_t)\n",
    "    #plt.savefig(\"imag_{}.pdf\".format(n_gamma))\n",
    "    plt.show()\n",
    "\n",
    "    h = np.real(fft_ct)\n",
    "    H = np.zeros((n_sample, n_sample))\n",
    "    for i in range(n_sample):\n",
    "        H[i, :] = h[i:n_sample + i]\n",
    "    sing_vs, Q = LA.eigh(H)\n",
    "    # del H\n",
    "    phase_mat = np.diag(\n",
    "    [np.exp(-1j * np.angle(sing_v) / 2.0) for sing_v in sing_vs])\n",
    "    vs = np.array([np.abs(sing_v) for sing_v in sing_vs])\n",
    "    Qp = np.dot(Q, phase_mat)\n",
    "    sort_array = np.argsort(vs)[::-1]\n",
    "    vs = vs[sort_array]\n",
    "    Qp = (Qp[:, sort_array])\n",
    "    #print(vs[:100])\n",
    "    #vs = vs[:20]\n",
    "    #Qp = Qp[:, :20]\n",
    "\n",
    "    gamma = np.roots(Qp[:, n_gamma][::-1])\n",
    "    gamma_new = gamma[np.argsort(np.abs(gamma))[:n_gamma]]\n",
    "    t_real = 2 * n * np.log(gamma_new)\n",
    "    gamma_m = np.zeros((n_sample * 2 - 1, n_gamma), dtype=complex)\n",
    "    for i in range(n_gamma):\n",
    "        for j in range(n_sample * 2 - 1):\n",
    "            gamma_m[j, i] = gamma_new[i]**j\n",
    "    omega_real = np.dot(LA.inv(np.dot(np.transpose(gamma_m), gamma_m)),\n",
    "                        np.dot(np.transpose(gamma_m), np.transpose(h)))\n",
    "\n",
    "    res_t = np.zeros(len(t), dtype=complex)\n",
    "    fit_t(fft_t, res_t, -t_real / scale, omega_real)\n",
    "    plt.plot(fft_t, np.real(fft_ct) - res_t)\n",
    "    #plt.savefig(\"real_{}.pdf\".format(n_gamma))\n",
    "    plt.show()\n",
    "    \n",
    "    etal1 = np.append(1.j * omega_imag, omega_real)\n",
    "    expn1 = np.append(-t_imag / scale, -t_real / scale)\n",
    "\n",
    "    expn1 = expn1[np.abs(etal1) > filter_]\n",
    "    etal1 = etal1[np.abs(etal1) > filter_]\n",
    "    \n",
    "    return etal1, expn1\n",
    "    \n"
   ]
  },
  {
   "cell_type": "code",
   "execution_count": 2,
   "id": "d002ebe8",
   "metadata": {},
   "outputs": [
    {
     "name": "stderr",
     "output_type": "stream",
     "text": [
      "<ipython-input-2-ec10ebd61672>:21: RuntimeWarning: overflow encountered in exp\n",
      "  plt.scatter(w, 1/(1 + np.exp(sigma * beta * (w - mu_x))),s=4)\n",
      "<ipython-input-2-ec10ebd61672>:22: RuntimeWarning: overflow encountered in exp\n",
      "  plt.plot(w, jw / (1 + np.exp(sigma * beta * (w - mu_x))), label='jw*fermi')\n"
     ]
    },
    {
     "data": {
      "image/png": "[encoded data removed]",
      "text/plain": [
       "<Figure size 432x288 with 1 Axes>"
      ]
     },
     "metadata": {
      "needs_background": "light"
     },
     "output_type": "display_data"
    }
   ],
   "source": [
    "lams1 = 0.2\n",
    "gams1 = 4.0\n",
    "omgs = 0.0\n",
    "temp = 0.001\n",
    "beta = int(1 / temp)\n",
    "mu_x = 0.5\n",
    "sigma = 1\n",
    "\n",
    "# n = 2500         # dimension of Hankel matrix\n",
    "num_prony = 10  # number of real or imagnary prony poles\n",
    "# scale = 500\n",
    "# scale_fft = 100\n",
    "# n_fft = 10000000\n",
    "\n",
    "len_ = 10000\n",
    "spe_wid = 50\n",
    "w = np.linspace(-spe_wid, spe_wid, len_)\n",
    "\n",
    "jw = gen_jw(w)\n",
    "plt.plot(w, jw, label='jw')\n",
    "plt.scatter(w, 1/(1 + np.exp(sigma * beta * (w - mu_x))),s=4)\n",
    "plt.plot(w, jw / (1 + np.exp(sigma * beta * (w - mu_x))), label='jw*fermi')\n",
    "plt.ylim(-0.01,0.25)\n",
    "plt.legend(loc=1)\n",
    "plt.show()"
   ]
  },
  {
   "cell_type": "code",
   "execution_count": 3,
   "id": "eb7b1e20",
   "metadata": {},
   "outputs": [
    {
     "name": "stderr",
     "output_type": "stream",
     "text": [
      "<ipython-input-1-66f270296ec6>:42: RuntimeWarning: overflow encountered in exp\n",
      "  cw1 = jw / (1 + np.exp(- sigma * beta * (w - mu_x)))\n"
     ]
    },
    {
     "name": "stdout",
     "output_type": "stream",
     "text": [
      "0.0\n",
      "-1 0.0\n",
      "5.0\n",
      "200.0\n"
     ]
    },
    {
     "name": "stderr",
     "output_type": "stream",
     "text": [
      "/home/ZDC/program/anaconda3/lib/python3.8/site-packages/numpy/core/_asarray.py:102: ComplexWarning: Casting complex values to real discards the imaginary part\n",
      "  return array(a, dtype, copy=False, order=order)\n"
     ]
    },
    {
     "data": {
      "image/png": "[encoded data removed]",
      "text/plain": [
       "<Figure size 432x288 with 1 Axes>"
      ]
     },
     "metadata": {
      "needs_background": "light"
     },
     "output_type": "display_data"
    },
    {
     "name": "stderr",
     "output_type": "stream",
     "text": [
      "/home/ZDC/program/anaconda3/lib/python3.8/site-packages/numpy/core/_asarray.py:102: ComplexWarning: Casting complex values to real discards the imaginary part\n",
      "  return array(a, dtype, copy=False, order=order)\n"
     ]
    },
    {
     "data": {
      "image/png": "[encoded data removed]",
      "text/plain": [
       "<Figure size 432x288 with 1 Axes>"
      ]
     },
     "metadata": {
      "needs_background": "light"
     },
     "output_type": "display_data"
    }
   ],
   "source": [
    "print(omgs)\n",
    "\n",
    "etal1, expn1 = prony(n_gamma = num_prony, sigma = -1, omgs1 = omgs)"
   ]
  },
  {
   "cell_type": "code",
   "execution_count": 4,
   "id": "a4db1ce4",
   "metadata": {},
   "outputs": [
    {
     "name": "stderr",
     "output_type": "stream",
     "text": [
      "<ipython-input-4-6a6479261d81>:4: RuntimeWarning: overflow encountered in exp\n",
      "  phixx = gen_jw(w) / (1 + np.exp(sigma * beta * (w - mu_x)))\n"
     ]
    },
    {
     "name": "stdout",
     "output_type": "stream",
     "text": [
      "0.0\n"
     ]
    },
    {
     "data": {
      "image/png": "[encoded data removed]",
      "text/plain": [
       "<Figure size 432x288 with 1 Axes>"
      ]
     },
     "metadata": {
      "needs_background": "light"
     },
     "output_type": "display_data"
    }
   ],
   "source": [
    "len_ = 1000000\n",
    "spe_wid = 20\n",
    "w = np.linspace(-spe_wid, spe_wid, len_)\n",
    "phixx = gen_jw(w) / (1 + np.exp(sigma * beta * (w - mu_x)))\n",
    "res_J1 = np.zeros(len(w), dtype=complex)\n",
    "fit_J(w, res_J1, expn1, etal1, sigma)\n",
    "\n",
    "print(omgs)\n",
    "\n",
    "plt.plot(w, (phixx.real), \"b\", label=\"exact\")\n",
    "plt.plot(w, (res_J1.real), \"r--\", label=\"PFS\")\n",
    "plt.xlim(-20, 20)\n",
    "plt.legend(loc=1)\n",
    "plt.show()"
   ]
  }
 ],
 "metadata": {
  "kernelspec": {
   "display_name": "Python 3",
   "language": "python",
   "name": "python3"
  },
  "language_info": {
   "codemirror_mode": {
    "name": "ipython",
    "version": 3
   },
   "file_extension": ".py",
   "mimetype": "text/x-python",
   "name": "python",
   "nbconvert_exporter": "python",
   "pygments_lexer": "ipython3",
   "version": "3.8.8"
  }
 },
 "nbformat": 4,
 "nbformat_minor": 5
}
