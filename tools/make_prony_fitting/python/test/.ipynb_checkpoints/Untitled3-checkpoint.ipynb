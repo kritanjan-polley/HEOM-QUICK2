{
 "cells": [
  {
   "cell_type": "code",
   "execution_count": 15,
   "id": "e2758fda",
   "metadata": {},
   "outputs": [
    {
     "name": "stdout",
     "output_type": "stream",
     "text": [
      "(6.123233995736766e-17-1j)\n",
      "-90.0\n",
      "[-0.5+0.5j -0.5-0.5j]\n"
     ]
    }
   ],
   "source": [
    "import numpy as np\n",
    "\n",
    "a = np.exp(-1.j * np.pi / 2.0)\n",
    "c = np.angle(a) * 180 /np.pi\n",
    "\n",
    "print(a)\n",
    "print(c)\n",
    "\n",
    "b = np.array([2,2,1])\n",
    "b = b/b[0]\n",
    "x = np.roots(b)\n",
    "print(b)\n",
    "print(x)"
   ]
  }
 ],
 "metadata": {
  "kernelspec": {
   "display_name": "Python 3",
   "language": "python",
   "name": "python3"
  },
  "language_info": {
   "codemirror_mode": {
    "name": "ipython",
    "version": 3
   },
   "file_extension": ".py",
   "mimetype": "text/x-python",
   "name": "python",
   "nbconvert_exporter": "python",
   "pygments_lexer": "ipython3",
   "version": "3.8.8"
  }
 },
 "nbformat": 4,
 "nbformat_minor": 5
}
