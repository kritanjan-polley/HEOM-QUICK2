{
 "cells": [
  {
   "cell_type": "code",
   "execution_count": 27,
   "id": "4ea8d63a",
   "metadata": {},
   "outputs": [
    {
     "name": "stdout",
     "output_type": "stream",
     "text": [
      "[[-0.16227766  0.        ]\n",
      " [ 0.          6.16227766]]\n",
      "[[-0.81124219 -0.58471028]\n",
      " [-0.58471028  0.81124219]]\n",
      "40\n",
      "\n",
      "[[ 0.13164648 -3.60314712]\n",
      " [ 0.09488542  4.99909959]]\n",
      "[[ 0.13164648 -3.60314712]\n",
      " [ 0.09488542  4.99909959]]\n"
     ]
    }
   ],
   "source": [
    "import numpy as np\n",
    "\n",
    "p = np.array([[2,3],\n",
    "              [3,4]])\n",
    "\n",
    "d = (p[0,0] + p[1,1])**2 - 4 * (p[0,0] * p[1,1] - p[0,1] * p[1,0])\n",
    "\n",
    "a, b = np.linalg.eigh(p)\n",
    "\n",
    "c = np.diag(a)\n",
    "\n",
    "print(c)\n",
    "print(b)\n",
    "print(d)\n",
    "print()\n",
    "print(np.matmul(p,b))\n",
    "print(np.matmul(b,c))"
   ]
  }
 ],
 "metadata": {
  "kernelspec": {
   "display_name": "Python 3",
   "language": "python",
   "name": "python3"
  },
  "language_info": {
   "codemirror_mode": {
    "name": "ipython",
    "version": 3
   },
   "file_extension": ".py",
   "mimetype": "text/x-python",
   "name": "python",
   "nbconvert_exporter": "python",
   "pygments_lexer": "ipython3",
   "version": "3.8.8"
  }
 },
 "nbformat": 4,
 "nbformat_minor": 5
}
