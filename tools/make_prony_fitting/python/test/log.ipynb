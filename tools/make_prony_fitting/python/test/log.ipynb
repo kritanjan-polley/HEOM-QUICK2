{
 "cells": [
  {
   "cell_type": "code",
   "execution_count": 14,
   "id": "6a66e2af",
   "metadata": {},
   "outputs": [
    {
     "name": "stdout",
     "output_type": "stream",
     "text": [
      "(2.000712444397272-9.996670837132637j)\n",
      " theta 0.19993341674265275\n",
      "cal  y 0.190813978282095\n",
      "abs    0.9607757490688\n",
      "ln     0.9607757490688\n",
      "ln + y (-0.040014248887945435+0.19993341674265275j)\n"
     ]
    }
   ],
   "source": [
    "import numpy as np\n",
    "\n",
    "prony_roots_imag_new = 0.941636907566220 + 0.190813978282095 * 1.j\n",
    "x = prony_roots_imag_new.real\n",
    "y = prony_roots_imag_new.imag\n",
    "dimension_Hankel = 1500\n",
    "tt_for_prony_max = 60\n",
    "res = -2 * dimension_Hankel / tt_for_prony_max * ( np.log( np.abs( prony_roots_imag_new) ) + 1.j * np.angle(prony_roots_imag_new) )\n",
    "print(res)\n",
    "print(' theta', np.angle(prony_roots_imag_new))\n",
    "print('cal  y', np.tan(np.angle(prony_roots_imag_new)) * x)\n",
    "print('abs   ', np.abs( prony_roots_imag_new))\n",
    "print('ln    ', np.abs( prony_roots_imag_new))\n",
    "print('ln + y', np.log( np.abs( prony_roots_imag_new) ) + 1.j * np.angle(prony_roots_imag_new))\n",
    "#print(0.001137533147592468/1.00279080288605)\n"
   ]
  }
 ],
 "metadata": {
  "kernelspec": {
   "display_name": "Python 3",
   "language": "python",
   "name": "python3"
  },
  "language_info": {
   "codemirror_mode": {
    "name": "ipython",
    "version": 3
   },
   "file_extension": ".py",
   "mimetype": "text/x-python",
   "name": "python",
   "nbconvert_exporter": "python",
   "pygments_lexer": "ipython3",
   "version": "3.8.8"
  }
 },
 "nbformat": 4,
 "nbformat_minor": 5
}
