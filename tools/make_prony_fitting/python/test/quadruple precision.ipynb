{
 "cells": [
  {
   "cell_type": "code",
   "execution_count": 13,
   "id": "886cebb6",
   "metadata": {},
   "outputs": [
    {
     "name": "stdout",
     "output_type": "stream",
     "text": [
      "<class 'numpy.float128'>\n",
      "A\n",
      " [[1. 0. 0.]\n",
      " [1. 1. 1.]\n",
      " [1. 2. 4.]]\n",
      "B\n",
      " [[0. 1. 2.]\n",
      " [1. 2. 3.]\n",
      " [2. 3. 4.]]\n",
      "<class 'numpy.complex128'>\n"
     ]
    }
   ],
   "source": [
    "import numpy as np\n",
    "from scipy import integrate, linalg, optimize\n",
    "\n",
    "A = np.zeros((3,3), dtype = np.float128)\n",
    "B = np.zeros((3,3), dtype = np.float128)\n",
    "A_eval = np.zeros((3), dtype = np.float128)\n",
    "A_evec = np.zeros((3,3), dtype = np.float128)\n",
    "B_eval = np.zeros((3), dtype = np.float128)\n",
    "B_evec = np.zeros((3,3), dtype = np.float128)\n",
    "\n",
    "print(type(A_eval[0]))\n",
    "\n",
    "for i in range(3):\n",
    "    for j in range(3):\n",
    "        A[i,j] = i**j\n",
    "        B[i,j] = i + j\n",
    "\n",
    "print(\"A\\n\",A)\n",
    "print(\"B\\n\",B)\n",
    "\n",
    "A_eval, A_evec = linalg.eig(A)\n",
    "B_eval, B_evec = linalg.eig(B)\n",
    "\n",
    "print(type(A_eval[0]))"
   ]
  }
 ],
 "metadata": {
  "kernelspec": {
   "display_name": "Python 3",
   "language": "python",
   "name": "python3"
  },
  "language_info": {
   "codemirror_mode": {
    "name": "ipython",
    "version": 3
   },
   "file_extension": ".py",
   "mimetype": "text/x-python",
   "name": "python",
   "nbconvert_exporter": "python",
   "pygments_lexer": "ipython3",
   "version": "3.8.8"
  }
 },
 "nbformat": 4,
 "nbformat_minor": 5
}
