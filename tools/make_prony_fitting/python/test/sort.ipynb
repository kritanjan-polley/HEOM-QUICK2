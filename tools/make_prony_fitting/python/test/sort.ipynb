{
 "cells": [
  {
   "cell_type": "code",
   "execution_count": 3,
   "id": "ab9bad17",
   "metadata": {},
   "outputs": [],
   "source": [
    "import numpy as np\n",
    "\n",
    "# a = np.ones(100)\n",
    "# b = np.fft.fft(a, 100)\n",
    "# print(b)\n",
    "\n",
    "def func(x, *args):\n",
    "    fun = a * x + b\n",
    "    return fun\n",
    "\n",
    "def funcational(func, x, *args):\n",
    "    a = func(x, *args)\n",
    "    return a"
   ]
  },
  {
   "cell_type": "code",
   "execution_count": 4,
   "id": "2d4dc5e6",
   "metadata": {},
   "outputs": [
    {
     "name": "stdout",
     "output_type": "stream",
     "text": [
      "[ 3 -5  1 -9  0  6 -9  2  8]\n",
      "[ 9 25  1 81  0 36 81  4 64]\n",
      "\n",
      "[4 7 2 5 3 8 1 6 9]\n",
      "\n",
      "[ 8  6  3  2  1  0 -5 -9 -9]\n",
      "[64 36  9  4  1  0 25 81 81]\n"
     ]
    }
   ],
   "source": [
    "a = np.array([3,-5,1,-9,0,6,-9,2,8])\n",
    "b = a**2\n",
    "print(a)\n",
    "print(b)\n",
    "print()\n",
    "\n",
    "index = np.argsort(a)\n",
    "print(index + 1)\n",
    "\n",
    "print()\n",
    "a = a[index][::-1]\n",
    "b = b[index][::-1]\n",
    "print(a)\n",
    "print(b)"
   ]
  }
 ],
 "metadata": {
  "kernelspec": {
   "display_name": "Python 3",
   "language": "python",
   "name": "python3"
  },
  "language_info": {
   "codemirror_mode": {
    "name": "ipython",
    "version": 3
   },
   "file_extension": ".py",
   "mimetype": "text/x-python",
   "name": "python",
   "nbconvert_exporter": "python",
   "pygments_lexer": "ipython3",
   "version": "3.8.8"
  }
 },
 "nbformat": 4,
 "nbformat_minor": 5
}
