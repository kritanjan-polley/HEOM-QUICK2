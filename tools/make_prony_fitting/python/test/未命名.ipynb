{
 "cells": [
  {
   "cell_type": "code",
   "execution_count": 1,
   "id": "c9bfd3a3",
   "metadata": {},
   "outputs": [
    {
     "name": "stdout",
     "output_type": "stream",
     "text": [
      "(1.9999999999999999837+0j)\n"
     ]
    }
   ],
   "source": [
    "import numpy as np\n",
    "\n",
    "# a = np.ones(100)\n",
    "# b = np.fft.fft(a, 100)\n",
    "# print(b)\n",
    "\n",
    "def func(x, a, b):\n",
    "    fun = a * x + b\n",
    "    return fun\n",
    "\n",
    "def gauss_Legendre_integral(fun, down_limit, upper_limit, interval = 100, tt = 0, m = 0.0 + 0.j, n = 0.0):\n",
    "    sample_x = np.array([-0.96028986,\n",
    "                         -0.79666648,\n",
    "                         -0.52553241,\n",
    "                         -0.18343464,\n",
    "                          0.18343464,\n",
    "                          0.52553241,\n",
    "                          0.79666648,\n",
    "                          0.96028986 ])\n",
    "    weight_x = np.array([0.10122854,\n",
    "                         0.22238103,\n",
    "                         0.31370665,\n",
    "                         0.36268378,\n",
    "                         0.36268378,\n",
    "                         0.31370665,\n",
    "                         0.22238103,\n",
    "                         0.10122854 ])\n",
    "    result = 0.j\n",
    "    inner_interval = 1\n",
    "    points = np.linspace(down_limit, upper_limit, interval + 1, dtype = np.float128)\n",
    "    for i in range(interval):\n",
    "        inner_points = np.linspace(points[i], points[i + 1], inner_interval + 1, dtype = np.float128)\n",
    "        for j in range(inner_interval):\n",
    "            a = inner_points[j]\n",
    "            b = inner_points[j + 1]\n",
    "            tmp = 0\n",
    "            for k in range(8):\n",
    "                tmp = tmp + weight_x[k] * fun(0.5 * (b - a) * sample_x[k] * interval + 0.5 * (b - a) * interval, m, n)\n",
    "            result = result + tmp * (b - a) * 0.5\n",
    "    \n",
    "    return result \n",
    "\n",
    "\n",
    "omega_max = 1.0\n",
    "omega_min = -1.0\n",
    "omega_sample = 100 + 1\n",
    "omega = np.linspace(omega_min, omega_max, omega_sample, dtype = np.float128)\n",
    "\n",
    "x = np.zeros(omega_sample, dtype=np.float128)\n",
    "result = 0.0\n",
    "\n",
    "result = result + gauss_Legendre_integral(func, omega_min, omega_max, interval = 1000, m = 1.0, n = 0.0)\n",
    "\n",
    "print(result)"
   ]
  },
  {
   "cell_type": "code",
   "execution_count": 2,
   "id": "9ddd5af0",
   "metadata": {},
   "outputs": [
    {
     "name": "stdout",
     "output_type": "stream",
     "text": [
      "[ 1  4  3 -1  6  9]\n",
      "[-1  1  3  4  6  9]\n",
      "-648 -648\n",
      "[3 0 2 1 4 5]\n",
      "3 -1\n",
      "0 1\n",
      "2 3\n",
      "1 4\n",
      "4 6\n",
      "5 9\n"
     ]
    }
   ],
   "source": [
    "x=np.array([1,4,3,-1,6,9])\n",
    "print(x)\n",
    "print(np.sort(x))\n",
    "print(np.multiply.reduce(x), 9*6*4*3*-1)\n",
    "y = np.argsort(x)\n",
    "print(y)\n",
    "for i in y:\n",
    "    print(i, x[i])"
   ]
  },
  {
   "cell_type": "code",
   "execution_count": 46,
   "id": "6f322fbb",
   "metadata": {},
   "outputs": [
    {
     "name": "stdout",
     "output_type": "stream",
     "text": [
      "<class 'list'>\n",
      "[0.+0.j 0.+1.j 0.+2.j 0.+3.j 0.+0.j 0.+4.j 0.+5.j]\n",
      "[0.+0.j 0.+1.j 0.+3.j 0.+0.j 0.+4.j 0.+5.j]\n",
      "[100.+0.j   0.+0.j   0.+1.j   0.+2.j   0.+3.j   0.+0.j   0.+4.j   0.+5.j]\n",
      "[0.+1.j 0.+2.j 0.+3.j 0.+4.j 0.+5.j]\n"
     ]
    }
   ],
   "source": [
    "a = [0, 1.j, 2.j, 3.j, 0, 4.j, 5.j]\n",
    "\n",
    "b = []\n",
    "c = np.append(b,a)\n",
    "print(c)\n",
    "\n",
    "c_tmp = list(c)\n",
    "\n",
    "del c_tmp[2]\n",
    "\n",
    "c = np.array(c_tmp)\n",
    "\n",
    "print(c)\n",
    "\n",
    "d = np.insert(a, 0, 100)\n",
    "print(d)\n",
    "\n",
    "e = np.array(a)!= 0\n",
    "print(np.array(a)[e])"
   ]
  }
 ],
 "metadata": {
  "kernelspec": {
   "display_name": "Python 3",
   "language": "python",
   "name": "python3"
  },
  "language_info": {
   "codemirror_mode": {
    "name": "ipython",
    "version": 3
   },
   "file_extension": ".py",
   "mimetype": "text/x-python",
   "name": "python",
   "nbconvert_exporter": "python",
   "pygments_lexer": "ipython3",
   "version": "3.8.8"
  }
 },
 "nbformat": 4,
 "nbformat_minor": 5
}
